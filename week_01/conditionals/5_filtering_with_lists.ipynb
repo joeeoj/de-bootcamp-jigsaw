{
 "cells": [
  {
   "cell_type": "markdown",
   "metadata": {
    "id": "3SfPvp1N9FAe"
   },
   "source": [
    "## Filtering With Lists"
   ]
  },
  {
   "cell_type": "markdown",
   "metadata": {
    "id": "SELvJ64Y9FAh"
   },
   "source": [
    "### Introduction"
   ]
  },
  {
   "cell_type": "markdown",
   "metadata": {
    "id": "SsGMwrpX9FAh"
   },
   "source": [
    "In the last couple lessons, we saw how we can loop through a collection of items in a list.  We did so to both select specific information from each element, as well as to make new calculations from each element.  In other words, we saw how to use loops to reject components of each element, as well as how to coerce each element.  \n",
    "\n",
    "In this lesson, we'll see how to remove entire elements with filtering."
   ]
  },
  {
   "cell_type": "markdown",
   "metadata": {
    "id": "oa_JMRKs9FAi"
   },
   "source": [
    "### What's filtering?"
   ]
  },
  {
   "cell_type": "markdown",
   "metadata": {
    "id": "svjbV69N9FAi"
   },
   "source": [
    "With filtering, we will only select certain elements from our list."
   ]
  },
  {
   "cell_type": "markdown",
   "metadata": {
    "id": "PCD3ktUR9FAj"
   },
   "source": [
    "For example, let's say that we have a list of numbers, we could select just those numbers that are greater than zero."
   ]
  },
  {
   "cell_type": "code",
   "execution_count": 1,
   "metadata": {
    "id": "FAMo9W039FAj",
    "outputId": "1d6f6111-78d9-4feb-8002-c7df50e38ea8"
   },
   "outputs": [
    {
     "data": {
      "text/plain": [
       "[-6, 8, -8, -2, -7, -3, 2, 4, 3, 0]"
      ]
     },
     "execution_count": 1,
     "metadata": {},
     "output_type": "execute_result"
    }
   ],
   "source": [
    "rand_list = [-6, 8, -8, -2, -7, -3, 2, 4, 3, 0]\n",
    "rand_list"
   ]
  },
  {
   "cell_type": "code",
   "execution_count": 2,
   "metadata": {
    "id": "deZ02Lzd9FAl"
   },
   "outputs": [],
   "source": [
    "pos_numbers = []\n",
    "for num in rand_list:\n",
    "    if num > 0: pos_numbers.append(num) "
   ]
  },
  {
   "cell_type": "code",
   "execution_count": 3,
   "metadata": {
    "id": "wEKuta3R9FAl",
    "outputId": "2ae80243-cf94-42de-d7ef-2d6f6843df8d"
   },
   "outputs": [
    {
     "data": {
      "text/plain": [
       "[8, 2, 4, 3]"
      ]
     },
     "execution_count": 3,
     "metadata": {},
     "output_type": "execute_result"
    }
   ],
   "source": [
    "pos_numbers"
   ]
  },
  {
   "cell_type": "markdown",
   "metadata": {
    "id": "oG9A2DQr9FAm"
   },
   "source": [
    "Or let's say that we have data that has a mix of names but also empty strings.  We can remove the strings that are empty like so."
   ]
  },
  {
   "cell_type": "code",
   "execution_count": 4,
   "metadata": {
    "id": "dBIMzc2a9FAn"
   },
   "outputs": [],
   "source": [
    "names = ['sal', 'don', '', 'betty']\n",
    "clean_names = []\n",
    "for name in names:\n",
    "    if name: clean_names.append(name) "
   ]
  },
  {
   "cell_type": "code",
   "execution_count": 5,
   "metadata": {
    "id": "4Z0hcVdD9FAn",
    "outputId": "7f48081f-765c-4989-a3bf-c7efea4a5d38"
   },
   "outputs": [
    {
     "data": {
      "text/plain": [
       "['sal', 'don', 'betty']"
      ]
     },
     "execution_count": 5,
     "metadata": {},
     "output_type": "execute_result"
    }
   ],
   "source": [
    "clean_names"
   ]
  },
  {
   "cell_type": "markdown",
   "metadata": {
    "id": "Bt8_ljj19FAn"
   },
   "source": [
    "> Notice the use of a one line `if` statement."
   ]
  },
  {
   "cell_type": "markdown",
   "metadata": {
    "id": "z9bOsSRe9FAo"
   },
   "source": [
    "Above we take advantage of the fact that only a string with contents is truthy."
   ]
  },
  {
   "cell_type": "markdown",
   "metadata": {
    "id": "n7BXAHFH9FAo"
   },
   "source": [
    "### Selecting with List Comprehension"
   ]
  },
  {
   "cell_type": "markdown",
   "metadata": {
    "id": "dxXWa4ko9FAo"
   },
   "source": [
    "Above we selected sepecific elements through using a for loop.  But notice that we can also perform filtering through list comprehensions."
   ]
  },
  {
   "cell_type": "markdown",
   "metadata": {
    "id": "Q2wAGoGz9FAo"
   },
   "source": [
    "For example, here are our list of numbers."
   ]
  },
  {
   "cell_type": "code",
   "execution_count": 6,
   "metadata": {
    "id": "iApJYNvj9FAp"
   },
   "outputs": [],
   "source": [
    "rand_nums = [-6, 8, -8, -2, -7, -3, 2, 4, 3, 0]"
   ]
  },
  {
   "cell_type": "markdown",
   "metadata": {
    "id": "u6aW_hdS9FAp"
   },
   "source": [
    "And we can use list comprehension to select the numbers like so."
   ]
  },
  {
   "cell_type": "code",
   "execution_count": 7,
   "metadata": {
    "id": "vFAxjQEY9FAp",
    "outputId": "28147180-4d5c-4cc0-ccb9-3d62b7bfd91d"
   },
   "outputs": [
    {
     "data": {
      "text/plain": [
       "[8, 2, 4, 3]"
      ]
     },
     "execution_count": 7,
     "metadata": {},
     "output_type": "execute_result"
    }
   ],
   "source": [
    "[num for num in rand_nums if num > 0]"
   ]
  },
  {
   "cell_type": "markdown",
   "metadata": {
    "id": "uC2_g6zO9FAp"
   },
   "source": [
    "So breaking it down, this follows the following sequence.\n",
    "\n",
    "`[return_val for var in sequence if condition]`"
   ]
  },
  {
   "cell_type": "markdown",
   "metadata": {
    "id": "s43geKEX9FAq"
   },
   "source": [
    "So we can divide the list comprehension into a couple of parts."
   ]
  },
  {
   "cell_type": "markdown",
   "metadata": {
    "id": "VPskvRvW9FAq"
   },
   "source": [
    "> The first two parts are the return value, and then the loop."
   ]
  },
  {
   "cell_type": "code",
   "execution_count": 8,
   "metadata": {
    "id": "tLzMRX_C9FAq",
    "outputId": "61e9fe7f-19c2-4ab9-f3f4-35801efef7e0"
   },
   "outputs": [
    {
     "data": {
      "text/plain": [
       "[-6, 8, -8, -2, -7, -3, 2, 4, 3, 0]"
      ]
     },
     "execution_count": 8,
     "metadata": {},
     "output_type": "execute_result"
    }
   ],
   "source": [
    "[num for num in rand_nums]\n",
    "#return val, loop "
   ]
  },
  {
   "cell_type": "markdown",
   "metadata": {
    "id": "8Xui4abK9FAq"
   },
   "source": [
    "And we end with the conditional."
   ]
  },
  {
   "cell_type": "code",
   "execution_count": 9,
   "metadata": {
    "id": "1ChOssP59FAr",
    "outputId": "51b5633f-9f23-4dfc-8e18-2940ff058ef0"
   },
   "outputs": [
    {
     "data": {
      "text/plain": [
       "[8, 2, 4, 3]"
      ]
     },
     "execution_count": 9,
     "metadata": {},
     "output_type": "execute_result"
    }
   ],
   "source": [
    "[num for num in rand_nums if num > 0]\n",
    "                        # conditional"
   ]
  },
  {
   "cell_type": "markdown",
   "metadata": {
    "id": "Z8c5J_ko9FAr"
   },
   "source": [
    "> Now it's your turn."
   ]
  },
  {
   "cell_type": "markdown",
   "metadata": {
    "id": "atyH-yTh9FAr"
   },
   "source": [
    "Use list comprehension to select only strings that are non-empty in the list below."
   ]
  },
  {
   "cell_type": "code",
   "execution_count": 10,
   "metadata": {
    "id": "WalzlWyw9FAr"
   },
   "outputs": [],
   "source": [
    "names = ['sal', 'don', '', 'betty']"
   ]
  },
  {
   "cell_type": "code",
   "execution_count": 11,
   "metadata": {
    "id": "qa847QwH9FAr"
   },
   "outputs": [
    {
     "data": {
      "text/plain": [
       "['sal', 'don', 'betty']"
      ]
     },
     "execution_count": 11,
     "metadata": {},
     "output_type": "execute_result"
    }
   ],
   "source": [
    "# write code here\n",
    "[n for n in names if n]\n",
    "# ['sal', 'don', 'betty']"
   ]
  },
  {
   "cell_type": "markdown",
   "metadata": {
    "id": "xlJQ8igg9FAs"
   },
   "source": [
    "### Filtering and Mapping"
   ]
  },
  {
   "cell_type": "markdown",
   "metadata": {
    "id": "0qWhElgb9FAs"
   },
   "source": [
    "Finally, by altering the return value, we can both reduce the number of elements and coerce the elements that remain."
   ]
  },
  {
   "cell_type": "markdown",
   "metadata": {
    "id": "aOg86z9H9FAs"
   },
   "source": [
    "> For example, here we filter out the numbers that are negative."
   ]
  },
  {
   "cell_type": "code",
   "execution_count": 12,
   "metadata": {
    "id": "AvCMyzxw9FAs",
    "outputId": "39cfd7d3-d666-4ba0-8290-7c2682bd2b4a"
   },
   "outputs": [
    {
     "data": {
      "text/plain": [
       "[8, 2, 4, 3]"
      ]
     },
     "execution_count": 12,
     "metadata": {},
     "output_type": "execute_result"
    }
   ],
   "source": [
    "[num for num in rand_nums if num > 0]"
   ]
  },
  {
   "cell_type": "markdown",
   "metadata": {
    "id": "kuEsND4E9FAs"
   },
   "source": [
    "And here we filter those numbers out, but multiply our remaining numbers by 100."
   ]
  },
  {
   "cell_type": "code",
   "execution_count": 13,
   "metadata": {
    "id": "6_ziNv8O9FAs",
    "outputId": "2bdd6174-1c39-41a5-d745-0df63da1e9a7"
   },
   "outputs": [
    {
     "data": {
      "text/plain": [
       "[800, 200, 400, 300]"
      ]
     },
     "execution_count": 13,
     "metadata": {},
     "output_type": "execute_result"
    }
   ],
   "source": [
    "[100*num for num in rand_nums if num > 0]"
   ]
  },
  {
   "cell_type": "markdown",
   "metadata": {
    "id": "ITAJgHQ49FAt"
   },
   "source": [
    "### Summary"
   ]
  },
  {
   "cell_type": "markdown",
   "metadata": {
    "id": "OpOlcwkh9FAt"
   },
   "source": [
    "In this lesson, we saw how to only add certain elements to a list.  We first did this with a for loop.\n",
    "\n",
    "One by one, we only added the element `if` is passed a certain criteria."
   ]
  },
  {
   "cell_type": "markdown",
   "metadata": {
    "id": "X4HmktCd9FAt"
   },
   "source": [
    "```python \n",
    "rand_list = [-6, 8, -8, -2, -7, -3, 4, 3, 0]\n",
    "pos_numbers = []\n",
    "for num in rand_list:\n",
    "    if num > 0: pos_numbers.append(num) \n",
    "```"
   ]
  },
  {
   "cell_type": "markdown",
   "metadata": {
    "id": "zDkUAdd39FAu"
   },
   "source": [
    "Then we saw how to perform the equivalent operation with a list comprehension."
   ]
  },
  {
   "cell_type": "code",
   "execution_count": 14,
   "metadata": {
    "id": "ssWGhBGV9FAu",
    "outputId": "048d438d-c4f6-4771-b0d1-9abfc15cc870"
   },
   "outputs": [
    {
     "data": {
      "text/plain": [
       "[8, 2, 4, 3]"
      ]
     },
     "execution_count": 14,
     "metadata": {},
     "output_type": "execute_result"
    }
   ],
   "source": [
    "rand_nums = [-6, 8, -8, -2, -7, -3, 2, 4, 3, 0]\n",
    "[num for num in rand_nums if num > 0]"
   ]
  },
  {
   "cell_type": "markdown",
   "metadata": {
    "id": "ZpvAzNn59FAu"
   },
   "source": [
    "Finally, we saw that we can combine filtering, and then adjusting the return value of the selected elements in one statement."
   ]
  },
  {
   "cell_type": "code",
   "execution_count": 15,
   "metadata": {
    "id": "PDtbmthI9FAu",
    "outputId": "bfa775ab-6933-4bc6-fa0e-6e3a27e4a1aa"
   },
   "outputs": [
    {
     "data": {
      "text/plain": [
       "[4.0, 1.0, 2.0, 1.5]"
      ]
     },
     "execution_count": 15,
     "metadata": {},
     "output_type": "execute_result"
    }
   ],
   "source": [
    "[num/2 for num in rand_nums if num > 0]"
   ]
  }
 ],
 "metadata": {
  "colab": {
   "name": "5-filtering-with-lists.ipynb",
   "provenance": []
  },
  "kernelspec": {
   "display_name": "Python 3 (ipykernel)",
   "language": "python",
   "name": "python3"
  },
  "language_info": {
   "codemirror_mode": {
    "name": "ipython",
    "version": 3
   },
   "file_extension": ".py",
   "mimetype": "text/x-python",
   "name": "python",
   "nbconvert_exporter": "python",
   "pygments_lexer": "ipython3",
   "version": "3.10.2"
  }
 },
 "nbformat": 4,
 "nbformat_minor": 4
}

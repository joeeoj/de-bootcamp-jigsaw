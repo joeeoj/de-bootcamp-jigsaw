{
 "cells": [
  {
   "cell_type": "markdown",
   "metadata": {
    "id": "UTN6LbQS8-me"
   },
   "source": [
    "# Truthy, Falsy, and Is Discussion Questions"
   ]
  },
  {
   "cell_type": "markdown",
   "metadata": {
    "id": "mVTmirIO8-mj"
   },
   "source": [
    "### Introduction"
   ]
  },
  {
   "cell_type": "markdown",
   "metadata": {
    "id": "0GG2cLMx8-mj"
   },
   "source": [
    "Now let's explore comparison operators a little further."
   ]
  },
  {
   "cell_type": "markdown",
   "metadata": {
    "id": "i-ADC6oF8-mk"
   },
   "source": [
    "### Truthiness and Falsiness"
   ]
  },
  {
   "cell_type": "markdown",
   "metadata": {
    "id": "TBNWUo2z8-mk"
   },
   "source": [
    "Let's see the following:"
   ]
  },
  {
   "cell_type": "code",
   "execution_count": 1,
   "metadata": {
    "id": "K0ufv6ns8-mk"
   },
   "outputs": [
    {
     "name": "stdout",
     "output_type": "stream",
     "text": [
      "Yes\n"
     ]
    }
   ],
   "source": [
    "if 1:\n",
    "    print('Yes')"
   ]
  },
  {
   "cell_type": "code",
   "execution_count": 2,
   "metadata": {
    "id": "zFENtaX58-mm"
   },
   "outputs": [],
   "source": [
    "if 0:\n",
    "    print('Yes')"
   ]
  },
  {
   "cell_type": "code",
   "execution_count": 3,
   "metadata": {
    "id": "N9GIbYz48-mm"
   },
   "outputs": [
    {
     "name": "stdout",
     "output_type": "stream",
     "text": [
      "Yes\n"
     ]
    }
   ],
   "source": [
    "if ['freddy']:\n",
    "    print('Yes')"
   ]
  },
  {
   "cell_type": "code",
   "execution_count": 4,
   "metadata": {
    "id": "Cn9RoFtb8-mn"
   },
   "outputs": [],
   "source": [
    "if []:\n",
    "    print('Yes')"
   ]
  },
  {
   "cell_type": "code",
   "execution_count": 5,
   "metadata": {
    "id": "Z29phH-k8-mn"
   },
   "outputs": [
    {
     "name": "stdout",
     "output_type": "stream",
     "text": [
      "Yes\n"
     ]
    }
   ],
   "source": [
    "if 'freddy':\n",
    "    print('Yes')"
   ]
  },
  {
   "cell_type": "code",
   "execution_count": 6,
   "metadata": {
    "id": "BRDMsSsS8-mo"
   },
   "outputs": [],
   "source": [
    "if '':\n",
    "    print('Yes')"
   ]
  },
  {
   "cell_type": "code",
   "execution_count": 7,
   "metadata": {
    "id": "icVNyxIV8-mo"
   },
   "outputs": [],
   "source": [
    "if {}:\n",
    "    print('Yes')"
   ]
  },
  {
   "cell_type": "code",
   "execution_count": 8,
   "metadata": {
    "id": "JLFNfQux8-mp"
   },
   "outputs": [
    {
     "name": "stdout",
     "output_type": "stream",
     "text": [
      "Yes\n"
     ]
    }
   ],
   "source": [
    "if {'name': 'Freddy'}:\n",
    "    print('Yes')"
   ]
  },
  {
   "cell_type": "code",
   "execution_count": 9,
   "metadata": {
    "id": "FNe0L1F08-mp"
   },
   "outputs": [
    {
     "data": {
      "text/plain": [
       "1"
      ]
     },
     "execution_count": 9,
     "metadata": {},
     "output_type": "execute_result"
    }
   ],
   "source": [
    "len({'name': 'Freddy'})"
   ]
  },
  {
   "cell_type": "code",
   "execution_count": 10,
   "metadata": {
    "id": "1b2MFSt_8-mp"
   },
   "outputs": [
    {
     "data": {
      "text/plain": [
       "0"
      ]
     },
     "execution_count": 10,
     "metadata": {},
     "output_type": "execute_result"
    }
   ],
   "source": [
    "len({})"
   ]
  },
  {
   "cell_type": "markdown",
   "metadata": {
    "id": "Zu4oQCR58-mq"
   },
   "source": [
    "* What can we conclude from the above?"
   ]
  },
  {
   "cell_type": "markdown",
   "metadata": {
    "id": "GhVaeb918-mq"
   },
   "source": [
    "### Understanding is vs == "
   ]
  },
  {
   "cell_type": "markdown",
   "metadata": {
    "id": "yo7Ddzk88-mq"
   },
   "source": [
    "> Singletons"
   ]
  },
  {
   "cell_type": "code",
   "execution_count": 11,
   "metadata": {
    "id": "Zpjr86uJ8-mq"
   },
   "outputs": [
    {
     "data": {
      "text/plain": [
       "True"
      ]
     },
     "execution_count": 11,
     "metadata": {},
     "output_type": "execute_result"
    }
   ],
   "source": [
    "None is None"
   ]
  },
  {
   "cell_type": "code",
   "execution_count": 12,
   "metadata": {
    "id": "F5VcRCJ98-mr"
   },
   "outputs": [
    {
     "data": {
      "text/plain": [
       "True"
      ]
     },
     "execution_count": 12,
     "metadata": {},
     "output_type": "execute_result"
    }
   ],
   "source": [
    "False is False"
   ]
  },
  {
   "cell_type": "code",
   "execution_count": 13,
   "metadata": {
    "id": "SnqoMRgl8-mr"
   },
   "outputs": [
    {
     "data": {
      "text/plain": [
       "True"
      ]
     },
     "execution_count": 13,
     "metadata": {},
     "output_type": "execute_result"
    }
   ],
   "source": [
    "type('bob') is str"
   ]
  },
  {
   "cell_type": "markdown",
   "metadata": {
    "id": "CwIbSiQB8-mr"
   },
   "source": [
    "> Is for non-singletons, don't use them."
   ]
  },
  {
   "cell_type": "code",
   "execution_count": 14,
   "metadata": {
    "id": "Mnz4zKkO8-mr"
   },
   "outputs": [],
   "source": [
    "first = 'bob'\n",
    "second = 'bob'"
   ]
  },
  {
   "cell_type": "code",
   "execution_count": 15,
   "metadata": {
    "id": "2i24yung8-mr"
   },
   "outputs": [
    {
     "data": {
      "text/plain": [
       "True"
      ]
     },
     "execution_count": 15,
     "metadata": {},
     "output_type": "execute_result"
    }
   ],
   "source": [
    "first is second"
   ]
  },
  {
   "cell_type": "code",
   "execution_count": 16,
   "metadata": {
    "id": "T7OHCM_V8-ms"
   },
   "outputs": [],
   "source": [
    "num = '190-281920890'\n",
    "other_num = '190-281920890'"
   ]
  },
  {
   "cell_type": "code",
   "execution_count": 17,
   "metadata": {
    "id": "qvFoN6Td8-ms"
   },
   "outputs": [
    {
     "data": {
      "text/plain": [
       "False"
      ]
     },
     "execution_count": 17,
     "metadata": {},
     "output_type": "execute_result"
    }
   ],
   "source": [
    "num is other_num"
   ]
  },
  {
   "cell_type": "code",
   "execution_count": 18,
   "metadata": {
    "id": "GmR3Fvqw8-ms"
   },
   "outputs": [
    {
     "data": {
      "text/plain": [
       "4528720304"
      ]
     },
     "execution_count": 18,
     "metadata": {},
     "output_type": "execute_result"
    }
   ],
   "source": [
    "id(num)"
   ]
  },
  {
   "cell_type": "code",
   "execution_count": 19,
   "metadata": {
    "id": "bVogDycV8-ms"
   },
   "outputs": [
    {
     "data": {
      "text/plain": [
       "4528723376"
      ]
     },
     "execution_count": 19,
     "metadata": {},
     "output_type": "execute_result"
    }
   ],
   "source": [
    "id(other_num)"
   ]
  },
  {
   "cell_type": "code",
   "execution_count": 20,
   "metadata": {
    "id": "nNohFPPe8-mt"
   },
   "outputs": [
    {
     "data": {
      "text/plain": [
       "4528725616"
      ]
     },
     "execution_count": 20,
     "metadata": {},
     "output_type": "execute_result"
    }
   ],
   "source": [
    "id(first)"
   ]
  },
  {
   "cell_type": "code",
   "execution_count": 21,
   "metadata": {
    "id": "UILTXGju8-mt"
   },
   "outputs": [
    {
     "data": {
      "text/plain": [
       "4528725616"
      ]
     },
     "execution_count": 21,
     "metadata": {},
     "output_type": "execute_result"
    }
   ],
   "source": [
    "id(second)"
   ]
  },
  {
   "cell_type": "markdown",
   "metadata": {
    "id": "IvkTEetM8-mt"
   },
   "source": [
    "> How do you think that `is` works?"
   ]
  },
  {
   "cell_type": "markdown",
   "metadata": {
    "id": "XzL3uPEs8-mt"
   },
   "source": [
    "When should we avoid using is?"
   ]
  }
 ],
 "metadata": {
  "colab": {
   "name": "3-truthy-and-is.ipynb",
   "provenance": []
  },
  "kernelspec": {
   "display_name": "Python 3 (ipykernel)",
   "language": "python",
   "name": "python3"
  },
  "language_info": {
   "codemirror_mode": {
    "name": "ipython",
    "version": 3
   },
   "file_extension": ".py",
   "mimetype": "text/x-python",
   "name": "python",
   "nbconvert_exporter": "python",
   "pygments_lexer": "ipython3",
   "version": "3.10.2"
  }
 },
 "nbformat": 4,
 "nbformat_minor": 4
}

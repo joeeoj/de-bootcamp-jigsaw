{
 "cells": [
  {
   "cell_type": "markdown",
   "metadata": {
    "id": "8JlwlpBs83kq"
   },
   "source": [
    "# Comparison Operators"
   ]
  },
  {
   "cell_type": "markdown",
   "metadata": {
    "id": "XebDmiLB83ku"
   },
   "source": [
    "### Introduction"
   ]
  },
  {
   "cell_type": "markdown",
   "metadata": {
    "id": "WAqCcAuV83kw"
   },
   "source": [
    "> Here is an example of a conditional statement in Python."
   ]
  },
  {
   "cell_type": "code",
   "execution_count": 1,
   "metadata": {
    "id": "MW3o0-Nt83kx"
   },
   "outputs": [],
   "source": [
    "def can_drive(age):\n",
    "    if age > 16:\n",
    "        return True\n",
    "    else:\n",
    "        return False"
   ]
  },
  {
   "cell_type": "markdown",
   "metadata": {
    "id": "AqP2NDCg83ky"
   },
   "source": [
    "The function above relies on [comparison operators](https://www.tutorialspoint.com/python/python_basic_operators.htm).  Let's explore some comparison operators in Python below."
   ]
  },
  {
   "cell_type": "markdown",
   "metadata": {
    "id": "uZ0SQYrS83kz"
   },
   "source": [
    "### Comparison Operators"
   ]
  },
  {
   "cell_type": "code",
   "execution_count": 2,
   "metadata": {
    "id": "iQHNj6Vu83kz"
   },
   "outputs": [
    {
     "name": "stdout",
     "output_type": "stream",
     "text": [
      "yes\n"
     ]
    }
   ],
   "source": [
    "if 1 < 2:\n",
    "    print('yes')"
   ]
  },
  {
   "cell_type": "code",
   "execution_count": 3,
   "metadata": {
    "id": "DG0h16o583k0"
   },
   "outputs": [],
   "source": [
    "if 1 > 2:\n",
    "    print('yes')"
   ]
  },
  {
   "cell_type": "code",
   "execution_count": 4,
   "metadata": {
    "id": "rWyKhn9U83k0"
   },
   "outputs": [
    {
     "name": "stdout",
     "output_type": "stream",
     "text": [
      "yes\n"
     ]
    }
   ],
   "source": [
    "if 1 < 3 < 5:\n",
    "    print('yes')"
   ]
  },
  {
   "cell_type": "code",
   "execution_count": 5,
   "metadata": {
    "id": "YqDXBaQ-83k1"
   },
   "outputs": [],
   "source": [
    "if 1 == 2:\n",
    "    print('yes')"
   ]
  },
  {
   "cell_type": "code",
   "execution_count": 6,
   "metadata": {
    "id": "zjubomWa83k2"
   },
   "outputs": [
    {
     "name": "stdout",
     "output_type": "stream",
     "text": [
      "yes\n"
     ]
    }
   ],
   "source": [
    "if 1 == 1:\n",
    "    print('yes')"
   ]
  },
  {
   "cell_type": "code",
   "execution_count": 7,
   "metadata": {
    "id": "Z3szBiPn83k2"
   },
   "outputs": [],
   "source": [
    "if 'Hello' == \"hello\":\n",
    "    print('yes')"
   ]
  },
  {
   "cell_type": "code",
   "execution_count": 8,
   "metadata": {
    "id": "qz60zzYl83k2"
   },
   "outputs": [
    {
     "name": "stdout",
     "output_type": "stream",
     "text": [
      "yes\n"
     ]
    }
   ],
   "source": [
    "if 'hello' == \"hello\":\n",
    "    print('yes')"
   ]
  },
  {
   "cell_type": "code",
   "execution_count": 9,
   "metadata": {
    "id": "-U6HFeqr83k2"
   },
   "outputs": [],
   "source": [
    "if '1' == 1:\n",
    "    print('yes')"
   ]
  },
  {
   "cell_type": "code",
   "execution_count": 10,
   "metadata": {
    "id": "GKyhNO0383k3",
    "outputId": "41112de3-dec2-4313-f22d-40d32cdc2e09"
   },
   "outputs": [
    {
     "name": "stdout",
     "output_type": "stream",
     "text": [
      "yes\n"
     ]
    }
   ],
   "source": [
    "if '1' != 1:\n",
    "    print('yes')"
   ]
  },
  {
   "cell_type": "markdown",
   "metadata": {
    "id": "GAVRInLI83k4"
   },
   "source": [
    "The above are our **comparison operators**."
   ]
  },
  {
   "cell_type": "markdown",
   "metadata": {
    "id": "V63y6Ee383k4"
   },
   "source": [
    "* What can we infer from `==`.\n",
    "* How do we represent non-equality."
   ]
  },
  {
   "cell_type": "markdown",
   "metadata": {
    "id": "8GMsPour83k4"
   },
   "source": [
    "### Truth in Numbers"
   ]
  },
  {
   "cell_type": "code",
   "execution_count": 11,
   "metadata": {
    "id": "CJOkpFrS83k4",
    "outputId": "b18a7801-a00e-4eae-a97e-3789c45f5a3b"
   },
   "outputs": [
    {
     "data": {
      "text/plain": [
       "True"
      ]
     },
     "execution_count": 11,
     "metadata": {},
     "output_type": "execute_result"
    }
   ],
   "source": [
    "1 == True"
   ]
  },
  {
   "cell_type": "code",
   "execution_count": 12,
   "metadata": {
    "id": "39x33wZx83k5",
    "outputId": "37f60e33-9d36-46bb-b6ea-7c43437e9db8"
   },
   "outputs": [
    {
     "data": {
      "text/plain": [
       "True"
      ]
     },
     "execution_count": 12,
     "metadata": {},
     "output_type": "execute_result"
    }
   ],
   "source": [
    "0 == False"
   ]
  },
  {
   "cell_type": "markdown",
   "metadata": {
    "id": "eGLrTz8L83k5"
   },
   "source": [
    "> The last one's should be a bit of a surprise.  It means that instead of a list of True or False values, an equivalent list is one of 1s or 0s. "
   ]
  },
  {
   "cell_type": "code",
   "execution_count": 13,
   "metadata": {
    "id": "RS13rGHQ83k5",
    "outputId": "d66300a9-e966-4d04-9dae-7b7221bbfc45"
   },
   "outputs": [
    {
     "data": {
      "text/plain": [
       "True"
      ]
     },
     "execution_count": 13,
     "metadata": {},
     "output_type": "execute_result"
    }
   ],
   "source": [
    "[True, False] == [1, 0]"
   ]
  },
  {
   "cell_type": "markdown",
   "metadata": {
    "id": "72UnBvon83k5"
   },
   "source": [
    "### Practice with If Else"
   ]
  },
  {
   "cell_type": "markdown",
   "metadata": {
    "id": "oBF3r0XB83k6"
   },
   "source": [
    "So when we use an `if else` statement our code moves through the first branch if we pass `if` a True value and moves through the second branch if we pass through a False value. "
   ]
  },
  {
   "cell_type": "code",
   "execution_count": 14,
   "metadata": {
    "id": "6zWVtIql83k6"
   },
   "outputs": [],
   "source": [
    "def what():\n",
    "    if True:\n",
    "        return 1\n",
    "    else:\n",
    "        return 0"
   ]
  },
  {
   "cell_type": "code",
   "execution_count": 15,
   "metadata": {
    "id": "E2qgujBK83k6",
    "outputId": "9585694f-365e-4b3f-9adf-9cc58a19f6c7"
   },
   "outputs": [
    {
     "data": {
      "text/plain": [
       "1"
      ]
     },
     "execution_count": 15,
     "metadata": {},
     "output_type": "execute_result"
    }
   ],
   "source": [
    "what()"
   ]
  },
  {
   "cell_type": "markdown",
   "metadata": {
    "id": "fo_YvN6283k6"
   },
   "source": [
    "> Your turn."
   ]
  },
  {
   "cell_type": "markdown",
   "metadata": {
    "id": "Mx4EZqgS83k7"
   },
   "source": [
    "Ok, now that we know more about boolean operators.  Let's practice a bit writing some `if else` statements. "
   ]
  },
  {
   "cell_type": "markdown",
   "metadata": {
    "id": "yqLeHG7L83k7"
   },
   "source": [
    "> Write a method that checks if two first names are precisely the same.  It returns `True` if they are the same and `False` otherwise."
   ]
  },
  {
   "cell_type": "code",
   "execution_count": 16,
   "metadata": {
    "id": "45xG_usf83k7"
   },
   "outputs": [],
   "source": [
    "def same_name(name_one, name_two):\n",
    "    return name_one == name_two"
   ]
  },
  {
   "cell_type": "code",
   "execution_count": 17,
   "metadata": {
    "id": "sc1xa4w983k7",
    "outputId": "d50a9467-d078-4718-acf5-66f5ba8c2c2d"
   },
   "outputs": [
    {
     "data": {
      "text/plain": [
       "True"
      ]
     },
     "execution_count": 17,
     "metadata": {},
     "output_type": "execute_result"
    }
   ],
   "source": [
    "same_name('sally', 'sally')\n",
    "# True"
   ]
  },
  {
   "cell_type": "code",
   "execution_count": 18,
   "metadata": {
    "id": "-T9PQC5V83k7",
    "outputId": "fc899f30-4283-408e-8a0e-a926d70ee357"
   },
   "outputs": [
    {
     "data": {
      "text/plain": [
       "False"
      ]
     },
     "execution_count": 18,
     "metadata": {},
     "output_type": "execute_result"
    }
   ],
   "source": [
    "same_name('sally', 'Sally')\n",
    "# False"
   ]
  },
  {
   "cell_type": "markdown",
   "metadata": {
    "id": "HcSDN-mj83k8"
   },
   "source": [
    "> Now write a new function that returns True even if the capitalization of the names is different."
   ]
  },
  {
   "cell_type": "code",
   "execution_count": 19,
   "metadata": {
    "id": "ElJBUgFl83k8"
   },
   "outputs": [],
   "source": [
    "def same_name_case_insensitive(name_one, name_two):\n",
    "    return name_one.lower() == name_two.lower()"
   ]
  },
  {
   "cell_type": "code",
   "execution_count": 20,
   "metadata": {
    "id": "jXbSZieW83k8",
    "outputId": "3b2a8ba7-6e42-4460-c25b-68eac35b1881"
   },
   "outputs": [
    {
     "data": {
      "text/plain": [
       "True"
      ]
     },
     "execution_count": 20,
     "metadata": {},
     "output_type": "execute_result"
    }
   ],
   "source": [
    "same_name_case_insensitive('Sally', 'sally')\n",
    "# True"
   ]
  },
  {
   "cell_type": "markdown",
   "metadata": {
    "id": "6n55M5p083k8"
   },
   "source": [
    "### Refactoring if else"
   ]
  },
  {
   "cell_type": "markdown",
   "metadata": {
    "id": "K_SCIkRN83k8"
   },
   "source": [
    "With if else functions, we can sometimes be repetitive."
   ]
  },
  {
   "cell_type": "markdown",
   "metadata": {
    "id": "nRFw2mRq83k9"
   },
   "source": [
    "> For example, here is the `can_drive` function that we started with.  "
   ]
  },
  {
   "cell_type": "code",
   "execution_count": 21,
   "metadata": {
    "id": "-9xgptmh83k9"
   },
   "outputs": [],
   "source": [
    "def can_drive(age):\n",
    "    if age > 16:\n",
    "        return True\n",
    "    else:\n",
    "        return False"
   ]
  },
  {
   "cell_type": "code",
   "execution_count": 22,
   "metadata": {
    "id": "wmxqIqPm83k9",
    "outputId": "7ac27fc9-63ff-490d-dd62-eaf6a82d05e8"
   },
   "outputs": [
    {
     "data": {
      "text/plain": [
       "True"
      ]
     },
     "execution_count": 22,
     "metadata": {},
     "output_type": "execute_result"
    }
   ],
   "source": [
    "can_drive(17)"
   ]
  },
  {
   "cell_type": "markdown",
   "metadata": {
    "id": "h4_6A3bb83k9"
   },
   "source": [
    "> Can you see a way that we can rewrite this in just one line, and without ever using the keywords `if else`? "
   ]
  },
  {
   "cell_type": "code",
   "execution_count": 23,
   "metadata": {
    "id": "YXucXtYs83k-"
   },
   "outputs": [],
   "source": [
    "def can_drive(age):\n",
    "    return age > 16"
   ]
  },
  {
   "cell_type": "code",
   "execution_count": 24,
   "metadata": {
    "id": "ktz8SZ4j83k-",
    "outputId": "9105f493-9076-45c5-ba9c-1a56943ec0dc"
   },
   "outputs": [
    {
     "data": {
      "text/plain": [
       "False"
      ]
     },
     "execution_count": 24,
     "metadata": {},
     "output_type": "execute_result"
    }
   ],
   "source": [
    "can_drive(15)"
   ]
  },
  {
   "cell_type": "markdown",
   "metadata": {
    "id": "LZe1DFot83k-"
   },
   "source": [
    "> Can you write a function with that checks for the same name, and is case insensitive, without the keywords `if else`."
   ]
  },
  {
   "cell_type": "code",
   "execution_count": 25,
   "metadata": {
    "id": "GDsYHDba83k-"
   },
   "outputs": [],
   "source": [
    "def same_name_case_insensitive(name_one, name_two):\n",
    "    return name_one.lower() == name_two.lower()"
   ]
  },
  {
   "cell_type": "code",
   "execution_count": 26,
   "metadata": {
    "id": "om3PuENK83k-"
   },
   "outputs": [
    {
     "data": {
      "text/plain": [
       "True"
      ]
     },
     "execution_count": 26,
     "metadata": {},
     "output_type": "execute_result"
    }
   ],
   "source": [
    "same_name_case_insensitive('Sally', 'sally')\n",
    "# True"
   ]
  },
  {
   "cell_type": "code",
   "execution_count": 27,
   "metadata": {
    "id": "3sTlGAJM83k_"
   },
   "outputs": [
    {
     "data": {
      "text/plain": [
       "False"
      ]
     },
     "execution_count": 27,
     "metadata": {},
     "output_type": "execute_result"
    }
   ],
   "source": [
    "same_name_case_insensitive('Sally', 'fred')\n",
    "# False"
   ]
  },
  {
   "cell_type": "markdown",
   "metadata": {
    "id": "tksgZcE483k_"
   },
   "source": [
    "### Multibranch if else"
   ]
  },
  {
   "cell_type": "code",
   "execution_count": 28,
   "metadata": {
    "id": "UEKjHFPQ83k_"
   },
   "outputs": [],
   "source": [
    "def discount(airline_miles):\n",
    "    if airline_miles > 20000:\n",
    "        return .2\n",
    "    elif airline_miles > 10000:\n",
    "        return .1\n",
    "    else:\n",
    "        return 0"
   ]
  },
  {
   "cell_type": "markdown",
   "metadata": {
    "id": "K1QFcJe-83k_"
   },
   "source": [
    "Practice writing your own multi-branch if else statement below."
   ]
  },
  {
   "cell_type": "markdown",
   "metadata": {
    "id": "S6dO9Y_c83k_"
   },
   "source": [
    "> Write a function that returns places someone in a yoga class based on how long they have been practicing yoga.  \n",
    "\n",
    "* If 2 months or fewer, return `'beginner'`\n",
    "* If between 2 months and 2 years, return `'intermediate'`\n",
    "* If more than two years return `'advanced'` class"
   ]
  },
  {
   "cell_type": "code",
   "execution_count": 29,
   "metadata": {
    "id": "Cqzt_aZz83k_"
   },
   "outputs": [],
   "source": [
    "def yoga_level(months):\n",
    "    if months <= 2:\n",
    "        return 'beginner'\n",
    "    elif 2 < months < 24:\n",
    "        return 'intermediate'\n",
    "    else:\n",
    "        return 'advanced'"
   ]
  },
  {
   "cell_type": "code",
   "execution_count": 30,
   "metadata": {
    "id": "zfmFGSMx83lA",
    "outputId": "ca09c839-5f6c-4ee7-b173-a3f585320912"
   },
   "outputs": [
    {
     "data": {
      "text/plain": [
       "'beginner'"
      ]
     },
     "execution_count": 30,
     "metadata": {},
     "output_type": "execute_result"
    }
   ],
   "source": [
    "yoga_level(2)\n",
    "# 'beginner'"
   ]
  },
  {
   "cell_type": "code",
   "execution_count": 31,
   "metadata": {
    "id": "16kTPhe-83lA",
    "outputId": "24edb6af-731a-49a5-d77e-ff298fb14947"
   },
   "outputs": [
    {
     "data": {
      "text/plain": [
       "'intermediate'"
      ]
     },
     "execution_count": 31,
     "metadata": {},
     "output_type": "execute_result"
    }
   ],
   "source": [
    "yoga_level(3)\n",
    "# 'intermediate'"
   ]
  },
  {
   "cell_type": "code",
   "execution_count": 32,
   "metadata": {
    "id": "GwEzTRPa83lA",
    "outputId": "e7e07e1f-c037-49e6-d132-ced85ddf9821"
   },
   "outputs": [
    {
     "data": {
      "text/plain": [
       "'advanced'"
      ]
     },
     "execution_count": 32,
     "metadata": {},
     "output_type": "execute_result"
    }
   ],
   "source": [
    "yoga_level(25)\n",
    "# 'advanced'"
   ]
  },
  {
   "cell_type": "markdown",
   "metadata": {
    "id": "3gKMSr4j83lA"
   },
   "source": [
    "### Summary"
   ]
  },
  {
   "cell_type": "markdown",
   "metadata": {
    "id": "oq8j9mPy83lA"
   },
   "source": [
    "In this lesson, we practiced using `if else` conditionals in Python.  The general pattern for an `if else` conditional is:"
   ]
  },
  {
   "cell_type": "markdown",
   "metadata": {
    "id": "Zqwpl7dK83lB"
   },
   "source": [
    "```python\n",
    "if comparison:\n",
    "    # do     \n",
    "else:\n",
    "    # do\n",
    "```"
   ]
  },
  {
   "cell_type": "markdown",
   "metadata": {
    "id": "-ZWIn7QE83lB"
   },
   "source": [
    "We saw that a lot of understanding if else statements is understanding the rules of conditionals.  We can check for equality using `==` and inequality with `!=`.  We also saw that `1 == True`."
   ]
  }
 ],
 "metadata": {
  "colab": {
   "name": "2-if-else-discussions.ipynb",
   "provenance": []
  },
  "kernelspec": {
   "display_name": "Python 3 (ipykernel)",
   "language": "python",
   "name": "python3"
  },
  "language_info": {
   "codemirror_mode": {
    "name": "ipython",
    "version": 3
   },
   "file_extension": ".py",
   "mimetype": "text/x-python",
   "name": "python",
   "nbconvert_exporter": "python",
   "pygments_lexer": "ipython3",
   "version": "3.10.2"
  }
 },
 "nbformat": 4,
 "nbformat_minor": 4
}

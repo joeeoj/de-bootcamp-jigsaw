{
 "cells": [
  {
   "cell_type": "markdown",
   "metadata": {
    "id": "2BCE-YXA9Bg3"
   },
   "source": [
    "# Comparison Operators"
   ]
  },
  {
   "cell_type": "markdown",
   "metadata": {
    "id": "-Q90bTyV9Bg7"
   },
   "source": [
    "### Introduction"
   ]
  },
  {
   "cell_type": "markdown",
   "metadata": {
    "id": "ZoRhaG6p9Bg7"
   },
   "source": [
    "We sometimes want our code to perform different operations depending on the circumstance."
   ]
  },
  {
   "cell_type": "markdown",
   "metadata": {
    "id": "8UWfIji19Bg8"
   },
   "source": [
    "For example, below we write a function to determine if someone can drive.  If the person is over 16, then we return True to indicate that the person can drive."
   ]
  },
  {
   "cell_type": "code",
   "execution_count": null,
   "metadata": {
    "id": "u5ZuKP9o9Bg8"
   },
   "outputs": [],
   "source": [
    "def can_drive(age):\n",
    "    if age > 16:\n",
    "        return True\n",
    "    else:\n",
    "        return False"
   ]
  },
  {
   "cell_type": "markdown",
   "metadata": {
    "id": "O5aF7t6X9Bg-"
   },
   "source": [
    "The function above relies on [comparison operators](https://www.tutorialspoint.com/python/python_basic_operators.htm).  Let's break down how the function works below."
   ]
  },
  {
   "cell_type": "markdown",
   "metadata": {
    "id": "hwGX1MLh9Bg_"
   },
   "source": [
    "### Comparison Operators"
   ]
  },
  {
   "cell_type": "markdown",
   "metadata": {
    "id": "z7I7SsnK9BhA"
   },
   "source": [
    "The key component of the function is `age > 16`.  This `>` example of a comparison operator.  A comparison operator always returns either `True` or `False`.  Let's see a couple comparison operators."
   ]
  },
  {
   "cell_type": "markdown",
   "metadata": {
    "id": "jOHtm25d9BhA"
   },
   "source": [
    "> Try to guess the return values before executing each cell."
   ]
  },
  {
   "cell_type": "code",
   "execution_count": null,
   "metadata": {
    "id": "tqFPwoy_9BhB"
   },
   "outputs": [],
   "source": [
    "1 > 2"
   ]
  },
  {
   "cell_type": "code",
   "execution_count": null,
   "metadata": {
    "id": "jqv1g2u_9BhB"
   },
   "outputs": [],
   "source": [
    "1 < 2"
   ]
  },
  {
   "cell_type": "code",
   "execution_count": null,
   "metadata": {
    "id": "PFfX4YXH9BhC"
   },
   "outputs": [],
   "source": [
    "1 == 2"
   ]
  },
  {
   "cell_type": "code",
   "execution_count": null,
   "metadata": {
    "id": "NyhV2s6r9BhC"
   },
   "outputs": [],
   "source": [
    "1 == 1"
   ]
  },
  {
   "cell_type": "code",
   "execution_count": null,
   "metadata": {
    "id": "7d3xGdtU9BhD"
   },
   "outputs": [],
   "source": [
    "'Hello' == \"hello\""
   ]
  },
  {
   "cell_type": "code",
   "execution_count": null,
   "metadata": {
    "id": "3F2FXBeD9BhD"
   },
   "outputs": [],
   "source": [
    "'hello' == \"hello\""
   ]
  },
  {
   "cell_type": "code",
   "execution_count": null,
   "metadata": {
    "id": "UJTx9Qym9BhD"
   },
   "outputs": [],
   "source": [
    "'1' == 1"
   ]
  },
  {
   "cell_type": "code",
   "execution_count": null,
   "metadata": {
    "id": "n8xpZfuJ9BhD",
    "outputId": "8ba79205-83f1-43f8-c539-ffe9334d7de8"
   },
   "outputs": [
    {
     "data": {
      "text/plain": [
       "True"
      ]
     },
     "execution_count": 35,
     "metadata": {},
     "output_type": "execute_result"
    }
   ],
   "source": [
    "'1' != 1"
   ]
  },
  {
   "cell_type": "code",
   "execution_count": null,
   "metadata": {
    "id": "7ckdG8D29BhE",
    "outputId": "9fefe2df-d306-41e7-9ad2-f711d7bee09d"
   },
   "outputs": [
    {
     "data": {
      "text/plain": [
       "True"
      ]
     },
     "execution_count": 32,
     "metadata": {},
     "output_type": "execute_result"
    }
   ],
   "source": [
    "1 < 3 < 5"
   ]
  },
  {
   "cell_type": "markdown",
   "metadata": {
    "id": "Bbs5cEd09BhF"
   },
   "source": [
    "> We can chain comparison operators in Python"
   ]
  },
  {
   "cell_type": "code",
   "execution_count": null,
   "metadata": {
    "id": "4IQ-KysI9BhF",
    "outputId": "df686a30-b559-4767-8adf-6766474ac10a"
   },
   "outputs": [
    {
     "data": {
      "text/plain": [
       "True"
      ]
     },
     "execution_count": 33,
     "metadata": {},
     "output_type": "execute_result"
    }
   ],
   "source": [
    "1 == 1 < 3"
   ]
  },
  {
   "cell_type": "markdown",
   "metadata": {
    "id": "A2AEqtti9BhF"
   },
   "source": [
    "### Truth in Numbers"
   ]
  },
  {
   "cell_type": "code",
   "execution_count": null,
   "metadata": {
    "id": "wH-YOejv9BhG",
    "outputId": "264b3f55-e156-477e-c957-98dfb5cce084"
   },
   "outputs": [
    {
     "data": {
      "text/plain": [
       "True"
      ]
     },
     "execution_count": 40,
     "metadata": {},
     "output_type": "execute_result"
    }
   ],
   "source": [
    "1 == True"
   ]
  },
  {
   "cell_type": "code",
   "execution_count": null,
   "metadata": {
    "id": "mxzqKDtK9BhG",
    "outputId": "65253a10-3d42-484f-9af5-da3c628f3526"
   },
   "outputs": [
    {
     "data": {
      "text/plain": [
       "True"
      ]
     },
     "execution_count": 41,
     "metadata": {},
     "output_type": "execute_result"
    }
   ],
   "source": [
    "0 == False"
   ]
  },
  {
   "cell_type": "markdown",
   "metadata": {
    "id": "fmqupSQj9BhG"
   },
   "source": [
    "> The last one's should be a bit of a surprise.  It means that instead of a list of True or False values, an equivalent list is one of 1s or 0s. "
   ]
  },
  {
   "cell_type": "code",
   "execution_count": null,
   "metadata": {
    "id": "SgY5LTWG9BhH",
    "outputId": "a257d1a5-4e4c-4e91-d22a-e4eeb2d4e421"
   },
   "outputs": [
    {
     "data": {
      "text/plain": [
       "True"
      ]
     },
     "execution_count": 42,
     "metadata": {},
     "output_type": "execute_result"
    }
   ],
   "source": [
    "[True, False] == [1, 0]"
   ]
  },
  {
   "cell_type": "markdown",
   "metadata": {
    "id": "H9FrMVC29BhH"
   },
   "source": [
    "### Practice with If Else"
   ]
  },
  {
   "cell_type": "markdown",
   "metadata": {
    "id": "IuPgF40h9BhH"
   },
   "source": [
    "So when we use an `if else` statement our code moves through the first branch if we pass `if` a True value and moves through the second branch if we pass through a False value. "
   ]
  },
  {
   "cell_type": "code",
   "execution_count": null,
   "metadata": {
    "id": "vmzh53Uw9BhH"
   },
   "outputs": [],
   "source": [
    "def what():\n",
    "    if True:\n",
    "        return 1\n",
    "    else:\n",
    "        return 0"
   ]
  },
  {
   "cell_type": "code",
   "execution_count": null,
   "metadata": {
    "id": "SHcV_TL09BhI",
    "outputId": "73c102ef-2e67-409d-930a-9f71526644e9"
   },
   "outputs": [
    {
     "data": {
      "text/plain": [
       "1"
      ]
     },
     "execution_count": 44,
     "metadata": {},
     "output_type": "execute_result"
    }
   ],
   "source": [
    "what()"
   ]
  },
  {
   "cell_type": "markdown",
   "metadata": {
    "id": "Wm9LHyXu9BhI"
   },
   "source": [
    "> Your turn."
   ]
  },
  {
   "cell_type": "markdown",
   "metadata": {
    "id": "yFgYYJl89BhI"
   },
   "source": [
    "Ok, now that we know more about boolean operators.  Let's practice a bit writing some `if else` statements. "
   ]
  },
  {
   "cell_type": "markdown",
   "metadata": {
    "id": "EEZjFOiO9BhI"
   },
   "source": [
    "> Write a method that checks if two first names are precisely the same.  It returns `True` if they are the same and `False` otherwise."
   ]
  },
  {
   "cell_type": "code",
   "execution_count": null,
   "metadata": {
    "id": "kQVgaoK49BhI"
   },
   "outputs": [],
   "source": [
    "def same_name(name_one, name_two):\n",
    "    if name_one == name_two:\n",
    "        return True\n",
    "    else:\n",
    "        return False"
   ]
  },
  {
   "cell_type": "code",
   "execution_count": null,
   "metadata": {
    "id": "3b5Es9F89BhJ",
    "outputId": "9d2f3404-6a27-43b3-cf07-c31d64a48735"
   },
   "outputs": [
    {
     "data": {
      "text/plain": [
       "True"
      ]
     },
     "execution_count": 49,
     "metadata": {},
     "output_type": "execute_result"
    }
   ],
   "source": [
    "same_name('sally', 'sally')\n",
    "# True"
   ]
  },
  {
   "cell_type": "code",
   "execution_count": null,
   "metadata": {
    "id": "xYPSRz0t9BhJ",
    "outputId": "333925c2-8a7a-4998-ccfd-16e7708304e4"
   },
   "outputs": [
    {
     "data": {
      "text/plain": [
       "False"
      ]
     },
     "execution_count": 51,
     "metadata": {},
     "output_type": "execute_result"
    }
   ],
   "source": [
    "same_name('sally', 'Sally')\n",
    "# False"
   ]
  },
  {
   "cell_type": "markdown",
   "metadata": {
    "id": "pz2V8JYA9BhJ"
   },
   "source": [
    "> Now write a new function that returns True even if the capitalization of the names is different."
   ]
  },
  {
   "cell_type": "code",
   "execution_count": null,
   "metadata": {
    "id": "8S--6DCO9BhJ"
   },
   "outputs": [],
   "source": [
    "def same_name_case_insensitive(name_one, name_two):\n",
    "    if name_one.capitalize() == name_two.capitalize():\n",
    "        return True\n",
    "    else:\n",
    "        return False"
   ]
  },
  {
   "cell_type": "code",
   "execution_count": null,
   "metadata": {
    "id": "HolwsNq99BhK",
    "outputId": "85377efd-d85d-4b2c-c705-fa31eb547ae6"
   },
   "outputs": [
    {
     "data": {
      "text/plain": [
       "True"
      ]
     },
     "execution_count": 53,
     "metadata": {},
     "output_type": "execute_result"
    }
   ],
   "source": [
    "same_name_case_insensitive('Sally', 'sally')\n",
    "# True"
   ]
  },
  {
   "cell_type": "markdown",
   "metadata": {
    "id": "l7rwjYsi9BhK"
   },
   "source": [
    "### Refactoring if else"
   ]
  },
  {
   "cell_type": "markdown",
   "metadata": {
    "id": "8CJfzLCe9BhK"
   },
   "source": [
    "With if else functions, we can sometimes be repetitive."
   ]
  },
  {
   "cell_type": "markdown",
   "metadata": {
    "id": "8ZAqSr7N9BhK"
   },
   "source": [
    "> For example, here is the function that we started with.  And here is a way to rewrite it."
   ]
  },
  {
   "cell_type": "code",
   "execution_count": null,
   "metadata": {
    "id": "N0qZsowr9BhK"
   },
   "outputs": [],
   "source": [
    "def can_drive(age):\n",
    "    if age > 16:\n",
    "        return True\n",
    "    else:\n",
    "        return False"
   ]
  },
  {
   "cell_type": "code",
   "execution_count": null,
   "metadata": {
    "id": "cxlCVO_r9BhK",
    "outputId": "078db85f-c503-4829-bd65-ee930e98f6d3"
   },
   "outputs": [
    {
     "data": {
      "text/plain": [
       "True"
      ]
     },
     "execution_count": 57,
     "metadata": {},
     "output_type": "execute_result"
    }
   ],
   "source": [
    "can_drive(17)"
   ]
  },
  {
   "cell_type": "code",
   "execution_count": null,
   "metadata": {
    "id": "eNu5p0m39BhL"
   },
   "outputs": [],
   "source": [
    "def can_drive(age):\n",
    "    return age > 16"
   ]
  },
  {
   "cell_type": "code",
   "execution_count": null,
   "metadata": {
    "id": "1dl35POM9BhL",
    "outputId": "dc619953-4f7d-47bc-e5cf-5adeff5691ab"
   },
   "outputs": [
    {
     "data": {
      "text/plain": [
       "False"
      ]
     },
     "execution_count": 59,
     "metadata": {},
     "output_type": "execute_result"
    }
   ],
   "source": [
    "can_drive(15)"
   ]
  },
  {
   "cell_type": "markdown",
   "metadata": {
    "id": "rcaBwTjz9BhL"
   },
   "source": [
    "Do you see why this works?"
   ]
  },
  {
   "cell_type": "markdown",
   "metadata": {
    "id": "YBF4v3nW9BhM"
   },
   "source": [
    "```python \n",
    "def can_drive(age):\n",
    "    if age > 16:\n",
    "        return True\n",
    "    else:\n",
    "        return False\n",
    "```"
   ]
  },
  {
   "cell_type": "markdown",
   "metadata": {
    "id": "LLzZYcUC9BhM"
   },
   "source": [
    "In our first version of our function, we were essentially saying, if `age > 16` evaluates to True return True, and if it evaluates to `False` return `False`.  In the second version we say, just return the value that our statement evaluates."
   ]
  },
  {
   "cell_type": "code",
   "execution_count": null,
   "metadata": {
    "id": "krerpZYq9BhM"
   },
   "outputs": [],
   "source": [
    "def can_drive(age):\n",
    "    return age > 16"
   ]
  },
  {
   "cell_type": "markdown",
   "metadata": {
    "id": "IOGkOUhP9BhM"
   },
   "source": [
    "> Your turn."
   ]
  },
  {
   "cell_type": "markdown",
   "metadata": {
    "id": "VI1KREo69BhM"
   },
   "source": [
    "If you can shorten the `same_name_case_insensitive` function above, give it a shot below."
   ]
  },
  {
   "cell_type": "code",
   "execution_count": null,
   "metadata": {
    "id": "BgiyWNYr9BhM"
   },
   "outputs": [],
   "source": [
    "def same_name_case_insensitive(name_one, name_two):\n",
    "    pass"
   ]
  },
  {
   "cell_type": "code",
   "execution_count": null,
   "metadata": {
    "id": "fbBGYCCM9BhN"
   },
   "outputs": [],
   "source": [
    "same_name_case_insensitive('Sally', 'sally')\n",
    "# True"
   ]
  },
  {
   "cell_type": "code",
   "execution_count": null,
   "metadata": {
    "id": "gDsC6YbH9BhN"
   },
   "outputs": [],
   "source": [
    "same_name_case_insensitive('Sally', 'fred')\n",
    "# False"
   ]
  },
  {
   "cell_type": "markdown",
   "metadata": {
    "id": "BKXib8V19BhN"
   },
   "source": [
    "### Multibranch if else"
   ]
  },
  {
   "cell_type": "code",
   "execution_count": null,
   "metadata": {
    "id": "xdSu4Llk9BhN"
   },
   "outputs": [],
   "source": [
    "def discount(airline_miles):\n",
    "    if airline_miles > 20000:\n",
    "        return .2\n",
    "    elif airline_miles > 10000:\n",
    "        return .1\n",
    "    else:\n",
    "        return 0"
   ]
  }
 ],
 "metadata": {
  "colab": {
   "name": "4-if-else-reading.ipynb",
   "provenance": []
  },
  "kernelspec": {
   "display_name": "Python 3 (ipykernel)",
   "language": "python",
   "name": "python3"
  },
  "language_info": {
   "codemirror_mode": {
    "name": "ipython",
    "version": 3
   },
   "file_extension": ".py",
   "mimetype": "text/x-python",
   "name": "python",
   "nbconvert_exporter": "python",
   "pygments_lexer": "ipython3",
   "version": "3.10.2"
  }
 },
 "nbformat": 4,
 "nbformat_minor": 4
}

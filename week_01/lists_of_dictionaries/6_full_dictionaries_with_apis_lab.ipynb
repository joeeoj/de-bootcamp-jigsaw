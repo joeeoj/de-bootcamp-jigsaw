{
 "cells": [
  {
   "cell_type": "markdown",
   "metadata": {
    "id": "hSwIl5kP2GOU"
   },
   "source": [
    "# Dictionaries with APIs"
   ]
  },
  {
   "cell_type": "markdown",
   "metadata": {
    "id": "d5skJEEo2GOY"
   },
   "source": [
    "### Introduction"
   ]
  },
  {
   "cell_type": "markdown",
   "metadata": {
    "id": "IbwLIqAQ2GOZ"
   },
   "source": [
    "Now that we have better explored lists, strings, and dictionaries, we can explore additional data from Max's Wine Bar.  "
   ]
  },
  {
   "cell_type": "code",
   "execution_count": 18,
   "metadata": {
    "id": "piCGbhEr2GOZ"
   },
   "outputs": [],
   "source": [
    "import pandas as pd\n",
    "\n",
    "df = pd.read_json('https://raw.githubusercontent.com/eng-6-22/mod-1-fundamentals/master/restaurant_receipts_2020.json')\n",
    "restaurant_receipts = df.to_dict('records')"
   ]
  },
  {
   "cell_type": "code",
   "execution_count": 19,
   "metadata": {
    "id": "3MO_ZA_A2GOb"
   },
   "outputs": [],
   "source": [
    "# restaurant_receipts[:3]"
   ]
  },
  {
   "cell_type": "markdown",
   "metadata": {
    "id": "4jqh6c5T2GOb"
   },
   "source": [
    "We now have returned a list of dictionaries, where each dictionary contains information about a separate month's drink revenue."
   ]
  },
  {
   "cell_type": "code",
   "execution_count": 20,
   "metadata": {
    "id": "f2PXdCBo2GOc",
    "outputId": "cb18701d-3005-4337-d193-5595cd8400f0"
   },
   "outputs": [
    {
     "data": {
      "text/plain": [
       "[{'taxpayer_number': 12727298569,\n",
       "  'taxpayer_name': 'MWD AUSTIN DOWNTOWN, LLC',\n",
       "  'taxpayer_address': '7026 OLD KATY RD STE 255',\n",
       "  'taxpayer_city': 'HOUSTON',\n",
       "  'taxpayer_state': 'TX',\n",
       "  'taxpayer_zip': 77024,\n",
       "  'taxpayer_county': 101,\n",
       "  'location_number': 1,\n",
       "  'location_name': \"MAX'S WINE DIVE\",\n",
       "  'location_address': '207 SAN JACINTO BLVD STE 200',\n",
       "  'location_city': 'AUSTIN',\n",
       "  'location_state': 'TX',\n",
       "  'location_zip': 78701,\n",
       "  'location_county': 227,\n",
       "  'inside_outside_city_limits_code_y_n': 'Y',\n",
       "  'tabc_permit_number': 'MB944126',\n",
       "  'responsibility_begin_date_yyyymmdd': '2016-05-13T00:00:00.000',\n",
       "  'obligation_end_date_yyyymmdd': '2020-08-31T00:00:00.000',\n",
       "  'liquor_receipts': 0,\n",
       "  'wine_receipts': 0,\n",
       "  'beer_receipts': 0,\n",
       "  'cover_charge_receipts': 0,\n",
       "  'total_receipts': 0,\n",
       "  'responsibility_end_date_yyyymmdd': None},\n",
       " {'taxpayer_number': 12727298569,\n",
       "  'taxpayer_name': 'MWD AUSTIN DOWNTOWN, LLC',\n",
       "  'taxpayer_address': '7026 OLD KATY RD STE 255',\n",
       "  'taxpayer_city': 'HOUSTON',\n",
       "  'taxpayer_state': 'TX',\n",
       "  'taxpayer_zip': 77024,\n",
       "  'taxpayer_county': 101,\n",
       "  'location_number': 1,\n",
       "  'location_name': \"MAX'S WINE DIVE\",\n",
       "  'location_address': '207 SAN JACINTO BLVD STE 200',\n",
       "  'location_city': 'AUSTIN',\n",
       "  'location_state': 'TX',\n",
       "  'location_zip': 78701,\n",
       "  'location_county': 227,\n",
       "  'inside_outside_city_limits_code_y_n': 'Y',\n",
       "  'tabc_permit_number': 'MB944126',\n",
       "  'responsibility_begin_date_yyyymmdd': '2016-05-13T00:00:00.000',\n",
       "  'obligation_end_date_yyyymmdd': '2020-07-31T00:00:00.000',\n",
       "  'liquor_receipts': 620,\n",
       "  'wine_receipts': 1812,\n",
       "  'beer_receipts': 476,\n",
       "  'cover_charge_receipts': 0,\n",
       "  'total_receipts': 2908,\n",
       "  'responsibility_end_date_yyyymmdd': None}]"
      ]
     },
     "execution_count": 20,
     "metadata": {},
     "output_type": "execute_result"
    }
   ],
   "source": [
    "restaurant_receipts[:2]"
   ]
  },
  {
   "cell_type": "markdown",
   "metadata": {
    "id": "Y10MlV282GOd"
   },
   "source": [
    "So while each dictionary is fairly large, in the end it is just a list of dictionaries which we have seen before."
   ]
  },
  {
   "cell_type": "markdown",
   "metadata": {
    "id": "7CP744H32GOd"
   },
   "source": [
    "```python\n",
    "restaurant_receipts\n",
    "# [{receipt1}, {receipt2}]\n",
    "```"
   ]
  },
  {
   "cell_type": "markdown",
   "metadata": {
    "id": "pTwOTd1N2GOe"
   },
   "source": [
    "Ok, let's use our knowledge of datatypes to explore and organize this data."
   ]
  },
  {
   "cell_type": "markdown",
   "metadata": {
    "id": "l2f3EC_b2GOf"
   },
   "source": [
    "### Starting Broad"
   ]
  },
  {
   "cell_type": "markdown",
   "metadata": {
    "id": "5zEZQBsN2GOf"
   },
   "source": [
    "Begin by calculating the number of elements in our list of receipts."
   ]
  },
  {
   "cell_type": "code",
   "execution_count": 4,
   "metadata": {
    "id": "xz7FJhWa2GOg",
    "outputId": "92aceab5-62fc-4da9-9199-229ffb31a3a3"
   },
   "outputs": [
    {
     "data": {
      "text/plain": [
       "77"
      ]
     },
     "execution_count": 4,
     "metadata": {},
     "output_type": "execute_result"
    }
   ],
   "source": [
    "len(restaurant_receipts)\n",
    "# 77"
   ]
  },
  {
   "cell_type": "markdown",
   "metadata": {
    "id": "iXPgN2LJ2GOg"
   },
   "source": [
    "So it looks like there are 77 restaurant receipts that are returned.  Now let's select the first receipt and take a look at it."
   ]
  },
  {
   "cell_type": "markdown",
   "metadata": {
    "id": "vsNZZjL02GOh"
   },
   "source": [
    "> Select the first receipt below and assign it to the variable receipt."
   ]
  },
  {
   "cell_type": "code",
   "execution_count": 5,
   "metadata": {
    "id": "DDnZctUU2GOh"
   },
   "outputs": [
    {
     "data": {
      "text/plain": [
       "{'taxpayer_number': 12727298569,\n",
       " 'taxpayer_name': 'MWD AUSTIN DOWNTOWN, LLC',\n",
       " 'taxpayer_address': '7026 OLD KATY RD STE 255',\n",
       " 'taxpayer_city': 'HOUSTON',\n",
       " 'taxpayer_state': 'TX',\n",
       " 'taxpayer_zip': 77024,\n",
       " 'taxpayer_county': 101,\n",
       " 'location_number': 1,\n",
       " 'location_name': \"MAX'S WINE DIVE\",\n",
       " 'location_address': '207 SAN JACINTO BLVD STE 200',\n",
       " 'location_city': 'AUSTIN',\n",
       " 'location_state': 'TX',\n",
       " 'location_zip': 78701,\n",
       " 'location_county': 227,\n",
       " 'inside_outside_city_limits_code_y_n': 'Y',\n",
       " 'tabc_permit_number': 'MB944126',\n",
       " 'responsibility_begin_date_yyyymmdd': '2016-05-13T00:00:00.000',\n",
       " 'obligation_end_date_yyyymmdd': '2020-08-31T00:00:00.000',\n",
       " 'liquor_receipts': 0,\n",
       " 'wine_receipts': 0,\n",
       " 'beer_receipts': 0,\n",
       " 'cover_charge_receipts': 0,\n",
       " 'total_receipts': 0,\n",
       " 'responsibility_end_date_yyyymmdd': None}"
      ]
     },
     "execution_count": 5,
     "metadata": {},
     "output_type": "execute_result"
    }
   ],
   "source": [
    "receipt = restaurant_receipts[0]\n",
    "receipt\n",
    "\n",
    "# {'taxpayer_number': 12727298569,\n",
    "#  'taxpayer_name': 'MWD AUSTIN DOWNTOWN, LLC',\n",
    "#  'taxpayer_address': '7026 OLD KATY RD STE 255',\n",
    "#  'taxpayer_city': 'HOUSTON',\n",
    "#  'taxpayer_state': 'TX',\n",
    "#  'taxpayer_zip': 77024,\n",
    "#  'taxpayer_county': 101,\n",
    "# ...\n",
    "# 'cover_charge_receipts': 0,\n",
    "#  'total_receipts': 0,\n",
    "#  'responsibility_end_date_yyyymmdd': None}"
   ]
  },
  {
   "cell_type": "markdown",
   "metadata": {
    "id": "6uSF5z8j2GOh"
   },
   "source": [
    "Ok, so there's our dictionary."
   ]
  },
  {
   "cell_type": "markdown",
   "metadata": {
    "id": "tqSlVBz22GOi"
   },
   "source": [
    "Now let's see what information is available in our dictionary.  Return all of the keys available, and assign them to the variable `receipt_attributes`."
   ]
  },
  {
   "cell_type": "code",
   "execution_count": 6,
   "metadata": {
    "id": "Yo16YXVu2GOi",
    "outputId": "eebffba4-adcf-4814-880d-4727c3b497ee"
   },
   "outputs": [
    {
     "data": {
      "text/plain": [
       "dict_keys(['taxpayer_number', 'taxpayer_name', 'taxpayer_address', 'taxpayer_city', 'taxpayer_state', 'taxpayer_zip', 'taxpayer_county', 'location_number', 'location_name', 'location_address', 'location_city', 'location_state', 'location_zip', 'location_county', 'inside_outside_city_limits_code_y_n', 'tabc_permit_number', 'responsibility_begin_date_yyyymmdd', 'obligation_end_date_yyyymmdd', 'liquor_receipts', 'wine_receipts', 'beer_receipts', 'cover_charge_receipts', 'total_receipts', 'responsibility_end_date_yyyymmdd'])"
      ]
     },
     "execution_count": 6,
     "metadata": {},
     "output_type": "execute_result"
    }
   ],
   "source": [
    "receipt_attributes = receipt.keys()\n",
    "receipt_attributes\n",
    "\n",
    "# dict_keys(['taxpayer_number', 'taxpayer_name', 'taxpayer_address', 'taxpayer_city', 'taxpayer_state', 'taxpayer_zip', 'taxpayer_county', 'location_number', 'location_name', 'location_address', 'location_city', 'location_state', 'location_zip', 'location_county', 'inside_outside_city_limits_code_y_n', 'tabc_permit_number', 'responsibility_begin_date_yyyymmdd', 'obligation_end_date_yyyymmdd', 'liquor_receipts', \n",
    "#            'wine_receipts', 'beer_receipts', 'cover_charge_receipts', 'total_receipts'])"
   ]
  },
  {
   "cell_type": "markdown",
   "metadata": {
    "id": "rbWJvT6g2GOj"
   },
   "source": [
    "Now, that's a lot of attributes.  Let's see how many."
   ]
  },
  {
   "cell_type": "code",
   "execution_count": 7,
   "metadata": {
    "id": "QhCvTyku2GOj",
    "outputId": "4cbea9d9-23c0-4f59-9229-820cab0e93b4"
   },
   "outputs": [
    {
     "data": {
      "text/plain": [
       "24"
      ]
     },
     "execution_count": 7,
     "metadata": {},
     "output_type": "execute_result"
    }
   ],
   "source": [
    "num_attributes = len(receipt_attributes)\n",
    "\n",
    "num_attributes\n",
    "# 23"
   ]
  },
  {
   "cell_type": "markdown",
   "metadata": {
    "id": "DiwxrV2t2GOj"
   },
   "source": [
    "And to better organize the data we have, let's sort those attribute alphabetically."
   ]
  },
  {
   "cell_type": "code",
   "execution_count": 8,
   "metadata": {
    "id": "wn4kYqHM2GOj"
   },
   "outputs": [
    {
     "data": {
      "text/plain": [
       "['beer_receipts',\n",
       " 'cover_charge_receipts',\n",
       " 'inside_outside_city_limits_code_y_n',\n",
       " 'liquor_receipts',\n",
       " 'location_address',\n",
       " 'location_city',\n",
       " 'location_county',\n",
       " 'location_name',\n",
       " 'location_number',\n",
       " 'location_state']"
      ]
     },
     "execution_count": 8,
     "metadata": {},
     "output_type": "execute_result"
    }
   ],
   "source": [
    "sorted_attrs = sorted(receipt_attributes)\n",
    "\n",
    "sorted_attrs[:10]\n",
    "\n",
    "# ['beer_receipts', 'cover_charge_receipts', 'inside_outside_city_limits_code_y_n',\n",
    "#  'liquor_receipts', 'location_address', 'location_city', 'location_county',\n",
    "#  'location_name', 'location_number', 'location_state']"
   ]
  },
  {
   "cell_type": "markdown",
   "metadata": {
    "id": "gJq5GLql2GOk"
   },
   "source": [
    "Ok, now we can focus in on a few of our attributes.  We can perhaps reduce down the number of attributes by selecting just the values that change over time.  For example, are there multiple locations of Max's wine bar?  \n",
    "\n",
    "First create a list that has the `location_address` in each dictionary."
   ]
  },
  {
   "cell_type": "markdown",
   "metadata": {
    "id": "aSjbscJ12GOk"
   },
   "source": [
    "> Assign the result to the variable `location_addresses`."
   ]
  },
  {
   "cell_type": "code",
   "execution_count": 9,
   "metadata": {
    "id": "qbLOb60A2GOk"
   },
   "outputs": [],
   "source": [
    "location_addresses = [r['location_address'] for r in restaurant_receipts]"
   ]
  },
  {
   "cell_type": "code",
   "execution_count": 10,
   "metadata": {
    "id": "5b4SBFgQ2GOl",
    "outputId": "aebf6d23-f2c2-446a-8a40-f9184d61ca10"
   },
   "outputs": [
    {
     "data": {
      "text/plain": [
       "['207 SAN JACINTO BLVD STE 200',\n",
       " '207 SAN JACINTO BLVD STE 200',\n",
       " '207 SAN JACINTO BLVD STE 200']"
      ]
     },
     "execution_count": 10,
     "metadata": {},
     "output_type": "execute_result"
    }
   ],
   "source": [
    "location_addresses[:3]\n",
    "\n",
    "# ['207 SAN JACINTO BLVD STE 200',\n",
    "#  '207 SAN JACINTO BLVD STE 200',\n",
    "#  '207 SAN JACINTO BLVD STE 200']"
   ]
  },
  {
   "cell_type": "markdown",
   "metadata": {
    "id": "ScB84CkF2GOl"
   },
   "source": [
    "Then turn this into a unique list of locations."
   ]
  },
  {
   "cell_type": "code",
   "execution_count": 11,
   "metadata": {
    "id": "f-fZw5rf2GOm",
    "outputId": "6c8ebc52-1a73-412c-d3b0-0e1a89acc390"
   },
   "outputs": [
    {
     "data": {
      "text/plain": [
       "['3600 MCKINNEY AVE STE 100', '207 SAN JACINTO BLVD STE 200']"
      ]
     },
     "execution_count": 11,
     "metadata": {},
     "output_type": "execute_result"
    }
   ],
   "source": [
    "unique_locations = list(set(location_addresses))\n",
    "\n",
    "unique_locations\n",
    "\n",
    "# ['3600 MCKINNEY AVE STE 100', '207 SAN JACINTO BLVD STE 200']"
   ]
  },
  {
   "cell_type": "markdown",
   "metadata": {
    "id": "4a1w0Cxg2GOm"
   },
   "source": [
    "Ok, so it looks like we have two different locations of Max's Wine Bar.  \n",
    "\n",
    "Now let's begin to reduce the amount information in our dictionary.  Let's select just the key value pairs of `total_receipts`, `obligation_end_date_yyyymmdd`, and `location_address`.\n",
    "\n",
    "Assign the result to the variable `abridged_receipts`."
   ]
  },
  {
   "cell_type": "code",
   "execution_count": 12,
   "metadata": {
    "id": "h4_HKzMV2GOm"
   },
   "outputs": [],
   "source": [
    "abridged_receipts = []\n",
    "for receipt in restaurant_receipts:\n",
    "    abridged_receipts.append({\n",
    "        'total_receipts': receipt['total_receipts'],\n",
    "        'obligation_end_date_yyyymmdd': receipt['obligation_end_date_yyyymmdd'],\n",
    "        'location_address': receipt['location_address'],\n",
    "    })"
   ]
  },
  {
   "cell_type": "code",
   "execution_count": 13,
   "metadata": {
    "id": "nnMxCBNu2GOm",
    "outputId": "0d5206e0-81b5-471a-aa89-fa1de5bd580a"
   },
   "outputs": [
    {
     "data": {
      "text/plain": [
       "[{'total_receipts': 0,\n",
       "  'obligation_end_date_yyyymmdd': '2020-08-31T00:00:00.000',\n",
       "  'location_address': '207 SAN JACINTO BLVD STE 200'},\n",
       " {'total_receipts': 2908,\n",
       "  'obligation_end_date_yyyymmdd': '2020-07-31T00:00:00.000',\n",
       "  'location_address': '207 SAN JACINTO BLVD STE 200'},\n",
       " {'total_receipts': 9322,\n",
       "  'obligation_end_date_yyyymmdd': '2020-06-30T00:00:00.000',\n",
       "  'location_address': '207 SAN JACINTO BLVD STE 200'}]"
      ]
     },
     "execution_count": 13,
     "metadata": {},
     "output_type": "execute_result"
    }
   ],
   "source": [
    "abridged_receipts[:3]\n",
    "\n",
    "# [{'total_receipts': '0',\n",
    "#   'obligation_end_date_yyyymmdd': '2020-08-31T00:00:00.000',\n",
    "#   'location_address': '207 SAN JACINTO BLVD STE 200'},\n",
    "#  {'total_receipts': '2908',\n",
    "#   'obligation_end_date_yyyymmdd': '2020-07-31T00:00:00.000',\n",
    "#   'location_address': '207 SAN JACINTO BLVD STE 200'},\n",
    "#  {'total_receipts': '9322',\n",
    "#   'obligation_end_date_yyyymmdd': '2020-06-30T00:00:00.000',\n",
    "#   'location_address': '207 SAN JACINTO BLVD STE 200'}]\n"
   ]
  },
  {
   "cell_type": "markdown",
   "metadata": {
    "id": "ilzjBZYS2GOm"
   },
   "source": [
    "Ok, now let's clean up some of our resulting data.  To begin with, instead of `obligation-end_date_yyyymmdd`, let's create separate keys of year and month, and store the respective values.  In addition let's coerce each `total_receipts`, `year` and `month` value to an integer.  Finally, let's only store the first fifteen characters of the location address.\n",
    "\n",
    "Store the new result in the variable `clean_receipts`."
   ]
  },
  {
   "cell_type": "markdown",
   "metadata": {
    "id": "uNm3l9LV2GOn"
   },
   "source": [
    "> We can start from our existing `abridged_receipts` data and keep going from there. "
   ]
  },
  {
   "cell_type": "code",
   "execution_count": 14,
   "metadata": {
    "id": "kyqiQI5A2GOn"
   },
   "outputs": [],
   "source": [
    "clean_receipts = []\n",
    "for receipt in abridged_receipts:\n",
    "    year, month, *_ = receipt['obligation_end_date_yyyymmdd'].split('-')\n",
    "\n",
    "    clean_receipts.append({\n",
    "        'total': int(receipt['total_receipts']),\n",
    "        'year': int(year),\n",
    "        'month': int(month),\n",
    "        'location_address': receipt['location_address'][:15],\n",
    "    })"
   ]
  },
  {
   "cell_type": "code",
   "execution_count": 15,
   "metadata": {
    "id": "kjBd_xJ22GOn"
   },
   "outputs": [
    {
     "data": {
      "text/plain": [
       "[{'total': 0, 'year': 2020, 'month': 8, 'location_address': '207 SAN JACINTO'},\n",
       " {'total': 2908,\n",
       "  'year': 2020,\n",
       "  'month': 7,\n",
       "  'location_address': '207 SAN JACINTO'},\n",
       " {'total': 9322,\n",
       "  'year': 2020,\n",
       "  'month': 6,\n",
       "  'location_address': '207 SAN JACINTO'},\n",
       " {'total': 3421,\n",
       "  'year': 2020,\n",
       "  'month': 5,\n",
       "  'location_address': '207 SAN JACINTO'},\n",
       " {'total': 90,\n",
       "  'year': 2020,\n",
       "  'month': 4,\n",
       "  'location_address': '207 SAN JACINTO'}]"
      ]
     },
     "execution_count": 15,
     "metadata": {},
     "output_type": "execute_result"
    }
   ],
   "source": [
    "clean_receipts[:5]\n",
    "\n",
    "# [{'year': 2020, 'month': 8, 'total': 0, 'location_address': '207 SAN JACINTO'},\n",
    "#  {'year': 2020,\n",
    "#   'month': 7,\n",
    "#   'total': 2908,\n",
    "#   'location_address': '207 SAN JACINTO'},\n",
    "#  {'year': 2020,\n",
    "#   'month': 6,\n",
    "#   'total': 9322,\n",
    "#   'location_address': '207 SAN JACINTO'},\n",
    "#  {'year': 2020,\n",
    "#   'month': 5,\n",
    "#   'total': 3421,\n",
    "#   'location_address': '207 SAN JACINTO'},\n",
    "#  {'year': 2020,\n",
    "#   'month': 4,\n",
    "#   'total': 90,\n",
    "#   'location_address': '207 SAN JACINTO'}]"
   ]
  },
  {
   "cell_type": "markdown",
   "metadata": {
    "id": "8vcjkn4v2GOo"
   },
   "source": [
    "### Bonus"
   ]
  },
  {
   "cell_type": "markdown",
   "metadata": {
    "id": "8Yn3oPdH2GOo"
   },
   "source": [
    "Notice that we can use the `sorted` method to sort our data by a specific attribute.  See if you can figure out how this works."
   ]
  },
  {
   "cell_type": "code",
   "execution_count": 16,
   "metadata": {
    "id": "G5gEji432GOo",
    "outputId": "e91b3ec5-ad1c-48a5-b568-9e543176a12c"
   },
   "outputs": [
    {
     "data": {
      "text/plain": [
       "[{'total': 0, 'year': 2020, 'month': 8, 'location_address': '207 SAN JACINTO'},\n",
       " {'total': 0, 'year': 2015, 'month': 8, 'location_address': '3600 MCKINNEY A'},\n",
       " {'total': 90,\n",
       "  'year': 2020,\n",
       "  'month': 4,\n",
       "  'location_address': '207 SAN JACINTO'},\n",
       " {'total': 2908,\n",
       "  'year': 2020,\n",
       "  'month': 7,\n",
       "  'location_address': '207 SAN JACINTO'},\n",
       " {'total': 3421,\n",
       "  'year': 2020,\n",
       "  'month': 5,\n",
       "  'location_address': '207 SAN JACINTO'}]"
      ]
     },
     "execution_count": 16,
     "metadata": {},
     "output_type": "execute_result"
    }
   ],
   "source": [
    "sorted(clean_receipts, key=lambda receipt: receipt['total'])[:5]"
   ]
  },
  {
   "cell_type": "markdown",
   "metadata": {
    "id": "isn5bgZx2GOo"
   },
   "source": [
    "> See if you can sort the data by year."
   ]
  },
  {
   "cell_type": "code",
   "execution_count": 17,
   "metadata": {
    "id": "5RLiJsrf2GOp"
   },
   "outputs": [
    {
     "data": {
      "text/plain": [
       "[{'total': 66609,\n",
       "  'year': 2015,\n",
       "  'month': 9,\n",
       "  'location_address': '3600 MCKINNEY A'},\n",
       " {'total': 0, 'year': 2015, 'month': 8, 'location_address': '3600 MCKINNEY A'},\n",
       " {'total': 69664,\n",
       "  'year': 2015,\n",
       "  'month': 11,\n",
       "  'location_address': '3600 MCKINNEY A'},\n",
       " {'total': 72238,\n",
       "  'year': 2015,\n",
       "  'month': 12,\n",
       "  'location_address': '3600 MCKINNEY A'},\n",
       " {'total': 67048,\n",
       "  'year': 2015,\n",
       "  'month': 10,\n",
       "  'location_address': '3600 MCKINNEY A'}]"
      ]
     },
     "execution_count": 17,
     "metadata": {},
     "output_type": "execute_result"
    }
   ],
   "source": [
    "receipts_sorted_year = sorted(clean_receipts, key=lambda receipt: receipt['year'])\n",
    "\n",
    "receipts_sorted_year[:5]\n",
    "\n",
    "# [{'year': 2015,\n",
    "#   'month': 9,\n",
    "#   'total': 66609,\n",
    "#   'location_address': '3600 MCKINNEY A'},\n",
    "#  {'year': 2015, 'month': 8, 'total': 0, 'location_address': '3600 MCKINNEY A'},\n",
    "#  {'year': 2015,\n",
    "#   'month': 11,\n",
    "#   'total': 69664,\n",
    "#   'location_address': '3600 MCKINNEY A'},\n",
    "#  {'year': 2015,\n",
    "#   'month': 12,\n",
    "#   'total': 72238,\n",
    "#   'location_address': '3600 MCKINNEY A'},\n",
    "#  {'year': 2015,\n",
    "#   'month': 10,\n",
    "#   'total': 67048,\n",
    "#   'location_address': '3600 MCKINNEY A'}]"
   ]
  },
  {
   "cell_type": "markdown",
   "metadata": {
    "id": "HtDPfCV22GOp"
   },
   "source": [
    "### Summary"
   ]
  },
  {
   "cell_type": "markdown",
   "metadata": {
    "id": "k3Y7eKAT2GOp"
   },
   "source": [
    "In this lesson we started with a messy dataset and made our data more managable by:\n",
    "\n",
    "1. Limiting the number of attributes in each dictionary\n",
    "2. Coercing our data to more appropriate datatype (integers for dates and revenue, shorter strings).\n",
    "\n",
    "Once we did so, sorting and exploring our data became easier.\n",
    "\n",
    "We also used our knowledge of datatypes explore our data by finding the number of locations we would be handling receipts of."
   ]
  },
  {
   "cell_type": "markdown",
   "metadata": {
    "id": "2uA1dFRs2GOp"
   },
   "source": [
    "### Resources"
   ]
  },
  {
   "cell_type": "markdown",
   "metadata": {
    "id": "G0rry6P42GOp"
   },
   "source": [
    "[Mixed Beverage API](https://data.texas.gov/Government-and-Taxes/Mixed-Beverage-Gross-Receipts/naix-2893)"
   ]
  }
 ],
 "metadata": {
  "colab": {
   "name": "6-full-dictionaries-with-apis-lab.ipynb",
   "provenance": []
  },
  "kernelspec": {
   "display_name": "Python 3 (ipykernel)",
   "language": "python",
   "name": "python3"
  },
  "language_info": {
   "codemirror_mode": {
    "name": "ipython",
    "version": 3
   },
   "file_extension": ".py",
   "mimetype": "text/x-python",
   "name": "python",
   "nbconvert_exporter": "python",
   "pygments_lexer": "ipython3",
   "version": "3.10.2"
  }
 },
 "nbformat": 4,
 "nbformat_minor": 4
}

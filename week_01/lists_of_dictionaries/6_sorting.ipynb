{
 "cells": [
  {
   "cell_type": "markdown",
   "metadata": {
    "id": "j82FmF2U13JE"
   },
   "source": [
    "# Sorting"
   ]
  },
  {
   "cell_type": "markdown",
   "metadata": {
    "id": "JK0RtDXr13JI"
   },
   "source": [
    "### Introduction"
   ]
  },
  {
   "cell_type": "markdown",
   "metadata": {
    "id": "oR3Uha_L13JJ"
   },
   "source": [
    "In the last lesson, we saw how we can select elements based on their criteria.  One other feature of Python is that we can sort elements by certain criteria.  \n",
    "\n",
    "Let's take a look."
   ]
  },
  {
   "cell_type": "markdown",
   "metadata": {
    "id": "1fFRLsWW13JK"
   },
   "source": [
    "### Working with Sorting"
   ]
  },
  {
   "cell_type": "markdown",
   "metadata": {
    "id": "Keb5fvO313JK"
   },
   "source": [
    "There are two ways to sort a list in Python."
   ]
  },
  {
   "cell_type": "markdown",
   "metadata": {
    "id": "2SCwXCFw13JK"
   },
   "source": [
    "1. Using the `sorted` method."
   ]
  },
  {
   "cell_type": "code",
   "execution_count": 1,
   "metadata": {
    "id": "2v_guBtq13JL"
   },
   "outputs": [],
   "source": [
    "rand_nums = [-6, 8, -8, -2, -7, -3, 2, 4, 3, 0]"
   ]
  },
  {
   "cell_type": "code",
   "execution_count": 2,
   "metadata": {
    "id": "X80DspoW13JM",
    "outputId": "f0594193-cb34-4ea1-ee94-574dbc2f9d74"
   },
   "outputs": [
    {
     "data": {
      "text/plain": [
       "[-8, -7, -6, -3, -2, 0, 2, 3, 4, 8]"
      ]
     },
     "execution_count": 2,
     "metadata": {},
     "output_type": "execute_result"
    }
   ],
   "source": [
    "sorted(rand_nums)"
   ]
  },
  {
   "cell_type": "markdown",
   "metadata": {
    "id": "1iKTdAbg13JN"
   },
   "source": [
    "> Using the sorted method returns a new list of sorted elements."
   ]
  },
  {
   "cell_type": "markdown",
   "metadata": {
    "id": "oAtTmp5G13JN"
   },
   "source": [
    "2. Using the `sort` method."
   ]
  },
  {
   "cell_type": "code",
   "execution_count": 3,
   "metadata": {
    "id": "4dZpy3uy13JO"
   },
   "outputs": [],
   "source": [
    "rand_nums.sort()"
   ]
  },
  {
   "cell_type": "code",
   "execution_count": 4,
   "metadata": {
    "id": "82VLcptZ13JO",
    "outputId": "b90d0256-1e19-422a-b5c1-ff51a8cd91e0"
   },
   "outputs": [
    {
     "data": {
      "text/plain": [
       "[-8, -7, -6, -3, -2, 0, 2, 3, 4, 8]"
      ]
     },
     "execution_count": 4,
     "metadata": {},
     "output_type": "execute_result"
    }
   ],
   "source": [
    "rand_nums"
   ]
  },
  {
   "cell_type": "markdown",
   "metadata": {
    "id": "e5dVIBPX13JP"
   },
   "source": [
    "> The `sort` method alters the original list."
   ]
  },
  {
   "cell_type": "markdown",
   "metadata": {
    "id": "z9oH6VMJ13JP"
   },
   "source": [
    "We can choose to sort in a descending order (from highest to lowest) like so."
   ]
  },
  {
   "cell_type": "code",
   "execution_count": 5,
   "metadata": {
    "id": "cDfhhEhh13JP",
    "outputId": "3f4989da-ac62-4c68-9f51-5a36ac20c8ae"
   },
   "outputs": [
    {
     "data": {
      "text/plain": [
       "[8, 4, 3, 2, 0, -2, -3, -6, -7, -8]"
      ]
     },
     "execution_count": 5,
     "metadata": {},
     "output_type": "execute_result"
    }
   ],
   "source": [
    "sorted(rand_nums, reverse = True)"
   ]
  },
  {
   "cell_type": "markdown",
   "metadata": {
    "id": "90O0HSsf13JQ"
   },
   "source": [
    "### Sorting Nested Data"
   ]
  },
  {
   "cell_type": "markdown",
   "metadata": {
    "id": "E3iQgWJ613JQ"
   },
   "source": [
    "The `sorted` method also allows us to sort a nested list of data."
   ]
  },
  {
   "cell_type": "code",
   "execution_count": 6,
   "metadata": {
    "id": "wqPxaP9k13JQ"
   },
   "outputs": [],
   "source": [
    "cities = [\n",
    "{'name': 'Chicago', 'population': 2700000},\n",
    "{'name': 'Nyc', 'population':8000000},\n",
    "{'name': 'Los Angeles', 'population': 4000000}\n",
    "]"
   ]
  },
  {
   "cell_type": "markdown",
   "metadata": {
    "id": "5pAf_vl413JR"
   },
   "source": [
    "For example, here is how we can sort a list of cities by their population."
   ]
  },
  {
   "cell_type": "code",
   "execution_count": 7,
   "metadata": {
    "id": "OcJ226XM13JR",
    "outputId": "81b72dda-7ea2-4379-e256-591675671b71"
   },
   "outputs": [
    {
     "data": {
      "text/plain": [
       "[{'name': 'Chicago', 'population': 2700000},\n",
       " {'name': 'Los Angeles', 'population': 4000000},\n",
       " {'name': 'Nyc', 'population': 8000000}]"
      ]
     },
     "execution_count": 7,
     "metadata": {},
     "output_type": "execute_result"
    }
   ],
   "source": [
    "sorted(cities, key = lambda city: city['population'])"
   ]
  },
  {
   "cell_type": "markdown",
   "metadata": {
    "id": "z5tMtLbB13JR"
   },
   "source": [
    "Let's break down the above.  We provide the `key = ` argument a `lambda` statement.  This works kind of like selecting elements from a dictionary in a loop.  `city` is our block variable that takes turns being each element in the list.  And we sort by the return value of the `lambda` statement - here, each city's population."
   ]
  },
  {
   "cell_type": "markdown",
   "metadata": {
    "id": "OOOjeEwz13JS"
   },
   "source": [
    "Now it's your turn. Try placing the list of cities in alphabetical order using the `sorted` method."
   ]
  },
  {
   "cell_type": "code",
   "execution_count": 8,
   "metadata": {
    "id": "DUzXLqLl13JS",
    "outputId": "a1d4c500-b968-4f14-da35-50b0b76aeb46"
   },
   "outputs": [
    {
     "data": {
      "text/plain": [
       "[{'name': 'Chicago', 'population': 2700000},\n",
       " {'name': 'Los Angeles', 'population': 4000000},\n",
       " {'name': 'Nyc', 'population': 8000000}]"
      ]
     },
     "execution_count": 8,
     "metadata": {},
     "output_type": "execute_result"
    }
   ],
   "source": [
    "alpha_sorted = sorted(cities, key = lambda city: city['name'])\n",
    "alpha_sorted \n",
    "# [{'name': 'Chicago', 'population': 2700000},\n",
    "#  {'name': 'Los Angeles', 'population': 4000000},\n",
    "#  {'name': 'Nyc', 'population': 8000000}]"
   ]
  },
  {
   "cell_type": "markdown",
   "metadata": {
    "id": "j_jUd4df13JS"
   },
   "source": [
    "Note that Python also has `min` and `max` functions that work similarly."
   ]
  },
  {
   "cell_type": "code",
   "execution_count": 9,
   "metadata": {
    "id": "d8RcN6Ir13JS",
    "outputId": "f74f82ab-59a8-4267-902e-557c85455c0b"
   },
   "outputs": [
    {
     "data": {
      "text/plain": [
       "{'name': 'Chicago', 'population': 2700000}"
      ]
     },
     "execution_count": 9,
     "metadata": {},
     "output_type": "execute_result"
    }
   ],
   "source": [
    "min(cities, key = lambda city: city['population'])"
   ]
  },
  {
   "cell_type": "markdown",
   "metadata": {
    "id": "6tQ3YMse13JT"
   },
   "source": [
    "> Above we used the `max` method to find the city with the largest population."
   ]
  },
  {
   "cell_type": "markdown",
   "metadata": {
    "id": "TdKhU1uo13JT"
   },
   "source": [
    "Your turn.  Use the `max` method to find the city that comes last alphabetically."
   ]
  },
  {
   "cell_type": "code",
   "execution_count": 10,
   "metadata": {
    "id": "Qh7Pxgtk13JT"
   },
   "outputs": [
    {
     "data": {
      "text/plain": [
       "{'name': 'Nyc', 'population': 8000000}"
      ]
     },
     "execution_count": 10,
     "metadata": {},
     "output_type": "execute_result"
    }
   ],
   "source": [
    "last_city = max(cities, key=lambda city: city['name'])\n",
    "# {'name': 'Nyc', 'population': 8000000}\n",
    "last_city"
   ]
  },
  {
   "cell_type": "markdown",
   "metadata": {
    "id": "J4e48rY313JT"
   },
   "source": [
    "### Summary"
   ]
  },
  {
   "cell_type": "markdown",
   "metadata": {
    "id": "LsEBDLtR13JT"
   },
   "source": [
    "In this lesson we saw how to `sort` elements of our list in Python.  We can do so either using the `sort` method -- which alters the original list -- or the `sorted` method, which returns a new list.\n",
    "\n",
    "We saw that we can sort by different criteria with the element `key = lambda x:` pattern. "
   ]
  }
 ],
 "metadata": {
  "colab": {
   "name": "6-sorting.ipynb",
   "provenance": []
  },
  "kernelspec": {
   "display_name": "Python 3 (ipykernel)",
   "language": "python",
   "name": "python3"
  },
  "language_info": {
   "codemirror_mode": {
    "name": "ipython",
    "version": 3
   },
   "file_extension": ".py",
   "mimetype": "text/x-python",
   "name": "python",
   "nbconvert_exporter": "python",
   "pygments_lexer": "ipython3",
   "version": "3.10.2"
  }
 },
 "nbformat": 4,
 "nbformat_minor": 4
}

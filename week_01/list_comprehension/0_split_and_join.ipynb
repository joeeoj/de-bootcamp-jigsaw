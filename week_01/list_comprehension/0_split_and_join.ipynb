{
 "cells": [
  {
   "cell_type": "markdown",
   "metadata": {
    "id": "yWX9hujv6rKI"
   },
   "source": [
    "# Cleaning Strings with Split and Join"
   ]
  },
  {
   "cell_type": "markdown",
   "metadata": {
    "id": "Ny6amyk36rKM"
   },
   "source": [
    "### Introduction"
   ]
  },
  {
   "cell_type": "markdown",
   "metadata": {
    "id": "KV35P38G6rKN"
   },
   "source": [
    "As we program more and more, we'll tend to fall in love with lists.  Lists are really good because they allow us to both select elements and also loop through elements of a list.\n",
    "\n",
    "In this lesson we'll see how we can turn a string into a list with the `split` method.  And then we'll move onto the join method."
   ]
  },
  {
   "cell_type": "markdown",
   "metadata": {
    "id": "qPHDI9ik6rKQ"
   },
   "source": [
    "### Introducing Split"
   ]
  },
  {
   "cell_type": "markdown",
   "metadata": {
    "id": "IRq6_5DG6rKR"
   },
   "source": [
    "Let's say that we get some text that is consists of a person's first and last name. And we want to write a method that selects the person's last name. "
   ]
  },
  {
   "cell_type": "code",
   "execution_count": 1,
   "metadata": {
    "id": "Ka1TfbMt6rKR"
   },
   "outputs": [],
   "source": [
    "name = 'bob smith'"
   ]
  },
  {
   "cell_type": "markdown",
   "metadata": {
    "id": "OWK1-q2i6rKT"
   },
   "source": [
    "We think of the task as separating the string into two words, and then selecting the last word.  A good way to perform this is with the split method.  "
   ]
  },
  {
   "cell_type": "code",
   "execution_count": null,
   "metadata": {
    "id": "aypIE9lk6rKU"
   },
   "outputs": [],
   "source": []
  },
  {
   "cell_type": "code",
   "execution_count": 2,
   "metadata": {
    "id": "zzc-KC6X6rKU",
    "outputId": "78ab04a0-36a1-4cda-86a3-c1645f3d4821"
   },
   "outputs": [
    {
     "data": {
      "text/plain": [
       "['bob', 'smith']"
      ]
     },
     "execution_count": 2,
     "metadata": {},
     "output_type": "execute_result"
    }
   ],
   "source": [
    "name.split(' ')"
   ]
  },
  {
   "cell_type": "markdown",
   "metadata": {
    "id": "VjU2R6Ez6rKW"
   },
   "source": [
    "We can call the split method on a string.  And as it's argument, we indicate what character to separate our string by.  Here, every time we see a space, we want to separate our string into a different element."
   ]
  },
  {
   "cell_type": "markdown",
   "metadata": {
    "id": "89f3upAO6rKW"
   },
   "source": [
    "Then we can select the last element."
   ]
  },
  {
   "cell_type": "code",
   "execution_count": 3,
   "metadata": {
    "id": "P5Fyki8P6rKX",
    "outputId": "3b8e7764-78c2-43ae-9758-88ae9fa9fe54"
   },
   "outputs": [
    {
     "data": {
      "text/plain": [
       "'smith'"
      ]
     },
     "execution_count": 3,
     "metadata": {},
     "output_type": "execute_result"
    }
   ],
   "source": [
    "name.split(' ')[-1]"
   ]
  },
  {
   "cell_type": "markdown",
   "metadata": {
    "id": "abB8kt9N6rKX"
   },
   "source": [
    "### Change then recombine."
   ]
  },
  {
   "cell_type": "markdown",
   "metadata": {
    "id": "W1PZqM406rKY"
   },
   "source": [
    "Now we just saw how we can split with a string, let's see how we can use split to format our text. For example, let's say that we want to capitalize each word in our string.  One way to do this is with split."
   ]
  },
  {
   "cell_type": "code",
   "execution_count": 4,
   "metadata": {
    "id": "a7pWJHoi6rKY",
    "outputId": "1591a22f-f07e-49c0-8303-5ab7bc02158e"
   },
   "outputs": [
    {
     "data": {
      "text/plain": [
       "['Bob', 'Smith']"
      ]
     },
     "execution_count": 4,
     "metadata": {},
     "output_type": "execute_result"
    }
   ],
   "source": [
    "names = name.split(' ')\n",
    "cap_words = [word.capitalize() for word in names]\n",
    "cap_words"
   ]
  },
  {
   "cell_type": "markdown",
   "metadata": {
    "id": "5DCpXpY_6rKZ"
   },
   "source": [
    "So this is a common task in programming - the need to format components of a string in the same way.  So to do so, we can break parts of our string into elements of a list, and then format each of the elements."
   ]
  },
  {
   "cell_type": "markdown",
   "metadata": {
    "id": "5fy0XM1A6rKZ"
   },
   "source": [
    "Finally, we may want to recombine our list of elements.  We can do this with join."
   ]
  },
  {
   "cell_type": "code",
   "execution_count": 5,
   "metadata": {
    "id": "T8L_4iTX6rKZ",
    "outputId": "72a22978-f1fe-4ca1-de60-b5bbaceca195"
   },
   "outputs": [
    {
     "data": {
      "text/plain": [
       "'Bob Smith'"
      ]
     },
     "execution_count": 5,
     "metadata": {},
     "output_type": "execute_result"
    }
   ],
   "source": [
    "' '.join(cap_words)"
   ]
  },
  {
   "cell_type": "markdown",
   "metadata": {
    "id": "PcqkStBD6rKa"
   },
   "source": [
    "So in the join method, we can recombine our the elements of our list.  And we `join` our elements by the string we call join on.  For example, let's join our two elements with a comma."
   ]
  },
  {
   "cell_type": "code",
   "execution_count": 6,
   "metadata": {
    "id": "zF3hhbdJ6rKa",
    "outputId": "4ed34b44-2a5b-49ae-86e5-c98ca3f7beb8"
   },
   "outputs": [
    {
     "data": {
      "text/plain": [
       "'Bob, Smith'"
      ]
     },
     "execution_count": 6,
     "metadata": {},
     "output_type": "execute_result"
    }
   ],
   "source": [
    "', '.join(cap_words)"
   ]
  },
  {
   "cell_type": "markdown",
   "metadata": {
    "id": "soyGMc-i6rKa"
   },
   "source": [
    "### Do it again"
   ]
  },
  {
   "cell_type": "markdown",
   "metadata": {
    "id": "YSh-SMYg6rKb"
   },
   "source": [
    "Let's recap what we just saw.  We saw that we can more easily work with strings by first changing them into lists, performing an operation, and then joining components of the list back together."
   ]
  },
  {
   "cell_type": "code",
   "execution_count": 7,
   "metadata": {
    "id": "cmnozszB6rKb",
    "outputId": "efb7cc6b-8179-458a-ac84-7f3aecabe9b8"
   },
   "outputs": [
    {
     "data": {
      "text/plain": [
       "['Bob', 'Smith']"
      ]
     },
     "execution_count": 7,
     "metadata": {},
     "output_type": "execute_result"
    }
   ],
   "source": [
    "name = 'bob smith'\n",
    "\n",
    "names = [word.capitalize() for word in name.split()]\n",
    "names"
   ]
  },
  {
   "cell_type": "code",
   "execution_count": 8,
   "metadata": {
    "id": "kiiolacn6rKb",
    "outputId": "e9f6e0d4-2836-4d44-bbf0-6173aa97b4af"
   },
   "outputs": [
    {
     "data": {
      "text/plain": [
       "'Bob Smith'"
      ]
     },
     "execution_count": 8,
     "metadata": {},
     "output_type": "execute_result"
    }
   ],
   "source": [
    "' '.join(names)"
   ]
  },
  {
   "cell_type": "markdown",
   "metadata": {
    "id": "L64M2qyU6rKc",
    "tags": []
   },
   "source": [
    "### Summary"
   ]
  },
  {
   "cell_type": "markdown",
   "metadata": {
    "id": "1jMFhsKp6rKc"
   },
   "source": [
    "In this lesson we saw how we can clean strings by using the `split` method followed by the `join` method.\n",
    "\n",
    "We can use the split method to separate our string into elements of a list.  Then we can loop throug our list and coerce each element.  Finally, we can recombine our elements into a string using the `join` method.\n",
    "\n"
   ]
  }
 ],
 "metadata": {
  "colab": {
   "name": "0-split-and-join.ipynb",
   "provenance": []
  },
  "kernelspec": {
   "display_name": "Python 3 (ipykernel)",
   "language": "python",
   "name": "python3"
  },
  "language_info": {
   "codemirror_mode": {
    "name": "ipython",
    "version": 3
   },
   "file_extension": ".py",
   "mimetype": "text/x-python",
   "name": "python",
   "nbconvert_exporter": "python",
   "pygments_lexer": "ipython3",
   "version": "3.10.2"
  }
 },
 "nbformat": 4,
 "nbformat_minor": 4
}

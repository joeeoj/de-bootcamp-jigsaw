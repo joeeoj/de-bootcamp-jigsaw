{
 "cells": [
  {
   "cell_type": "markdown",
   "metadata": {
    "id": "805WSRDG6rmD"
   },
   "source": [
    "# Split and Join Lab"
   ]
  },
  {
   "cell_type": "markdown",
   "metadata": {
    "id": "cuIZY7N06rmI"
   },
   "source": [
    "### Introduction"
   ]
  },
  {
   "cell_type": "markdown",
   "metadata": {
    "id": "Y4XSFwsb6rmI"
   },
   "source": [
    "In this lesson, we'll practice working with `split` and `join`.  We'll do so to practice working with some location information from [Texas Drink Receipts API](https://data.texas.gov/Government-and-Taxes/Mixed-Beverage-Gross-Receipts/naix-2893)."
   ]
  },
  {
   "cell_type": "markdown",
   "metadata": {
    "id": "Jcz_rgCb6rmJ"
   },
   "source": [
    "### Loading our data"
   ]
  },
  {
   "cell_type": "markdown",
   "metadata": {
    "id": "apivf0mf6rmJ"
   },
   "source": [
    "To begin with, let's get a bunch of store locations for Max's Wine Bar."
   ]
  },
  {
   "cell_type": "code",
   "execution_count": 1,
   "metadata": {
    "id": "sCPoSBep6rmK"
   },
   "outputs": [],
   "source": [
    "import pandas as pd\n",
    "df = pd.read_json(\"https://raw.githubusercontent.com/eng-6-22/mod-1-a-data-structures/master/5-coercing-strings/locations.json\")"
   ]
  },
  {
   "cell_type": "code",
   "execution_count": 2,
   "metadata": {
    "id": "qPiC1GRp6rmM",
    "outputId": "46923e81-4293-4031-8d1e-160c2e4b2ba9"
   },
   "outputs": [
    {
     "data": {
      "text/plain": [
       "['2914 HARRY HINES BLVD', '3001 PABLO KISEL BLVD STE N', '21815 W HWY 71']"
      ]
     },
     "execution_count": 2,
     "metadata": {},
     "output_type": "execute_result"
    }
   ],
   "source": [
    "locations = list(df.location_address)\n",
    "locations[0:3]"
   ]
  },
  {
   "cell_type": "markdown",
   "metadata": {
    "id": "JmoaEGTt6rmN"
   },
   "source": [
    "Now let's say that we need to separate the street number from the rest of the street address for each element.  So this way we can can have a list of just the streets of the locations."
   ]
  },
  {
   "cell_type": "markdown",
   "metadata": {
    "id": "TmxgG2G46rmO"
   },
   "source": [
    "```python\n",
    "['HARRY HINES BLVD', 'PABLO KISEL BLVD STE N', 'W HWY 71']\n",
    "```"
   ]
  },
  {
   "cell_type": "markdown",
   "metadata": {
    "id": "9SxGC_qR6rmO"
   },
   "source": [
    "1. Do it for one element."
   ]
  },
  {
   "cell_type": "markdown",
   "metadata": {
    "id": "abDubobv6rmP"
   },
   "source": [
    "Let's start by accomplishing this for a single string, so that we turn an address like `'2914 HARRY HINES BLVD'` into `'HARRY HINES BLVD'`."
   ]
  },
  {
   "cell_type": "markdown",
   "metadata": {
    "id": "BURxSSWQ6rmP"
   },
   "source": [
    "> Press shift + return on the cell below."
   ]
  },
  {
   "cell_type": "code",
   "execution_count": 3,
   "metadata": {
    "id": "OJUfF5C26rmP"
   },
   "outputs": [],
   "source": [
    "address = '2914 HARRY HINES BLVD'"
   ]
  },
  {
   "cell_type": "markdown",
   "metadata": {
    "id": "u7T6NvSy6rmQ"
   },
   "source": [
    "> To start, let's take our address above and turn the string into a list of words. "
   ]
  },
  {
   "cell_type": "code",
   "execution_count": 4,
   "metadata": {
    "id": "HTLEAShU6rmQ"
   },
   "outputs": [
    {
     "data": {
      "text/plain": [
       "['2914', 'HARRY', 'HINES', 'BLVD']"
      ]
     },
     "execution_count": 4,
     "metadata": {},
     "output_type": "execute_result"
    }
   ],
   "source": [
    "address_words = address.split(' ')\n",
    "address_words\n",
    "# ['2914', 'HARRY', 'HINES', 'BLVD']"
   ]
  },
  {
   "cell_type": "markdown",
   "metadata": {
    "id": "mbjTOiHS6rmQ"
   },
   "source": [
    "> Then select every element after the first element, and turn them back into a string."
   ]
  },
  {
   "cell_type": "code",
   "execution_count": 5,
   "metadata": {
    "id": "K20IBTs36rmR"
   },
   "outputs": [
    {
     "data": {
      "text/plain": [
       "'HARRY HINES BLVD'"
      ]
     },
     "execution_count": 5,
     "metadata": {},
     "output_type": "execute_result"
    }
   ],
   "source": [
    "address_street_words = ' '.join(address_words[1:])\n",
    "address_street_words\n",
    "# 'HARRY HINES BLVD'"
   ]
  },
  {
   "cell_type": "markdown",
   "metadata": {
    "id": "K1RNIOwL6rmR"
   },
   "source": [
    "2. Do it for all "
   ]
  },
  {
   "cell_type": "markdown",
   "metadata": {
    "id": "ZRvPNguC6rmS"
   },
   "source": [
    "Now that we determined how to do this for one of the reviews, let's form a list of all of the streets."
   ]
  },
  {
   "cell_type": "code",
   "execution_count": 6,
   "metadata": {
    "id": "vW6lMES56rmS"
   },
   "outputs": [],
   "source": [
    "address_streets = [' '.join(loc.split(' ')[1:]) for loc in locations]"
   ]
  },
  {
   "cell_type": "code",
   "execution_count": 7,
   "metadata": {
    "id": "dpSygsm86rmS",
    "outputId": "50653940-2a0c-426b-9f07-3c0c5cabda3c"
   },
   "outputs": [
    {
     "data": {
      "text/plain": [
       "['HARRY HINES BLVD', 'PABLO KISEL BLVD STE N', 'W HWY 71', 'SLIDE RD STE 100']"
      ]
     },
     "execution_count": 7,
     "metadata": {},
     "output_type": "execute_result"
    }
   ],
   "source": [
    "address_streets[:4]\n",
    "# ['HARRY HINES BLVD', 'PABLO KISEL BLVD STE N', \n",
    "# 'W HWY 71', 'SLIDE RD STE 100']"
   ]
  },
  {
   "cell_type": "markdown",
   "metadata": {
    "id": "ntJscgzE6rmS"
   },
   "source": [
    "### Summary"
   ]
  },
  {
   "cell_type": "markdown",
   "metadata": {
    "id": "OIIskzYo6rmT"
   },
   "source": [
    "In this lesson, we saw how we can use split and join to coerce our string data.  We also reinforced our process of first solving a problem on just one element, and then moving to solving the same problem on each element in a loop."
   ]
  }
 ],
 "metadata": {
  "colab": {
   "name": "1-split-and-join-lab.ipynb",
   "provenance": []
  },
  "kernelspec": {
   "display_name": "Python 3 (ipykernel)",
   "language": "python",
   "name": "python3"
  },
  "language_info": {
   "codemirror_mode": {
    "name": "ipython",
    "version": 3
   },
   "file_extension": ".py",
   "mimetype": "text/x-python",
   "name": "python",
   "nbconvert_exporter": "python",
   "pygments_lexer": "ipython3",
   "version": "3.10.2"
  }
 },
 "nbformat": 4,
 "nbformat_minor": 4
}

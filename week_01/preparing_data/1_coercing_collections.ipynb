{
 "cells": [
  {
   "cell_type": "markdown",
   "metadata": {
    "id": "ZF9Ew9Zjs8qD"
   },
   "source": [
    "# Coercing Collections"
   ]
  },
  {
   "cell_type": "markdown",
   "metadata": {
    "id": "1Yae2wE2s8qH"
   },
   "source": [
    "### Introduction"
   ]
  },
  {
   "cell_type": "markdown",
   "metadata": {
    "id": "tGuba6e_s8qI"
   },
   "source": [
    "So far we have learned about lists and dictionaries - and we have thought about the purpose of each.  One thing to explore further is how change our data from one form or another.  Doing so will allow us to take advantage of different methods and purposes of each datapoint."
   ]
  },
  {
   "cell_type": "markdown",
   "metadata": {
    "id": "HqL3vVCes8qI"
   },
   "source": [
    "### Lists and Sets"
   ]
  },
  {
   "cell_type": "markdown",
   "metadata": {
    "id": "vW_MLucYs8qI"
   },
   "source": [
    "For example, two datatypes that are similar are lists and sets.  Here is a list of ages of employees."
   ]
  },
  {
   "cell_type": "code",
   "execution_count": 1,
   "metadata": {
    "id": "04AMAM52s8qJ"
   },
   "outputs": [],
   "source": [
    "ages = [22, 23, 22, 35, 40]"
   ]
  },
  {
   "cell_type": "code",
   "execution_count": 2,
   "metadata": {
    "id": "6_PzBE1Cs8qK"
   },
   "outputs": [],
   "source": [
    "ages.append(30)"
   ]
  },
  {
   "cell_type": "markdown",
   "metadata": {
    "id": "Q0L-TZJ6s8qL"
   },
   "source": [
    "So as we can see, the set is a collection of unique items.  We can do a couple of things with sets.  Like seeing if there is an element in the set, or calculating the length of a set."
   ]
  },
  {
   "cell_type": "code",
   "execution_count": 3,
   "metadata": {},
   "outputs": [],
   "source": [
    "ages_set = set(ages)"
   ]
  },
  {
   "cell_type": "code",
   "execution_count": 4,
   "metadata": {
    "id": "Li2e6ozQs8qL",
    "outputId": "23dec0f5-8285-43cf-f597-0c6dd90358c8"
   },
   "outputs": [
    {
     "data": {
      "text/plain": [
       "True"
      ]
     },
     "execution_count": 4,
     "metadata": {},
     "output_type": "execute_result"
    }
   ],
   "source": [
    "22 in ages_set"
   ]
  },
  {
   "cell_type": "markdown",
   "metadata": {
    "id": "vtQhj9-Js8qM"
   },
   "source": [
    "But sets do not have a sense of order like a list does, and because of that there is no sense of an index in a set."
   ]
  },
  {
   "cell_type": "code",
   "execution_count": 5,
   "metadata": {
    "id": "J7wUzNPAs8qN",
    "outputId": "03bc619c-6b45-40a2-ff1b-41032af10aec"
   },
   "outputs": [
    {
     "ename": "TypeError",
     "evalue": "'set' object is not subscriptable",
     "output_type": "error",
     "traceback": [
      "\u001b[0;31m---------------------------------------------------------------------------\u001b[0m",
      "\u001b[0;31mTypeError\u001b[0m                                 Traceback (most recent call last)",
      "Input \u001b[0;32mIn [5]\u001b[0m, in \u001b[0;36m<module>\u001b[0;34m\u001b[0m\n\u001b[0;32m----> 1\u001b[0m \u001b[43mages_set\u001b[49m\u001b[43m[\u001b[49m\u001b[38;5;241;43m0\u001b[39;49m\u001b[43m]\u001b[49m\n",
      "\u001b[0;31mTypeError\u001b[0m: 'set' object is not subscriptable"
     ]
    }
   ],
   "source": [
    "ages_set[0]"
   ]
  },
  {
   "cell_type": "markdown",
   "metadata": {
    "id": "WtLqFmKrs8qN"
   },
   "source": [
    "For that we need a list."
   ]
  },
  {
   "cell_type": "code",
   "execution_count": 6,
   "metadata": {
    "id": "ugH8N_PFs8qO",
    "outputId": "6a83f47f-693c-4fd7-d6c6-a7b9abf4f8dc"
   },
   "outputs": [
    {
     "data": {
      "text/plain": [
       "[35, 40, 22, 23, 30]"
      ]
     },
     "execution_count": 6,
     "metadata": {},
     "output_type": "execute_result"
    }
   ],
   "source": [
    "list(ages_set)"
   ]
  },
  {
   "cell_type": "markdown",
   "metadata": {
    "id": "h7gvjmXvs8qO"
   },
   "source": [
    "### Dictionaries and Lists"
   ]
  },
  {
   "cell_type": "markdown",
   "metadata": {
    "id": "4m3SzWzms8qO"
   },
   "source": [
    "Let's take a look at a dictionary."
   ]
  },
  {
   "cell_type": "code",
   "execution_count": 7,
   "metadata": {
    "id": "SZPtAunSs8qO"
   },
   "outputs": [],
   "source": [
    "nyc = {'name': 'nyc', 'state': 'NY', 'population': 8000000}"
   ]
  },
  {
   "cell_type": "markdown",
   "metadata": {
    "id": "L33fWQUns8qP"
   },
   "source": [
    "Now if we were to break down this dictionary, we might say that there is a list of keys and a list of values.  Let's access each of these components."
   ]
  },
  {
   "cell_type": "code",
   "execution_count": 8,
   "metadata": {
    "id": "0BaXe_cts8qP",
    "outputId": "a0c8ca91-3cef-47f6-c405-e1108a209d77"
   },
   "outputs": [
    {
     "data": {
      "text/plain": [
       "dict_keys(['name', 'state', 'population'])"
      ]
     },
     "execution_count": 8,
     "metadata": {},
     "output_type": "execute_result"
    }
   ],
   "source": [
    "nyc.keys()"
   ]
  },
  {
   "cell_type": "code",
   "execution_count": 9,
   "metadata": {
    "id": "XKkEsKfZs8qP",
    "outputId": "99622cd2-6c29-445c-a8f7-aed8d50b8ab4"
   },
   "outputs": [
    {
     "data": {
      "text/plain": [
       "dict_values(['nyc', 'NY', 8000000])"
      ]
     },
     "execution_count": 9,
     "metadata": {},
     "output_type": "execute_result"
    }
   ],
   "source": [
    "nyc.values()"
   ]
  },
  {
   "cell_type": "markdown",
   "metadata": {
    "id": "Vtnue2vEs8qQ"
   },
   "source": [
    "Each of these returns a `dict_keys` object.  Unfortunately, we cannot directly access the elements of a dictkeys object.  But we can if we change this object into a list."
   ]
  },
  {
   "cell_type": "code",
   "execution_count": 10,
   "metadata": {
    "id": "7ZpXf-fts8qQ",
    "outputId": "d51d511d-c5e2-4f41-f6dc-0caf4522cfd1"
   },
   "outputs": [
    {
     "data": {
      "text/plain": [
       "'population'"
      ]
     },
     "execution_count": 10,
     "metadata": {},
     "output_type": "execute_result"
    }
   ],
   "source": [
    "city_keys = list(nyc.keys())\n",
    "city_keys[-1]"
   ]
  },
  {
   "cell_type": "markdown",
   "metadata": {
    "id": "gJ-xxJJos8qQ"
   },
   "source": [
    "### From lists to dictionaries"
   ]
  },
  {
   "cell_type": "markdown",
   "metadata": {
    "id": "gwzf--2ps8qR"
   },
   "source": [
    "Finally, if we have a list of keys and a list of values, we can turn them into a dictionary.  For example, here are the list of keys from `nyc`."
   ]
  },
  {
   "cell_type": "code",
   "execution_count": 11,
   "metadata": {
    "id": "2KtmAUrWs8qR",
    "outputId": "6da4fa24-327d-4b9c-ea54-4a67982246c9"
   },
   "outputs": [
    {
     "data": {
      "text/plain": [
       "['name', 'state', 'population']"
      ]
     },
     "execution_count": 11,
     "metadata": {},
     "output_type": "execute_result"
    }
   ],
   "source": [
    "city_keys"
   ]
  },
  {
   "cell_type": "markdown",
   "metadata": {
    "id": "2v9prBfJs8qR"
   },
   "source": [
    "Let's say that we want to pair these with the values of a new city, Chicago.  We could do so with the following."
   ]
  },
  {
   "cell_type": "code",
   "execution_count": 12,
   "metadata": {
    "id": "ZhAYTIE9s8qR"
   },
   "outputs": [],
   "source": [
    "chicago_vals = ['Chicago', 'Illinois', 4000000]"
   ]
  },
  {
   "cell_type": "code",
   "execution_count": 13,
   "metadata": {
    "id": "8mo6-4Rss8qR",
    "outputId": "05846ab3-a4bb-4caf-d52c-c82e71140243"
   },
   "outputs": [
    {
     "data": {
      "text/plain": [
       "[('name', 'Chicago'), ('state', 'Illinois'), ('population', 4000000)]"
      ]
     },
     "execution_count": 13,
     "metadata": {},
     "output_type": "execute_result"
    }
   ],
   "source": [
    "paired_data = list(zip(city_keys, chicago_vals))\n",
    "paired_data"
   ]
  },
  {
   "cell_type": "markdown",
   "metadata": {
    "id": "4Dswxe-Ds8qS"
   },
   "source": [
    "So using `zip` we have paired up the keys and values.  And from there, we can turn this into a dictionary."
   ]
  },
  {
   "cell_type": "code",
   "execution_count": 14,
   "metadata": {
    "id": "SgSRxxHys8qS",
    "outputId": "316b42ed-7615-40dc-dbf1-dd77da6e8f99"
   },
   "outputs": [
    {
     "data": {
      "text/plain": [
       "{'name': 'Chicago', 'state': 'Illinois', 'population': 4000000}"
      ]
     },
     "execution_count": 14,
     "metadata": {},
     "output_type": "execute_result"
    }
   ],
   "source": [
    "chicago = dict(paired_data)\n",
    "chicago"
   ]
  },
  {
   "cell_type": "code",
   "execution_count": 15,
   "metadata": {
    "id": "SPFHCIHqs8qS",
    "outputId": "b82766c9-2967-4eb0-a437-9d9164779a12"
   },
   "outputs": [
    {
     "data": {
      "text/plain": [
       "'Illinois'"
      ]
     },
     "execution_count": 15,
     "metadata": {},
     "output_type": "execute_result"
    }
   ],
   "source": [
    "chicago['state']"
   ]
  },
  {
   "cell_type": "markdown",
   "metadata": {
    "id": "kj7-mzqys8qS"
   },
   "source": [
    "### Summary"
   ]
  },
  {
   "cell_type": "markdown",
   "metadata": {
    "id": "VEKPJXhas8qT"
   },
   "source": [
    "In this lesson we saw how we can coerce our data into different types of collections.  We first went from a list to a set, which is an unordered collection that has a unique collection of items.  And saw how we can go from set to list.\n",
    "\n",
    "We also saw how we can extract a list of a dictionary's keys or values.  \n",
    "\n",
    "Finally, we saw how we can `zip` two lists together, and turn the result into a dictionary. "
   ]
  }
 ],
 "metadata": {
  "colab": {
   "name": "1-coercing-collections.ipynb",
   "provenance": []
  },
  "kernelspec": {
   "display_name": "Python 3 (ipykernel)",
   "language": "python",
   "name": "python3"
  },
  "language_info": {
   "codemirror_mode": {
    "name": "ipython",
    "version": 3
   },
   "file_extension": ".py",
   "mimetype": "text/x-python",
   "name": "python",
   "nbconvert_exporter": "python",
   "pygments_lexer": "ipython3",
   "version": "3.10.2"
  }
 },
 "nbformat": 4,
 "nbformat_minor": 4
}

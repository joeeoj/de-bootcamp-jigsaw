{
 "cells": [
  {
   "cell_type": "markdown",
   "metadata": {
    "id": "Z6601941uUcC"
   },
   "source": [
    "# Loops and List Comprehensions "
   ]
  },
  {
   "cell_type": "markdown",
   "metadata": {
    "id": "uF_pXL2zuUcF"
   },
   "source": [
    "### Introduction"
   ]
  },
  {
   "cell_type": "markdown",
   "metadata": {
    "id": "07GGWcmguUcG"
   },
   "source": [
    "A useful tool for coercing and reducing our data is with loops.  Let's see how we can use them to do both."
   ]
  },
  {
   "cell_type": "markdown",
   "metadata": {
    "id": "FrLdNT8DuUcG"
   },
   "source": [
    "### Reviewing Loops"
   ]
  },
  {
   "cell_type": "markdown",
   "metadata": {
    "id": "C52mVAD1uUcG"
   },
   "source": [
    "As we know, we use loops to perform the same operation on each element in a list."
   ]
  },
  {
   "cell_type": "code",
   "execution_count": 1,
   "metadata": {
    "id": "Zqm3FoV-uUcH"
   },
   "outputs": [],
   "source": [
    "names = ['homer', 'marge', 'lisa']"
   ]
  },
  {
   "cell_type": "code",
   "execution_count": 2,
   "metadata": {
    "id": "e2nxwqZ-uUcI"
   },
   "outputs": [
    {
     "data": {
      "text/plain": [
       "['Homer', 'Marge', 'Lisa']"
      ]
     },
     "execution_count": 2,
     "metadata": {},
     "output_type": "execute_result"
    }
   ],
   "source": [
    "cap_names = []\n",
    "for name in names:\n",
    "    #variable, input \n",
    "    cap_names.append(name.capitalize())\n",
    "    \n",
    "cap_names\n",
    "# output"
   ]
  },
  {
   "cell_type": "markdown",
   "metadata": {
    "id": "6Kc47ZEpuUcJ"
   },
   "source": [
    "For example, we can use a for loop to format each of the movies with the proper capitalization."
   ]
  },
  {
   "cell_type": "code",
   "execution_count": 3,
   "metadata": {
    "id": "4TeCWrZ0uUcJ"
   },
   "outputs": [],
   "source": [
    "movies = ['fast and the furious', 'the titanic', 'frozen']"
   ]
  },
  {
   "cell_type": "markdown",
   "metadata": {
    "id": "Y8ljpQUtuUcK"
   },
   "source": [
    "* Give it a shot below.  Use a for loop to capitalize each movie and assign it to the list `capitalized_movies`."
   ]
  },
  {
   "cell_type": "code",
   "execution_count": 4,
   "metadata": {
    "id": "PH6J4jSluUcK"
   },
   "outputs": [
    {
     "data": {
      "text/plain": [
       "['Fast And The Furious', 'The Titanic', 'Frozen']"
      ]
     },
     "execution_count": 4,
     "metadata": {},
     "output_type": "execute_result"
    }
   ],
   "source": [
    "capitalized_movies = []\n",
    "for movie in movies:\n",
    "    capitalized_movies.append(movie.title())\n",
    "\n",
    "capitalized_movies"
   ]
  },
  {
   "cell_type": "markdown",
   "metadata": {
    "id": "wCC1WtsXuUcL"
   },
   "source": [
    "### Using List Comprehension"
   ]
  },
  {
   "cell_type": "markdown",
   "metadata": {
    "id": "o3LC9CaXuUcL"
   },
   "source": [
    "Another way to use loops is with list comprehension."
   ]
  },
  {
   "cell_type": "code",
   "execution_count": 5,
   "metadata": {
    "id": "RAluA3GtuUcL"
   },
   "outputs": [],
   "source": [
    "names = ['homer', 'marge', 'lisa']"
   ]
  },
  {
   "cell_type": "code",
   "execution_count": 6,
   "metadata": {
    "id": "_xudhufNuUcM",
    "outputId": "0d449ad1-7c0f-4c8e-9581-840e443e5a8d"
   },
   "outputs": [
    {
     "data": {
      "text/plain": [
       "['Homer', 'Marge', 'Lisa']"
      ]
     },
     "execution_count": 6,
     "metadata": {},
     "output_type": "execute_result"
    }
   ],
   "source": [
    "[name.capitalize() for name in names]\n",
    "### output,           variable, input "
   ]
  },
  {
   "cell_type": "code",
   "execution_count": 7,
   "metadata": {
    "id": "06-4YGkWuUcN"
   },
   "outputs": [],
   "source": [
    "movies = ['fast and the furious', 'the titanic', 'frozen']"
   ]
  },
  {
   "cell_type": "markdown",
   "metadata": {
    "id": "myFpnlGvuUcN"
   },
   "source": [
    "Here are the list of movies again.  Now use list comprehension to capitalize the each word of each movie."
   ]
  },
  {
   "cell_type": "code",
   "execution_count": 8,
   "metadata": {
    "id": "b1qQq3CGuUcO"
   },
   "outputs": [
    {
     "data": {
      "text/plain": [
       "['Fast and the furious', 'The titanic', 'Frozen']"
      ]
     },
     "execution_count": 8,
     "metadata": {},
     "output_type": "execute_result"
    }
   ],
   "source": [
    "movie_titles = [movie.capitalize() for movie in movies]\n",
    "movie_titles"
   ]
  }
 ],
 "metadata": {
  "colab": {
   "name": "2-loops-list-comprehensions.ipynb",
   "provenance": []
  },
  "kernelspec": {
   "display_name": "Python 3 (ipykernel)",
   "language": "python",
   "name": "python3"
  },
  "language_info": {
   "codemirror_mode": {
    "name": "ipython",
    "version": 3
   },
   "file_extension": ".py",
   "mimetype": "text/x-python",
   "name": "python",
   "nbconvert_exporter": "python",
   "pygments_lexer": "ipython3",
   "version": "3.10.2"
  }
 },
 "nbformat": 4,
 "nbformat_minor": 4
}

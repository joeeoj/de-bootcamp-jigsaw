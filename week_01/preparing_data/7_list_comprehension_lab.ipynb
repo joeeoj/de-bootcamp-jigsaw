{
 "cells": [
  {
   "cell_type": "markdown",
   "metadata": {
    "id": "F4WN_5BEuWJA"
   },
   "source": [
    "# List Comprehension Lab"
   ]
  },
  {
   "cell_type": "markdown",
   "metadata": {
    "id": "k2n0y7T7uWJD"
   },
   "source": [
    "### Introduction"
   ]
  },
  {
   "cell_type": "markdown",
   "metadata": {
    "id": "B57rm-5YuWJE"
   },
   "source": [
    "In this lesson, we'll practice working with list comprehension while working with data regarding restaurant chains.  Let's get started."
   ]
  },
  {
   "cell_type": "markdown",
   "metadata": {
    "id": "_1x7zGqUuWJE"
   },
   "source": [
    "### Loading the Data"
   ]
  },
  {
   "cell_type": "markdown",
   "metadata": {
    "id": "PAXLppOJuWJF"
   },
   "source": [
    "We can get our data about restaurant chains at the following web address."
   ]
  },
  {
   "cell_type": "code",
   "execution_count": 1,
   "metadata": {
    "id": "j_FlPuuyuWJG"
   },
   "outputs": [],
   "source": [
    "url = \"https://en.wikipedia.org/wiki/List_of_the_largest_fast_food_restaurant_chains\""
   ]
  },
  {
   "cell_type": "markdown",
   "metadata": {
    "id": "TWXc7mAnuWJH"
   },
   "source": [
    "> Press shift + return on the cell above."
   ]
  },
  {
   "cell_type": "markdown",
   "metadata": {
    "id": "walkEOMvuWJI"
   },
   "source": [
    "Then, let's scrape our data from the url using pandas."
   ]
  },
  {
   "cell_type": "code",
   "execution_count": 2,
   "metadata": {
    "id": "Zt5bGT26uWJI"
   },
   "outputs": [],
   "source": [
    "import pandas as pd\n",
    "\n",
    "tables = pd.read_html(url, index_col = 0)"
   ]
  },
  {
   "cell_type": "markdown",
   "metadata": {
    "id": "Vzs3bAcauWJJ"
   },
   "source": [
    "We select the last table on the page."
   ]
  },
  {
   "cell_type": "code",
   "execution_count": 3,
   "metadata": {
    "id": "Xd_lPfe1uWJK"
   },
   "outputs": [],
   "source": [
    "restaurant_chains_df =  tables[-1]"
   ]
  },
  {
   "cell_type": "markdown",
   "metadata": {
    "id": "jIU_4xa5uWJK"
   },
   "source": [
    "Then convert our dataframe to a list of dictionaries."
   ]
  },
  {
   "cell_type": "code",
   "execution_count": 4,
   "metadata": {
    "id": "lWfo2G6duWJK"
   },
   "outputs": [],
   "source": [
    "restaurant_chains = restaurant_chains_df.to_dict('records')"
   ]
  },
  {
   "cell_type": "code",
   "execution_count": 5,
   "metadata": {
    "id": "dgsHdx_FuWJL",
    "outputId": "212dbbad-8b19-4676-824a-84eb8ad6dedc"
   },
   "outputs": [
    {
     "data": {
      "text/plain": [
       "[{'Name': nan,\n",
       "  'Name.1': \"McDonald's\",\n",
       "  'Number of locations': '38,348 [1]',\n",
       "  'Revenue': 'US$21.07 billion (2020)[2]'},\n",
       " {'Name': nan,\n",
       "  'Name.1': 'Subway',\n",
       "  'Number of locations': '36,840 [3]',\n",
       "  'Revenue': 'US$16.1 billion (2020)[2]'},\n",
       " {'Name': nan,\n",
       "  'Name.1': 'Starbucks',\n",
       "  'Number of locations': '33,833[4]',\n",
       "  'Revenue': 'US$26.7 billion (2020)[5]'}]"
      ]
     },
     "execution_count": 5,
     "metadata": {},
     "output_type": "execute_result"
    }
   ],
   "source": [
    "restaurant_chains[:3]"
   ]
  },
  {
   "cell_type": "markdown",
   "metadata": {
    "id": "raSe4oS_uWJL"
   },
   "source": [
    "Ok, so we now have a list dictionaries where each dictionary represents a separate restaurant chain."
   ]
  },
  {
   "cell_type": "markdown",
   "metadata": {
    "id": "gM14RxnuuWJM"
   },
   "source": [
    "### Coercing our Data"
   ]
  },
  {
   "cell_type": "markdown",
   "metadata": {
    "id": "dIQ-3ZijuWJM"
   },
   "source": [
    "> For this first section, do not use list comprehension."
   ]
  },
  {
   "cell_type": "markdown",
   "metadata": {
    "id": "G7iiAWROuWJM"
   },
   "source": [
    "Now that we have our list of dictionaries above.  Let's start by focusing on our revenue data.  Begin by simply extracting the text related to the revenue for each chain, and storing this data in a list."
   ]
  },
  {
   "cell_type": "code",
   "execution_count": 6,
   "metadata": {
    "id": "ceV2wTYguWJN"
   },
   "outputs": [],
   "source": [
    "revenue_texts = []\n",
    "for chain in restaurant_chains:\n",
    "    revenue_texts.append(chain['Revenue'])\n"
   ]
  },
  {
   "cell_type": "code",
   "execution_count": 7,
   "metadata": {
    "id": "X9cZs67nuWJN",
    "outputId": "b22bf46f-f5a7-40e8-f076-4245263e8f7b"
   },
   "outputs": [
    {
     "data": {
      "text/plain": [
       "['US$21.07 billion (2020)[2]',\n",
       " 'US$16.1 billion (2020)[2]',\n",
       " 'US$26.7 billion (2020)[5]',\n",
       " 'US$27.9 billion (2020)[7]',\n",
       " nan,\n",
       " nan,\n",
       " 'US$3.62 billion (2019)[11]',\n",
       " 'US$1.37 billion (2020)[13]',\n",
       " nan,\n",
       " nan]"
      ]
     },
     "execution_count": 7,
     "metadata": {},
     "output_type": "execute_result"
    }
   ],
   "source": [
    "revenue_texts[:10]\n",
    "\n",
    "# ['US$21.07 billion (2020)[2]',\n",
    " # 'US$16.1 billion (2020)[2]',\n",
    " # 'US$26.7 billion (2020)[5]',\n",
    " # 'US$27.9 billion (2020)[7]',\n",
    " # nan,\n",
    " # nan,\n",
    " # 'US$3.62 billion (2019)[11]',\n",
    " # 'US$1.37 billion (2020)[13]',\n",
    " # nan,\n",
    " # nan]"
   ]
  },
  {
   "cell_type": "markdown",
   "metadata": {
    "id": "S58d902duWJN"
   },
   "source": [
    "Take a look at the `nan`s below.  This stands for not a number, and it is not very helpful to us.  A lotof the values after the first four are nan values.  So instead let's just select the first four restaurant chains, and then get to work with turning the data above into numbers."
   ]
  },
  {
   "cell_type": "code",
   "execution_count": 8,
   "metadata": {
    "id": "twHzuepIuWJO"
   },
   "outputs": [],
   "source": [
    "first_restaurants = restaurant_chains[:4]"
   ]
  },
  {
   "cell_type": "code",
   "execution_count": 9,
   "metadata": {
    "id": "kqlTDv8uuWJO"
   },
   "outputs": [
    {
     "data": {
      "text/plain": [
       "4"
      ]
     },
     "execution_count": 9,
     "metadata": {},
     "output_type": "execute_result"
    }
   ],
   "source": [
    "len(first_restaurants)\n",
    "\n",
    "# 4"
   ]
  },
  {
   "cell_type": "markdown",
   "metadata": {
    "id": "VfBFrUT_uWJO"
   },
   "source": [
    "In the cell below extract the revenue data from `first_restaurants` and store the `revenues` in billions of revenue."
   ]
  },
  {
   "cell_type": "code",
   "execution_count": 10,
   "metadata": {
    "id": "8SeuO5FVuWJO"
   },
   "outputs": [],
   "source": [
    "revenues = []\n",
    "for chain in first_restaurants:\n",
    "    rev_float = float(chain['Revenue'].split(' ')[0][3:])\n",
    "    revenues.append(rev_float)"
   ]
  },
  {
   "cell_type": "code",
   "execution_count": 11,
   "metadata": {
    "id": "xjVshfMauWJP"
   },
   "outputs": [
    {
     "data": {
      "text/plain": [
       "[21.07, 16.1, 26.7, 27.9]"
      ]
     },
     "execution_count": 11,
     "metadata": {},
     "output_type": "execute_result"
    }
   ],
   "source": [
    "revenues\n",
    "\n",
    "# [21.07, 16.1, 26.7, 27.9]"
   ]
  },
  {
   "cell_type": "markdown",
   "metadata": {
    "id": "N4-uxxXpuWJP"
   },
   "source": [
    "### Moving to List Comprehension"
   ]
  },
  {
   "cell_type": "markdown",
   "metadata": {
    "id": "QD2wJBZIuWJP"
   },
   "source": [
    "Let's begin by using list comprehension to create a list of the names of each restaurant chain."
   ]
  },
  {
   "cell_type": "markdown",
   "metadata": {
    "id": "73kCpGW_uWJP"
   },
   "source": [
    "> Assign the result to the variable `restaurant_names`."
   ]
  },
  {
   "cell_type": "code",
   "execution_count": 12,
   "metadata": {
    "id": "2W5yZs9tuWJP"
   },
   "outputs": [],
   "source": [
    "restaurant_names = [r['Name.1'] for r in restaurant_chains]"
   ]
  },
  {
   "cell_type": "code",
   "execution_count": 13,
   "metadata": {
    "id": "mvUrxHubuWJP",
    "outputId": "bb542b2e-fe43-49d0-9c20-74ac344e0e9a"
   },
   "outputs": [
    {
     "data": {
      "text/plain": [
       "[\"McDonald's\", 'Subway', 'Starbucks', 'KFC']"
      ]
     },
     "execution_count": 13,
     "metadata": {},
     "output_type": "execute_result"
    }
   ],
   "source": [
    "restaurant_names[:4]\n",
    "\n",
    "# [\"McDonald's\", 'Subway', 'Starbucks', 'KFC']"
   ]
  },
  {
   "cell_type": "markdown",
   "metadata": {
    "id": "BYt37nMSuWJQ"
   },
   "source": [
    "Now use list comprehension to select the number of locations of each restaurant chain."
   ]
  },
  {
   "cell_type": "markdown",
   "metadata": {
    "id": "4G2DIrWBuWJQ"
   },
   "source": [
    "> Assign the result to the variable `franchise_amounts`."
   ]
  },
  {
   "cell_type": "code",
   "execution_count": 14,
   "metadata": {},
   "outputs": [
    {
     "data": {
      "text/plain": [
       "{'Name': nan,\n",
       " 'Name.1': \"McDonald's\",\n",
       " 'Number of locations': '38,348 [1]',\n",
       " 'Revenue': 'US$21.07 billion (2020)[2]'}"
      ]
     },
     "execution_count": 14,
     "metadata": {},
     "output_type": "execute_result"
    }
   ],
   "source": [
    "restaurant_chains[0]"
   ]
  },
  {
   "cell_type": "code",
   "execution_count": 15,
   "metadata": {
    "id": "mZsYltV6uWJQ"
   },
   "outputs": [],
   "source": [
    "franchise_amounts = [r['Number of locations'] for r in restaurant_chains]"
   ]
  },
  {
   "cell_type": "code",
   "execution_count": 16,
   "metadata": {
    "id": "fBjYAuWfuWJQ",
    "outputId": "5b186927-6017-4e93-bc37-68ce396f79ff"
   },
   "outputs": [
    {
     "data": {
      "text/plain": [
       "['38,348 [1]', '36,840 [3]', '33,833[4]']"
      ]
     },
     "execution_count": 16,
     "metadata": {},
     "output_type": "execute_result"
    }
   ],
   "source": [
    "franchise_amounts[:3]\n",
    "\n",
    "# ['38,348 [1]', '36,840 [3]', '33,833[4]']"
   ]
  },
  {
   "cell_type": "markdown",
   "metadata": {
    "id": "NfC9FNMvuWJQ"
   },
   "source": [
    "Now remove the square brackets from the number of locations."
   ]
  },
  {
   "cell_type": "code",
   "execution_count": 17,
   "metadata": {
    "id": "tOOJB5mIuWJR"
   },
   "outputs": [],
   "source": [
    "clean_franchise_amounts = [r['Number of locations'].split('[')[0].strip() for r in restaurant_chains]"
   ]
  },
  {
   "cell_type": "code",
   "execution_count": 18,
   "metadata": {
    "id": "fJ6hzA6ZuWJR"
   },
   "outputs": [
    {
     "data": {
      "text/plain": [
       "['38,348', '36,840', '33,833']"
      ]
     },
     "execution_count": 18,
     "metadata": {},
     "output_type": "execute_result"
    }
   ],
   "source": [
    "clean_franchise_amounts[:3]\n",
    "\n",
    "# ['38,348 ', '36,840 ', '33,833']"
   ]
  },
  {
   "cell_type": "code",
   "execution_count": 19,
   "metadata": {
    "id": "JcmuJ3BzuWJR"
   },
   "outputs": [
    {
     "data": {
      "text/plain": [
       "['508', '507+', '500+']"
      ]
     },
     "execution_count": 19,
     "metadata": {},
     "output_type": "execute_result"
    }
   ],
   "source": [
    "clean_franchise_amounts[-3:]\n",
    "\n",
    "# ['508', '507+', '500+']"
   ]
  },
  {
   "cell_type": "markdown",
   "metadata": {
    "id": "eX8KvMcsuWJR"
   },
   "source": [
    "Now, coerce the data from a list of strings to a list of integers. \n",
    "> **Hint**: Look up the `replace` method."
   ]
  },
  {
   "cell_type": "code",
   "execution_count": 20,
   "metadata": {
    "id": "OFETz_YpuWJR"
   },
   "outputs": [],
   "source": [
    "franchise_amount_ints = []\n",
    "for chain in restaurant_chains:\n",
    "    total_str = chain['Number of locations'].split('[')[0].strip().replace(',', '').replace('+', '').replace('~', '')\n",
    "    total_int = int(total_str)\n",
    "    \n",
    "    franchise_amount_ints.append(total_int)"
   ]
  },
  {
   "cell_type": "code",
   "execution_count": 21,
   "metadata": {
    "id": "D8k6TOMruWJS",
    "outputId": "a2d4a390-6d87-4015-b067-5d24ec5c40db"
   },
   "outputs": [
    {
     "data": {
      "text/plain": [
       "[38348, 36840, 33833]"
      ]
     },
     "execution_count": 21,
     "metadata": {},
     "output_type": "execute_result"
    }
   ],
   "source": [
    "franchise_amount_ints[:3]\n",
    "\n",
    "# [38348, 36840, 33833]"
   ]
  },
  {
   "cell_type": "markdown",
   "metadata": {
    "id": "iBr7UnjXuWJS"
   },
   "source": [
    "### Bonus: Combining our Data"
   ]
  },
  {
   "cell_type": "markdown",
   "metadata": {
    "id": "bUoNQvnzuWJS"
   },
   "source": [
    "Ok, so now, for the first eight restaurant chains let's find the amount of revenue earned per franchise.  Remember, that we already have the revenues."
   ]
  },
  {
   "cell_type": "code",
   "execution_count": 22,
   "metadata": {
    "id": "DlP-D6nHuWJS",
    "outputId": "13744f2d-f997-4f0e-abe4-a63c6a2bbdc4"
   },
   "outputs": [
    {
     "data": {
      "text/plain": [
       "[21.07, 16.1, 26.7, 27.9]"
      ]
     },
     "execution_count": 22,
     "metadata": {},
     "output_type": "execute_result"
    }
   ],
   "source": [
    "revenues"
   ]
  },
  {
   "cell_type": "code",
   "execution_count": 23,
   "metadata": {},
   "outputs": [],
   "source": [
    "revenues = []\n",
    "for chain in restaurant_chains[:8]:\n",
    "    rev = chain['Revenue']\n",
    "\n",
    "    if pd.notnull(rev):\n",
    "        rev_float = float(rev.split(' ')[0][3:])\n",
    "    else:\n",
    "        rev_float = 0\n",
    "    revenues.append(rev_float)"
   ]
  },
  {
   "cell_type": "markdown",
   "metadata": {
    "id": "O9or6x7duWJS"
   },
   "source": [
    "And we have the number of franchises."
   ]
  },
  {
   "cell_type": "code",
   "execution_count": 24,
   "metadata": {},
   "outputs": [
    {
     "data": {
      "text/plain": [
       "[21.07, 16.1, 26.7, 27.9, 0, 0, 3.62, 1.37]"
      ]
     },
     "execution_count": 24,
     "metadata": {},
     "output_type": "execute_result"
    }
   ],
   "source": [
    "revenues"
   ]
  },
  {
   "cell_type": "code",
   "execution_count": 25,
   "metadata": {
    "id": "HBxCIr9yuWJS"
   },
   "outputs": [
    {
     "data": {
      "text/plain": [
       "[38348, 36840, 33833, 25000]"
      ]
     },
     "execution_count": 25,
     "metadata": {},
     "output_type": "execute_result"
    }
   ],
   "source": [
    "franchise_amount_ints[:4]"
   ]
  },
  {
   "cell_type": "markdown",
   "metadata": {
    "id": "ronbrAI6uWJS"
   },
   "source": [
    "Create a list of where each element is the revenue per franchise, for the first eight chains."
   ]
  },
  {
   "cell_type": "code",
   "execution_count": 26,
   "metadata": {
    "id": "NyZoEOTluWJT"
   },
   "outputs": [],
   "source": [
    "one_billion = 1_000_000_000"
   ]
  },
  {
   "cell_type": "code",
   "execution_count": 27,
   "metadata": {
    "id": "sS3iLPqiuWJT"
   },
   "outputs": [],
   "source": [
    "revenues_per_franchise = [int(rev * one_billion / total) for rev, total in zip(revenues, franchise_amount_ints)]"
   ]
  },
  {
   "cell_type": "code",
   "execution_count": 28,
   "metadata": {
    "id": "ftP1VMeXuWJT"
   },
   "outputs": [
    {
     "data": {
      "text/plain": [
       "[549441, 437024, 789170, 1116000, 0, 0, 205227, 121238]"
      ]
     },
     "execution_count": 28,
     "metadata": {},
     "output_type": "execute_result"
    }
   ],
   "source": [
    "revenues_per_franchise\n",
    "# [549441, 437024, 789170, 1116000]"
   ]
  },
  {
   "cell_type": "code",
   "execution_count": 29,
   "metadata": {
    "id": "jPVp6mhGuWJT"
   },
   "outputs": [],
   "source": [
    "# restaurant_names[:4]\n",
    "\n",
    "# [\"McDonald's\",\n",
    "#  'Subway',\n",
    "#  'Starbucks',\n",
    "#  'KFC',\n",
    "#  'Burger King',\n",
    "#  \"Domino's Pizza\",\n",
    "#  'Pizza Hut',\n",
    "#  \"Dunkin'\"]"
   ]
  },
  {
   "cell_type": "markdown",
   "metadata": {
    "id": "q17r3Ct1uWJT"
   },
   "source": [
    "### Summary"
   ]
  },
  {
   "cell_type": "markdown",
   "metadata": {
    "id": "UbJfMbvzuWJT"
   },
   "source": [
    "In this lesson we practiced working with looping through our data and list comprehension.  We should use simple looping when performing more complex steps in our loop, and lean on list comprehension when there is not a coercion involved as we loop through each elements."
   ]
  }
 ],
 "metadata": {
  "colab": {
   "name": "7-list-comprehension-lab.ipynb",
   "provenance": []
  },
  "kernelspec": {
   "display_name": "Python 3 (ipykernel)",
   "language": "python",
   "name": "python3"
  },
  "language_info": {
   "codemirror_mode": {
    "name": "ipython",
    "version": 3
   },
   "file_extension": ".py",
   "mimetype": "text/x-python",
   "name": "python",
   "nbconvert_exporter": "python",
   "pygments_lexer": "ipython3",
   "version": "3.10.2"
  }
 },
 "nbformat": 4,
 "nbformat_minor": 4
}

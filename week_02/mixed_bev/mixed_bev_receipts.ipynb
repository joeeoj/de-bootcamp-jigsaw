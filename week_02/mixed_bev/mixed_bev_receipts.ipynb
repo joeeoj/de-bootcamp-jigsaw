{
 "cells": [
  {
   "cell_type": "markdown",
   "id": "f3ce288d-2efc-4364-a32a-563633348ac2",
   "metadata": {},
   "source": [
    "# Mixed Beverage Gross Receipts\n",
    "\n",
    "This file contains a list of taxpayers required to report mixed beverage gross receipts tax reports under Tax Code Chapter 183, Subchapter B. The list provides taxpayer names, amounts reported, and other public information.\n",
    "\n",
    "https://data.texas.gov/dataset/Mixed-Beverage-Gross-Receipts/naix-2893"
   ]
  },
  {
   "cell_type": "code",
   "execution_count": 1,
   "id": "49cf0861-25f3-46ca-9a59-d497934672fe",
   "metadata": {},
   "outputs": [],
   "source": [
    "from datetime import datetime\n",
    "\n",
    "import altair as alt\n",
    "import numpy as np\n",
    "import pandas as pd\n",
    "\n",
    "pd.set_option('display.max_columns', 50)"
   ]
  },
  {
   "cell_type": "code",
   "execution_count": 2,
   "id": "476f4b8e-967a-452a-bca9-93edf6c82c7c",
   "metadata": {},
   "outputs": [],
   "source": [
    "TAX_CUTOVER = datetime(2014, 1, 1)"
   ]
  },
  {
   "cell_type": "markdown",
   "id": "6904410c-33c6-4f1d-9b02-68b126398e87",
   "metadata": {},
   "source": [
    "Load original gzipped csv and re-save as a parquet file for faster loads"
   ]
  },
  {
   "cell_type": "code",
   "execution_count": 3,
   "id": "321da294-08cd-4f35-a452-eb41763e4d76",
   "metadata": {},
   "outputs": [],
   "source": [
    "# df = pd.read_csv('Mixed_Beverage_Gross_Receipts.csv.gz', dtype={'Taxpayer Zip': str})\n",
    "# df.to_parquet('receipts.parquet')"
   ]
  },
  {
   "cell_type": "markdown",
   "id": "d2250203-b4e6-4ad4-8c95-4aaa0df3cd7f",
   "metadata": {},
   "source": [
    "Obligation End Date = Last Day of Reporting Period\n",
    "\n",
    "Total Receipts = Liquor + Wine + Beer + Cover Charge. To calculate the tax due, multiply the total receipts by .067 if reporting period is January 1, 2014 or greater and by .14 if reporting period is prior to January 1, 2014."
   ]
  },
  {
   "cell_type": "code",
   "execution_count": 4,
   "id": "583aadaf-b528-44c6-88c2-94056c04df20",
   "metadata": {},
   "outputs": [
    {
     "name": "stdout",
     "output_type": "stream",
     "text": [
      "total rows: 2,748,503\n"
     ]
    },
    {
     "data": {
      "text/html": [
       "<div>\n",
       "<style scoped>\n",
       "    .dataframe tbody tr th:only-of-type {\n",
       "        vertical-align: middle;\n",
       "    }\n",
       "\n",
       "    .dataframe tbody tr th {\n",
       "        vertical-align: top;\n",
       "    }\n",
       "\n",
       "    .dataframe thead th {\n",
       "        text-align: right;\n",
       "    }\n",
       "</style>\n",
       "<table border=\"1\" class=\"dataframe\">\n",
       "  <thead>\n",
       "    <tr style=\"text-align: right;\">\n",
       "      <th></th>\n",
       "      <th>Taxpayer Number</th>\n",
       "      <th>Taxpayer Name</th>\n",
       "      <th>Taxpayer Address</th>\n",
       "      <th>Taxpayer City</th>\n",
       "      <th>Taxpayer State</th>\n",
       "      <th>Taxpayer Zip</th>\n",
       "      <th>Taxpayer County</th>\n",
       "      <th>Location Number</th>\n",
       "      <th>Location Name</th>\n",
       "      <th>Location Address</th>\n",
       "      <th>Location City</th>\n",
       "      <th>Location State</th>\n",
       "      <th>Location Zip</th>\n",
       "      <th>Location County</th>\n",
       "      <th>Inside/Outside City Limits</th>\n",
       "      <th>TABC Permit Number</th>\n",
       "      <th>Responsibility Begin Date</th>\n",
       "      <th>Responsibility End Date</th>\n",
       "      <th>Obligation End Date</th>\n",
       "      <th>Liquor Receipts</th>\n",
       "      <th>Wine Receipts</th>\n",
       "      <th>Beer Receipts</th>\n",
       "      <th>Cover Charge Receipts</th>\n",
       "      <th>Total Receipts</th>\n",
       "      <th>last_day_reporting_period</th>\n",
       "    </tr>\n",
       "  </thead>\n",
       "  <tbody>\n",
       "    <tr>\n",
       "      <th>0</th>\n",
       "      <td>32047970895</td>\n",
       "      <td>HONDURAS MAYA CAFE &amp; BAR LLC</td>\n",
       "      <td>8011 HAZEN ST</td>\n",
       "      <td>HOUSTON</td>\n",
       "      <td>TX</td>\n",
       "      <td>77036</td>\n",
       "      <td>101</td>\n",
       "      <td>1</td>\n",
       "      <td>HONDURAS MAYA CAFE &amp; BAR LLC</td>\n",
       "      <td>5945 BELLAIRE BLVD STE B</td>\n",
       "      <td>HOUSTON</td>\n",
       "      <td>TX</td>\n",
       "      <td>77081</td>\n",
       "      <td>101</td>\n",
       "      <td>Y</td>\n",
       "      <td>MB817033</td>\n",
       "      <td>08/16/2012</td>\n",
       "      <td>09/12/2019</td>\n",
       "      <td>07/31/2019</td>\n",
       "      <td>0</td>\n",
       "      <td>0</td>\n",
       "      <td>0</td>\n",
       "      <td>0</td>\n",
       "      <td>0</td>\n",
       "      <td>2019-07-31</td>\n",
       "    </tr>\n",
       "    <tr>\n",
       "      <th>1</th>\n",
       "      <td>32049923835</td>\n",
       "      <td>MERMAID KARAOKE PRIVATE CLUB, INC.</td>\n",
       "      <td>2639 WALNUT HILL LN STE 225</td>\n",
       "      <td>DALLAS</td>\n",
       "      <td>TX</td>\n",
       "      <td>75229</td>\n",
       "      <td>57</td>\n",
       "      <td>1</td>\n",
       "      <td>MERMAID KARAOKE PRIVATE CLUB</td>\n",
       "      <td>1310 W CAMPBELL RD STE 103</td>\n",
       "      <td>RICHARDSON</td>\n",
       "      <td>TX</td>\n",
       "      <td>75080</td>\n",
       "      <td>57</td>\n",
       "      <td>Y</td>\n",
       "      <td>N 837378</td>\n",
       "      <td>04/12/2013</td>\n",
       "      <td>07/01/2015</td>\n",
       "      <td>08/31/2014</td>\n",
       "      <td>480</td>\n",
       "      <td>185</td>\n",
       "      <td>1374</td>\n",
       "      <td>0</td>\n",
       "      <td>2039</td>\n",
       "      <td>2014-08-31</td>\n",
       "    </tr>\n",
       "  </tbody>\n",
       "</table>\n",
       "</div>"
      ],
      "text/plain": [
       "   Taxpayer Number                       Taxpayer Name  \\\n",
       "0      32047970895        HONDURAS MAYA CAFE & BAR LLC   \n",
       "1      32049923835  MERMAID KARAOKE PRIVATE CLUB, INC.   \n",
       "\n",
       "              Taxpayer Address Taxpayer City Taxpayer State Taxpayer Zip  \\\n",
       "0                8011 HAZEN ST       HOUSTON             TX        77036   \n",
       "1  2639 WALNUT HILL LN STE 225        DALLAS             TX        75229   \n",
       "\n",
       "   Taxpayer County  Location Number                 Location Name  \\\n",
       "0              101                1  HONDURAS MAYA CAFE & BAR LLC   \n",
       "1               57                1  MERMAID KARAOKE PRIVATE CLUB   \n",
       "\n",
       "             Location Address Location City Location State  Location Zip  \\\n",
       "0    5945 BELLAIRE BLVD STE B       HOUSTON             TX         77081   \n",
       "1  1310 W CAMPBELL RD STE 103    RICHARDSON             TX         75080   \n",
       "\n",
       "   Location County Inside/Outside City Limits TABC Permit Number  \\\n",
       "0              101                          Y           MB817033   \n",
       "1               57                          Y           N 837378   \n",
       "\n",
       "  Responsibility Begin Date Responsibility End Date Obligation End Date  \\\n",
       "0                08/16/2012              09/12/2019          07/31/2019   \n",
       "1                04/12/2013              07/01/2015          08/31/2014   \n",
       "\n",
       "   Liquor Receipts  Wine Receipts  Beer Receipts  Cover Charge Receipts  \\\n",
       "0                0              0              0                      0   \n",
       "1              480            185           1374                      0   \n",
       "\n",
       "   Total Receipts last_day_reporting_period  \n",
       "0               0                2019-07-31  \n",
       "1            2039                2014-08-31  "
      ]
     },
     "execution_count": 4,
     "metadata": {},
     "output_type": "execute_result"
    }
   ],
   "source": [
    "df = pd.read_parquet('receipts.parquet')\n",
    "df['last_day_reporting_period'] = pd.to_datetime(df['Obligation End Date'])\n",
    "\n",
    "print(f'total rows: {len(df):,}')\n",
    "df.head(2)"
   ]
  },
  {
   "cell_type": "markdown",
   "id": "ea478b02-7978-4367-8bdc-11a8efb82049",
   "metadata": {},
   "source": [
    "Group by on taxpayer number"
   ]
  },
  {
   "cell_type": "code",
   "execution_count": 5,
   "id": "4ab48b7d-183e-4007-a8f4-902ef28d9b1d",
   "metadata": {},
   "outputs": [
    {
     "name": "stdout",
     "output_type": "stream",
     "text": [
      "  Total taxpayer names: 34,409\n",
      "Total taxpayer numbers: 34,357\n"
     ]
    }
   ],
   "source": [
    "print(f\"  Total taxpayer names: {len(df['Taxpayer Number'].unique()):,}\")\n",
    "print(f\"Total taxpayer numbers: {len(df['Taxpayer Name'].unique()):,}\")"
   ]
  },
  {
   "cell_type": "markdown",
   "id": "0335abdc-8fc1-4162-8654-6e45bab55760",
   "metadata": {},
   "source": [
    "## Taxes"
   ]
  },
  {
   "cell_type": "code",
   "execution_count": 6,
   "id": "6ac54e2f-724c-4f65-ba5a-d0341a2d7bd0",
   "metadata": {},
   "outputs": [],
   "source": [
    "def calc_tax(row: pd.Series) -> float:\n",
    "    reporting_period, total = row\n",
    "    pct = 0.14 if reporting_period < TAX_CUTOVER else 0.067\n",
    "    return total * pct"
   ]
  },
  {
   "cell_type": "code",
   "execution_count": 7,
   "id": "01f26338-93ad-484f-861f-72d67a388aab",
   "metadata": {},
   "outputs": [
    {
     "name": "stdout",
     "output_type": "stream",
     "text": [
      "Receipts from Jan 31, 2007 to Jun 30, 2022\n"
     ]
    }
   ],
   "source": [
    "print(f\"Receipts from {df['last_day_reporting_period'].min():%b %d, %Y} to {df['last_day_reporting_period'].max():%b %d, %Y}\")"
   ]
  },
  {
   "cell_type": "code",
   "execution_count": 8,
   "id": "d64814e5-db93-4e55-9b9e-8a0b6d22a602",
   "metadata": {},
   "outputs": [
    {
     "data": {
      "text/html": [
       "<div>\n",
       "<style scoped>\n",
       "    .dataframe tbody tr th:only-of-type {\n",
       "        vertical-align: middle;\n",
       "    }\n",
       "\n",
       "    .dataframe tbody tr th {\n",
       "        vertical-align: top;\n",
       "    }\n",
       "\n",
       "    .dataframe thead th {\n",
       "        text-align: right;\n",
       "    }\n",
       "</style>\n",
       "<table border=\"1\" class=\"dataframe\">\n",
       "  <thead>\n",
       "    <tr style=\"text-align: right;\">\n",
       "      <th></th>\n",
       "      <th>Taxpayer Number</th>\n",
       "      <th>last_day_reporting_period</th>\n",
       "      <th>Total Receipts</th>\n",
       "      <th>year</th>\n",
       "      <th>old_taxes</th>\n",
       "      <th>new_taxes</th>\n",
       "      <th>tax_diff</th>\n",
       "      <th>taxes_due</th>\n",
       "    </tr>\n",
       "  </thead>\n",
       "  <tbody>\n",
       "    <tr>\n",
       "      <th>0</th>\n",
       "      <td>10105559610</td>\n",
       "      <td>2007-02-28</td>\n",
       "      <td>19084</td>\n",
       "      <td>2007</td>\n",
       "      <td>2671.76</td>\n",
       "      <td>1278.628</td>\n",
       "      <td>1393.132</td>\n",
       "      <td>2671.76</td>\n",
       "    </tr>\n",
       "    <tr>\n",
       "      <th>1</th>\n",
       "      <td>10105559610</td>\n",
       "      <td>2007-03-31</td>\n",
       "      <td>31599</td>\n",
       "      <td>2007</td>\n",
       "      <td>4423.86</td>\n",
       "      <td>2117.133</td>\n",
       "      <td>2306.727</td>\n",
       "      <td>4423.86</td>\n",
       "    </tr>\n",
       "  </tbody>\n",
       "</table>\n",
       "</div>"
      ],
      "text/plain": [
       "   Taxpayer Number last_day_reporting_period  Total Receipts  year  old_taxes  \\\n",
       "0      10105559610                2007-02-28           19084  2007    2671.76   \n",
       "1      10105559610                2007-03-31           31599  2007    4423.86   \n",
       "\n",
       "   new_taxes  tax_diff  taxes_due  \n",
       "0   1278.628  1393.132    2671.76  \n",
       "1   2117.133  2306.727    4423.86  "
      ]
     },
     "execution_count": 8,
     "metadata": {},
     "output_type": "execute_result"
    }
   ],
   "source": [
    "receipt_totals = df.groupby(['Taxpayer Number', 'last_day_reporting_period'])['Total Receipts'].sum().reset_index()\n",
    "receipt_totals['year'] = receipt_totals['last_day_reporting_period'].dt.year\n",
    "\n",
    "receipt_totals['old_taxes'] = receipt_totals['Total Receipts'] * 0.14\n",
    "receipt_totals['new_taxes'] = receipt_totals['Total Receipts'] * 0.067\n",
    "receipt_totals['tax_diff'] = receipt_totals['old_taxes'] - receipt_totals['new_taxes']\n",
    "receipt_totals['taxes_due'] = np.where(receipt_totals['last_day_reporting_period'] < TAX_CUTOVER, receipt_totals['old_taxes'], receipt_totals['new_taxes'])\n",
    "\n",
    "receipt_totals.head(2)"
   ]
  },
  {
   "cell_type": "code",
   "execution_count": 9,
   "id": "6ebb56c2-263d-47d3-9614-2397fbe7cfa6",
   "metadata": {},
   "outputs": [
    {
     "name": "stdout",
     "output_type": "stream",
     "text": [
      "       Total receipts: 89,114,473,503.00\n",
      "Total taxes collected: 8,363,280,716.26\n"
     ]
    }
   ],
   "source": [
    "print(f\"       Total receipts: {receipt_totals['Total Receipts'].sum():,.2f}\")\n",
    "print(f\"Total taxes collected: {receipt_totals['taxes_due'].sum():,.2f}\")"
   ]
  },
  {
   "cell_type": "markdown",
   "id": "76ef87f3-5e85-4c3a-b3e7-f1443afd876d",
   "metadata": {},
   "source": [
    "## Top grossing companies\n",
    "\n",
    "Out of the top 1,000 Total Receipts over all reporting periods"
   ]
  },
  {
   "cell_type": "code",
   "execution_count": 10,
   "id": "ee4daa43-19df-4870-9d6e-8819d666d15a",
   "metadata": {},
   "outputs": [
    {
     "data": {
      "text/plain": [
       "0                              CHILI'S BEVERAGE COMPANY, INC.\n",
       "7125584     ARAMARK SPORTS AND ENTERTAINMENT SERVICES OF T...\n",
       "7137354                              PAPPAS RESTAURANTS, INC.\n",
       "9086028                              LEGENDS HOSPITALITY, LLC\n",
       "9115015                             LEVY TEXAS BEVERAGES, LLC\n",
       "9115024                       HOSPITALITY INTERNATIONAL, INC.\n",
       "9942312                           ROADHOUSE ENTERPRISES, INC.\n",
       "10297167                                   BLAZIN WINGS, INC.\n",
       "10824525                     LEVY PREMIUM FOODSERVICE, L.L.C.\n",
       "10878561                                  SC BEVERAGE COMPANY\n",
       "11010277                            PERRY'S RESTAURANTS, LTD.\n",
       "11031760                            OL BEVERAGE HOLDINGS, LLC\n",
       "11037850                            TW RESTAURANT HOLDER, LLC\n",
       "11373325    ARAMARK SPORTS ENT SVC'S & LEVY PREM FOOD SVC LLC\n",
       "11374613                                      SALTGRASS, INC.\n",
       "11625217                                 WLS BEVERAGE COMPANY\n",
       "11630365                                    CHUY'S OPCO, INC.\n",
       "11732695                                    CORRAL CLUB, INC.\n",
       "11734535                                TEXAS BIG WINGS, INC.\n",
       "11748330              CHICAGO PIZZA HOSPITALITY HOLDING, INC.\n",
       "11907530                                   MICO 21 CLUB, INC.\n",
       "11989610                    RYAN SANDERS SPORTS SERVICES, LLC\n",
       "11990318                                            300, INC.\n",
       "11995253                            PREMIER HOSPITALITY, INC.\n",
       "12000348                            TEXAS WINGS HOLDINGS, LLC\n",
       "Name: Taxpayer Name, dtype: object"
      ]
     },
     "execution_count": 10,
     "metadata": {},
     "output_type": "execute_result"
    }
   ],
   "source": [
    "(pd.merge(receipt_totals.sort_values('Total Receipts', ascending=False).head(1_000),\n",
    "          df[['Taxpayer Number', 'Taxpayer Name']],\n",
    "          on='Taxpayer Number')['Taxpayer Name'].drop_duplicates())"
   ]
  },
  {
   "cell_type": "markdown",
   "id": "4daa2aaf-14ec-4bd9-bb0e-a7c4f424d32d",
   "metadata": {},
   "source": [
    "### group by year"
   ]
  },
  {
   "cell_type": "code",
   "execution_count": 11,
   "id": "1f40fe86-1a30-4f48-8ae9-06200f4a0441",
   "metadata": {},
   "outputs": [
    {
     "data": {
      "text/html": [
       "<style type=\"text/css\">\n",
       "</style>\n",
       "<table id=\"T_7b9ab\">\n",
       "  <thead>\n",
       "    <tr>\n",
       "      <th class=\"blank level0\" >&nbsp;</th>\n",
       "      <th id=\"T_7b9ab_level0_col0\" class=\"col_heading level0 col0\" >year</th>\n",
       "      <th id=\"T_7b9ab_level0_col1\" class=\"col_heading level0 col1\" >Total Receipts</th>\n",
       "      <th id=\"T_7b9ab_level0_col2\" class=\"col_heading level0 col2\" >old_taxes</th>\n",
       "      <th id=\"T_7b9ab_level0_col3\" class=\"col_heading level0 col3\" >new_taxes</th>\n",
       "      <th id=\"T_7b9ab_level0_col4\" class=\"col_heading level0 col4\" >tax_diff</th>\n",
       "      <th id=\"T_7b9ab_level0_col5\" class=\"col_heading level0 col5\" >taxes_due</th>\n",
       "      <th id=\"T_7b9ab_level0_col6\" class=\"col_heading level0 col6\" >taxes_due_str</th>\n",
       "    </tr>\n",
       "  </thead>\n",
       "  <tbody>\n",
       "    <tr>\n",
       "      <th id=\"T_7b9ab_level0_row0\" class=\"row_heading level0 row0\" >0</th>\n",
       "      <td id=\"T_7b9ab_row0_col0\" class=\"data row0 col0\" >2007</td>\n",
       "      <td id=\"T_7b9ab_row0_col1\" class=\"data row0 col1\" >4,032,838,388</td>\n",
       "      <td id=\"T_7b9ab_row0_col2\" class=\"data row0 col2\" >564,597,374</td>\n",
       "      <td id=\"T_7b9ab_row0_col3\" class=\"data row0 col3\" >270,200,172</td>\n",
       "      <td id=\"T_7b9ab_row0_col4\" class=\"data row0 col4\" >294,397,202</td>\n",
       "      <td id=\"T_7b9ab_row0_col5\" class=\"data row0 col5\" >564,597,374</td>\n",
       "      <td id=\"T_7b9ab_row0_col6\" class=\"data row0 col6\" >564.6 M</td>\n",
       "    </tr>\n",
       "    <tr>\n",
       "      <th id=\"T_7b9ab_level0_row1\" class=\"row_heading level0 row1\" >1</th>\n",
       "      <td id=\"T_7b9ab_row1_col0\" class=\"data row1 col0\" >2008</td>\n",
       "      <td id=\"T_7b9ab_row1_col1\" class=\"data row1 col1\" >4,267,790,879</td>\n",
       "      <td id=\"T_7b9ab_row1_col2\" class=\"data row1 col2\" >597,490,723</td>\n",
       "      <td id=\"T_7b9ab_row1_col3\" class=\"data row1 col3\" >285,941,989</td>\n",
       "      <td id=\"T_7b9ab_row1_col4\" class=\"data row1 col4\" >311,548,734</td>\n",
       "      <td id=\"T_7b9ab_row1_col5\" class=\"data row1 col5\" >597,490,723</td>\n",
       "      <td id=\"T_7b9ab_row1_col6\" class=\"data row1 col6\" >597.5 M</td>\n",
       "    </tr>\n",
       "    <tr>\n",
       "      <th id=\"T_7b9ab_level0_row2\" class=\"row_heading level0 row2\" >2</th>\n",
       "      <td id=\"T_7b9ab_row2_col0\" class=\"data row2 col0\" >2009</td>\n",
       "      <td id=\"T_7b9ab_row2_col1\" class=\"data row2 col1\" >4,241,102,855</td>\n",
       "      <td id=\"T_7b9ab_row2_col2\" class=\"data row2 col2\" >593,754,400</td>\n",
       "      <td id=\"T_7b9ab_row2_col3\" class=\"data row2 col3\" >284,153,891</td>\n",
       "      <td id=\"T_7b9ab_row2_col4\" class=\"data row2 col4\" >309,600,508</td>\n",
       "      <td id=\"T_7b9ab_row2_col5\" class=\"data row2 col5\" >593,754,400</td>\n",
       "      <td id=\"T_7b9ab_row2_col6\" class=\"data row2 col6\" >593.8 M</td>\n",
       "    </tr>\n",
       "    <tr>\n",
       "      <th id=\"T_7b9ab_level0_row3\" class=\"row_heading level0 row3\" >3</th>\n",
       "      <td id=\"T_7b9ab_row3_col0\" class=\"data row3 col0\" >2010</td>\n",
       "      <td id=\"T_7b9ab_row3_col1\" class=\"data row3 col1\" >4,489,264,088</td>\n",
       "      <td id=\"T_7b9ab_row3_col2\" class=\"data row3 col2\" >628,496,972</td>\n",
       "      <td id=\"T_7b9ab_row3_col3\" class=\"data row3 col3\" >300,780,694</td>\n",
       "      <td id=\"T_7b9ab_row3_col4\" class=\"data row3 col4\" >327,716,278</td>\n",
       "      <td id=\"T_7b9ab_row3_col5\" class=\"data row3 col5\" >628,496,972</td>\n",
       "      <td id=\"T_7b9ab_row3_col6\" class=\"data row3 col6\" >628.5 M</td>\n",
       "    </tr>\n",
       "    <tr>\n",
       "      <th id=\"T_7b9ab_level0_row4\" class=\"row_heading level0 row4\" >4</th>\n",
       "      <td id=\"T_7b9ab_row4_col0\" class=\"data row4 col0\" >2011</td>\n",
       "      <td id=\"T_7b9ab_row4_col1\" class=\"data row4 col1\" >4,884,168,070</td>\n",
       "      <td id=\"T_7b9ab_row4_col2\" class=\"data row4 col2\" >683,783,530</td>\n",
       "      <td id=\"T_7b9ab_row4_col3\" class=\"data row4 col3\" >327,239,261</td>\n",
       "      <td id=\"T_7b9ab_row4_col4\" class=\"data row4 col4\" >356,544,269</td>\n",
       "      <td id=\"T_7b9ab_row4_col5\" class=\"data row4 col5\" >683,783,530</td>\n",
       "      <td id=\"T_7b9ab_row4_col6\" class=\"data row4 col6\" >683.8 M</td>\n",
       "    </tr>\n",
       "    <tr>\n",
       "      <th id=\"T_7b9ab_level0_row5\" class=\"row_heading level0 row5\" >5</th>\n",
       "      <td id=\"T_7b9ab_row5_col0\" class=\"data row5 col0\" >2012</td>\n",
       "      <td id=\"T_7b9ab_row5_col1\" class=\"data row5 col1\" >5,291,161,829</td>\n",
       "      <td id=\"T_7b9ab_row5_col2\" class=\"data row5 col2\" >740,762,656</td>\n",
       "      <td id=\"T_7b9ab_row5_col3\" class=\"data row5 col3\" >354,507,843</td>\n",
       "      <td id=\"T_7b9ab_row5_col4\" class=\"data row5 col4\" >386,254,814</td>\n",
       "      <td id=\"T_7b9ab_row5_col5\" class=\"data row5 col5\" >740,762,656</td>\n",
       "      <td id=\"T_7b9ab_row5_col6\" class=\"data row5 col6\" >740.8 M</td>\n",
       "    </tr>\n",
       "    <tr>\n",
       "      <th id=\"T_7b9ab_level0_row6\" class=\"row_heading level0 row6\" >6</th>\n",
       "      <td id=\"T_7b9ab_row6_col0\" class=\"data row6 col0\" >2013</td>\n",
       "      <td id=\"T_7b9ab_row6_col1\" class=\"data row6 col1\" >5,569,166,926</td>\n",
       "      <td id=\"T_7b9ab_row6_col2\" class=\"data row6 col2\" >779,683,370</td>\n",
       "      <td id=\"T_7b9ab_row6_col3\" class=\"data row6 col3\" >373,134,184</td>\n",
       "      <td id=\"T_7b9ab_row6_col4\" class=\"data row6 col4\" >406,549,186</td>\n",
       "      <td id=\"T_7b9ab_row6_col5\" class=\"data row6 col5\" >779,683,370</td>\n",
       "      <td id=\"T_7b9ab_row6_col6\" class=\"data row6 col6\" >779.7 M</td>\n",
       "    </tr>\n",
       "    <tr>\n",
       "      <th id=\"T_7b9ab_level0_row7\" class=\"row_heading level0 row7\" >7</th>\n",
       "      <td id=\"T_7b9ab_row7_col0\" class=\"data row7 col0\" >2014</td>\n",
       "      <td id=\"T_7b9ab_row7_col1\" class=\"data row7 col1\" >5,914,342,099</td>\n",
       "      <td id=\"T_7b9ab_row7_col2\" class=\"data row7 col2\" >828,007,894</td>\n",
       "      <td id=\"T_7b9ab_row7_col3\" class=\"data row7 col3\" >396,260,921</td>\n",
       "      <td id=\"T_7b9ab_row7_col4\" class=\"data row7 col4\" >431,746,973</td>\n",
       "      <td id=\"T_7b9ab_row7_col5\" class=\"data row7 col5\" >396,260,921</td>\n",
       "      <td id=\"T_7b9ab_row7_col6\" class=\"data row7 col6\" >396.3 M</td>\n",
       "    </tr>\n",
       "    <tr>\n",
       "      <th id=\"T_7b9ab_level0_row8\" class=\"row_heading level0 row8\" >8</th>\n",
       "      <td id=\"T_7b9ab_row8_col0\" class=\"data row8 col0\" >2015</td>\n",
       "      <td id=\"T_7b9ab_row8_col1\" class=\"data row8 col1\" >6,215,559,828</td>\n",
       "      <td id=\"T_7b9ab_row8_col2\" class=\"data row8 col2\" >870,178,376</td>\n",
       "      <td id=\"T_7b9ab_row8_col3\" class=\"data row8 col3\" >416,442,508</td>\n",
       "      <td id=\"T_7b9ab_row8_col4\" class=\"data row8 col4\" >453,735,867</td>\n",
       "      <td id=\"T_7b9ab_row8_col5\" class=\"data row8 col5\" >416,442,508</td>\n",
       "      <td id=\"T_7b9ab_row8_col6\" class=\"data row8 col6\" >416.4 M</td>\n",
       "    </tr>\n",
       "    <tr>\n",
       "      <th id=\"T_7b9ab_level0_row9\" class=\"row_heading level0 row9\" >9</th>\n",
       "      <td id=\"T_7b9ab_row9_col0\" class=\"data row9 col0\" >2016</td>\n",
       "      <td id=\"T_7b9ab_row9_col1\" class=\"data row9 col1\" >6,471,401,208</td>\n",
       "      <td id=\"T_7b9ab_row9_col2\" class=\"data row9 col2\" >905,996,169</td>\n",
       "      <td id=\"T_7b9ab_row9_col3\" class=\"data row9 col3\" >433,583,881</td>\n",
       "      <td id=\"T_7b9ab_row9_col4\" class=\"data row9 col4\" >472,412,288</td>\n",
       "      <td id=\"T_7b9ab_row9_col5\" class=\"data row9 col5\" >433,583,881</td>\n",
       "      <td id=\"T_7b9ab_row9_col6\" class=\"data row9 col6\" >433.6 M</td>\n",
       "    </tr>\n",
       "    <tr>\n",
       "      <th id=\"T_7b9ab_level0_row10\" class=\"row_heading level0 row10\" >10</th>\n",
       "      <td id=\"T_7b9ab_row10_col0\" class=\"data row10 col0\" >2017</td>\n",
       "      <td id=\"T_7b9ab_row10_col1\" class=\"data row10 col1\" >6,765,176,912</td>\n",
       "      <td id=\"T_7b9ab_row10_col2\" class=\"data row10 col2\" >947,124,768</td>\n",
       "      <td id=\"T_7b9ab_row10_col3\" class=\"data row10 col3\" >453,266,853</td>\n",
       "      <td id=\"T_7b9ab_row10_col4\" class=\"data row10 col4\" >493,857,915</td>\n",
       "      <td id=\"T_7b9ab_row10_col5\" class=\"data row10 col5\" >453,266,853</td>\n",
       "      <td id=\"T_7b9ab_row10_col6\" class=\"data row10 col6\" >453.3 M</td>\n",
       "    </tr>\n",
       "    <tr>\n",
       "      <th id=\"T_7b9ab_level0_row11\" class=\"row_heading level0 row11\" >11</th>\n",
       "      <td id=\"T_7b9ab_row11_col0\" class=\"data row11 col0\" >2018</td>\n",
       "      <td id=\"T_7b9ab_row11_col1\" class=\"data row11 col1\" >7,267,294,058</td>\n",
       "      <td id=\"T_7b9ab_row11_col2\" class=\"data row11 col2\" >1,017,421,168</td>\n",
       "      <td id=\"T_7b9ab_row11_col3\" class=\"data row11 col3\" >486,908,702</td>\n",
       "      <td id=\"T_7b9ab_row11_col4\" class=\"data row11 col4\" >530,512,466</td>\n",
       "      <td id=\"T_7b9ab_row11_col5\" class=\"data row11 col5\" >486,908,702</td>\n",
       "      <td id=\"T_7b9ab_row11_col6\" class=\"data row11 col6\" >486.9 M</td>\n",
       "    </tr>\n",
       "    <tr>\n",
       "      <th id=\"T_7b9ab_level0_row12\" class=\"row_heading level0 row12\" >12</th>\n",
       "      <td id=\"T_7b9ab_row12_col0\" class=\"data row12 col0\" >2019</td>\n",
       "      <td id=\"T_7b9ab_row12_col1\" class=\"data row12 col1\" >7,702,239,480</td>\n",
       "      <td id=\"T_7b9ab_row12_col2\" class=\"data row12 col2\" >1,078,313,527</td>\n",
       "      <td id=\"T_7b9ab_row12_col3\" class=\"data row12 col3\" >516,050,045</td>\n",
       "      <td id=\"T_7b9ab_row12_col4\" class=\"data row12 col4\" >562,263,482</td>\n",
       "      <td id=\"T_7b9ab_row12_col5\" class=\"data row12 col5\" >516,050,045</td>\n",
       "      <td id=\"T_7b9ab_row12_col6\" class=\"data row12 col6\" >516.1 M</td>\n",
       "    </tr>\n",
       "    <tr>\n",
       "      <th id=\"T_7b9ab_level0_row13\" class=\"row_heading level0 row13\" >13</th>\n",
       "      <td id=\"T_7b9ab_row13_col0\" class=\"data row13 col0\" >2020</td>\n",
       "      <td id=\"T_7b9ab_row13_col1\" class=\"data row13 col1\" >4,689,094,044</td>\n",
       "      <td id=\"T_7b9ab_row13_col2\" class=\"data row13 col2\" >656,473,166</td>\n",
       "      <td id=\"T_7b9ab_row13_col3\" class=\"data row13 col3\" >314,169,301</td>\n",
       "      <td id=\"T_7b9ab_row13_col4\" class=\"data row13 col4\" >342,303,865</td>\n",
       "      <td id=\"T_7b9ab_row13_col5\" class=\"data row13 col5\" >314,169,301</td>\n",
       "      <td id=\"T_7b9ab_row13_col6\" class=\"data row13 col6\" >314.2 M</td>\n",
       "    </tr>\n",
       "    <tr>\n",
       "      <th id=\"T_7b9ab_level0_row14\" class=\"row_heading level0 row14\" >14</th>\n",
       "      <td id=\"T_7b9ab_row14_col0\" class=\"data row14 col0\" >2021</td>\n",
       "      <td id=\"T_7b9ab_row14_col1\" class=\"data row14 col1\" >8,046,661,714</td>\n",
       "      <td id=\"T_7b9ab_row14_col2\" class=\"data row14 col2\" >1,126,532,640</td>\n",
       "      <td id=\"T_7b9ab_row14_col3\" class=\"data row14 col3\" >539,126,335</td>\n",
       "      <td id=\"T_7b9ab_row14_col4\" class=\"data row14 col4\" >587,406,305</td>\n",
       "      <td id=\"T_7b9ab_row14_col5\" class=\"data row14 col5\" >539,126,335</td>\n",
       "      <td id=\"T_7b9ab_row14_col6\" class=\"data row14 col6\" >539.1 M</td>\n",
       "    </tr>\n",
       "    <tr>\n",
       "      <th id=\"T_7b9ab_level0_row15\" class=\"row_heading level0 row15\" >15</th>\n",
       "      <td id=\"T_7b9ab_row15_col0\" class=\"data row15 col0\" >2022</td>\n",
       "      <td id=\"T_7b9ab_row15_col1\" class=\"data row15 col1\" >3,267,211,125</td>\n",
       "      <td id=\"T_7b9ab_row15_col2\" class=\"data row15 col2\" >457,409,558</td>\n",
       "      <td id=\"T_7b9ab_row15_col3\" class=\"data row15 col3\" >218,903,145</td>\n",
       "      <td id=\"T_7b9ab_row15_col4\" class=\"data row15 col4\" >238,506,412</td>\n",
       "      <td id=\"T_7b9ab_row15_col5\" class=\"data row15 col5\" >218,903,145</td>\n",
       "      <td id=\"T_7b9ab_row15_col6\" class=\"data row15 col6\" >218.9 M</td>\n",
       "    </tr>\n",
       "  </tbody>\n",
       "</table>\n"
      ],
      "text/plain": [
       "<pandas.io.formats.style.Styler at 0x11a5cffa0>"
      ]
     },
     "execution_count": 11,
     "metadata": {},
     "output_type": "execute_result"
    }
   ],
   "source": [
    "totals_by_year = receipt_totals.groupby('year')[['Total Receipts', 'old_taxes', 'new_taxes', 'tax_diff', 'taxes_due']].sum().reset_index()\n",
    "totals_by_year['taxes_due_str'] = totals_by_year['taxes_due'].apply(lambda i: f'{i / 1_000_000:.1f} M')\n",
    "totals_by_year.style.format('{:,.0f}', subset=['Total Receipts', 'old_taxes', 'new_taxes', 'tax_diff', 'taxes_due'])"
   ]
  },
  {
   "cell_type": "markdown",
   "id": "299a9a01-7f38-42c5-90bc-4adfcc5adab8",
   "metadata": {},
   "source": [
    "### Total Receipts by year"
   ]
  },
  {
   "cell_type": "code",
   "execution_count": 12,
   "id": "9b68bd2d-a92d-459e-b682-1b1cbdc008f7",
   "metadata": {},
   "outputs": [
    {
     "data": {
      "text/html": [
       "\n",
       "<div id=\"altair-viz-bb96ec542b484d3b969af0b2443a379c\"></div>\n",
       "<script type=\"text/javascript\">\n",
       "  var VEGA_DEBUG = (typeof VEGA_DEBUG == \"undefined\") ? {} : VEGA_DEBUG;\n",
       "  (function(spec, embedOpt){\n",
       "    let outputDiv = document.currentScript.previousElementSibling;\n",
       "    if (outputDiv.id !== \"altair-viz-bb96ec542b484d3b969af0b2443a379c\") {\n",
       "      outputDiv = document.getElementById(\"altair-viz-bb96ec542b484d3b969af0b2443a379c\");\n",
       "    }\n",
       "    const paths = {\n",
       "      \"vega\": \"https://cdn.jsdelivr.net/npm//vega@5?noext\",\n",
       "      \"vega-lib\": \"https://cdn.jsdelivr.net/npm//vega-lib?noext\",\n",
       "      \"vega-lite\": \"https://cdn.jsdelivr.net/npm//vega-lite@4.17.0?noext\",\n",
       "      \"vega-embed\": \"https://cdn.jsdelivr.net/npm//vega-embed@6?noext\",\n",
       "    };\n",
       "\n",
       "    function maybeLoadScript(lib, version) {\n",
       "      var key = `${lib.replace(\"-\", \"\")}_version`;\n",
       "      return (VEGA_DEBUG[key] == version) ?\n",
       "        Promise.resolve(paths[lib]) :\n",
       "        new Promise(function(resolve, reject) {\n",
       "          var s = document.createElement('script');\n",
       "          document.getElementsByTagName(\"head\")[0].appendChild(s);\n",
       "          s.async = true;\n",
       "          s.onload = () => {\n",
       "            VEGA_DEBUG[key] = version;\n",
       "            return resolve(paths[lib]);\n",
       "          };\n",
       "          s.onerror = () => reject(`Error loading script: ${paths[lib]}`);\n",
       "          s.src = paths[lib];\n",
       "        });\n",
       "    }\n",
       "\n",
       "    function showError(err) {\n",
       "      outputDiv.innerHTML = `<div class=\"error\" style=\"color:red;\">${err}</div>`;\n",
       "      throw err;\n",
       "    }\n",
       "\n",
       "    function displayChart(vegaEmbed) {\n",
       "      vegaEmbed(outputDiv, spec, embedOpt)\n",
       "        .catch(err => showError(`Javascript Error: ${err.message}<br>This usually means there's a typo in your chart specification. See the javascript console for the full traceback.`));\n",
       "    }\n",
       "\n",
       "    if(typeof define === \"function\" && define.amd) {\n",
       "      requirejs.config({paths});\n",
       "      require([\"vega-embed\"], displayChart, err => showError(`Error loading script: ${err.message}`));\n",
       "    } else {\n",
       "      maybeLoadScript(\"vega\", \"5\")\n",
       "        .then(() => maybeLoadScript(\"vega-lite\", \"4.17.0\"))\n",
       "        .then(() => maybeLoadScript(\"vega-embed\", \"6\"))\n",
       "        .catch(showError)\n",
       "        .then(() => displayChart(vegaEmbed));\n",
       "    }\n",
       "  })({\"config\": {\"view\": {\"continuousWidth\": 400, \"continuousHeight\": 300}}, \"data\": {\"name\": \"data-07a354946cfca54b062ac62ecc199ad5\"}, \"mark\": \"bar\", \"encoding\": {\"tooltip\": [{\"field\": \"taxes_due_str\", \"type\": \"nominal\"}], \"x\": {\"field\": \"year\", \"type\": \"ordinal\"}, \"y\": {\"field\": \"Total Receipts\", \"type\": \"quantitative\"}}, \"$schema\": \"https://vega.github.io/schema/vega-lite/v4.17.0.json\", \"datasets\": {\"data-07a354946cfca54b062ac62ecc199ad5\": [{\"year\": 2007, \"Total Receipts\": 4032838388, \"old_taxes\": 564597374.32, \"new_taxes\": 270200171.996, \"tax_diff\": 294397202.32400006, \"taxes_due\": 564597374.32, \"taxes_due_str\": \"564.6 M\"}, {\"year\": 2008, \"Total Receipts\": 4267790879, \"old_taxes\": 597490723.0600001, \"new_taxes\": 285941988.893, \"tax_diff\": 311548734.16700006, \"taxes_due\": 597490723.0600001, \"taxes_due_str\": \"597.5 M\"}, {\"year\": 2009, \"Total Receipts\": 4241102855, \"old_taxes\": 593754399.7, \"new_taxes\": 284153891.285, \"tax_diff\": 309600508.415, \"taxes_due\": 593754399.7, \"taxes_due_str\": \"593.8 M\"}, {\"year\": 2010, \"Total Receipts\": 4489264088, \"old_taxes\": 628496972.32, \"new_taxes\": 300780693.896, \"tax_diff\": 327716278.424, \"taxes_due\": 628496972.32, \"taxes_due_str\": \"628.5 M\"}, {\"year\": 2011, \"Total Receipts\": 4884168070, \"old_taxes\": 683783529.8000001, \"new_taxes\": 327239260.69, \"tax_diff\": 356544269.1100001, \"taxes_due\": 683783529.8000001, \"taxes_due_str\": \"683.8 M\"}, {\"year\": 2012, \"Total Receipts\": 5291161829, \"old_taxes\": 740762656.0600001, \"new_taxes\": 354507842.54300004, \"tax_diff\": 386254813.517, \"taxes_due\": 740762656.0600001, \"taxes_due_str\": \"740.8 M\"}, {\"year\": 2013, \"Total Receipts\": 5569166926, \"old_taxes\": 779683369.6400001, \"new_taxes\": 373134184.042, \"tax_diff\": 406549185.59800005, \"taxes_due\": 779683369.6400001, \"taxes_due_str\": \"779.7 M\"}, {\"year\": 2014, \"Total Receipts\": 5914342099, \"old_taxes\": 828007893.8600001, \"new_taxes\": 396260920.633, \"tax_diff\": 431746973.22700006, \"taxes_due\": 396260920.633, \"taxes_due_str\": \"396.3 M\"}, {\"year\": 2015, \"Total Receipts\": 6215559828, \"old_taxes\": 870178375.9200001, \"new_taxes\": 416442508.476, \"tax_diff\": 453735867.44400007, \"taxes_due\": 416442508.476, \"taxes_due_str\": \"416.4 M\"}, {\"year\": 2016, \"Total Receipts\": 6471401208, \"old_taxes\": 905996169.1200001, \"new_taxes\": 433583880.93600005, \"tax_diff\": 472412288.1840001, \"taxes_due\": 433583880.93600005, \"taxes_due_str\": \"433.6 M\"}, {\"year\": 2017, \"Total Receipts\": 6765176912, \"old_taxes\": 947124767.6800001, \"new_taxes\": 453266853.10400003, \"tax_diff\": 493857914.57600003, \"taxes_due\": 453266853.10400003, \"taxes_due_str\": \"453.3 M\"}, {\"year\": 2018, \"Total Receipts\": 7267294058, \"old_taxes\": 1017421168.1200001, \"new_taxes\": 486908701.88600004, \"tax_diff\": 530512466.2340001, \"taxes_due\": 486908701.88600004, \"taxes_due_str\": \"486.9 M\"}, {\"year\": 2019, \"Total Receipts\": 7702239480, \"old_taxes\": 1078313527.2, \"new_taxes\": 516050045.16, \"tax_diff\": 562263482.0400001, \"taxes_due\": 516050045.16, \"taxes_due_str\": \"516.1 M\"}, {\"year\": 2020, \"Total Receipts\": 4689094044, \"old_taxes\": 656473166.1600001, \"new_taxes\": 314169300.948, \"tax_diff\": 342303865.2120001, \"taxes_due\": 314169300.948, \"taxes_due_str\": \"314.2 M\"}, {\"year\": 2021, \"Total Receipts\": 8046661714, \"old_taxes\": 1126532639.96, \"new_taxes\": 539126334.838, \"tax_diff\": 587406305.1220001, \"taxes_due\": 539126334.838, \"taxes_due_str\": \"539.1 M\"}, {\"year\": 2022, \"Total Receipts\": 3267211125, \"old_taxes\": 457409557.50000006, \"new_taxes\": 218903145.375, \"tax_diff\": 238506412.12500003, \"taxes_due\": 218903145.375, \"taxes_due_str\": \"218.9 M\"}]}}, {\"mode\": \"vega-lite\"});\n",
       "</script>"
      ],
      "text/plain": [
       "alt.Chart(...)"
      ]
     },
     "execution_count": 12,
     "metadata": {},
     "output_type": "execute_result"
    }
   ],
   "source": [
    "alt.Chart(totals_by_year).mark_bar().encode(x='year:O', y='Total Receipts', tooltip=['taxes_due_str'])"
   ]
  },
  {
   "cell_type": "markdown",
   "id": "cbbde506-3207-4c8f-8881-3a073137fd94",
   "metadata": {},
   "source": [
    "### taxes due by year"
   ]
  },
  {
   "cell_type": "code",
   "execution_count": 13,
   "id": "e4481ca5-580d-4a13-a546-cd6eecbfc785",
   "metadata": {},
   "outputs": [
    {
     "data": {
      "text/html": [
       "\n",
       "<div id=\"altair-viz-d4f6db3c8b664e3b860d24b8fdc8e4c8\"></div>\n",
       "<script type=\"text/javascript\">\n",
       "  var VEGA_DEBUG = (typeof VEGA_DEBUG == \"undefined\") ? {} : VEGA_DEBUG;\n",
       "  (function(spec, embedOpt){\n",
       "    let outputDiv = document.currentScript.previousElementSibling;\n",
       "    if (outputDiv.id !== \"altair-viz-d4f6db3c8b664e3b860d24b8fdc8e4c8\") {\n",
       "      outputDiv = document.getElementById(\"altair-viz-d4f6db3c8b664e3b860d24b8fdc8e4c8\");\n",
       "    }\n",
       "    const paths = {\n",
       "      \"vega\": \"https://cdn.jsdelivr.net/npm//vega@5?noext\",\n",
       "      \"vega-lib\": \"https://cdn.jsdelivr.net/npm//vega-lib?noext\",\n",
       "      \"vega-lite\": \"https://cdn.jsdelivr.net/npm//vega-lite@4.17.0?noext\",\n",
       "      \"vega-embed\": \"https://cdn.jsdelivr.net/npm//vega-embed@6?noext\",\n",
       "    };\n",
       "\n",
       "    function maybeLoadScript(lib, version) {\n",
       "      var key = `${lib.replace(\"-\", \"\")}_version`;\n",
       "      return (VEGA_DEBUG[key] == version) ?\n",
       "        Promise.resolve(paths[lib]) :\n",
       "        new Promise(function(resolve, reject) {\n",
       "          var s = document.createElement('script');\n",
       "          document.getElementsByTagName(\"head\")[0].appendChild(s);\n",
       "          s.async = true;\n",
       "          s.onload = () => {\n",
       "            VEGA_DEBUG[key] = version;\n",
       "            return resolve(paths[lib]);\n",
       "          };\n",
       "          s.onerror = () => reject(`Error loading script: ${paths[lib]}`);\n",
       "          s.src = paths[lib];\n",
       "        });\n",
       "    }\n",
       "\n",
       "    function showError(err) {\n",
       "      outputDiv.innerHTML = `<div class=\"error\" style=\"color:red;\">${err}</div>`;\n",
       "      throw err;\n",
       "    }\n",
       "\n",
       "    function displayChart(vegaEmbed) {\n",
       "      vegaEmbed(outputDiv, spec, embedOpt)\n",
       "        .catch(err => showError(`Javascript Error: ${err.message}<br>This usually means there's a typo in your chart specification. See the javascript console for the full traceback.`));\n",
       "    }\n",
       "\n",
       "    if(typeof define === \"function\" && define.amd) {\n",
       "      requirejs.config({paths});\n",
       "      require([\"vega-embed\"], displayChart, err => showError(`Error loading script: ${err.message}`));\n",
       "    } else {\n",
       "      maybeLoadScript(\"vega\", \"5\")\n",
       "        .then(() => maybeLoadScript(\"vega-lite\", \"4.17.0\"))\n",
       "        .then(() => maybeLoadScript(\"vega-embed\", \"6\"))\n",
       "        .catch(showError)\n",
       "        .then(() => displayChart(vegaEmbed));\n",
       "    }\n",
       "  })({\"config\": {\"view\": {\"continuousWidth\": 400, \"continuousHeight\": 300}}, \"data\": {\"name\": \"data-07a354946cfca54b062ac62ecc199ad5\"}, \"mark\": \"bar\", \"encoding\": {\"x\": {\"field\": \"year\", \"type\": \"ordinal\"}, \"y\": {\"field\": \"taxes_due\", \"type\": \"quantitative\"}}, \"$schema\": \"https://vega.github.io/schema/vega-lite/v4.17.0.json\", \"datasets\": {\"data-07a354946cfca54b062ac62ecc199ad5\": [{\"year\": 2007, \"Total Receipts\": 4032838388, \"old_taxes\": 564597374.32, \"new_taxes\": 270200171.996, \"tax_diff\": 294397202.32400006, \"taxes_due\": 564597374.32, \"taxes_due_str\": \"564.6 M\"}, {\"year\": 2008, \"Total Receipts\": 4267790879, \"old_taxes\": 597490723.0600001, \"new_taxes\": 285941988.893, \"tax_diff\": 311548734.16700006, \"taxes_due\": 597490723.0600001, \"taxes_due_str\": \"597.5 M\"}, {\"year\": 2009, \"Total Receipts\": 4241102855, \"old_taxes\": 593754399.7, \"new_taxes\": 284153891.285, \"tax_diff\": 309600508.415, \"taxes_due\": 593754399.7, \"taxes_due_str\": \"593.8 M\"}, {\"year\": 2010, \"Total Receipts\": 4489264088, \"old_taxes\": 628496972.32, \"new_taxes\": 300780693.896, \"tax_diff\": 327716278.424, \"taxes_due\": 628496972.32, \"taxes_due_str\": \"628.5 M\"}, {\"year\": 2011, \"Total Receipts\": 4884168070, \"old_taxes\": 683783529.8000001, \"new_taxes\": 327239260.69, \"tax_diff\": 356544269.1100001, \"taxes_due\": 683783529.8000001, \"taxes_due_str\": \"683.8 M\"}, {\"year\": 2012, \"Total Receipts\": 5291161829, \"old_taxes\": 740762656.0600001, \"new_taxes\": 354507842.54300004, \"tax_diff\": 386254813.517, \"taxes_due\": 740762656.0600001, \"taxes_due_str\": \"740.8 M\"}, {\"year\": 2013, \"Total Receipts\": 5569166926, \"old_taxes\": 779683369.6400001, \"new_taxes\": 373134184.042, \"tax_diff\": 406549185.59800005, \"taxes_due\": 779683369.6400001, \"taxes_due_str\": \"779.7 M\"}, {\"year\": 2014, \"Total Receipts\": 5914342099, \"old_taxes\": 828007893.8600001, \"new_taxes\": 396260920.633, \"tax_diff\": 431746973.22700006, \"taxes_due\": 396260920.633, \"taxes_due_str\": \"396.3 M\"}, {\"year\": 2015, \"Total Receipts\": 6215559828, \"old_taxes\": 870178375.9200001, \"new_taxes\": 416442508.476, \"tax_diff\": 453735867.44400007, \"taxes_due\": 416442508.476, \"taxes_due_str\": \"416.4 M\"}, {\"year\": 2016, \"Total Receipts\": 6471401208, \"old_taxes\": 905996169.1200001, \"new_taxes\": 433583880.93600005, \"tax_diff\": 472412288.1840001, \"taxes_due\": 433583880.93600005, \"taxes_due_str\": \"433.6 M\"}, {\"year\": 2017, \"Total Receipts\": 6765176912, \"old_taxes\": 947124767.6800001, \"new_taxes\": 453266853.10400003, \"tax_diff\": 493857914.57600003, \"taxes_due\": 453266853.10400003, \"taxes_due_str\": \"453.3 M\"}, {\"year\": 2018, \"Total Receipts\": 7267294058, \"old_taxes\": 1017421168.1200001, \"new_taxes\": 486908701.88600004, \"tax_diff\": 530512466.2340001, \"taxes_due\": 486908701.88600004, \"taxes_due_str\": \"486.9 M\"}, {\"year\": 2019, \"Total Receipts\": 7702239480, \"old_taxes\": 1078313527.2, \"new_taxes\": 516050045.16, \"tax_diff\": 562263482.0400001, \"taxes_due\": 516050045.16, \"taxes_due_str\": \"516.1 M\"}, {\"year\": 2020, \"Total Receipts\": 4689094044, \"old_taxes\": 656473166.1600001, \"new_taxes\": 314169300.948, \"tax_diff\": 342303865.2120001, \"taxes_due\": 314169300.948, \"taxes_due_str\": \"314.2 M\"}, {\"year\": 2021, \"Total Receipts\": 8046661714, \"old_taxes\": 1126532639.96, \"new_taxes\": 539126334.838, \"tax_diff\": 587406305.1220001, \"taxes_due\": 539126334.838, \"taxes_due_str\": \"539.1 M\"}, {\"year\": 2022, \"Total Receipts\": 3267211125, \"old_taxes\": 457409557.50000006, \"new_taxes\": 218903145.375, \"tax_diff\": 238506412.12500003, \"taxes_due\": 218903145.375, \"taxes_due_str\": \"218.9 M\"}]}}, {\"mode\": \"vega-lite\"});\n",
       "</script>"
      ],
      "text/plain": [
       "alt.Chart(...)"
      ]
     },
     "execution_count": 13,
     "metadata": {},
     "output_type": "execute_result"
    }
   ],
   "source": [
    "alt.Chart(totals_by_year).mark_bar().encode(x='year:O', y='taxes_due')"
   ]
  },
  {
   "cell_type": "markdown",
   "id": "aa5f3e43-2298-4549-a854-32e53911c482",
   "metadata": {},
   "source": [
    "### totals for the whole data set"
   ]
  },
  {
   "cell_type": "code",
   "execution_count": 14,
   "id": "2657c900-9ae7-4158-8118-fbf2e5e2c873",
   "metadata": {},
   "outputs": [
    {
     "data": {
      "text/html": [
       "<style type=\"text/css\">\n",
       "</style>\n",
       "<table id=\"T_c8a7d\">\n",
       "  <thead>\n",
       "    <tr>\n",
       "      <th class=\"blank level0\" >&nbsp;</th>\n",
       "      <th id=\"T_c8a7d_level0_col0\" class=\"col_heading level0 col0\" >0</th>\n",
       "    </tr>\n",
       "    <tr>\n",
       "      <th class=\"index_name level0\" >index</th>\n",
       "      <th class=\"blank col0\" >&nbsp;</th>\n",
       "    </tr>\n",
       "  </thead>\n",
       "  <tbody>\n",
       "    <tr>\n",
       "      <th id=\"T_c8a7d_level0_row0\" class=\"row_heading level0 row0\" >Total Receipts</th>\n",
       "      <td id=\"T_c8a7d_row0_col0\" class=\"data row0 col0\" >89,114,473,503.00</td>\n",
       "    </tr>\n",
       "    <tr>\n",
       "      <th id=\"T_c8a7d_level0_row1\" class=\"row_heading level0 row1\" >year</th>\n",
       "      <td id=\"T_c8a7d_row1_col0\" class=\"data row1 col0\" >4,376,644,973.00</td>\n",
       "    </tr>\n",
       "    <tr>\n",
       "      <th id=\"T_c8a7d_level0_row2\" class=\"row_heading level0 row2\" >old_taxes</th>\n",
       "      <td id=\"T_c8a7d_row2_col0\" class=\"data row2 col0\" >12,476,026,290.42</td>\n",
       "    </tr>\n",
       "    <tr>\n",
       "      <th id=\"T_c8a7d_level0_row3\" class=\"row_heading level0 row3\" >new_taxes</th>\n",
       "      <td id=\"T_c8a7d_row3_col0\" class=\"data row3 col0\" >5,970,669,724.70</td>\n",
       "    </tr>\n",
       "    <tr>\n",
       "      <th id=\"T_c8a7d_level0_row4\" class=\"row_heading level0 row4\" >tax_diff</th>\n",
       "      <td id=\"T_c8a7d_row4_col0\" class=\"data row4 col0\" >6,505,356,565.72</td>\n",
       "    </tr>\n",
       "    <tr>\n",
       "      <th id=\"T_c8a7d_level0_row5\" class=\"row_heading level0 row5\" >taxes_due</th>\n",
       "      <td id=\"T_c8a7d_row5_col0\" class=\"data row5 col0\" >8,363,280,716.26</td>\n",
       "    </tr>\n",
       "  </tbody>\n",
       "</table>\n"
      ],
      "text/plain": [
       "<pandas.io.formats.style.Styler at 0x109fe6a70>"
      ]
     },
     "execution_count": 14,
     "metadata": {},
     "output_type": "execute_result"
    }
   ],
   "source": [
    "(receipt_totals.set_index(['Taxpayer Number', 'last_day_reporting_period'])\n",
    "               .sum().reset_index().set_index('index')\n",
    "               .style.format('{:,.2f}'))"
   ]
  },
  {
   "cell_type": "markdown",
   "id": "0aabbb06-2e78-4fb6-8390-ad7ba655cc18",
   "metadata": {},
   "source": [
    "### Before Jan 1, 2014"
   ]
  },
  {
   "cell_type": "code",
   "execution_count": 15,
   "id": "62fbc705-0202-4c73-b870-8cdb28932dae",
   "metadata": {},
   "outputs": [
    {
     "data": {
      "text/html": [
       "<style type=\"text/css\">\n",
       "</style>\n",
       "<table id=\"T_1a977\">\n",
       "  <thead>\n",
       "    <tr>\n",
       "      <th class=\"blank level0\" >&nbsp;</th>\n",
       "      <th id=\"T_1a977_level0_col0\" class=\"col_heading level0 col0\" >0</th>\n",
       "    </tr>\n",
       "    <tr>\n",
       "      <th class=\"index_name level0\" >index</th>\n",
       "      <th class=\"blank col0\" >&nbsp;</th>\n",
       "    </tr>\n",
       "  </thead>\n",
       "  <tbody>\n",
       "    <tr>\n",
       "      <th id=\"T_1a977_level0_row0\" class=\"row_heading level0 row0\" >Total Receipts</th>\n",
       "      <td id=\"T_1a977_row0_col0\" class=\"data row0 col0\" >32,775,493,035.00</td>\n",
       "    </tr>\n",
       "    <tr>\n",
       "      <th id=\"T_1a977_level0_row1\" class=\"row_heading level0 row1\" >year</th>\n",
       "      <td id=\"T_1a977_row1_col0\" class=\"data row1 col0\" >1,782,309,695.00</td>\n",
       "    </tr>\n",
       "    <tr>\n",
       "      <th id=\"T_1a977_level0_row2\" class=\"row_heading level0 row2\" >old_taxes</th>\n",
       "      <td id=\"T_1a977_row2_col0\" class=\"data row2 col0\" >4,588,569,024.90</td>\n",
       "    </tr>\n",
       "    <tr>\n",
       "      <th id=\"T_1a977_level0_row3\" class=\"row_heading level0 row3\" >new_taxes</th>\n",
       "      <td id=\"T_1a977_row3_col0\" class=\"data row3 col0\" >2,195,958,033.35</td>\n",
       "    </tr>\n",
       "    <tr>\n",
       "      <th id=\"T_1a977_level0_row4\" class=\"row_heading level0 row4\" >tax_diff</th>\n",
       "      <td id=\"T_1a977_row4_col0\" class=\"data row4 col0\" >2,392,610,991.55</td>\n",
       "    </tr>\n",
       "    <tr>\n",
       "      <th id=\"T_1a977_level0_row5\" class=\"row_heading level0 row5\" >taxes_due</th>\n",
       "      <td id=\"T_1a977_row5_col0\" class=\"data row5 col0\" >4,588,569,024.90</td>\n",
       "    </tr>\n",
       "  </tbody>\n",
       "</table>\n"
      ],
      "text/plain": [
       "<pandas.io.formats.style.Styler at 0x11f45bc40>"
      ]
     },
     "execution_count": 15,
     "metadata": {},
     "output_type": "execute_result"
    }
   ],
   "source": [
    "m = (receipt_totals['last_day_reporting_period'] < TAX_CUTOVER)\n",
    "(receipt_totals[m].set_index(['Taxpayer Number', 'last_day_reporting_period'])\n",
    "                  .sum().reset_index().set_index('index')\n",
    "                  .style.format('{:,.2f}'))"
   ]
  },
  {
   "cell_type": "markdown",
   "id": "f4ae58af-e902-4e08-9c7f-c9bd47c0f2a0",
   "metadata": {},
   "source": [
    "### on and after Jan 1, 2014"
   ]
  },
  {
   "cell_type": "code",
   "execution_count": 16,
   "id": "7adecb7a-01b7-4638-a542-d20db957f9e4",
   "metadata": {},
   "outputs": [
    {
     "data": {
      "text/html": [
       "<style type=\"text/css\">\n",
       "</style>\n",
       "<table id=\"T_848d6\">\n",
       "  <thead>\n",
       "    <tr>\n",
       "      <th class=\"blank level0\" >&nbsp;</th>\n",
       "      <th id=\"T_848d6_level0_col0\" class=\"col_heading level0 col0\" >0</th>\n",
       "    </tr>\n",
       "    <tr>\n",
       "      <th class=\"index_name level0\" >index</th>\n",
       "      <th class=\"blank col0\" >&nbsp;</th>\n",
       "    </tr>\n",
       "  </thead>\n",
       "  <tbody>\n",
       "    <tr>\n",
       "      <th id=\"T_848d6_level0_row0\" class=\"row_heading level0 row0\" >Total Receipts</th>\n",
       "      <td id=\"T_848d6_row0_col0\" class=\"data row0 col0\" >56,338,980,468.00</td>\n",
       "    </tr>\n",
       "    <tr>\n",
       "      <th id=\"T_848d6_level0_row1\" class=\"row_heading level0 row1\" >year</th>\n",
       "      <td id=\"T_848d6_row1_col0\" class=\"data row1 col0\" >2,594,335,278.00</td>\n",
       "    </tr>\n",
       "    <tr>\n",
       "      <th id=\"T_848d6_level0_row2\" class=\"row_heading level0 row2\" >old_taxes</th>\n",
       "      <td id=\"T_848d6_row2_col0\" class=\"data row2 col0\" >7,887,457,265.52</td>\n",
       "    </tr>\n",
       "    <tr>\n",
       "      <th id=\"T_848d6_level0_row3\" class=\"row_heading level0 row3\" >new_taxes</th>\n",
       "      <td id=\"T_848d6_row3_col0\" class=\"data row3 col0\" >3,774,711,691.36</td>\n",
       "    </tr>\n",
       "    <tr>\n",
       "      <th id=\"T_848d6_level0_row4\" class=\"row_heading level0 row4\" >tax_diff</th>\n",
       "      <td id=\"T_848d6_row4_col0\" class=\"data row4 col0\" >4,112,745,574.16</td>\n",
       "    </tr>\n",
       "    <tr>\n",
       "      <th id=\"T_848d6_level0_row5\" class=\"row_heading level0 row5\" >taxes_due</th>\n",
       "      <td id=\"T_848d6_row5_col0\" class=\"data row5 col0\" >3,774,711,691.36</td>\n",
       "    </tr>\n",
       "  </tbody>\n",
       "</table>\n"
      ],
      "text/plain": [
       "<pandas.io.formats.style.Styler at 0x11e3e9030>"
      ]
     },
     "execution_count": 16,
     "metadata": {},
     "output_type": "execute_result"
    }
   ],
   "source": [
    "m = (receipt_totals['last_day_reporting_period'] >= TAX_CUTOVER)\n",
    "(receipt_totals[m].set_index(['Taxpayer Number', 'last_day_reporting_period'])\n",
    "                  .sum().reset_index().set_index('index')\n",
    "                  .style.format('{:,.2f}'))"
   ]
  }
 ],
 "metadata": {
  "kernelspec": {
   "display_name": "Python 3 (ipykernel)",
   "language": "python",
   "name": "python3"
  },
  "language_info": {
   "codemirror_mode": {
    "name": "ipython",
    "version": 3
   },
   "file_extension": ".py",
   "mimetype": "text/x-python",
   "name": "python",
   "nbconvert_exporter": "python",
   "pygments_lexer": "ipython3",
   "version": "3.10.2"
  }
 },
 "nbformat": 4,
 "nbformat_minor": 5
}

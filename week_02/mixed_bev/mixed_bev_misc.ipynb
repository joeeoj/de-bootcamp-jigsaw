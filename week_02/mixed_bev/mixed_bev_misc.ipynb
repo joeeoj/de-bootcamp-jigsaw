{
 "cells": [
  {
   "cell_type": "code",
   "execution_count": 1,
   "id": "f17f4355-3179-487a-9c6d-739854ef74c5",
   "metadata": {},
   "outputs": [],
   "source": [
    "import pandas as pd"
   ]
  },
  {
   "cell_type": "code",
   "execution_count": 2,
   "id": "a1195048-8e5b-4159-8d5c-fb2625d0da46",
   "metadata": {},
   "outputs": [
    {
     "name": "stdout",
     "output_type": "stream",
     "text": [
      "1000\n"
     ]
    },
    {
     "data": {
      "text/html": [
       "<div>\n",
       "<style scoped>\n",
       "    .dataframe tbody tr th:only-of-type {\n",
       "        vertical-align: middle;\n",
       "    }\n",
       "\n",
       "    .dataframe tbody tr th {\n",
       "        vertical-align: top;\n",
       "    }\n",
       "\n",
       "    .dataframe thead th {\n",
       "        text-align: right;\n",
       "    }\n",
       "</style>\n",
       "<table border=\"1\" class=\"dataframe\">\n",
       "  <thead>\n",
       "    <tr style=\"text-align: right;\">\n",
       "      <th></th>\n",
       "      <th>taxpayer_number</th>\n",
       "      <th>taxpayer_name</th>\n",
       "      <th>taxpayer_address</th>\n",
       "      <th>taxpayer_city</th>\n",
       "      <th>taxpayer_state</th>\n",
       "      <th>taxpayer_zip</th>\n",
       "      <th>taxpayer_county</th>\n",
       "      <th>location_number</th>\n",
       "      <th>location_name</th>\n",
       "      <th>location_address</th>\n",
       "      <th>...</th>\n",
       "      <th>inside_outside_city_limits_code_y_n</th>\n",
       "      <th>tabc_permit_number</th>\n",
       "      <th>responsibility_begin_date_yyyymmdd</th>\n",
       "      <th>responsibility_end_date_yyyymmdd</th>\n",
       "      <th>obligation_end_date_yyyymmdd</th>\n",
       "      <th>liquor_receipts</th>\n",
       "      <th>wine_receipts</th>\n",
       "      <th>beer_receipts</th>\n",
       "      <th>cover_charge_receipts</th>\n",
       "      <th>total_receipts</th>\n",
       "    </tr>\n",
       "  </thead>\n",
       "  <tbody>\n",
       "    <tr>\n",
       "      <th>0</th>\n",
       "      <td>32047970895</td>\n",
       "      <td>HONDURAS MAYA CAFE &amp; BAR LLC</td>\n",
       "      <td>8011 HAZEN ST</td>\n",
       "      <td>HOUSTON</td>\n",
       "      <td>TX</td>\n",
       "      <td>77036</td>\n",
       "      <td>101</td>\n",
       "      <td>1</td>\n",
       "      <td>HONDURAS MAYA CAFE &amp; BAR LLC</td>\n",
       "      <td>5945 BELLAIRE BLVD STE B</td>\n",
       "      <td>...</td>\n",
       "      <td>Y</td>\n",
       "      <td>MB817033</td>\n",
       "      <td>2012-08-16T00:00:00.000</td>\n",
       "      <td>2019-09-12T00:00:00.000</td>\n",
       "      <td>2019-07-31T00:00:00.000</td>\n",
       "      <td>0</td>\n",
       "      <td>0</td>\n",
       "      <td>0</td>\n",
       "      <td>0</td>\n",
       "      <td>0</td>\n",
       "    </tr>\n",
       "    <tr>\n",
       "      <th>1</th>\n",
       "      <td>32049923835</td>\n",
       "      <td>MERMAID KARAOKE PRIVATE CLUB, INC.</td>\n",
       "      <td>2639 WALNUT HILL LN STE 225</td>\n",
       "      <td>DALLAS</td>\n",
       "      <td>TX</td>\n",
       "      <td>75229</td>\n",
       "      <td>57</td>\n",
       "      <td>1</td>\n",
       "      <td>MERMAID KARAOKE PRIVATE CLUB</td>\n",
       "      <td>1310 W CAMPBELL RD STE 103</td>\n",
       "      <td>...</td>\n",
       "      <td>Y</td>\n",
       "      <td>N 837378</td>\n",
       "      <td>2013-04-12T00:00:00.000</td>\n",
       "      <td>2015-07-01T00:00:00.000</td>\n",
       "      <td>2014-08-31T00:00:00.000</td>\n",
       "      <td>480</td>\n",
       "      <td>185</td>\n",
       "      <td>1374</td>\n",
       "      <td>0</td>\n",
       "      <td>2039</td>\n",
       "    </tr>\n",
       "  </tbody>\n",
       "</table>\n",
       "<p>2 rows × 24 columns</p>\n",
       "</div>"
      ],
      "text/plain": [
       "   taxpayer_number                       taxpayer_name  \\\n",
       "0      32047970895        HONDURAS MAYA CAFE & BAR LLC   \n",
       "1      32049923835  MERMAID KARAOKE PRIVATE CLUB, INC.   \n",
       "\n",
       "              taxpayer_address taxpayer_city taxpayer_state  taxpayer_zip  \\\n",
       "0                8011 HAZEN ST       HOUSTON             TX         77036   \n",
       "1  2639 WALNUT HILL LN STE 225        DALLAS             TX         75229   \n",
       "\n",
       "   taxpayer_county  location_number                 location_name  \\\n",
       "0              101                1  HONDURAS MAYA CAFE & BAR LLC   \n",
       "1               57                1  MERMAID KARAOKE PRIVATE CLUB   \n",
       "\n",
       "             location_address  ... inside_outside_city_limits_code_y_n  \\\n",
       "0    5945 BELLAIRE BLVD STE B  ...                                   Y   \n",
       "1  1310 W CAMPBELL RD STE 103  ...                                   Y   \n",
       "\n",
       "  tabc_permit_number  responsibility_begin_date_yyyymmdd  \\\n",
       "0           MB817033             2012-08-16T00:00:00.000   \n",
       "1           N 837378             2013-04-12T00:00:00.000   \n",
       "\n",
       "   responsibility_end_date_yyyymmdd obligation_end_date_yyyymmdd  \\\n",
       "0           2019-09-12T00:00:00.000      2019-07-31T00:00:00.000   \n",
       "1           2015-07-01T00:00:00.000      2014-08-31T00:00:00.000   \n",
       "\n",
       "  liquor_receipts wine_receipts beer_receipts cover_charge_receipts  \\\n",
       "0               0             0             0                     0   \n",
       "1             480           185          1374                     0   \n",
       "\n",
       "   total_receipts  \n",
       "0               0  \n",
       "1            2039  \n",
       "\n",
       "[2 rows x 24 columns]"
      ]
     },
     "execution_count": 2,
     "metadata": {},
     "output_type": "execute_result"
    }
   ],
   "source": [
    "url = 'https://data.texas.gov/resource/naix-2893.json'\n",
    "\n",
    "# only 1,000 records by default\n",
    "df = pd.read_json(url)\n",
    "print(len(df))\n",
    "\n",
    "df.head(2)"
   ]
  },
  {
   "cell_type": "code",
   "execution_count": 3,
   "id": "b6ef01e8-841f-4a18-a074-dadec6538140",
   "metadata": {},
   "outputs": [
    {
     "data": {
      "text/plain": [
       "{'taxpayer_number': 32047970895,\n",
       " 'taxpayer_name': 'HONDURAS MAYA CAFE & BAR LLC',\n",
       " 'taxpayer_address': '8011 HAZEN ST',\n",
       " 'taxpayer_city': 'HOUSTON',\n",
       " 'taxpayer_state': 'TX',\n",
       " 'taxpayer_zip': 77036,\n",
       " 'taxpayer_county': 101,\n",
       " 'location_number': 1,\n",
       " 'location_name': 'HONDURAS MAYA CAFE & BAR LLC',\n",
       " 'location_address': '5945 BELLAIRE BLVD STE B',\n",
       " 'location_city': 'HOUSTON',\n",
       " 'location_state': 'TX',\n",
       " 'location_zip': 77081,\n",
       " 'location_county': 101,\n",
       " 'inside_outside_city_limits_code_y_n': 'Y',\n",
       " 'tabc_permit_number': 'MB817033',\n",
       " 'responsibility_begin_date_yyyymmdd': '2012-08-16T00:00:00.000',\n",
       " 'responsibility_end_date_yyyymmdd': '2019-09-12T00:00:00.000',\n",
       " 'obligation_end_date_yyyymmdd': '2019-07-31T00:00:00.000',\n",
       " 'liquor_receipts': 0,\n",
       " 'wine_receipts': 0,\n",
       " 'beer_receipts': 0,\n",
       " 'cover_charge_receipts': 0,\n",
       " 'total_receipts': 0}"
      ]
     },
     "execution_count": 3,
     "metadata": {},
     "output_type": "execute_result"
    }
   ],
   "source": [
    "receipts = df.to_dict('records')\n",
    "receipts[0]"
   ]
  },
  {
   "cell_type": "markdown",
   "id": "cd5f5bd3-3f1d-4822-81b9-372d548d4991",
   "metadata": {},
   "source": [
    "### totals"
   ]
  },
  {
   "cell_type": "code",
   "execution_count": 4,
   "id": "0ea3f734-e50d-457f-9fc4-1b5c6e410a25",
   "metadata": {},
   "outputs": [
    {
     "name": "stdout",
     "output_type": "stream",
     "text": [
      "Total cities: 141\n"
     ]
    }
   ],
   "source": [
    "print(f\"Total cities: {len(set([receipt['taxpayer_city'] for receipt in receipts])):,}\")"
   ]
  },
  {
   "cell_type": "code",
   "execution_count": 5,
   "id": "45edbbd9-1b47-41e1-86c8-cc0f8ae13ca6",
   "metadata": {},
   "outputs": [
    {
     "name": "stdout",
     "output_type": "stream",
     "text": [
      "Total receipts: $26,837,222\n"
     ]
    }
   ],
   "source": [
    "print(f\"Total receipts: ${sum([receipt['total_receipts'] for receipt in receipts]):,}\")"
   ]
  },
  {
   "cell_type": "code",
   "execution_count": 6,
   "id": "3ba59550-d9db-4911-b1a1-9d4a6cd878df",
   "metadata": {},
   "outputs": [
    {
     "data": {
      "text/plain": [
       "26837222"
      ]
     },
     "execution_count": 6,
     "metadata": {},
     "output_type": "execute_result"
    }
   ],
   "source": [
    "df['total_receipts'].sum()"
   ]
  },
  {
   "cell_type": "markdown",
   "id": "4090b255-e471-4284-943a-403876291a42",
   "metadata": {},
   "source": [
    "### total receipts by tax payer name"
   ]
  },
  {
   "cell_type": "code",
   "execution_count": 7,
   "id": "649f5b6a-7147-4399-8bad-65df57811bf4",
   "metadata": {},
   "outputs": [
    {
     "data": {
      "text/plain": [
       "taxpayer_name\n",
       "BUFFARE CORPORATION                            3690638\n",
       "FINE WINE MANAGEMENT, LLC                      1342696\n",
       "EL CHICO LICENSE, INC.                         1261259\n",
       "THE HARBOR POINT CLUB AND GRILL                 973432\n",
       "RAZZOO'S, INC.                                  717396\n",
       "                                                ...   \n",
       "EL HACENDADO PRIVATE CLUB ASSOCIATION, INC.          0\n",
       "HONDURAS MAYA CAFE & BAR LLC                         0\n",
       "HILLSIDE GRILL, LLC                                  0\n",
       "HIGHER BAR LLC                                       0\n",
       "YIHO LLC                                             0\n",
       "Name: total_receipts, Length: 352, dtype: int64"
      ]
     },
     "execution_count": 7,
     "metadata": {},
     "output_type": "execute_result"
    }
   ],
   "source": [
    "df.groupby('taxpayer_name')['total_receipts'].sum().sort_values(ascending=False)"
   ]
  },
  {
   "cell_type": "markdown",
   "id": "1de6e903-1614-4050-b338-e7476da551f0",
   "metadata": {},
   "source": [
    "### top names"
   ]
  },
  {
   "cell_type": "code",
   "execution_count": 8,
   "id": "e4c947f2-25f0-4491-b0e5-e94ee11db0aa",
   "metadata": {},
   "outputs": [
    {
     "data": {
      "text/plain": [
       "TRB BEVERAGE, LLC                    79\n",
       "BUFFARE CORPORATION                  41\n",
       "EL CHICO LICENSE, INC.               40\n",
       "FENG KAI CORPORATION                 32\n",
       "AMARILLO C & B LLC                   30\n",
       "                                     ..\n",
       "ASHFORD TRS LESSEE IV LLC             1\n",
       "NEW TREND FOODS, L.L.C.               1\n",
       "INTERO DESSERT, LLC                   1\n",
       "SPORTS CITY CAFE, INC. - MESQUITE     1\n",
       "BEIGE ENTERTAINMENT, LLC              1\n",
       "Name: taxpayer_name, Length: 352, dtype: int64"
      ]
     },
     "execution_count": 8,
     "metadata": {},
     "output_type": "execute_result"
    }
   ],
   "source": [
    "df['taxpayer_name'].value_counts()"
   ]
  }
 ],
 "metadata": {
  "kernelspec": {
   "display_name": "Python 3 (ipykernel)",
   "language": "python",
   "name": "python3"
  },
  "language_info": {
   "codemirror_mode": {
    "name": "ipython",
    "version": 3
   },
   "file_extension": ".py",
   "mimetype": "text/x-python",
   "name": "python",
   "nbconvert_exporter": "python",
   "pygments_lexer": "ipython3",
   "version": "3.10.2"
  }
 },
 "nbformat": 4,
 "nbformat_minor": 5
}

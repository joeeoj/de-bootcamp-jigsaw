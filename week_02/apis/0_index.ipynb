{
 "cells": [
  {
   "cell_type": "markdown",
   "metadata": {
    "id": "uVkh9kDjVHVU"
   },
   "source": [
    "# APIs with Query Parameters Lab"
   ]
  },
  {
   "cell_type": "markdown",
   "metadata": {
    "id": "P6V7WVdDVHVc"
   },
   "source": [
    "### Working with NYC Open Data\n",
    "\n",
    "In this lab, we'll become practice working with APIs with some of the data provided by NYC open data."
   ]
  },
  {
   "cell_type": "markdown",
   "metadata": {
    "id": "amL1lolAVHVd"
   },
   "source": [
    "<img src=\"https://github.com/jigsawlabs/curriculum-assets/blob/master/introduction-to-apis/10-query-parameters-and-lab/nyc-data-sets.png?raw=true\" width=\"60%\"/>"
   ]
  },
  {
   "cell_type": "markdown",
   "metadata": {
    "id": "5jops9H4VHVe"
   },
   "source": [
    "Just [click here](https://opendata.cityofnewyork.us/data/) to reach the API.  There you will find datasets on anything from food carts in NYC, to NYC public school testing.  The one that we are looking for is NYC restaurant inspections, [found here](https://data.cityofnewyork.us/Health/DOHMH-New-York-City-Restaurant-Inspection-Results/43nn-pn8j).  Once you click there, you click on the button that says API to the right, and then onto API Docs (next to developer portal), you will find what we are looking for."
   ]
  },
  {
   "cell_type": "markdown",
   "metadata": {
    "id": "Sv05cJrwVHVf"
   },
   "source": [
    "<img src=\"https://github.com/jigsawlabs/curriculum-assets/blob/master/introduction-to-apis/10-query-parameters-and-lab/nyc-restaurant-api.png?raw=true\" >"
   ]
  },
  {
   "cell_type": "markdown",
   "metadata": {
    "id": "fyBVBYAmVHVg"
   },
   "source": [
    "Or you can just [click here](https://dev.socrata.com/foundry/data.cityofnewyork.us/9w7m-hzhe).  Now scroll down until you reach the Getting Started section."
   ]
  },
  {
   "cell_type": "markdown",
   "metadata": {
    "id": "FVw6mcA-VHVh"
   },
   "source": [
    "<img src=\"https://github.com/jigsawlabs/curriculum-assets/blob/master/introduction-to-apis/10-query-parameters-and-lab/getting-started.png?raw=true\" width=\"40%\"/>"
   ]
  },
  {
   "cell_type": "markdown",
   "metadata": {
    "id": "GfYcGyzXVHVj"
   },
   "source": [
    "In the documentation, you may see the word API endpoint.  API endpoint is just another word for url.  You can click on that URL to hit the API with your web browser."
   ]
  },
  {
   "cell_type": "markdown",
   "metadata": {
    "id": "qzdtSgWvVHVl"
   },
   "source": [
    "If you did so, you may notice quite a long list of restaurants.  Let's try to avoid that by using query parameters to scope down our results.  If you scroll down in the documentation, you'll find a section called `Fields`, and then you'll see a number of blue bars that we can click on.  Let's click on the one that says `cuisine description`, so that we can see how to filter our results to only include American food."
   ]
  },
  {
   "cell_type": "markdown",
   "metadata": {
    "id": "WpDGdPX8VHVm"
   },
   "source": [
    "<img src=\"https://github.com/jigsawlabs/curriculum-assets/blob/master/introduction-to-apis/10-query-parameters-and-lab/cuisine-description.png?raw=true\" >"
   ]
  },
  {
   "cell_type": "markdown",
   "metadata": {
    "id": "y-hRoSb1VHVn"
   },
   "source": [
    "That URL is what we are looking for, it filters the results appropriately using query parameters.  Notice our old pattern.\n",
    "\n",
    "We have the regular url.  Then the `?` kicks off the query parameters.  Then we have the `field=value` pattern of `cuisine_description=Caribbean`.  (Note that if the Carribean is not capitalized, the query will not work.)"
   ]
  },
  {
   "cell_type": "markdown",
   "metadata": {
    "id": "actbDdYzVHVn"
   },
   "source": [
    "### Combining Query Parameters\n",
    "\n",
    "Now, let's say if we want to see if American restaurants with violations that are in the zipcode 10001.  Well looking at [the documentation](https://dev.socrata.com/foundry/data.cityofnewyork.us/9w7m-hzhe), we should be to specify `zipcode=10001` to only see the first two Carribean restaurants.  How do we use more than one query parameter simultaneously?\n",
    "\n",
    "Everything is the same except that we separate the `field=value` pairs with a `&`. \n",
    "\n",
    "[`\"https://data.cityofnewyork.us/resource/9w7m-hzhe.json?cuisine_description=American&zipcode=10001\"`](https://data.cityofnewyork.us/resource/9w7m-hzhe.json?cuisine_description=American&zipcode=10001)\n",
    "\n",
    "If you'll click on the link above, you'll see data scoped down to those values.\n",
    "\n",
    "The main take away from query parameters is the following:\n",
    "\n",
    "1. Query parameters begin with a `?`\n",
    "2. To combine query parameters separate each `field=value` pair with a `&`\n",
    "3. We can generally combine many query parameters together\n",
    "\n",
    "### Limiting Values\n",
    "\n",
    "Now in many APIs we can limit the number of values that we can return.  This is simply with another query parameter.  You can find the the information on limiting data, by clicking on the link `paging through data`, or [clicking here](https://dev.socrata.com/docs/paging.html#2.1).\n",
    "\n",
    "As it says, we simply limit the number of results with the field `$limit` and a value indicating the number of results to limit to.  So if we only want to see the first 3 results, we use the query parameter, `$limit=3`.\n",
    "\n",
    "### Time for Python\n",
    "\n",
    "Ok, now it's time to make the request with Python.  \n",
    "\n",
    "In Python, write out the code to reach the url listed above, `\"https://data.cityofnewyork.us/resource/9w7m-hzhe.json\"` but limit the number of results to just one result.\n",
    "\n",
    "Next, make a request to look for restaurants in the zipcode 10001, that are Italian restaurants, and limit it to just three results.\n",
    "\n",
    "Finally, make a request to the API to find the three Italian restaurants in zipcode 10001 that received a grade of A for their health code."
   ]
  },
  {
   "cell_type": "code",
   "execution_count": 5,
   "metadata": {},
   "outputs": [],
   "source": []
  },
  {
   "cell_type": "code",
   "execution_count": 2,
   "metadata": {},
   "outputs": [],
   "source": []
  },
  {
   "cell_type": "code",
   "execution_count": 1,
   "metadata": {
    "id": "JtCPtZgcVHVp"
   },
   "outputs": [],
   "source": []
  },
  {
   "cell_type": "code",
   "execution_count": 9,
   "metadata": {},
   "outputs": [],
   "source": [
    "from urllib.parse import urlencode\n",
    "\n",
    "import requests\n",
    "\n",
    "\n",
    "BASE_URL = 'https://data.cityofnewyork.us/resource/9w7m-hzhe.json'\n",
    "\n",
    "\n",
    "params = {\n",
    "    'cuisine_description': 'Italian',\n",
    "    'zipcode': '10001',\n",
    "    'grade': 'A',\n",
    "}\n",
    "url = f'{BASE_URL}?{urlencode(params)}'\n",
    "\n",
    "r = requests.get(url)\n",
    "\n",
    "# r.json()"
   ]
  },
  {
   "cell_type": "code",
   "execution_count": null,
   "metadata": {},
   "outputs": [],
   "source": []
  },
  {
   "cell_type": "markdown",
   "metadata": {
    "id": "6QIMk_bsVHVq"
   },
   "source": [
    "### Summary\n",
    "\n",
    "Great job! In this lesson, we saw how to use query parameters to filter down the amount of information from an API.  Even more importantly, we spent some time seeing how we can read documentation online to solve our problems."
   ]
  }
 ],
 "metadata": {
  "colab": {
   "name": "0-index.ipynb",
   "provenance": []
  },
  "kernelspec": {
   "display_name": "Python 3 (ipykernel)",
   "language": "python",
   "name": "python3"
  },
  "language_info": {
   "codemirror_mode": {
    "name": "ipython",
    "version": 3
   },
   "file_extension": ".py",
   "mimetype": "text/x-python",
   "name": "python",
   "nbconvert_exporter": "python",
   "pygments_lexer": "ipython3",
   "version": "3.10.2"
  }
 },
 "nbformat": 4,
 "nbformat_minor": 4
}

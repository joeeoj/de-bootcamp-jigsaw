{
 "cells": [
  {
   "cell_type": "markdown",
   "id": "de26711b-5632-481c-b56a-8b30c72e9bc7",
   "metadata": {},
   "source": [
    "# Seattle Fleet data\n",
    "\n",
    "* [Active Fleet Complement](https://data.seattle.gov/City-Business/Active-Fleet-Complement/enxu-fgzb)\n",
    "* [Current Fleet Surplus/Auction List](https://data.seattle.gov/Finance/Current-Fleet-Surplus-Auction-List/6gnm-7jex)\n",
    "* [Sold Fleet Equipment](https://data.seattle.gov/City-Business/Sold-Fleet-Equipment/y6ef-jf2w)"
   ]
  },
  {
   "cell_type": "code",
   "execution_count": 18,
   "id": "07a731ad-92cc-4b32-832a-bb94ae5393e7",
   "metadata": {},
   "outputs": [],
   "source": [
    "from collections import Counter\n",
    "import json\n",
    "\n",
    "import requests"
   ]
  },
  {
   "cell_type": "code",
   "execution_count": 2,
   "id": "aace68d0-43c8-4685-b577-7aa489ae7062",
   "metadata": {},
   "outputs": [],
   "source": [
    "APIS = {\n",
    "    'active': 'https://data.seattle.gov/resource/enxu-fgzb.json',\n",
    "    'surplus': 'https://data.seattle.gov/resource/6gnm-7jex.json',\n",
    "    'sold': 'https://data.seattle.gov/resource/y6ef-jf2w.json',\n",
    "}"
   ]
  },
  {
   "cell_type": "code",
   "execution_count": 3,
   "id": "60930c30-eb89-4feb-909f-a6afdefdba82",
   "metadata": {},
   "outputs": [],
   "source": [
    "def get_data(url: str) -> list[dict]:\n",
    "    \"\"\"Add 5k paramter limit to all requests\"\"\"\n",
    "    r = requests.get(url + '?$limit=5000')\n",
    "    return r.json()"
   ]
  },
  {
   "cell_type": "markdown",
   "id": "51cfa4c9-7ab7-494d-87a4-0e1f89e5340a",
   "metadata": {},
   "source": [
    "## Active Fleet"
   ]
  },
  {
   "cell_type": "code",
   "execution_count": 4,
   "id": "17afc261-dd79-4d60-921b-b1fead8b3348",
   "metadata": {},
   "outputs": [
    {
     "name": "stdout",
     "output_type": "stream",
     "text": [
      "4054\n"
     ]
    },
    {
     "data": {
      "text/plain": [
       "{'equipid': '30923',\n",
       " 'license': '51406D',\n",
       " 'year': '2010',\n",
       " 'make': 'FORD',\n",
       " 'model': 'F350',\n",
       " 'descrip': 'PICKUP - FLATBED - CLASS 4',\n",
       " 'dept': 'SDOT',\n",
       " 'inservicedate': '2010-02-01T00:00:01.000',\n",
       " 'estimated_replacement_year': '2020',\n",
       " 'equipment_type': 'TRUCK - LIGHT',\n",
       " 'inservicecost': '51593.79',\n",
       " 'asset_weight_category': 'CLASS 3',\n",
       " 'system_group': 'PICKUP',\n",
       " 'fuel_type': 'DSL'}"
      ]
     },
     "execution_count": 4,
     "metadata": {},
     "output_type": "execute_result"
    }
   ],
   "source": [
    "active = get_data(APIS.get('active'))\n",
    "\n",
    "print(len(active))\n",
    "active[0]"
   ]
  },
  {
   "cell_type": "code",
   "execution_count": 5,
   "id": "7a092ee4-353d-467d-bb77-edcc282335c0",
   "metadata": {},
   "outputs": [
    {
     "name": "stdout",
     "output_type": "stream",
     "text": [
      " Unique manufacturers: 239\n",
      "Unique vehicle models: 607\n",
      " Total inservice cost: $383,356,040.64\n"
     ]
    }
   ],
   "source": [
    "unique_make = sorted(list(set([a['make'] for a in active])))\n",
    "unique_model = sorted(list(set([a['model'] for a in active])))\n",
    "\n",
    "total_inservice_cost = round(sum([float(a['inservicecost']) for a in active]), 2)\n",
    "\n",
    "print(f' Unique manufacturers: {len(unique_make):,}')\n",
    "print(f'Unique vehicle models: {len(unique_model):,}')\n",
    "print(f' Total inservice cost: ${total_inservice_cost:,.2f}')"
   ]
  },
  {
   "cell_type": "code",
   "execution_count": 33,
   "id": "b4e502b9-3b00-447f-adcb-f9271727be1b",
   "metadata": {},
   "outputs": [
    {
     "name": "stdout",
     "output_type": "stream",
     "text": [
      "Total ten deptartments by vehicle count:\n",
      " SCL -> 915\n",
      " SPU -> 781\n",
      " SPD -> 634\n",
      " DPR -> 591\n",
      "SDOT -> 548\n",
      " SFD -> 247\n",
      " FAS -> 129\n",
      "SDCI -> 104\n",
      " CEN -> 28\n",
      " SPL -> 25\n"
     ]
    }
   ],
   "source": [
    "print(f'Total ten deptartments by vehicle count:')\n",
    "for dept, cnt in Counter([a['dept'] for a in active]).most_common(10):\n",
    "    print(f'{dept:>4} -> {cnt}')"
   ]
  },
  {
   "cell_type": "markdown",
   "id": "4ad9fe56-81ce-42c7-97de-7c3805068aba",
   "metadata": {},
   "source": [
    "## Surplus"
   ]
  },
  {
   "cell_type": "code",
   "execution_count": 6,
   "id": "92c1b765-4d5b-400c-ac9c-81141bdf6333",
   "metadata": {
    "tags": []
   },
   "outputs": [
    {
     "name": "stdout",
     "output_type": "stream",
     "text": [
      "35\n"
     ]
    },
    {
     "data": {
      "text/plain": [
       "{'equip_id': '83459',\n",
       " 'year': '2008',\n",
       " 'make': 'FORD',\n",
       " 'model': 'E350',\n",
       " 'color': 'WHITE',\n",
       " 'description': 'CARGO - CUTAWAY VAN',\n",
       " 'asset_weight_category': 'CLASS 2',\n",
       " 'system_group': 'VAN',\n",
       " 'fuel_type': 'UNL',\n",
       " 'auction_house': 'MURPHYS AUCTION',\n",
       " 'comments': 'REPLACED',\n",
       " 'vin': '1FDWE35L38DB52113',\n",
       " 'department': 'SPU',\n",
       " 'retirement_date': '2022-04-11T00:00:01.000',\n",
       " 'equipment_type': 'VAN'}"
      ]
     },
     "execution_count": 6,
     "metadata": {},
     "output_type": "execute_result"
    }
   ],
   "source": [
    "surplus = get_data(APIS.get('surplus'))\n",
    "\n",
    "print(len(surplus))\n",
    "surplus[0]"
   ]
  },
  {
   "cell_type": "code",
   "execution_count": 17,
   "id": "41265ddc-732d-4c1b-a530-8d9806329312",
   "metadata": {},
   "outputs": [
    {
     "data": {
      "text/plain": [
       "[('BIDADOO ONLINE AUCTION', 20), ('MURPHYS AUCTION', 15)]"
      ]
     },
     "execution_count": 17,
     "metadata": {},
     "output_type": "execute_result"
    }
   ],
   "source": [
    "Counter([s['auction_house'] for s in surplus]).most_common()"
   ]
  },
  {
   "cell_type": "markdown",
   "id": "579b8f8e-15d2-4c12-b501-66bc12641788",
   "metadata": {},
   "source": [
    "## Sold"
   ]
  },
  {
   "cell_type": "code",
   "execution_count": 8,
   "id": "42de419b-8212-47e3-93db-6089ddd28b4f",
   "metadata": {},
   "outputs": [
    {
     "name": "stdout",
     "output_type": "stream",
     "text": [
      "1021\n"
     ]
    },
    {
     "data": {
      "text/plain": [
       "{'equip_id': 'EG0115',\n",
       " 'year': '1994',\n",
       " 'make': 'CATERPILLAR',\n",
       " 'model': '416B',\n",
       " 'description': 'SOLID WASTE BACKHOE LOADER',\n",
       " 'dept': 'SPU',\n",
       " 'sale_price': '0.00',\n",
       " 'sale_date': '2021-06-24T00:00:01.000',\n",
       " 'sold_by': 'MURPHYS AUCTION',\n",
       " 'vin': '8ZK03229',\n",
       " 'equipment_type': 'LOADER - BACKHOE',\n",
       " 'asset_weight_category': 'OFFROAD HEAVY',\n",
       " 'system_group': 'CONSTRUCTION',\n",
       " 'fuel_type': 'DSL'}"
      ]
     },
     "execution_count": 8,
     "metadata": {},
     "output_type": "execute_result"
    }
   ],
   "source": [
    "sold = get_data(APIS.get('sold'))\n",
    "\n",
    "print(len(sold))\n",
    "sold[0]"
   ]
  },
  {
   "cell_type": "code",
   "execution_count": 9,
   "id": "11f752d6-5a8d-4739-8452-5ca4497c38d7",
   "metadata": {},
   "outputs": [
    {
     "name": "stdout",
     "output_type": "stream",
     "text": [
      "Total sold: $9,915,145.62\n"
     ]
    }
   ],
   "source": [
    "total_sold = sum([float(s['sale_price']) for s in sold])\n",
    "print(f'Total sold: ${total_sold:,.2f}')"
   ]
  },
  {
   "cell_type": "markdown",
   "id": "c69568e2-e04a-4252-9f5e-dfac5e15203d",
   "metadata": {},
   "source": [
    "-------------"
   ]
  },
  {
   "cell_type": "markdown",
   "id": "87bd15fe-90f4-4037-b39d-ea3ab6d2fcd7",
   "metadata": {},
   "source": [
    "## overlap of data sets"
   ]
  },
  {
   "cell_type": "code",
   "execution_count": 16,
   "id": "3af4ae5f-9497-4fe6-8d2b-c2f5c265eef4",
   "metadata": {},
   "outputs": [],
   "source": [
    "active_ids = set([a['equipid'] for a in active])\n",
    "surplus_ids = set([a['equip_id'] for a in surplus])\n",
    "sold_ids = set([a['equip_id'] for a in sold])"
   ]
  },
  {
   "cell_type": "markdown",
   "id": "01028caa-1ef7-457d-88da-e8b8ce49fa31",
   "metadata": {},
   "source": [
    "### active & surplus"
   ]
  },
  {
   "cell_type": "code",
   "execution_count": null,
   "id": "05a3be25-4ddc-4e62-88b9-6830af40f834",
   "metadata": {},
   "outputs": [],
   "source": [
    "# no active ids are listed as surplus\n",
    "active_ids & surplus_ids"
   ]
  },
  {
   "cell_type": "markdown",
   "id": "4f16ec27-1b3a-420b-8a48-fca341b2606c",
   "metadata": {},
   "source": [
    "### active & sold"
   ]
  },
  {
   "cell_type": "code",
   "execution_count": 11,
   "id": "8943e022-8c80-46ad-9e13-27cb9a1f1b9e",
   "metadata": {},
   "outputs": [
    {
     "data": {
      "text/plain": [
       "set()"
      ]
     },
     "execution_count": 11,
     "metadata": {},
     "output_type": "execute_result"
    }
   ],
   "source": [
    "# no active ids are listed as sold\n",
    "active_ids & sold_ids"
   ]
  },
  {
   "cell_type": "markdown",
   "id": "f2953a35-0f7d-4ccd-ab72-66f0248af421",
   "metadata": {},
   "source": [
    "### surplus & sold"
   ]
  },
  {
   "cell_type": "code",
   "execution_count": 12,
   "id": "6afd61ae-b76c-4c12-8ba2-a8f9676dcfc8",
   "metadata": {},
   "outputs": [
    {
     "data": {
      "text/plain": [
       "{'31969', 'G75413', 'PD3078'}"
      ]
     },
     "execution_count": 12,
     "metadata": {},
     "output_type": "execute_result"
    }
   ],
   "source": [
    "# a few surplus ids are listed as sold\n",
    "recently_sold = surplus_ids & sold_ids\n",
    "recently_sold"
   ]
  },
  {
   "cell_type": "code",
   "execution_count": 13,
   "id": "4125ceeb-048d-4104-bb1a-17b651a4436c",
   "metadata": {},
   "outputs": [],
   "source": [
    "# reorganize to a dict of equip_id -> rest of dict\n",
    "recently_sold_surplus = {s['equip_id']: s for s in surplus if s['equip_id'] in recently_sold}\n",
    "recently_sold_sold = {s['equip_id']: s for s in sold if s['equip_id'] in recently_sold}"
   ]
  },
  {
   "cell_type": "code",
   "execution_count": 14,
   "id": "c5f109f3-298a-425f-a434-3f6b92524d8d",
   "metadata": {},
   "outputs": [],
   "source": [
    "overlap = []\n",
    "for eid in list(recently_sold):\n",
    "    recent_surplus = recently_sold_surplus.get(eid)\n",
    "    recent_sold = recently_sold_sold.get(eid)\n",
    "\n",
    "    overlap.append(recent_surplus | recent_sold)  # merge operator as of 3.9"
   ]
  },
  {
   "cell_type": "code",
   "execution_count": 15,
   "id": "09334629-7063-4f69-9b36-4c44774c7657",
   "metadata": {},
   "outputs": [
    {
     "name": "stdout",
     "output_type": "stream",
     "text": [
      "{\n",
      "  \"equip_id\": \"G75413\",\n",
      "  \"year\": \"2006\",\n",
      "  \"make\": \"PETERBILT\",\n",
      "  \"model\": \"378\",\n",
      "  \"description\": \"SOLID WASTE TRUCK\",\n",
      "  \"asset_weight_category\": \"CLASS 8\",\n",
      "  \"system_group\": \"TRUCK\",\n",
      "  \"fuel_type\": \"DSL\",\n",
      "  \"auction_house\": \"BIDADOO ONLINE AUCTION\",\n",
      "  \"comments\": \"REPLACED\",\n",
      "  \"vin\": \"1XPFDBOX37D686142\",\n",
      "  \"department\": \"SPU\",\n",
      "  \"retirement_date\": \"2019-07-17T00:00:01.000\",\n",
      "  \"equipment_type\": \"TRUCK - HEAVY\",\n",
      "  \"dept\": \"SPU\",\n",
      "  \"sale_price\": \"53100.00\",\n",
      "  \"sale_date\": \"2019-07-16T00:00:01.000\",\n",
      "  \"sold_by\": \"BIDADOO ONLINE AUCTION\"\n",
      "}\n",
      "{\n",
      "  \"equip_id\": \"31969\",\n",
      "  \"year\": \"2012\",\n",
      "  \"make\": \"JOHN DEERE\",\n",
      "  \"model\": \"GATOR\",\n",
      "  \"description\": \"SOLID WASTE GATOR - ELECTRIC\",\n",
      "  \"asset_weight_category\": \"OFFROAD LIGHT\",\n",
      "  \"system_group\": \"ATV-UTILITY VEHICLE\",\n",
      "  \"fuel_type\": \"ELE\",\n",
      "  \"auction_house\": \"BIDADOO ONLINE AUCTION\",\n",
      "  \"comments\": \"REPLACED\",\n",
      "  \"vin\": \"TBD\",\n",
      "  \"department\": \"SPU\",\n",
      "  \"retirement_date\": \"2021-09-10T00:00:01.000\",\n",
      "  \"equipment_type\": \"UTILITY VEHICLE - ELECTRIC\",\n",
      "  \"dept\": \"SPU\",\n",
      "  \"sale_price\": \"7401.00\",\n",
      "  \"sale_date\": \"2021-12-03T00:00:01.000\",\n",
      "  \"sold_by\": \"BIDADOO ONLINE AUCTION\"\n",
      "}\n",
      "{\n",
      "  \"equip_id\": \"PD3078\",\n",
      "  \"year\": \"1986\",\n",
      "  \"make\": \"MANN BUS COMPANY\",\n",
      "  \"model\": \"SL40102L\",\n",
      "  \"description\": \"BUS - TRANSIT\",\n",
      "  \"asset_weight_category\": \"CLASS 8\",\n",
      "  \"system_group\": \"TRUCK\",\n",
      "  \"fuel_type\": \"DSL\",\n",
      "  \"auction_house\": \"BIDADOO ONLINE AUCTION\",\n",
      "  \"comments\": \"REDUCTION\",\n",
      "  \"vin\": \"UNKPD3078\",\n",
      "  \"department\": \"SPD\",\n",
      "  \"retirement_date\": \"2021-04-22T00:00:01.000\",\n",
      "  \"equipment_type\": \"BUS - POLICE\",\n",
      "  \"dept\": \"SPD\",\n",
      "  \"sale_price\": \"2339.00\",\n",
      "  \"sale_date\": \"2021-09-01T00:00:01.000\",\n",
      "  \"sold_by\": \"BIDADOO ONLINE AUCTION\"\n",
      "}\n"
     ]
    }
   ],
   "source": [
    "for o in overlap:\n",
    "    print(json.dumps(o, indent=2))"
   ]
  }
 ],
 "metadata": {
  "kernelspec": {
   "display_name": "Python 3 (ipykernel)",
   "language": "python",
   "name": "python3"
  },
  "language_info": {
   "codemirror_mode": {
    "name": "ipython",
    "version": 3
   },
   "file_extension": ".py",
   "mimetype": "text/x-python",
   "name": "python",
   "nbconvert_exporter": "python",
   "pygments_lexer": "ipython3",
   "version": "3.10.2"
  }
 },
 "nbformat": 4,
 "nbformat_minor": 5
}

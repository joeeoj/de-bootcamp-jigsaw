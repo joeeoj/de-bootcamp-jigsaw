{
 "cells": [
  {
   "cell_type": "markdown",
   "metadata": {
    "id": "KAEzHSUInOTM"
   },
   "source": [
    "# Spotify Signup"
   ]
  },
  {
   "cell_type": "markdown",
   "metadata": {
    "id": "qiLoOVqFnOTQ"
   },
   "source": [
    "### Introduction"
   ]
  },
  {
   "cell_type": "markdown",
   "metadata": {
    "id": "f7TRdKzdnOTQ"
   },
   "source": [
    "In this lesson we'll work with the spotify web API.  As we'll see, uses a different authentication flow than we have previously seen."
   ]
  },
  {
   "cell_type": "markdown",
   "metadata": {
    "id": "IqdCLZxOnOTR"
   },
   "source": [
    "### Signing Up with Spotify"
   ]
  },
  {
   "cell_type": "markdown",
   "metadata": {
    "id": "gWIBZpH_nOTS"
   },
   "source": [
    "To start, go to the [Spotify Developer Login](https://developer.spotify.com/dashboard/login) and login with your Spotify account, or create a new one."
   ]
  },
  {
   "cell_type": "markdown",
   "metadata": {
    "id": "FoLBFc_pnOTT"
   },
   "source": [
    "<img src=\"https://github.com/eng-6-22/github-apis/blob/master/4-spotify-web-api/spotify-login.png?raw=1\" width=\"60%\">"
   ]
  },
  {
   "cell_type": "markdown",
   "metadata": {
    "id": "mGpqpydcnOTT"
   },
   "source": [
    "Once logged in, click on Create a New App, and then signup for non-commercial use."
   ]
  },
  {
   "cell_type": "markdown",
   "metadata": {
    "id": "sFcuD-VonOTU"
   },
   "source": [
    "Afterwards, you will be directed to the client id and secret pages."
   ]
  },
  {
   "cell_type": "markdown",
   "metadata": {
    "id": "HLEzdyMPnOTV"
   },
   "source": [
    "### Authenticating with the API"
   ]
  },
  {
   "cell_type": "markdown",
   "metadata": {
    "id": "242ndGbWnOTV"
   },
   "source": [
    "By now you should have your client id and client secret codes."
   ]
  },
  {
   "cell_type": "markdown",
   "metadata": {
    "id": "_ndib_8gnOTW"
   },
   "source": [
    "To see how to use them, read through the [client credentials flow on Spotify](https://developer.spotify.com/documentation/general/guides/authorization-guide/#client-credentials-flow).  Don't worry, we'll wait."
   ]
  },
  {
   "cell_type": "markdown",
   "metadata": {
    "id": "3kvZnIfcnOTW"
   },
   "source": [
    "> It explains that before making a request, we need to use the `client_id` and `client_secret` to retreive an auth token."
   ]
  },
  {
   "cell_type": "markdown",
   "metadata": {
    "id": "wrHfB2mynOTX"
   },
   "source": [
    "The documentation does not explicitly show us how to get an auth token using Python.  But lucky for us, this [this stackoverflow post](https://stackoverflow.com/questions/30557409/spotify-api-post-call-response-415) does."
   ]
  },
  {
   "cell_type": "markdown",
   "metadata": {
    "id": "r5af2nhGnOTX"
   },
   "source": [
    "Copy the code below and confirm that you can return an access token with the code."
   ]
  },
  {
   "cell_type": "code",
   "execution_count": 1,
   "metadata": {},
   "outputs": [],
   "source": [
    "from urllib.parse import urlencode\n",
    "\n",
    "import requests\n",
    "\n",
    "from config import SPOTIFY_CLIENT_ID as CLIENT_ID\n",
    "from config import SPOTIFY_CLIENT_SECRET as CLIENT_SECRET"
   ]
  },
  {
   "cell_type": "code",
   "execution_count": 2,
   "metadata": {
    "id": "cAMyTW2KnOTX"
   },
   "outputs": [],
   "source": [
    "TOKEN_URL ='https://accounts.spotify.com/api/token'\n",
    "DATA = {'grant_type': 'client_credentials'}\n",
    "\n",
    "BASE_URL = 'https://api.spotify.com'\n",
    "SEARCH_ENDPOINT = '/v1/search'"
   ]
  },
  {
   "cell_type": "markdown",
   "metadata": {
    "id": "4Yet6HWhnOTZ"
   },
   "source": [
    "After confirming that you can retrieve an access token, turn the code into a function called `get_access_token` that takes in arguments of `client_id` and `client_secret` and returns the access token. "
   ]
  },
  {
   "cell_type": "code",
   "execution_count": 3,
   "metadata": {
    "id": "BDLCPFUUnOTZ"
   },
   "outputs": [],
   "source": [
    "def get_access_token():\n",
    "    r = requests.post(TOKEN_URL, data=DATA, auth=(CLIENT_ID, CLIENT_SECRET))\n",
    "    return r.json().get('access_token')"
   ]
  },
  {
   "cell_type": "code",
   "execution_count": 4,
   "metadata": {
    "id": "9fzoIbaOnOTZ"
   },
   "outputs": [],
   "source": [
    "TOKEN = get_access_token()  # Your access token will be different\n",
    "\n",
    "HEADERS = {\"Authorization\": f\"Bearer {TOKEN}\"}"
   ]
  },
  {
   "cell_type": "markdown",
   "metadata": {
    "id": "wigLAY55nOTa"
   },
   "source": [
    "### Making a search"
   ]
  },
  {
   "cell_type": "markdown",
   "metadata": {
    "id": "C5jFQazPnOTa"
   },
   "source": [
    "Now that we have an access token, it's time for us to use the Spotify API to get some information about music.  The main component that we would like to use in the API is the [discover page](https://developer.spotify.com/discover/#search).\n",
    "\n",
    "We can start by making a request for information about an musical artist.  Look at the [search documents for an artist](https://developer.spotify.com/documentation/web-api/reference/search/search/) to see how."
   ]
  },
  {
   "cell_type": "markdown",
   "metadata": {
    "id": "8UTwbgO_nOTa"
   },
   "source": [
    "Write a function called `artist_search_url` that takes in an `artist_name`, and returns the corresponding correct url to search for the artist. "
   ]
  },
  {
   "cell_type": "code",
   "execution_count": 5,
   "metadata": {
    "id": "MEM2Tui7nOTa"
   },
   "outputs": [],
   "source": [
    "def artist_search_url(artist_name):\n",
    "    params = {'q': artist_name, 'type': 'artist'}\n",
    "    return f'{BASE_URL}{SEARCH_ENDPOINT}?{urlencode(params)}'"
   ]
  },
  {
   "cell_type": "code",
   "execution_count": 6,
   "metadata": {
    "colab": {
     "base_uri": "https://localhost:8080/",
     "height": 35
    },
    "id": "WK24h0iGnOTb",
    "outputId": "44a73971-ea7c-4a63-910a-28cfd9dbc1d1"
   },
   "outputs": [
    {
     "data": {
      "text/plain": [
       "'https://api.spotify.com/v1/search?q=paul+simon&type=artist'"
      ]
     },
     "execution_count": 6,
     "metadata": {},
     "output_type": "execute_result"
    }
   ],
   "source": [
    "paul_simon_request_url = artist_search_url('paul simon')\n",
    "paul_simon_request_url\n",
    "# 'https://api.spotify.com/v1/search?q=paul simon&type=artist'"
   ]
  },
  {
   "cell_type": "markdown",
   "metadata": {
    "id": "d_u5o78HnOTc"
   },
   "source": [
    "Write a function called `make_request` that takes in the token, and url and makes the request.  You can reference [this stackoverflow post](https://stackoverflow.com/questions/29931671/making-an-api-call-in-python-with-an-api-that-requires-a-bearer-token) to see how to provide the access token into headers.  Just use a `get` request instead of a post request."
   ]
  },
  {
   "cell_type": "code",
   "execution_count": 7,
   "metadata": {
    "id": "h7kuJU8cnOTc"
   },
   "outputs": [],
   "source": [
    "def make_request(url):\n",
    "    return requests.get(url, headers=HEADERS).json()"
   ]
  },
  {
   "cell_type": "markdown",
   "metadata": {
    "id": "HK66W50VnOTc"
   },
   "source": [
    "You can check that you write the functin correctly with the following by checking the return value of the function below."
   ]
  },
  {
   "cell_type": "code",
   "execution_count": 8,
   "metadata": {
    "colab": {
     "base_uri": "https://localhost:8080/",
     "height": 300
    },
    "id": "uPSZpk7enOTc",
    "outputId": "09cfab99-6265-49f6-e811-5783f6d064a3"
   },
   "outputs": [],
   "source": [
    "paul_simon_data = make_request(paul_simon_request_url)"
   ]
  },
  {
   "cell_type": "code",
   "execution_count": 9,
   "metadata": {},
   "outputs": [
    {
     "data": {
      "text/plain": [
       "{'external_urls': {'spotify': 'https://open.spotify.com/artist/2CvCyf1gEVhI0mX6aFXmVI'},\n",
       " 'followers': {'href': None, 'total': 1884367},\n",
       " 'genres': ['classic rock',\n",
       "  'folk',\n",
       "  'folk rock',\n",
       "  'mellow gold',\n",
       "  'permanent wave',\n",
       "  'rock',\n",
       "  'roots rock',\n",
       "  'singer-songwriter',\n",
       "  'soft rock'],\n",
       " 'href': 'https://api.spotify.com/v1/artists/2CvCyf1gEVhI0mX6aFXmVI',\n",
       " 'id': '2CvCyf1gEVhI0mX6aFXmVI',\n",
       " 'images': [{'height': 640,\n",
       "   'url': 'https://i.scdn.co/image/ab6761610000e5eb1f764c8f69b595efe77e1c45',\n",
       "   'width': 640},\n",
       "  {'height': 320,\n",
       "   'url': 'https://i.scdn.co/image/ab676161000051741f764c8f69b595efe77e1c45',\n",
       "   'width': 320},\n",
       "  {'height': 160,\n",
       "   'url': 'https://i.scdn.co/image/ab6761610000f1781f764c8f69b595efe77e1c45',\n",
       "   'width': 160}],\n",
       " 'name': 'Paul Simon',\n",
       " 'popularity': 67,\n",
       " 'type': 'artist',\n",
       " 'uri': 'spotify:artist:2CvCyf1gEVhI0mX6aFXmVI'}"
      ]
     },
     "execution_count": 9,
     "metadata": {},
     "output_type": "execute_result"
    }
   ],
   "source": [
    "paul_simon_data.get('artists').get('items')[0]"
   ]
  },
  {
   "cell_type": "code",
   "execution_count": 10,
   "metadata": {
    "colab": {
     "base_uri": "https://localhost:8080/"
    },
    "id": "qCQuk6gznOTc",
    "outputId": "fdc579bd-9981-43c4-9bfc-fba140534873",
    "tags": []
   },
   "outputs": [],
   "source": [
    "# paul_simon_data\n",
    "\n",
    "# {'artists': {'href': 'https://api.spotify.com/v1/search?query=paul+simon&type=artist&offset=0&limit=20',\n",
    "#   'items': [{'external_urls': {'spotify': 'https://open.spotify.com/artist/2CvCyf1gEVhI0mX6aFXmVI'},\n",
    "#     'followers': {'href': None, 'total': 1219295},\n",
    "#     'genres': ['classic rock',\n",
    "#      'folk',\n",
    "#      'folk rock',\n",
    "#      'mellow gold',\n",
    "#      'permanent wave',\n",
    "#      'rock',\n",
    "#      'roots rock'"
   ]
  },
  {
   "cell_type": "markdown",
   "metadata": {
    "id": "JehsqyXenOTd"
   },
   "source": [
    "> When you see that it's correct, feel free to comment out the output."
   ]
  },
  {
   "cell_type": "markdown",
   "metadata": {
    "id": "NTOVqN2InOTd"
   },
   "source": [
    "Next write a method that extracts the `name`, `id` and popularity from the json response for an artist."
   ]
  },
  {
   "cell_type": "code",
   "execution_count": 11,
   "metadata": {
    "id": "T0JgFIbCnOTd"
   },
   "outputs": [],
   "source": [
    "def extract_artist_info(search_resp):\n",
    "    items = search_resp.get('artists').get('items')\n",
    "    return [{'name': d['name'], 'id': d['id'], 'popularity': d['popularity']} for d in items]"
   ]
  },
  {
   "cell_type": "code",
   "execution_count": 12,
   "metadata": {
    "id": "2crM4aU_nOTd"
   },
   "outputs": [
    {
     "data": {
      "text/plain": [
       "[{'name': 'Paul Simon', 'id': '2CvCyf1gEVhI0mX6aFXmVI', 'popularity': 67},\n",
       " {'name': 'Paul Simonon', 'id': '62bYKAZ5EdmG5Aca9dtVan', 'popularity': 49},\n",
       " {'name': 'Simon & Garfunkel',\n",
       "  'id': '70cRZdQywnSFp9pnc2WTCE',\n",
       "  'popularity': 69},\n",
       " {'name': 'Paul Simon', 'id': '7saY0ZRzZgJJJgRw4yn7Vo', 'popularity': 4},\n",
       " {'name': 'Roberto Alagna', 'id': '2AyySZZK01JT6ZSYZ2CWgf', 'popularity': 41}]"
      ]
     },
     "execution_count": 12,
     "metadata": {},
     "output_type": "execute_result"
    }
   ],
   "source": [
    "paul_simon_info = extract_artist_info(paul_simon_data)\n",
    "paul_simon_info[:5]\n",
    "# {'name': 'Paul Simon', 'id': '2CvCyf1gEVhI0mX6aFXmVI', 'popularity': 74}"
   ]
  },
  {
   "cell_type": "code",
   "execution_count": 13,
   "metadata": {},
   "outputs": [
    {
     "data": {
      "text/plain": [
       "{'name': 'Paul Simon', 'id': '2CvCyf1gEVhI0mX6aFXmVI', 'popularity': 67}"
      ]
     },
     "execution_count": 13,
     "metadata": {},
     "output_type": "execute_result"
    }
   ],
   "source": [
    "real_paul_simon = paul_simon_info[0]\n",
    "\n",
    "real_paul_simon"
   ]
  },
  {
   "cell_type": "markdown",
   "metadata": {
    "id": "ayK_tTDLnOTd"
   },
   "source": [
    "## Digging Deeper"
   ]
  },
  {
   "cell_type": "markdown",
   "metadata": {
    "id": "9rKOJ8S7nOTe"
   },
   "source": [
    "Now that we have successfully requested and extracted information from the Spotify API, it's time to go deeper.  \n",
    "\n",
    "Let's use the artist's `id`, to search for more information about the artist."
   ]
  },
  {
   "cell_type": "markdown",
   "metadata": {
    "id": "HFtPJr_SnOTe"
   },
   "source": [
    "* Finding the `top_tracks`"
   ]
  },
  {
   "cell_type": "markdown",
   "metadata": {
    "id": "qiNc8XQBnOTe"
   },
   "source": [
    "With the Spotify API, we can find the top tracks of an artist.  Write a method that takes in an `artist_id`, and returns url to request an artist's top tracks. "
   ]
  },
  {
   "cell_type": "code",
   "execution_count": 14,
   "metadata": {
    "id": "aoWWxZkBnOTe"
   },
   "outputs": [],
   "source": [
    "def top_tracks_url(artist_id):\n",
    "    return f'https://api.spotify.com/v1/artists/{artist_id}/top-tracks?market=US'"
   ]
  },
  {
   "cell_type": "code",
   "execution_count": 15,
   "metadata": {
    "id": "oEYv9BadnOTe"
   },
   "outputs": [
    {
     "data": {
      "text/plain": [
       "'https://api.spotify.com/v1/artists/2CvCyf1gEVhI0mX6aFXmVI/top-tracks?market=US'"
      ]
     },
     "execution_count": 15,
     "metadata": {},
     "output_type": "execute_result"
    }
   ],
   "source": [
    "simon_id = real_paul_simon['id']\n",
    "\n",
    "simon_artist_url = top_tracks_url(simon_id)\n",
    "simon_artist_url\n",
    "# 'https://api.spotify.com/v1/artists/2CvCyf1gEVhI0mX6aFXmVI/top-tracks'"
   ]
  },
  {
   "cell_type": "markdown",
   "metadata": {
    "id": "8kD0Bd5LnOTe"
   },
   "source": [
    "Now use the url to make the request to the API."
   ]
  },
  {
   "cell_type": "code",
   "execution_count": 16,
   "metadata": {
    "id": "7LX6pnghnOTf"
   },
   "outputs": [],
   "source": [
    "simon_tracks = make_request(simon_artist_url)"
   ]
  },
  {
   "cell_type": "code",
   "execution_count": 17,
   "metadata": {
    "id": "rhBcQgm0nOTf"
   },
   "outputs": [],
   "source": [
    "# simon_tracks\n",
    "\n",
    "# {'tracks': [{'album': {'album_type': 'album',\n",
    "#     'artists': [{'external_urls': {'spotify': 'https://open.spotify.com/artist/2CvCyf1gEVhI0mX6aFXmVI'},\n",
    "#       'href': 'https://api.spotify.com/v1/artists/2CvCyf1gEVhI0mX6aFXmVI',\n",
    "#       'id': '2CvCyf1gEVhI0mX6aFXmVI',\n",
    "#       'name': 'Paul Simon',\n",
    "#       'type': 'artist',\n",
    "#       'uri': 'spotify:artist:2CvCyf1gEVhI0mX6aFXmVI'}],"
   ]
  },
  {
   "cell_type": "markdown",
   "metadata": {
    "id": "Fj509OvbnOTf"
   },
   "source": [
    "Write a method called `extract_track_info` that takes in a single track from the response, and returns a smaller dictionary of specified keys.  We'll provide a default argument of `keys = ['name', 'id', 'popularity]`, but if provided a list of different keys, it should extract them. \n",
    "\n",
    "> Look up dictionary comprehension to see how to do this."
   ]
  },
  {
   "cell_type": "code",
   "execution_count": 18,
   "metadata": {
    "id": "IV5h6iwonOTf"
   },
   "outputs": [
    {
     "data": {
      "text/plain": [
       "dict_keys(['album', 'artists', 'disc_number', 'duration_ms', 'explicit', 'external_ids', 'external_urls', 'href', 'id', 'is_local', 'is_playable', 'name', 'popularity', 'preview_url', 'track_number', 'type', 'uri'])"
      ]
     },
     "execution_count": 18,
     "metadata": {},
     "output_type": "execute_result"
    }
   ],
   "source": [
    "tracks = simon_tracks['tracks']\n",
    "\n",
    "first_track = tracks[0]\n",
    "\n",
    "first_track.keys()\n",
    "\n",
    "# dict_keys(['album', 'artists', 'disc_number', 'duration_ms',\n",
    "# 'explicit', 'external_ids', 'external_urls', 'href', 'id',\n",
    "# 'is_local', 'is_playable', 'name', 'popularity', \n",
    "# 'preview_url', 'track_number', 'type', 'uri'])"
   ]
  },
  {
   "cell_type": "code",
   "execution_count": 19,
   "metadata": {
    "id": "BptzHwAMnOTf"
   },
   "outputs": [],
   "source": [
    "def extract_track_info(track_response, keys = ['name', 'id', 'popularity']):\n",
    "    return {k: track_response[k] for k in keys}"
   ]
  },
  {
   "cell_type": "code",
   "execution_count": 20,
   "metadata": {
    "id": "Lq8_COIynOTf"
   },
   "outputs": [
    {
     "data": {
      "text/plain": [
       "{'name': 'You Can Call Me Al',\n",
       " 'id': '0qxYx4F3vm1AOnfux6dDxP',\n",
       " 'popularity': 76}"
      ]
     },
     "execution_count": 20,
     "metadata": {},
     "output_type": "execute_result"
    }
   ],
   "source": [
    "extract_track_info(first_track)"
   ]
  },
  {
   "cell_type": "code",
   "execution_count": 21,
   "metadata": {
    "id": "NXRWvZWYnOTg",
    "outputId": "94219a4c-8c76-467e-bba6-fa04f1c2cc38"
   },
   "outputs": [
    {
     "data": {
      "text/plain": [
       "{'name': 'You Can Call Me Al', 'popularity': 76, 'duration_ms': 280000}"
      ]
     },
     "execution_count": 21,
     "metadata": {},
     "output_type": "execute_result"
    }
   ],
   "source": [
    "extract_track_info(first_track, keys = ['name', 'popularity', 'duration_ms'])\n",
    "# {'duration_ms': 280000, 'name': 'You Can Call Me Al', 'popularity': 74}"
   ]
  },
  {
   "cell_type": "markdown",
   "metadata": {
    "id": "FQIBnZN4nOTg"
   },
   "source": [
    "Now write a method called `extract_tracks_info` that takes in an argument of a list of tracks, and has a default argument of `keys = ['name', 'id', 'popularity']` and retrieves the corresponding data for a list of tracks. "
   ]
  },
  {
   "cell_type": "code",
   "execution_count": 22,
   "metadata": {
    "id": "lKuabBuonOTg"
   },
   "outputs": [],
   "source": [
    "def extract_tracks_info(tracks_response, keys = ['name', 'id', 'popularity']):\n",
    "    return [extract_track_info(track) for track in tracks_response]"
   ]
  },
  {
   "cell_type": "code",
   "execution_count": 23,
   "metadata": {
    "id": "WIv5ZoJXnOTg",
    "outputId": "2db4c059-b6d8-4180-fd7c-197d3de278cd"
   },
   "outputs": [
    {
     "data": {
      "text/plain": [
       "[{'name': 'You Can Call Me Al',\n",
       "  'id': '0qxYx4F3vm1AOnfux6dDxP',\n",
       "  'popularity': 76},\n",
       " {'name': 'Me and Julio Down by the Schoolyard',\n",
       "  'id': '6vxHp3CDNo0afgKGp2yi1E',\n",
       "  'popularity': 72}]"
      ]
     },
     "execution_count": 23,
     "metadata": {},
     "output_type": "execute_result"
    }
   ],
   "source": [
    "top_songs_info = extract_tracks_info(simon_tracks['tracks'])\n",
    "\n",
    "top_songs_info[:2]\n",
    "# [{'song': 'You Can Call Me Al',\n",
    "#   'id': '0qxYx4F3vm1AOnfux6dDxP',\n",
    "#   'popularity': 74},\n",
    "#  {'song': 'Me and Julio Down by the Schoolyard',\n",
    "#   'id': '6vxHp3CDNo0afgKGp2yi1E',\n",
    "#   'popularity': 70},"
   ]
  },
  {
   "cell_type": "markdown",
   "metadata": {
    "id": "t_0wzf7fnOTh"
   },
   "source": [
    "## Song Analysis "
   ]
  },
  {
   "cell_type": "markdown",
   "metadata": {
    "id": "vMT6wMkTnOTh"
   },
   "source": [
    "Now write a function that takes in a `track_id` and returns the url to retrieve the features of a track."
   ]
  },
  {
   "cell_type": "code",
   "execution_count": 24,
   "metadata": {
    "id": "ep5Bh8JXnOTh"
   },
   "outputs": [],
   "source": [
    "def audio_features(track_id):\n",
    "    return f'https://api.spotify.com/v1/audio-features/{track_id}'"
   ]
  },
  {
   "cell_type": "code",
   "execution_count": 25,
   "metadata": {},
   "outputs": [
    {
     "data": {
      "text/plain": [
       "'0qxYx4F3vm1AOnfux6dDxP'"
      ]
     },
     "execution_count": 25,
     "metadata": {},
     "output_type": "execute_result"
    }
   ],
   "source": [
    "top_songs_info[0]['id']"
   ]
  },
  {
   "cell_type": "code",
   "execution_count": 26,
   "metadata": {
    "id": "pTDuAD2unOTh",
    "outputId": "bd2f1efb-02be-421e-b7f1-bd35713e9377"
   },
   "outputs": [
    {
     "data": {
      "text/plain": [
       "'https://api.spotify.com/v1/audio-features/0qxYx4F3vm1AOnfux6dDxP'"
      ]
     },
     "execution_count": 26,
     "metadata": {},
     "output_type": "execute_result"
    }
   ],
   "source": [
    "top_song_id = top_songs_info[0]['id']\n",
    "audio_url = audio_features(top_song_id)\n",
    "\n",
    "audio_url\n",
    "# 'https://api.spotify.com/v1/audio-features/0qxYx4F3vm1AOnfux6dDxP'"
   ]
  },
  {
   "cell_type": "markdown",
   "metadata": {
    "id": "4I6Oqy6ynOTi"
   },
   "source": [
    "Now use this url to retrieve the characteristics of this song."
   ]
  },
  {
   "cell_type": "code",
   "execution_count": 27,
   "metadata": {
    "id": "Vr0EeL5RnOTi"
   },
   "outputs": [],
   "source": [
    "audio_data = make_request(audio_url)"
   ]
  },
  {
   "cell_type": "code",
   "execution_count": 28,
   "metadata": {
    "id": "j5BtTx5TnOTi",
    "outputId": "544874c8-450f-486f-9ae7-fe1288220dc4"
   },
   "outputs": [
    {
     "data": {
      "text/plain": [
       "{'danceability': 0.776,\n",
       " 'energy': 0.763,\n",
       " 'key': 5,\n",
       " 'loudness': -8.124,\n",
       " 'mode': 1,\n",
       " 'speechiness': 0.0534,\n",
       " 'acousticness': 0.182,\n",
       " 'instrumentalness': 0.00647,\n",
       " 'liveness': 0.077,\n",
       " 'valence': 0.82,\n",
       " 'tempo': 128.433,\n",
       " 'type': 'audio_features',\n",
       " 'id': '0qxYx4F3vm1AOnfux6dDxP',\n",
       " 'uri': 'spotify:track:0qxYx4F3vm1AOnfux6dDxP',\n",
       " 'track_href': 'https://api.spotify.com/v1/tracks/0qxYx4F3vm1AOnfux6dDxP',\n",
       " 'analysis_url': 'https://api.spotify.com/v1/audio-analysis/0qxYx4F3vm1AOnfux6dDxP',\n",
       " 'duration_ms': 280000,\n",
       " 'time_signature': 4}"
      ]
     },
     "execution_count": 28,
     "metadata": {},
     "output_type": "execute_result"
    }
   ],
   "source": [
    "audio_data\n",
    "# {'danceability': 0.776,\n",
    "#  'energy': 0.763,\n",
    "#  'key': 5,\n",
    "#  'loudness': -8.124,\n",
    "#  'mode': 1,\n",
    "#  'speechiness': 0.0535,\n",
    "#  'acousticness': 0.182,\n",
    "#  'instrumentalness': 0.0065,\n",
    "#  'liveness': 0.077,\n",
    "#  'valence': 0.82,\n",
    "#  'tempo': 128.433,\n",
    "#  'type': 'audio_features',\n",
    "#  'id': '0qxYx4F3vm1AOnfux6dDxP',\n",
    "#  'uri': 'spotify:track:0qxYx4F3vm1AOnfux6dDxP',\n",
    "#  'track_href': 'https://api.spotify.com/v1/tracks/0qxYx4F3vm1AOnfux6dDxP',\n",
    "#  'analysis_url': 'https://api.spotify.com/v1/audio-analysis/0qxYx4F3vm1AOnfux6dDxP',\n",
    "#  'duration_ms': 280000,\n",
    "#  'time_signature': 4}"
   ]
  },
  {
   "cell_type": "markdown",
   "metadata": {
    "id": "H-Dv-RnynOTi"
   },
   "source": [
    "Next write a function called `extract_audio_data` that takes in a track features response, and only returns the following selected attributes by default:\n",
    "\n",
    "`['danceability', 'energy', 'loudness', 'speechiness', 'acousticness', 'instrumentalness', 'liveness', 'valence']`\n",
    "\n",
    "But can also return a list of other attributes if provided."
   ]
  },
  {
   "cell_type": "code",
   "execution_count": 29,
   "metadata": {
    "id": "esniMIO6nOTj"
   },
   "outputs": [],
   "source": [
    "def extract_audio_data(audio_data, selected_attrs=['danceability', 'energy', 'loudness', 'speechiness', 'acousticness',\n",
    "                                                   'instrumentalness', 'liveness', 'valence']):\n",
    "    return {k: v for k,v in audio_data.items() if k in selected_attrs}"
   ]
  },
  {
   "cell_type": "code",
   "execution_count": 30,
   "metadata": {
    "id": "Lml30KP6nOTj",
    "outputId": "59faf796-5793-4b1c-e65e-9ad9cde377aa"
   },
   "outputs": [
    {
     "data": {
      "text/plain": [
       "{'danceability': 0.776,\n",
       " 'energy': 0.763,\n",
       " 'loudness': -8.124,\n",
       " 'speechiness': 0.0534,\n",
       " 'acousticness': 0.182,\n",
       " 'instrumentalness': 0.00647,\n",
       " 'liveness': 0.077,\n",
       " 'valence': 0.82}"
      ]
     },
     "execution_count": 30,
     "metadata": {},
     "output_type": "execute_result"
    }
   ],
   "source": [
    "extract_audio_data(audio_data)\n",
    "# {'danceability': 0.776,\n",
    "#  'energy': 0.763,\n",
    "#  'loudness': -8.124,\n",
    "#  'speechiness': 0.0535,\n",
    "#  'acousticness': 0.182,\n",
    "#  'instrumentalness': 0.0065,\n",
    "#  'liveness': 0.077,\n",
    "#  'valence': 0.82}"
   ]
  },
  {
   "cell_type": "code",
   "execution_count": 31,
   "metadata": {
    "id": "xpwov0zznOTj",
    "outputId": "03e171da-8c67-4626-ff57-a4f1aa56bc80"
   },
   "outputs": [
    {
     "data": {
      "text/plain": [
       "{'danceability': 0.776,\n",
       " 'energy': 0.763,\n",
       " 'loudness': -8.124,\n",
       " 'instrumentalness': 0.00647}"
      ]
     },
     "execution_count": 31,
     "metadata": {},
     "output_type": "execute_result"
    }
   ],
   "source": [
    "alt_attrs = ['danceability', 'energy', 'loudness', 'instrumentalness']\n",
    "extract_audio_data(audio_data, selected_attrs = alt_attrs)\n",
    "# {'danceability': 0.776,\n",
    "#  'energy': 0.763,\n",
    "#  'loudness': -8.124,\n",
    "#  'instrumentalness': 0.0065}"
   ]
  },
  {
   "cell_type": "markdown",
   "metadata": {
    "id": "awMR3c_unOTj"
   },
   "source": [
    "Now let's work on constructing a request to retreive the song features for a list of songs.  First, let's get a list of the song ids for our top songs."
   ]
  },
  {
   "cell_type": "code",
   "execution_count": 32,
   "metadata": {
    "id": "BMgA5MPxnOTj"
   },
   "outputs": [],
   "source": [
    "top_song_ids = [top_song['id'] for top_song in top_songs_info]\n",
    "# ['0qxYx4F3vm1AOnfux6dDxP',\n",
    "#  '6vxHp3CDNo0afgKGp2yi1E',\n",
    "#  '6Qb7gtV6Q4MnUjSbkFcopl',\n",
    "#  '51KKQAgYFoJHgVIuJWHdHb',\n",
    "#  '71GvlH0VdeClloLIkHrAVu',\n",
    "#  '3f0U5NaD1bCk8nmKpn2ZJY',\n",
    "#  '3gIBSlXYIN1mru35l4LWPB',\n",
    "#  '2h23bjG8B3bcD47HBu6bHG',\n",
    "#  '0zb2kpEQMnqJPiLACKMiFM',\n",
    "#  '00IrSynHsun7DpDrLkRIjM']"
   ]
  },
  {
   "cell_type": "markdown",
   "metadata": {
    "id": "zlxpRS2JnOTk"
   },
   "source": [
    "From there let's write a function that takes in a list of track ids and constructs the url to retreive each of the provided songs' features -- we can see how to do that [here](https://developer.spotify.com/documentation/web-api/reference/tracks/get-several-audio-features/)."
   ]
  },
  {
   "cell_type": "code",
   "execution_count": 33,
   "metadata": {
    "id": "bHWWs7wAnOTk"
   },
   "outputs": [],
   "source": [
    "def audio_data_url(track_ids):\n",
    "    return 'https://api.spotify.com/v1/audio-features/?ids=' + ','.join(track_ids)"
   ]
  },
  {
   "cell_type": "code",
   "execution_count": 34,
   "metadata": {
    "id": "XIcDPpLEnOTk",
    "outputId": "8a813d1b-de89-4abd-907b-d0064c5c7e62"
   },
   "outputs": [
    {
     "data": {
      "text/plain": [
       "'https://api.spotify.com/v1/audio-features/?ids=0qxYx4F3vm1AOnfux6dDxP,6vxHp3CDNo0afgKGp2yi1E,6Qb7gtV6Q4MnUjSbkFcopl,3f0U5NaD1bCk8nmKpn2ZJY,51KKQAgYFoJHgVIuJWHdHb,71GvlH0VdeClloLIkHrAVu,2h23bjG8B3bcD47HBu6bHG,3gIBSlXYIN1mru35l4LWPB,0zb2kpEQMnqJPiLACKMiFM,5vZ1BKMSLgrxxPYGMR904n'"
      ]
     },
     "execution_count": 34,
     "metadata": {},
     "output_type": "execute_result"
    }
   ],
   "source": [
    "songs_url = audio_data_url(top_song_ids)\n",
    "songs_url\n",
    "# 'https://api.spotify.com/v1/audio-features/?ids=\n",
    "# 0qxYx4F3vm1AOnfux6dDxP,6vxHp3CDNo0afgKGp2yi1E,\n",
    "# 6Qb7gtV6Q4MnUjSbkFcopl,51KKQAgYFoJHgVIuJWHdHb,71GvlH0VdeClloLIkHrAVu,\n",
    "# 3f0U5NaD1bCk8nmKpn2ZJY,3gIBSlXYIN1mru35l4LWPB,2h23bjG8B3bcD47HBu6bHG,\n",
    "# 0zb2kpEQMnqJPiLACKMiFM,00IrSynHsun7DpDrLkRIjM'"
   ]
  },
  {
   "cell_type": "markdown",
   "metadata": {
    "id": "b8TavrounOTk"
   },
   "source": [
    "From there, let's request the song information."
   ]
  },
  {
   "cell_type": "code",
   "execution_count": 35,
   "metadata": {
    "id": "qkpARDlpnOTk"
   },
   "outputs": [],
   "source": [
    "songs_features = make_request(songs_url)\n",
    "# songs_features\n",
    "\n",
    "# [{'danceability': 0.776,\n",
    "#   'energy': 0.763,\n",
    "#   'key': 5,\n",
    "#   'loudness': -8.124,\n",
    "#   'mode': 1,\n",
    "#   'speechiness': 0.0535,\n",
    "#   'acousticness': 0.182,\n",
    "#   'instrumentalness': 0.0065,\n",
    "#   'liveness': 0.077,\n",
    "#   'valence': 0.82,\n",
    "#   'tempo': 128.433,\n",
    "#   'type': 'audio_features',\n",
    "#   'id': '0qxYx4F3vm1AOnfux6dDxP',\n",
    "#   'uri': 'spotify:track:0qxYx4F3vm1AOnfux6dDxP',\n",
    "#   'track_href': 'https://api.spotify.com/v1/tracks/0qxYx4F3vm1AOnfux6dDxP',\n",
    "#   'analysis_url': 'https://api.spotify.com/v1/audio-analysis/0qxYx4F3vm1AOnfux6dDxP',\n",
    "#   'duration_ms': 280000,\n",
    "#   'time_signature': 4},\n",
    "#  {'danceability': 0.626,\n",
    "#   'energy': 0.816,\n",
    "#   'key': 9,\n",
    "#   'loudness': -10.593,\n",
    "#   'mode': 1,"
   ]
  },
  {
   "cell_type": "code",
   "execution_count": 36,
   "metadata": {},
   "outputs": [
    {
     "data": {
      "text/plain": [
       "{'audio_features': [{'danceability': 0.776,\n",
       "   'energy': 0.763,\n",
       "   'key': 5,\n",
       "   'loudness': -8.124,\n",
       "   'mode': 1,\n",
       "   'speechiness': 0.0534,\n",
       "   'acousticness': 0.182,\n",
       "   'instrumentalness': 0.00647,\n",
       "   'liveness': 0.077,\n",
       "   'valence': 0.82,\n",
       "   'tempo': 128.433,\n",
       "   'type': 'audio_features',\n",
       "   'id': '0qxYx4F3vm1AOnfux6dDxP',\n",
       "   'uri': 'spotify:track:0qxYx4F3vm1AOnfux6dDxP',\n",
       "   'track_href': 'https://api.spotify.com/v1/tracks/0qxYx4F3vm1AOnfux6dDxP',\n",
       "   'analysis_url': 'https://api.spotify.com/v1/audio-analysis/0qxYx4F3vm1AOnfux6dDxP',\n",
       "   'duration_ms': 280000,\n",
       "   'time_signature': 4},\n",
       "  {'danceability': 0.626,\n",
       "   'energy': 0.816,\n",
       "   'key': 9,\n",
       "   'loudness': -10.593,\n",
       "   'mode': 1,\n",
       "   'speechiness': 0.131,\n",
       "   'acousticness': 0.237,\n",
       "   'instrumentalness': 1.8e-06,\n",
       "   'liveness': 0.104,\n",
       "   'valence': 0.798,\n",
       "   'tempo': 105.307,\n",
       "   'type': 'audio_features',\n",
       "   'id': '6vxHp3CDNo0afgKGp2yi1E',\n",
       "   'uri': 'spotify:track:6vxHp3CDNo0afgKGp2yi1E',\n",
       "   'track_href': 'https://api.spotify.com/v1/tracks/6vxHp3CDNo0afgKGp2yi1E',\n",
       "   'analysis_url': 'https://api.spotify.com/v1/audio-analysis/6vxHp3CDNo0afgKGp2yi1E',\n",
       "   'duration_ms': 164813,\n",
       "   'time_signature': 4},\n",
       "  {'danceability': 0.815,\n",
       "   'energy': 0.372,\n",
       "   'key': 7,\n",
       "   'loudness': -12.814,\n",
       "   'mode': 1,\n",
       "   'speechiness': 0.0752,\n",
       "   'acousticness': 0.166,\n",
       "   'instrumentalness': 0.000116,\n",
       "   'liveness': 0.0767,\n",
       "   'valence': 0.293,\n",
       "   'tempo': 101.684,\n",
       "   'type': 'audio_features',\n",
       "   'id': '6Qb7gtV6Q4MnUjSbkFcopl',\n",
       "   'uri': 'spotify:track:6Qb7gtV6Q4MnUjSbkFcopl',\n",
       "   'track_href': 'https://api.spotify.com/v1/tracks/6Qb7gtV6Q4MnUjSbkFcopl',\n",
       "   'analysis_url': 'https://api.spotify.com/v1/audio-analysis/6Qb7gtV6Q4MnUjSbkFcopl',\n",
       "   'duration_ms': 217347,\n",
       "   'time_signature': 4},\n",
       "  {'danceability': 0.592,\n",
       "   'energy': 0.705,\n",
       "   'key': 1,\n",
       "   'loudness': -10.276,\n",
       "   'mode': 0,\n",
       "   'speechiness': 0.0287,\n",
       "   'acousticness': 0.0291,\n",
       "   'instrumentalness': 1.97e-05,\n",
       "   'liveness': 0.0456,\n",
       "   'valence': 0.902,\n",
       "   'tempo': 135.754,\n",
       "   'type': 'audio_features',\n",
       "   'id': '3f0U5NaD1bCk8nmKpn2ZJY',\n",
       "   'uri': 'spotify:track:3f0U5NaD1bCk8nmKpn2ZJY',\n",
       "   'track_href': 'https://api.spotify.com/v1/tracks/3f0U5NaD1bCk8nmKpn2ZJY',\n",
       "   'analysis_url': 'https://api.spotify.com/v1/audio-analysis/3f0U5NaD1bCk8nmKpn2ZJY',\n",
       "   'duration_ms': 215400,\n",
       "   'time_signature': 4},\n",
       "  {'danceability': 0.732,\n",
       "   'energy': 0.705,\n",
       "   'key': 9,\n",
       "   'loudness': -9.271,\n",
       "   'mode': 1,\n",
       "   'speechiness': 0.0349,\n",
       "   'acousticness': 0.626,\n",
       "   'instrumentalness': 0.00068,\n",
       "   'liveness': 0.0813,\n",
       "   'valence': 0.848,\n",
       "   'tempo': 117.925,\n",
       "   'type': 'audio_features',\n",
       "   'id': '51KKQAgYFoJHgVIuJWHdHb',\n",
       "   'uri': 'spotify:track:51KKQAgYFoJHgVIuJWHdHb',\n",
       "   'track_href': 'https://api.spotify.com/v1/tracks/51KKQAgYFoJHgVIuJWHdHb',\n",
       "   'analysis_url': 'https://api.spotify.com/v1/audio-analysis/51KKQAgYFoJHgVIuJWHdHb',\n",
       "   'duration_ms': 291200,\n",
       "   'time_signature': 4},\n",
       "  {'danceability': 0.791,\n",
       "   'energy': 0.677,\n",
       "   'key': 5,\n",
       "   'loudness': -9.724,\n",
       "   'mode': 1,\n",
       "   'speechiness': 0.0356,\n",
       "   'acousticness': 0.776,\n",
       "   'instrumentalness': 0.00121,\n",
       "   'liveness': 0.224,\n",
       "   'valence': 0.876,\n",
       "   'tempo': 110.64,\n",
       "   'type': 'audio_features',\n",
       "   'id': '71GvlH0VdeClloLIkHrAVu',\n",
       "   'uri': 'spotify:track:71GvlH0VdeClloLIkHrAVu',\n",
       "   'track_href': 'https://api.spotify.com/v1/tracks/71GvlH0VdeClloLIkHrAVu',\n",
       "   'analysis_url': 'https://api.spotify.com/v1/audio-analysis/71GvlH0VdeClloLIkHrAVu',\n",
       "   'duration_ms': 349280,\n",
       "   'time_signature': 4},\n",
       "  {'danceability': 0.72,\n",
       "   'energy': 0.88,\n",
       "   'key': 5,\n",
       "   'loudness': -8.988,\n",
       "   'mode': 1,\n",
       "   'speechiness': 0.0406,\n",
       "   'acousticness': 0.199,\n",
       "   'instrumentalness': 0.0246,\n",
       "   'liveness': 0.0865,\n",
       "   'valence': 0.961,\n",
       "   'tempo': 118.623,\n",
       "   'type': 'audio_features',\n",
       "   'id': '2h23bjG8B3bcD47HBu6bHG',\n",
       "   'uri': 'spotify:track:2h23bjG8B3bcD47HBu6bHG',\n",
       "   'track_href': 'https://api.spotify.com/v1/tracks/2h23bjG8B3bcD47HBu6bHG',\n",
       "   'analysis_url': 'https://api.spotify.com/v1/audio-analysis/2h23bjG8B3bcD47HBu6bHG',\n",
       "   'duration_ms': 242707,\n",
       "   'time_signature': 4},\n",
       "  {'danceability': 0.267,\n",
       "   'energy': 0.252,\n",
       "   'key': 7,\n",
       "   'loudness': -11.687,\n",
       "   'mode': 1,\n",
       "   'speechiness': 0.0351,\n",
       "   'acousticness': 0.8,\n",
       "   'instrumentalness': 4.43e-05,\n",
       "   'liveness': 0.089,\n",
       "   'valence': 0.13,\n",
       "   'tempo': 37.114,\n",
       "   'type': 'audio_features',\n",
       "   'id': '3gIBSlXYIN1mru35l4LWPB',\n",
       "   'uri': 'spotify:track:3gIBSlXYIN1mru35l4LWPB',\n",
       "   'track_href': 'https://api.spotify.com/v1/tracks/3gIBSlXYIN1mru35l4LWPB',\n",
       "   'analysis_url': 'https://api.spotify.com/v1/audio-analysis/3gIBSlXYIN1mru35l4LWPB',\n",
       "   'duration_ms': 206533,\n",
       "   'time_signature': 4},\n",
       "  {'danceability': 0.641,\n",
       "   'energy': 0.409,\n",
       "   'key': 8,\n",
       "   'loudness': -12.452,\n",
       "   'mode': 1,\n",
       "   'speechiness': 0.0348,\n",
       "   'acousticness': 0.743,\n",
       "   'instrumentalness': 2.58e-06,\n",
       "   'liveness': 0.118,\n",
       "   'valence': 0.315,\n",
       "   'tempo': 121.165,\n",
       "   'type': 'audio_features',\n",
       "   'id': '0zb2kpEQMnqJPiLACKMiFM',\n",
       "   'uri': 'spotify:track:0zb2kpEQMnqJPiLACKMiFM',\n",
       "   'track_href': 'https://api.spotify.com/v1/tracks/0zb2kpEQMnqJPiLACKMiFM',\n",
       "   'analysis_url': 'https://api.spotify.com/v1/audio-analysis/0zb2kpEQMnqJPiLACKMiFM',\n",
       "   'duration_ms': 285053,\n",
       "   'time_signature': 4},\n",
       "  {'danceability': 0.712,\n",
       "   'energy': 0.632,\n",
       "   'key': 9,\n",
       "   'loudness': -7.704,\n",
       "   'mode': 1,\n",
       "   'speechiness': 0.0334,\n",
       "   'acousticness': 0.112,\n",
       "   'instrumentalness': 0,\n",
       "   'liveness': 0.0648,\n",
       "   'valence': 0.764,\n",
       "   'tempo': 119.931,\n",
       "   'type': 'audio_features',\n",
       "   'id': '5vZ1BKMSLgrxxPYGMR904n',\n",
       "   'uri': 'spotify:track:5vZ1BKMSLgrxxPYGMR904n',\n",
       "   'track_href': 'https://api.spotify.com/v1/tracks/5vZ1BKMSLgrxxPYGMR904n',\n",
       "   'analysis_url': 'https://api.spotify.com/v1/audio-analysis/5vZ1BKMSLgrxxPYGMR904n',\n",
       "   'duration_ms': 187400,\n",
       "   'time_signature': 4}]}"
      ]
     },
     "execution_count": 36,
     "metadata": {},
     "output_type": "execute_result"
    }
   ],
   "source": [
    "songs_features"
   ]
  },
  {
   "cell_type": "markdown",
   "metadata": {
    "id": "FkDE7hO5nOTl"
   },
   "source": [
    "From there, we can use our extract_audio_data function to limit the keys of limit the data for each song."
   ]
  },
  {
   "cell_type": "code",
   "execution_count": 37,
   "metadata": {
    "id": "grKCwVGPnOTl",
    "outputId": "c6027dda-9852-40a0-db0a-db832ce69ca6"
   },
   "outputs": [
    {
     "data": {
      "text/plain": [
       "[{'danceability': 0.776,\n",
       "  'energy': 0.763,\n",
       "  'loudness': -8.124,\n",
       "  'speechiness': 0.0534,\n",
       "  'acousticness': 0.182,\n",
       "  'instrumentalness': 0.00647,\n",
       "  'liveness': 0.077,\n",
       "  'valence': 0.82},\n",
       " {'danceability': 0.626,\n",
       "  'energy': 0.816,\n",
       "  'loudness': -10.593,\n",
       "  'speechiness': 0.131,\n",
       "  'acousticness': 0.237,\n",
       "  'instrumentalness': 1.8e-06,\n",
       "  'liveness': 0.104,\n",
       "  'valence': 0.798},\n",
       " {'danceability': 0.815,\n",
       "  'energy': 0.372,\n",
       "  'loudness': -12.814,\n",
       "  'speechiness': 0.0752,\n",
       "  'acousticness': 0.166,\n",
       "  'instrumentalness': 0.000116,\n",
       "  'liveness': 0.0767,\n",
       "  'valence': 0.293}]"
      ]
     },
     "execution_count": 37,
     "metadata": {},
     "output_type": "execute_result"
    }
   ],
   "source": [
    "[extract_audio_data(audio_data) for audio_data in songs_features['audio_features']][:3]"
   ]
  },
  {
   "cell_type": "markdown",
   "metadata": {
    "id": "y-QasklbnOTl"
   },
   "source": [
    "### Resources"
   ]
  },
  {
   "cell_type": "markdown",
   "metadata": {
    "id": "eVZaNo9lnOTl"
   },
   "source": [
    "[StackOverflow Post](https://stackoverflow.com/questions/30557409/spotify-api-post-call-response-415)"
   ]
  },
  {
   "cell_type": "markdown",
   "metadata": {
    "id": "5hr_b6fjnOTm"
   },
   "source": [
    "[Spotify Tutorial Python](https://kholinlabs.com/how-oauth-works-with-spotify-as-an-example)"
   ]
  }
 ],
 "metadata": {
  "colab": {
   "name": "1-index.ipynb",
   "provenance": []
  },
  "kernelspec": {
   "display_name": "Python 3 (ipykernel)",
   "language": "python",
   "name": "python3"
  },
  "language_info": {
   "codemirror_mode": {
    "name": "ipython",
    "version": 3
   },
   "file_extension": ".py",
   "mimetype": "text/x-python",
   "name": "python",
   "nbconvert_exporter": "python",
   "pygments_lexer": "ipython3",
   "version": "3.10.2"
  }
 },
 "nbformat": 4,
 "nbformat_minor": 4
}

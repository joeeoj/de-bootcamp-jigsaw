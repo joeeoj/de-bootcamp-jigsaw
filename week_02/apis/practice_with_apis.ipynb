{
 "cells": [
  {
   "cell_type": "markdown",
   "metadata": {
    "id": "FJ3vqwDJOYca"
   },
   "source": [
    "# Practice with APIs"
   ]
  },
  {
   "cell_type": "markdown",
   "metadata": {
    "id": "_lvJUSaiOYcd"
   },
   "source": [
    "In the last lesson, we saw how we can gather information about books by using APIs.  In this lesson, we'll you our new found Python skills to use Apple's Itunes API.  That's right, we're going for it."
   ]
  },
  {
   "cell_type": "markdown",
   "metadata": {
    "id": "7e4RdywHOYce"
   },
   "source": [
    "### Some tips before we start"
   ]
  },
  {
   "cell_type": "markdown",
   "metadata": {
    "id": "lLkpIHPNOYce"
   },
   "source": [
    "This may be your first time writing code on your own, and it's understandable if you're feeling a little queasy about the feeling. Here are couple things for you to remember.\n",
    "\n",
    "1. Don't try to solve it all at once.  Instead say or write down the first task you need to do, then try to think of the code to do it.\n",
    "2. Once you know what you have to do, if you forget how to code it in Python, [ask Google](https://www.google.com/search?q=how+to+make+a+request+in+python&oq=how+to+make+a+request+in+python&aqs=chrome..69i57j0l5.7493j0j7&sourceid=chrome&ie=UTF-8).\n",
    "3. Try a lot of wrong things.  It's just code. If you break something, it's just digital.  Try to understand to see what went wrong, (and ask Google if you don't understand it) and try again.\n",
    "\n"
   ]
  },
  {
   "cell_type": "markdown",
   "metadata": {
    "id": "Pfw6KFLuOYcf"
   },
   "source": [
    "### Learning more about Prince"
   ]
  },
  {
   "cell_type": "markdown",
   "metadata": {
    "id": "7L5ftrQoOYcf"
   },
   "source": [
    "Let's use the Apple API to find out more information about Prince. Because we are asking for information, and not changing say adding a new artist to Itunes, we need to make a GET request with Python to the following URL: \n",
    "\n",
    "`\"https://itunes.apple.com/search?term=prince\"`\n",
    "\n",
    "And to do that we need to use the `requests` module.  Go ahead and write the code to allow us to use the requests module in this document.  Give it a shot in the gray cell below."
   ]
  },
  {
   "cell_type": "code",
   "execution_count": 1,
   "metadata": {
    "id": "axCq7tGSOYcg"
   },
   "outputs": [],
   "source": [
    "import requests"
   ]
  },
  {
   "cell_type": "markdown",
   "metadata": {
    "id": "0GSw5khcOYcg"
   },
   "source": [
    "> Remember, we need to press `shift` and `enter` simultaneously to execute our code."
   ]
  },
  {
   "cell_type": "markdown",
   "metadata": {
    "id": "MKrXWqgAOYch"
   },
   "source": [
    "Next, make a `GET` request to the URL we specified above.  "
   ]
  },
  {
   "cell_type": "code",
   "execution_count": 2,
   "metadata": {
    "id": "7kxivNm1OYci"
   },
   "outputs": [],
   "source": [
    "url = 'https://itunes.apple.com/search?term=prince'\n",
    "r = requests.get(url)"
   ]
  },
  {
   "cell_type": "code",
   "execution_count": 3,
   "metadata": {},
   "outputs": [
    {
     "data": {
      "text/plain": [
       "200"
      ]
     },
     "execution_count": 3,
     "metadata": {},
     "output_type": "execute_result"
    }
   ],
   "source": [
    "r.status_code"
   ]
  },
  {
   "cell_type": "markdown",
   "metadata": {
    "id": "csOniGVIOYci"
   },
   "source": [
    "> Remember, we need to press shift and enter simultaneously to execute our code."
   ]
  },
  {
   "cell_type": "markdown",
   "metadata": {
    "id": "hnMz8caYOYci"
   },
   "source": [
    "Also, remember that that we'll need to capture the response in a variable.  So, if needed, modify the code above to do so.  Let's call that variable `response`."
   ]
  },
  {
   "cell_type": "markdown",
   "metadata": {
    "id": "lSVI4AhcOYcj"
   },
   "source": [
    "Finally, use that variable to access the JSON.  (Scroll to very bottom, when you are done.)"
   ]
  },
  {
   "cell_type": "code",
   "execution_count": 5,
   "metadata": {
    "id": "nWdLRbZWOYcj"
   },
   "outputs": [],
   "source": [
    "data = r.json()"
   ]
  },
  {
   "cell_type": "code",
   "execution_count": 6,
   "metadata": {},
   "outputs": [
    {
     "data": {
      "text/plain": [
       "dict"
      ]
     },
     "execution_count": 6,
     "metadata": {},
     "output_type": "execute_result"
    }
   ],
   "source": [
    "type(data)"
   ]
  },
  {
   "cell_type": "code",
   "execution_count": 7,
   "metadata": {},
   "outputs": [
    {
     "data": {
      "text/plain": [
       "dict_keys(['resultCount', 'results'])"
      ]
     },
     "execution_count": 7,
     "metadata": {},
     "output_type": "execute_result"
    }
   ],
   "source": [
    "data.keys()"
   ]
  },
  {
   "cell_type": "markdown",
   "metadata": {
    "id": "Fmc1wCPHOYcj"
   },
   "source": [
    "### Summary \n",
    "\n",
    "Great job - this was not such a simple introduction to code.  If you were able to do this successfully.  *Take a break, and then **try to perform these steps again, this time without any guidance**.*  \n",
    "\n",
    "The goal when coding, isn't to try to memorize anything.  There's way too much room for mistakes if we aren't constantly trying to make sense of what we are writing.  So instead, write out (or explain) to yourself what you need to do first, and then write out the corresponding code.  Then explain to yourself what you need to do second.  \n",
    "\n",
    "Then, **as a bonus**, take a look at [the documentation](https://affiliate.itunes.apple.com/resources/documentation/itunes-store-web-service-search-api/#searchexamples) that Apple provides on the API, and try some of the examples provided there, using the same pattern that we went through above."
   ]
  },
  {
   "cell_type": "markdown",
   "metadata": {},
   "source": [
    "> The Search API is limited to approximately 20 calls per minute (subject to change). If you require heavier usage, we suggest you consider using our Enterprise Partner Feed (EPF). If you wish to access content on our EPF, please review iTunes Affliate Resources for more information"
   ]
  },
  {
   "cell_type": "markdown",
   "metadata": {},
   "source": [
    "https://developer.apple.com/library/archive/documentation/AudioVideo/Conceptual/iTuneSearchAPI/Searching.html#//apple_ref/doc/uid/TP40017632-CH5-SW1"
   ]
  },
  {
   "cell_type": "markdown",
   "metadata": {},
   "source": [
    "------------------"
   ]
  },
  {
   "cell_type": "code",
   "execution_count": 25,
   "metadata": {},
   "outputs": [],
   "source": [
    "from urllib.parse import urlencode\n",
    "import time"
   ]
  },
  {
   "cell_type": "code",
   "execution_count": 28,
   "metadata": {},
   "outputs": [],
   "source": [
    "DELAY = 60 / 20 + 1"
   ]
  },
  {
   "cell_type": "code",
   "execution_count": 17,
   "metadata": {},
   "outputs": [],
   "source": [
    "MEDIA_TYPE_ENTITIES = {\n",
    "    'movie': ['movieArtist', 'movie'],\n",
    "    'podcast': ['podcastAuthor', 'podcast'],\n",
    "    'music': ['musicArtist', 'musicTrack', 'album', 'musicVideo', 'mix', 'song'],\n",
    "    'musicVideo': ['musicArtist', 'musicVideo'],\n",
    "    'audiobook': ['audiobookAuthor', 'audiobook'],\n",
    "    'shortFilm': ['shortFilmArtist', 'shortFilm'],\n",
    "    'tvShow': ['tvEpisode', 'tvSeason'],\n",
    "    'software': ['software', 'iPadSoftware', 'macSoftware'],\n",
    "    'ebook': ['ebook'],\n",
    "    'all': ['movie', 'album', 'allArtist', 'podcast', 'musicVideo', 'mix', 'audiobook', 'tvSeason', 'allTrack'],\n",
    "}\n",
    "\n",
    "# default is all\n",
    "MEDIA = list(MEDIA_TYPE_ENTITIES.keys())\n",
    "\n",
    "BASE_URL = 'https://itunes.apple.com/search?'\n",
    "PARAMS = {\n",
    "    # required\n",
    "    'term': None,\n",
    "    \n",
    "    # optional\n",
    "    'limit': 200,  # 1 to 200, default 25\n",
    "    'media': None,\n",
    "    'entity': None,\n",
    "}"
   ]
  },
  {
   "cell_type": "code",
   "execution_count": 21,
   "metadata": {},
   "outputs": [
    {
     "data": {
      "text/plain": [
       "'https://itunes.apple.com/search?term=Ziwe&media=tvShow&limit=200'"
      ]
     },
     "execution_count": 21,
     "metadata": {},
     "output_type": "execute_result"
    }
   ],
   "source": [
    "params = PARAMS.copy()\n",
    "\n",
    "params['term'] = 'Ziwe'\n",
    "params['media'] = 'tvShow'\n",
    "\n",
    "url = BASE_URL + urlencode(dict([(k,v) for k,v in params.items() if v is not None]))\n",
    "\n",
    "url"
   ]
  },
  {
   "cell_type": "code",
   "execution_count": 22,
   "metadata": {},
   "outputs": [],
   "source": [
    "r = requests.get(url)\n",
    "\n",
    "data = r.json()"
   ]
  },
  {
   "cell_type": "code",
   "execution_count": 23,
   "metadata": {},
   "outputs": [
    {
     "data": {
      "text/plain": [
       "{'resultCount': 6,\n",
       " 'results': [{'wrapperType': 'track',\n",
       "   'kind': 'tv-episode',\n",
       "   'artistId': 1578039674,\n",
       "   'collectionId': 1578039675,\n",
       "   'trackId': 1579547843,\n",
       "   'artistName': 'ZIWE',\n",
       "   'collectionName': 'ZIWE, Season 1',\n",
       "   'trackName': 'Whitewashing',\n",
       "   'collectionCensoredName': 'ZIWE, Season 1',\n",
       "   'trackCensoredName': 'Whitewashing',\n",
       "   'artistViewUrl': 'https://itunes.apple.com/us/tv-show/ziwe/id1578039674?uo=4',\n",
       "   'collectionViewUrl': 'https://itunes.apple.com/us/tv-season/whitewashing/id1578039675?i=1579547843&uo=4',\n",
       "   'trackViewUrl': 'https://itunes.apple.com/us/tv-season/whitewashing/id1578039675?i=1579547843&uo=4',\n",
       "   'previewUrl': 'https://video-ssl.itunes.apple.com/itunes-assets/Video125/v4/29/4d/bb/294dbb22-6bc2-125a-89b2-4a6c70416ca5/mzvf_11376073673425285103.640x476.h264lc.U.p.m4v',\n",
       "   'artworkUrl30': 'https://is5-ssl.mzstatic.com/image/thumb/Video125/v4/e5/a0/35/e5a03515-7564-e26c-98ff-9bf01c86c737/pr_source.lsr/30x30bb.jpg',\n",
       "   'artworkUrl60': 'https://is5-ssl.mzstatic.com/image/thumb/Video125/v4/e5/a0/35/e5a03515-7564-e26c-98ff-9bf01c86c737/pr_source.lsr/60x60bb.jpg',\n",
       "   'artworkUrl100': 'https://is5-ssl.mzstatic.com/image/thumb/Video125/v4/e5/a0/35/e5a03515-7564-e26c-98ff-9bf01c86c737/pr_source.lsr/100x100bb.jpg',\n",
       "   'collectionPrice': 8.99,\n",
       "   'trackPrice': 1.99,\n",
       "   'collectionHdPrice': 10.99,\n",
       "   'trackHdPrice': 2.99,\n",
       "   'releaseDate': '2021-06-13T07:00:00Z',\n",
       "   'collectionExplicitness': 'notExplicit',\n",
       "   'trackExplicitness': 'notExplicit',\n",
       "   'discCount': 1,\n",
       "   'discNumber': 1,\n",
       "   'trackCount': 6,\n",
       "   'trackNumber': 6,\n",
       "   'trackTimeMillis': 1560030,\n",
       "   'country': 'USA',\n",
       "   'currency': 'USD',\n",
       "   'primaryGenreName': 'Comedy',\n",
       "   'contentAdvisoryRating': 'TV-MA',\n",
       "   'shortDescription': 'Ziwe investigates whitewashing in Hollywood with interview guest Adam Pally and showcases the',\n",
       "   'longDescription': 'Ziwe investigates whitewashing in Hollywood with interview guest Adam Pally and showcases the trailer for her biopic. Musical guest: Ziwe. Season finale.'},\n",
       "  {'wrapperType': 'track',\n",
       "   'kind': 'tv-episode',\n",
       "   'artistId': 1578039674,\n",
       "   'collectionId': 1578039675,\n",
       "   'trackId': 1579541605,\n",
       "   'artistName': 'ZIWE',\n",
       "   'collectionName': 'ZIWE, Season 1',\n",
       "   'trackName': '55 Percent',\n",
       "   'collectionCensoredName': 'ZIWE, Season 1',\n",
       "   'trackCensoredName': '55 Percent',\n",
       "   'artistViewUrl': 'https://itunes.apple.com/us/tv-show/ziwe/id1578039674?uo=4',\n",
       "   'collectionViewUrl': 'https://itunes.apple.com/us/tv-season/55-percent/id1578039675?i=1579541605&uo=4',\n",
       "   'trackViewUrl': 'https://itunes.apple.com/us/tv-season/55-percent/id1578039675?i=1579541605&uo=4',\n",
       "   'previewUrl': 'https://video-ssl.itunes.apple.com/itunes-assets/Video115/v4/df/4c/42/df4c4234-976e-4504-3846-ccb7b679c16e/mzvf_9745016156747372286.640x476.h264lc.U.p.m4v',\n",
       "   'artworkUrl30': 'https://is5-ssl.mzstatic.com/image/thumb/Video125/v4/e5/a0/35/e5a03515-7564-e26c-98ff-9bf01c86c737/pr_source.lsr/30x30bb.jpg',\n",
       "   'artworkUrl60': 'https://is5-ssl.mzstatic.com/image/thumb/Video125/v4/e5/a0/35/e5a03515-7564-e26c-98ff-9bf01c86c737/pr_source.lsr/60x60bb.jpg',\n",
       "   'artworkUrl100': 'https://is5-ssl.mzstatic.com/image/thumb/Video125/v4/e5/a0/35/e5a03515-7564-e26c-98ff-9bf01c86c737/pr_source.lsr/100x100bb.jpg',\n",
       "   'collectionPrice': 8.99,\n",
       "   'trackPrice': 1.99,\n",
       "   'collectionHdPrice': 10.99,\n",
       "   'trackHdPrice': 2.99,\n",
       "   'releaseDate': '2021-05-09T07:00:00Z',\n",
       "   'collectionExplicitness': 'notExplicit',\n",
       "   'trackExplicitness': 'notExplicit',\n",
       "   'discCount': 1,\n",
       "   'discNumber': 1,\n",
       "   'trackCount': 6,\n",
       "   'trackNumber': 1,\n",
       "   'trackTimeMillis': 1478830,\n",
       "   'country': 'USA',\n",
       "   'currency': 'USD',\n",
       "   'primaryGenreName': 'Comedy',\n",
       "   'contentAdvisoryRating': 'TV-MA',\n",
       "   'shortDescription': 'Ziwe discusses the phenomenon of white women with interview guest Fran Lebowitz and hosts a focus',\n",
       "   'longDescription': 'Ziwe discusses the phenomenon of white women with interview guest Fran Lebowitz and hosts a focus group for real women named ‘Karen’. Musical guest: Ziwe. Season premiere.'},\n",
       "  {'wrapperType': 'track',\n",
       "   'kind': 'tv-episode',\n",
       "   'artistId': 1578039674,\n",
       "   'collectionId': 1578039675,\n",
       "   'trackId': 1579550440,\n",
       "   'artistName': 'ZIWE',\n",
       "   'collectionName': 'ZIWE, Season 1',\n",
       "   'trackName': 'Beauty Standards',\n",
       "   'collectionCensoredName': 'ZIWE, Season 1',\n",
       "   'trackCensoredName': 'Beauty Standards',\n",
       "   'artistViewUrl': 'https://itunes.apple.com/us/tv-show/ziwe/id1578039674?uo=4',\n",
       "   'collectionViewUrl': 'https://itunes.apple.com/us/tv-season/beauty-standards/id1578039675?i=1579550440&uo=4',\n",
       "   'trackViewUrl': 'https://itunes.apple.com/us/tv-season/beauty-standards/id1578039675?i=1579550440&uo=4',\n",
       "   'previewUrl': 'https://video-ssl.itunes.apple.com/itunes-assets/Video115/v4/53/24/f5/5324f576-689f-2336-4a1a-6b6d397e5d41/mzvf_8059684330877758402.640x476.h264lc.U.p.m4v',\n",
       "   'artworkUrl30': 'https://is5-ssl.mzstatic.com/image/thumb/Video125/v4/e5/a0/35/e5a03515-7564-e26c-98ff-9bf01c86c737/pr_source.lsr/30x30bb.jpg',\n",
       "   'artworkUrl60': 'https://is5-ssl.mzstatic.com/image/thumb/Video125/v4/e5/a0/35/e5a03515-7564-e26c-98ff-9bf01c86c737/pr_source.lsr/60x60bb.jpg',\n",
       "   'artworkUrl100': 'https://is5-ssl.mzstatic.com/image/thumb/Video125/v4/e5/a0/35/e5a03515-7564-e26c-98ff-9bf01c86c737/pr_source.lsr/100x100bb.jpg',\n",
       "   'collectionPrice': 8.99,\n",
       "   'trackPrice': 1.99,\n",
       "   'collectionHdPrice': 10.99,\n",
       "   'trackHdPrice': 2.99,\n",
       "   'releaseDate': '2021-05-16T07:00:00Z',\n",
       "   'collectionExplicitness': 'notExplicit',\n",
       "   'trackExplicitness': 'notExplicit',\n",
       "   'discCount': 1,\n",
       "   'discNumber': 1,\n",
       "   'trackCount': 6,\n",
       "   'trackNumber': 2,\n",
       "   'trackTimeMillis': 1738917,\n",
       "   'country': 'USA',\n",
       "   'currency': 'USD',\n",
       "   'primaryGenreName': 'Comedy',\n",
       "   'contentAdvisoryRating': 'TV-MA',\n",
       "   'shortDescription': 'Ziwe explores the dilemma of wealth hoarding with interview guests Bowen Yang and Patti Harrison and',\n",
       "   'longDescription': 'Ziwe explores the dilemma of wealth hoarding with interview guests Bowen Yang and Patti Harrison and begins her campaign for New York City mayor. Musical guest: Ziwe.'},\n",
       "  {'wrapperType': 'track',\n",
       "   'kind': 'tv-episode',\n",
       "   'artistId': 1578039674,\n",
       "   'collectionId': 1578039675,\n",
       "   'trackId': 1579551432,\n",
       "   'artistName': 'ZIWE',\n",
       "   'collectionName': 'ZIWE, Season 1',\n",
       "   'trackName': 'Immigration',\n",
       "   'collectionCensoredName': 'ZIWE, Season 1',\n",
       "   'trackCensoredName': 'Immigration',\n",
       "   'artistViewUrl': 'https://itunes.apple.com/us/tv-show/ziwe/id1578039674?uo=4',\n",
       "   'collectionViewUrl': 'https://itunes.apple.com/us/tv-season/immigration/id1578039675?i=1579551432&uo=4',\n",
       "   'trackViewUrl': 'https://itunes.apple.com/us/tv-season/immigration/id1578039675?i=1579551432&uo=4',\n",
       "   'previewUrl': 'https://video-ssl.itunes.apple.com/itunes-assets/Video125/v4/32/4e/14/324e1491-d9f0-7fec-86a3-b6ef4f114d2a/mzvf_1643594043792454013.640x476.h264lc.U.p.m4v',\n",
       "   'artworkUrl30': 'https://is5-ssl.mzstatic.com/image/thumb/Video125/v4/e5/a0/35/e5a03515-7564-e26c-98ff-9bf01c86c737/pr_source.lsr/30x30bb.jpg',\n",
       "   'artworkUrl60': 'https://is5-ssl.mzstatic.com/image/thumb/Video125/v4/e5/a0/35/e5a03515-7564-e26c-98ff-9bf01c86c737/pr_source.lsr/60x60bb.jpg',\n",
       "   'artworkUrl100': 'https://is5-ssl.mzstatic.com/image/thumb/Video125/v4/e5/a0/35/e5a03515-7564-e26c-98ff-9bf01c86c737/pr_source.lsr/100x100bb.jpg',\n",
       "   'collectionPrice': 8.99,\n",
       "   'trackPrice': 1.99,\n",
       "   'collectionHdPrice': 10.99,\n",
       "   'trackHdPrice': 2.99,\n",
       "   'releaseDate': '2021-06-06T07:00:00Z',\n",
       "   'collectionExplicitness': 'notExplicit',\n",
       "   'trackExplicitness': 'notExplicit',\n",
       "   'discCount': 1,\n",
       "   'discNumber': 1,\n",
       "   'trackCount': 6,\n",
       "   'trackNumber': 5,\n",
       "   'trackTimeMillis': 1442583,\n",
       "   'country': 'USA',\n",
       "   'currency': 'USD',\n",
       "   'primaryGenreName': 'Comedy',\n",
       "   'contentAdvisoryRating': 'TV-MA',\n",
       "   'shortDescription': 'Ziwe contemplates immigration in America with interview guest Julio Torres. Musical guest: Ziwe',\n",
       "   'longDescription': 'Ziwe contemplates immigration in America with interview guest Julio Torres. Musical guest: Ziwe.'},\n",
       "  {'wrapperType': 'track',\n",
       "   'kind': 'tv-episode',\n",
       "   'artistId': 1578039674,\n",
       "   'collectionId': 1578039675,\n",
       "   'trackId': 1579551777,\n",
       "   'artistName': 'ZIWE',\n",
       "   'collectionName': 'ZIWE, Season 1',\n",
       "   'trackName': 'Allyship',\n",
       "   'collectionCensoredName': 'ZIWE, Season 1',\n",
       "   'trackCensoredName': 'Allyship',\n",
       "   'artistViewUrl': 'https://itunes.apple.com/us/tv-show/ziwe/id1578039674?uo=4',\n",
       "   'collectionViewUrl': 'https://itunes.apple.com/us/tv-season/allyship/id1578039675?i=1579551777&uo=4',\n",
       "   'trackViewUrl': 'https://itunes.apple.com/us/tv-season/allyship/id1578039675?i=1579551777&uo=4',\n",
       "   'previewUrl': 'https://video-ssl.itunes.apple.com/itunes-assets/Video115/v4/e0/30/35/e03035b1-52fa-6df5-def7-d14bc1c155f1/mzvf_5830454915132075168.640x476.h264lc.U.p.m4v',\n",
       "   'artworkUrl30': 'https://is5-ssl.mzstatic.com/image/thumb/Video125/v4/e5/a0/35/e5a03515-7564-e26c-98ff-9bf01c86c737/pr_source.lsr/30x30bb.jpg',\n",
       "   'artworkUrl60': 'https://is5-ssl.mzstatic.com/image/thumb/Video125/v4/e5/a0/35/e5a03515-7564-e26c-98ff-9bf01c86c737/pr_source.lsr/60x60bb.jpg',\n",
       "   'artworkUrl100': 'https://is5-ssl.mzstatic.com/image/thumb/Video125/v4/e5/a0/35/e5a03515-7564-e26c-98ff-9bf01c86c737/pr_source.lsr/100x100bb.jpg',\n",
       "   'collectionPrice': 8.99,\n",
       "   'trackPrice': 1.99,\n",
       "   'collectionHdPrice': 10.99,\n",
       "   'trackHdPrice': 2.99,\n",
       "   'releaseDate': '2021-05-30T07:00:00Z',\n",
       "   'collectionExplicitness': 'notExplicit',\n",
       "   'trackExplicitness': 'notExplicit',\n",
       "   'discCount': 1,\n",
       "   'discNumber': 1,\n",
       "   'trackCount': 6,\n",
       "   'trackNumber': 4,\n",
       "   'trackTimeMillis': 1712887,\n",
       "   'country': 'USA',\n",
       "   'currency': 'USD',\n",
       "   'primaryGenreName': 'Comedy',\n",
       "   'contentAdvisoryRating': 'TV-MA',\n",
       "   'shortDescription': 'Ziwe discusses allyship with interview guest Phoebe Bridgers and hosts a game show to crown the ‘',\n",
       "   'longDescription': 'Ziwe discusses allyship with interview guest Phoebe Bridgers and hosts a game show to crown the ‘wokest’ ally. Musical guest: Ziwe.'},\n",
       "  {'wrapperType': 'track',\n",
       "   'kind': 'tv-episode',\n",
       "   'artistId': 1578039674,\n",
       "   'collectionId': 1578039675,\n",
       "   'trackId': 1579544694,\n",
       "   'artistName': 'ZIWE',\n",
       "   'collectionName': 'ZIWE, Season 1',\n",
       "   'trackName': 'Wealth Hoarders',\n",
       "   'collectionCensoredName': 'ZIWE, Season 1',\n",
       "   'trackCensoredName': 'Wealth Hoarders',\n",
       "   'artistViewUrl': 'https://itunes.apple.com/us/tv-show/ziwe/id1578039674?uo=4',\n",
       "   'collectionViewUrl': 'https://itunes.apple.com/us/tv-season/wealth-hoarders/id1578039675?i=1579544694&uo=4',\n",
       "   'trackViewUrl': 'https://itunes.apple.com/us/tv-season/wealth-hoarders/id1578039675?i=1579544694&uo=4',\n",
       "   'previewUrl': 'https://video-ssl.itunes.apple.com/itunes-assets/Video125/v4/47/bb/fc/47bbfca0-9ebd-4f85-6122-aafe10c16d68/mzvf_6270571769853697659.640x476.h264lc.U.p.m4v',\n",
       "   'artworkUrl30': 'https://is5-ssl.mzstatic.com/image/thumb/Video125/v4/e5/a0/35/e5a03515-7564-e26c-98ff-9bf01c86c737/pr_source.lsr/30x30bb.jpg',\n",
       "   'artworkUrl60': 'https://is5-ssl.mzstatic.com/image/thumb/Video125/v4/e5/a0/35/e5a03515-7564-e26c-98ff-9bf01c86c737/pr_source.lsr/60x60bb.jpg',\n",
       "   'artworkUrl100': 'https://is5-ssl.mzstatic.com/image/thumb/Video125/v4/e5/a0/35/e5a03515-7564-e26c-98ff-9bf01c86c737/pr_source.lsr/100x100bb.jpg',\n",
       "   'collectionPrice': 8.99,\n",
       "   'trackPrice': 1.99,\n",
       "   'collectionHdPrice': 10.99,\n",
       "   'trackHdPrice': 2.99,\n",
       "   'releaseDate': '2021-05-23T07:00:00Z',\n",
       "   'collectionExplicitness': 'notExplicit',\n",
       "   'trackExplicitness': 'notExplicit',\n",
       "   'discCount': 1,\n",
       "   'discNumber': 1,\n",
       "   'trackCount': 6,\n",
       "   'trackNumber': 3,\n",
       "   'trackTimeMillis': 1615782,\n",
       "   'country': 'USA',\n",
       "   'currency': 'USD',\n",
       "   'primaryGenreName': 'Comedy',\n",
       "   'contentAdvisoryRating': 'TV-MA',\n",
       "   'shortDescription': 'Ziwe ponders societal beauty standards with interview guest Eboni K. Williams and makes a visit to a',\n",
       "   'longDescription': 'Ziwe ponders societal beauty standards with interview guest Eboni K. Williams and makes a visit to a plastic surgeon. Musical guest: Ziwe.'}]}"
      ]
     },
     "execution_count": 23,
     "metadata": {},
     "output_type": "execute_result"
    }
   ],
   "source": [
    "data"
   ]
  }
 ],
 "metadata": {
  "colab": {
   "name": "practice-with-apis.ipynb",
   "provenance": []
  },
  "kernelspec": {
   "display_name": "Python 3 (ipykernel)",
   "language": "python",
   "name": "python3"
  },
  "language_info": {
   "codemirror_mode": {
    "name": "ipython",
    "version": 3
   },
   "file_extension": ".py",
   "mimetype": "text/x-python",
   "name": "python",
   "nbconvert_exporter": "python",
   "pygments_lexer": "ipython3",
   "version": "3.10.2"
  }
 },
 "nbformat": 4,
 "nbformat_minor": 4
}

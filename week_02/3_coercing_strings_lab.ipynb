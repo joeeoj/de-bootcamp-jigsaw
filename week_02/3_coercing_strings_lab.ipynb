{
 "cells": [
  {
   "cell_type": "markdown",
   "metadata": {
    "id": "9H_n5S4KCM8C"
   },
   "source": [
    "# Coercing Strings Lab"
   ]
  },
  {
   "cell_type": "markdown",
   "metadata": {
    "id": "3fWpcH3DCM8K"
   },
   "source": [
    "### Introduction"
   ]
  },
  {
   "cell_type": "markdown",
   "metadata": {
    "id": "7nz65EJ0CM8L"
   },
   "source": [
    "In this lesson, let's practice working with string data in Python.  We'll do so by looking at the Yelp reviews for Max's Wine Bar in Texas."
   ]
  },
  {
   "cell_type": "markdown",
   "metadata": {
    "id": "9LSWet4vCM8M"
   },
   "source": [
    "### Loading The Data"
   ]
  },
  {
   "cell_type": "markdown",
   "metadata": {
    "id": "iJb5Uey2CM8M"
   },
   "source": [
    "We start by loading up the data, and then selecting the text from the reviews."
   ]
  },
  {
   "cell_type": "code",
   "execution_count": 1,
   "metadata": {
    "id": "h9iBPa5YCM8N"
   },
   "outputs": [],
   "source": [
    "import pandas as pd\n",
    "url = \"https://raw.githubusercontent.com/eng-6-22/mod-1-a-data-structures/master/5-coercing-strings/updated-reviews.json\"\n",
    "df = pd.read_json(url)"
   ]
  },
  {
   "cell_type": "code",
   "execution_count": 2,
   "metadata": {
    "id": "fHfOmognCM8O"
   },
   "outputs": [],
   "source": [
    "reviews = list(df.text)"
   ]
  },
  {
   "cell_type": "code",
   "execution_count": 3,
   "metadata": {
    "colab": {
     "base_uri": "https://localhost:8080/"
    },
    "id": "wTvkhZO5CM8P",
    "outputId": "937b9b98-c08b-4ac2-f746-6a392fd5a006"
   },
   "outputs": [
    {
     "data": {
      "text/plain": [
       "['Chicken and waffles are bombomski!!!! So yum 100% recommend. Outdoor area is good! Will be back.',\n",
       " \"This place holds great memories for me and my family.... \\xa0It was one of the last outtings with my mother.... Now it's closed down! The food was really good and it was a great ambience with the diverse crowd that was out. \\xa0We had a table for about 20 or so for our guest. Our waitress did not miss a beat! \\xa0She was able to get everyone's order and come back to make sure we were taken care of. \\xa0Top Notch! \\xa0Max hit the spot of providing a little of something for everyone from the menu. \\xa0The cocktails were also really good with a nice kick! The comfort food hit the spot for me.... \\xa0I was really loving the greens and fried chicken. Now when I added the waffles to the dish it makes the perfect combination. They had no problem with splitting the bill with such a large crowd. Everyone had a nice time and enjoyed the occasion as well as food....\"]"
      ]
     },
     "execution_count": 3,
     "metadata": {},
     "output_type": "execute_result"
    }
   ],
   "source": [
    "reviews[:2]"
   ]
  },
  {
   "cell_type": "markdown",
   "metadata": {
    "id": "96AICAK9CM8Q"
   },
   "source": [
    "### Finding and Counting"
   ]
  },
  {
   "cell_type": "markdown",
   "metadata": {
    "id": "djBMvIlFCM8R"
   },
   "source": [
    "Let's start by practicing with the `find` method in Python.  We'll start by selecting the seventh review. "
   ]
  },
  {
   "cell_type": "code",
   "execution_count": 4,
   "metadata": {
    "colab": {
     "base_uri": "https://localhost:8080/",
     "height": 35
    },
    "id": "jxybp3cOCM8S",
    "outputId": "66649d55-8f64-43f7-c69d-37a30aedf90e"
   },
   "outputs": [
    {
     "data": {
      "text/plain": [
       "'The friend chicken here is del'"
      ]
     },
     "execution_count": 4,
     "metadata": {},
     "output_type": "execute_result"
    }
   ],
   "source": [
    "seventh_review = reviews[6]\n",
    "seventh_review[:30]"
   ]
  },
  {
   "cell_type": "markdown",
   "metadata": {
    "id": "F0f7c0dxCM8S"
   },
   "source": [
    "Now imagine that we want to write a method that selects characters before and after the word chicken to see what it is often associated with."
   ]
  },
  {
   "cell_type": "markdown",
   "metadata": {
    "id": "Io0YKgPRCM8T"
   },
   "source": [
    "> Begin by finding the index of the string in the `seventh_review` where the word `'chicken'` begins."
   ]
  },
  {
   "cell_type": "code",
   "execution_count": 5,
   "metadata": {
    "id": "2yw5AWnSCM8T"
   },
   "outputs": [],
   "source": [
    "char_chicken = seventh_review.find('chicken')\n",
    "# 11"
   ]
  },
  {
   "cell_type": "markdown",
   "metadata": {
    "id": "lz1_MBLZCM8T"
   },
   "source": [
    "Next, write a method that selects ten characters before the word chicken and after the word chicken.  "
   ]
  },
  {
   "cell_type": "code",
   "execution_count": 6,
   "metadata": {
    "id": "UFFmXbyvCM8U"
   },
   "outputs": [],
   "source": [
    "def select_text(review):\n",
    "    idx = review.find('chicken')\n",
    "    return review[idx-10:idx+10+7]"
   ]
  },
  {
   "cell_type": "code",
   "execution_count": 7,
   "metadata": {
    "colab": {
     "base_uri": "https://localhost:8080/",
     "height": 35
    },
    "id": "_Lz1T6-3CM8V",
    "outputId": "5e4bc3ee-fa99-4788-c3f9-9fdc3cc299a9"
   },
   "outputs": [
    {
     "data": {
      "text/plain": [
       "'he friend chicken here is d'"
      ]
     },
     "execution_count": 7,
     "metadata": {},
     "output_type": "execute_result"
    }
   ],
   "source": [
    "select_text(seventh_review)\n",
    "# 'he friend chicken here is d'"
   ]
  },
  {
   "cell_type": "markdown",
   "metadata": {
    "id": "Krk5_aNpCM8W"
   },
   "source": [
    "Now write a method that can take any string and word as an argument and return ten characters before and after that word."
   ]
  },
  {
   "cell_type": "code",
   "execution_count": 8,
   "metadata": {
    "id": "79aoaG7kCM8W"
   },
   "outputs": [],
   "source": [
    "def select_text_around(review, word):\n",
    "    idx = review.find(word)\n",
    "    return review[idx-10:idx+10+len(word)]"
   ]
  },
  {
   "cell_type": "code",
   "execution_count": 9,
   "metadata": {
    "colab": {
     "base_uri": "https://localhost:8080/",
     "height": 35
    },
    "id": "8ypRmnnlCM8X",
    "outputId": "d5830bd9-7a7d-4060-d39c-8cf9c2c7795c"
   },
   "outputs": [
    {
     "data": {
      "text/plain": [
       "'e classic fried chicken, '"
      ]
     },
     "execution_count": 9,
     "metadata": {},
     "output_type": "execute_result"
    }
   ],
   "source": [
    "select_text_around(seventh_review, 'fried')\n",
    "# 'e classic fried chicken, '"
   ]
  },
  {
   "cell_type": "markdown",
   "metadata": {
    "id": "lZKh_PXrCM8X"
   },
   "source": [
    "2. Using Count"
   ]
  },
  {
   "cell_type": "markdown",
   "metadata": {
    "id": "pL2Ie-zPCM8X"
   },
   "source": [
    "Next, let's write a function that counts up the number of exclamation points in a review."
   ]
  },
  {
   "cell_type": "markdown",
   "metadata": {
    "id": "vzTfAb4wCM8Y"
   },
   "source": [
    "> Do so with the `count` method."
   ]
  },
  {
   "cell_type": "code",
   "execution_count": 10,
   "metadata": {
    "id": "j-lqdlCbCM8Y"
   },
   "outputs": [],
   "source": [
    "def count_exclamations(review):\n",
    "    return review.count('!')"
   ]
  },
  {
   "cell_type": "code",
   "execution_count": 11,
   "metadata": {
    "colab": {
     "base_uri": "https://localhost:8080/"
    },
    "id": "X8zOFSluCM8Y",
    "outputId": "72c1de17-e1ac-4e9f-ace6-22401f993105"
   },
   "outputs": [
    {
     "data": {
      "text/plain": [
       "5"
      ]
     },
     "execution_count": 11,
     "metadata": {},
     "output_type": "execute_result"
    }
   ],
   "source": [
    "first_review = reviews[0]\n",
    "count_exclamations(first_review)\n",
    "# 5"
   ]
  },
  {
   "cell_type": "markdown",
   "metadata": {
    "id": "J37S171hCM8Z"
   },
   "source": [
    "There are other ways to do this.  For example, note that we can iterate through the characters of a string."
   ]
  },
  {
   "cell_type": "markdown",
   "metadata": {
    "id": "enlt8pzSCM8Z"
   },
   "source": [
    "> See this by uncommenting and executing the cell below."
   ]
  },
  {
   "cell_type": "code",
   "execution_count": 12,
   "metadata": {
    "id": "JAl3eQR6CM8Z"
   },
   "outputs": [],
   "source": [
    "# [char for char in first_review]"
   ]
  },
  {
   "cell_type": "markdown",
   "metadata": {
    "id": "YAZs7mf6CM8Z"
   },
   "source": [
    "So use list comprehension to count up the number of exclamation points in a string."
   ]
  },
  {
   "cell_type": "code",
   "execution_count": 13,
   "metadata": {
    "id": "TujDoXJ3CM8Z"
   },
   "outputs": [],
   "source": [
    "def count_exclamations(review):\n",
    "    return sum([1 for c in review if c == '!'])"
   ]
  },
  {
   "cell_type": "code",
   "execution_count": 14,
   "metadata": {
    "id": "KHXl0rShMAfD"
   },
   "outputs": [],
   "source": [
    "def count_exclamations(review):\n",
    "    return len([c for c in reviews if c == '!'])"
   ]
  },
  {
   "cell_type": "code",
   "execution_count": 15,
   "metadata": {
    "colab": {
     "base_uri": "https://localhost:8080/"
    },
    "id": "iZA-GpxBGPIK",
    "outputId": "5128533a-ea73-4190-d0c1-81c366b91c6b"
   },
   "outputs": [
    {
     "data": {
      "text/plain": [
       "0"
      ]
     },
     "execution_count": 15,
     "metadata": {},
     "output_type": "execute_result"
    }
   ],
   "source": [
    "count_exclamations(first_review)"
   ]
  },
  {
   "cell_type": "markdown",
   "metadata": {
    "id": "X5DWoRxLCM8a"
   },
   "source": [
    "### Back to Split"
   ]
  },
  {
   "cell_type": "markdown",
   "metadata": {
    "id": "reyAhemACM8a"
   },
   "source": [
    "Let's return to our method where we found the text that surrounds the word  `chicken` using the find method.  Now another way that we could do this is by splitting the review by word, and then selecting the words before and after the specified word in a review.  \n",
    "\n",
    "> To do this, we'll need a way to find the `index` where our word is located, so look at:\n",
    "\n",
    "* `enumerate` in Python\n",
    "* using `range()` to iterate through a list"
   ]
  },
  {
   "cell_type": "code",
   "execution_count": 16,
   "metadata": {
    "id": "jenYdPlhCM8c"
   },
   "outputs": [],
   "source": [
    "def review_word(review, selected_word):\n",
    "    results = []\n",
    "    split_review = review.split(' ')\n",
    "\n",
    "    for i, word in enumerate(split_review):\n",
    "    if word == selected_word:\n",
    "        results.append(' '.join([split_review[i-1], split_review[i], split_review[i+1]]))\n",
    "    return results"
   ]
  },
  {
   "cell_type": "code",
   "execution_count": 18,
   "metadata": {},
   "outputs": [
    {
     "data": {
      "text/plain": [
       "\"Service was slow even though the place wasn't crowded. I ordered the chicken and waffles. The waffle was cold with no butter the chicken was good but I had to ask for syrup. I think the dish was over priced as well 18$ for a waffle and three chicken wings. Luckily I got a Groupon deal on the meal the total for our table would have been 65$ without the deal. The only way I would eat here again is through Groupon def not worth full price.\""
      ]
     },
     "execution_count": 18,
     "metadata": {},
     "output_type": "execute_result"
    }
   ],
   "source": [
    "chosen_review"
   ]
  },
  {
   "cell_type": "code",
   "execution_count": 17,
   "metadata": {
    "colab": {
     "base_uri": "https://localhost:8080/"
    },
    "id": "nOiQ2h9-CM8c",
    "outputId": "f8e1c738-ab05-452e-fdc0-e4317c181364"
   },
   "outputs": [
    {
     "data": {
      "text/plain": [
       "['Service was slow', 'waffle was cold', 'chicken was good', 'dish was over']"
      ]
     },
     "execution_count": 17,
     "metadata": {},
     "output_type": "execute_result"
    }
   ],
   "source": [
    "chosen_review = reviews[13]\n",
    "review_word(chosen_review, \"was\")\n",
    "# ['Service was slow',\n",
    "#  'The waffle was cold',\n",
    "#  'the chicken was good',\n",
    "#  'the dish was over']"
   ]
  },
  {
   "cell_type": "markdown",
   "metadata": {
    "id": "ie9Hgkn6CM8d"
   },
   "source": [
    "> The above is hard so please split it into steps and try to make progress."
   ]
  }
 ],
 "metadata": {
  "colab": {
   "name": "3-coercing-strings-lab.ipynb",
   "provenance": []
  },
  "kernelspec": {
   "display_name": "Python 3 (ipykernel)",
   "language": "python",
   "name": "python3"
  },
  "language_info": {
   "codemirror_mode": {
    "name": "ipython",
    "version": 3
   },
   "file_extension": ".py",
   "mimetype": "text/x-python",
   "name": "python",
   "nbconvert_exporter": "python",
   "pygments_lexer": "ipython3",
   "version": "3.10.2"
  }
 },
 "nbformat": 4,
 "nbformat_minor": 4
}

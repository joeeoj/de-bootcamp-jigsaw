{
 "cells": [
  {
   "cell_type": "markdown",
   "metadata": {
    "id": "nt0l3NEp9f7K"
   },
   "source": [
    "# Albums and Songs Lab"
   ]
  },
  {
   "cell_type": "markdown",
   "metadata": {
    "id": "W3E1w0yi9f7O"
   },
   "source": [
    "### Introduction"
   ]
  },
  {
   "cell_type": "markdown",
   "metadata": {
    "id": "AhZmdi1X9f7P"
   },
   "source": [
    "In this lesson, we'll use the skills we have learned over the past several lessons to answer questions about the top songs, artists and albums over the past fifty years."
   ]
  },
  {
   "cell_type": "markdown",
   "metadata": {
    "id": "Aiou2t-I9f7P"
   },
   "source": [
    "### Working with Songs"
   ]
  },
  {
   "cell_type": "markdown",
   "metadata": {
    "id": "KQ-15Yr59f7Q"
   },
   "source": [
    "Let's start by working with data regarding top 500 albums according to the Rolling Stone Magazine."
   ]
  },
  {
   "cell_type": "code",
   "execution_count": 1,
   "metadata": {},
   "outputs": [],
   "source": [
    "import pandas as pd"
   ]
  },
  {
   "cell_type": "code",
   "execution_count": 2,
   "metadata": {
    "id": "dg0_YlH29f7Q"
   },
   "outputs": [],
   "source": [
    "url = \"https://raw.githubusercontent.com/eng-6-22/mod-1-a-data-structures/master/6-top-songs/data.csv\"\n",
    "df = pd.read_csv(url)\n",
    "albums = df.to_dict('records')"
   ]
  },
  {
   "cell_type": "code",
   "execution_count": 3,
   "metadata": {
    "id": "EH1HS6_J9f7S"
   },
   "outputs": [
    {
     "data": {
      "text/plain": [
       "[{'number': 1,\n",
       "  'year': 1967,\n",
       "  'album': \"Sgt. Pepper's Lonely Hearts Club Band\",\n",
       "  'artist': 'The Beatles',\n",
       "  'genre': 'Rock',\n",
       "  'subgenre': 'Rock & Roll, Psychedelic Rock'},\n",
       " {'number': 2,\n",
       "  'year': 1966,\n",
       "  'album': 'Pet Sounds',\n",
       "  'artist': 'The Beach Boys',\n",
       "  'genre': 'Rock',\n",
       "  'subgenre': 'Pop Rock, Psychedelic Rock'}]"
      ]
     },
     "execution_count": 3,
     "metadata": {},
     "output_type": "execute_result"
    }
   ],
   "source": [
    "albums[:2]"
   ]
  },
  {
   "cell_type": "code",
   "execution_count": 4,
   "metadata": {
    "id": "xGL-SVvp9f7T",
    "outputId": "a8bfa97d-1199-4fce-ec1b-060c54c2018e"
   },
   "outputs": [
    {
     "data": {
      "text/plain": [
       "478"
      ]
     },
     "execution_count": 4,
     "metadata": {},
     "output_type": "execute_result"
    }
   ],
   "source": [
    "len(albums)"
   ]
  },
  {
   "cell_type": "markdown",
   "metadata": {
    "id": "35pQVWoD9f7U"
   },
   "source": [
    "> Well, 478."
   ]
  },
  {
   "cell_type": "markdown",
   "metadata": {},
   "source": [
    "### missing ranks"
   ]
  },
  {
   "cell_type": "code",
   "execution_count": 5,
   "metadata": {},
   "outputs": [
    {
     "name": "stdout",
     "output_type": "stream",
     "text": [
      "Missing ranks: 22\n",
      "60,105,164,196,198,214,232,245,256,278,289,308,346,355,359,363,377,400,421,426,449,459\n"
     ]
    }
   ],
   "source": [
    "all_ranks = set(range(1, 501))\n",
    "ranks = set([album['number'] for album in albums])\n",
    "missing_ranks = list(all_ranks - ranks)\n",
    "\n",
    "print(f'Missing ranks: {len(missing_ranks):,}')\n",
    "print(','.join([str(i) for i in sorted(missing_ranks)]))"
   ]
  },
  {
   "cell_type": "markdown",
   "metadata": {},
   "source": [
    "----------"
   ]
  },
  {
   "cell_type": "markdown",
   "metadata": {
    "id": "7hvZbTw99f7U"
   },
   "source": [
    "Let's write some functions to help us better explore the data."
   ]
  },
  {
   "cell_type": "markdown",
   "metadata": {
    "id": "Sonj1gjn9f7V"
   },
   "source": [
    "* `all_albums` - Takes an argument of albums and returns the list of album names.\n",
    "\n",
    "* `all_artists` - Takes argument of list of albums and returns a list of all artists (where each element is a string), and no artist is repeated. \n",
    "\n",
    "* `find_by_name` - Has one argument of `album_name`. Returns a dictionary of the correct album, or `None` if no album is found.\n",
    "\n",
    "* `find_by_ranks` - Takes `begin_rank` and `end_rank` as arguments.  Also possible to execute the function by just providing the `begin_rank` or `end_rank` (and not both).  If no arguments are provided the entire list of albums are returned.\n",
    "\n",
    "* `find_by_years` - Takes `begin_year` and `end_year` as arguments, and returns a list of dictionaries for albums between those years.  Also possible to execute the function by just providing the `begin_year` or `end_year` (and not both)."
   ]
  },
  {
   "cell_type": "code",
   "execution_count": 6,
   "metadata": {},
   "outputs": [],
   "source": [
    "def all_albums(albums: list[dict]) -> list[str]:\n",
    "    return [album['album'] for album in albums]"
   ]
  },
  {
   "cell_type": "code",
   "execution_count": 7,
   "metadata": {},
   "outputs": [],
   "source": [
    "def all_artists(albums: list[dict]) -> list[str]:\n",
    "    return list(set([album['artist'] for album in albums]))"
   ]
  },
  {
   "cell_type": "code",
   "execution_count": 8,
   "metadata": {},
   "outputs": [],
   "source": [
    "def find_by_name(albums: list[dict], album_name: str) -> dict:\n",
    "    \"\"\"Return album based on album name, otherwise None\"\"\"\n",
    "    for album in albums:\n",
    "        if album['album'] == album_name:\n",
    "            return album\n",
    "\n",
    "clash = {\n",
    "    'number': 8,\n",
    "    'year': 1979,\n",
    "    'album': 'London Calling',\n",
    "    'artist': 'The Clash',\n",
    "    'genre': 'Rock',\n",
    "    'subgenre': 'Punk, New Wave'\n",
    "}\n",
    "\n",
    "assert (find_by_name(albums, 'London Calling') == clash)\n",
    "assert (find_by_name(albums, 'test') is None)"
   ]
  },
  {
   "cell_type": "code",
   "execution_count": 9,
   "metadata": {},
   "outputs": [],
   "source": [
    "def find_by_ranks(albums: list[dict], begin_rank: int = None, end_rank: int = None) -> list[dict]:\n",
    "    \"\"\"Return all albums that are >= begin_rank OR <= end_rank\"\"\"\n",
    "    if begin_rank and end_rank:\n",
    "        raise ValueError('Can only give a begin OR end rank')\n",
    "\n",
    "    if begin_rank:\n",
    "        return [a for a in albums if a['number'] >= begin_rank]\n",
    "    elif end_rank:\n",
    "        return [a for a in albums if a['number'] <= end_rank]\n",
    "    else:\n",
    "        return albums\n",
    "\n",
    "# these should all return the full albums list\n",
    "assert (len(find_by_ranks(albums)) == len(albums))\n",
    "assert (len(find_by_ranks(albums, begin_rank=1)) == len(albums))\n",
    "assert (len(find_by_ranks(albums, end_rank=500)) == len(albums))\n",
    "\n",
    "# subsets\n",
    "assert (len(find_by_ranks(albums, end_rank=10)) == 10)\n",
    "assert (len(find_by_ranks(albums, begin_rank=499)) == 2)"
   ]
  },
  {
   "cell_type": "code",
   "execution_count": 10,
   "metadata": {},
   "outputs": [],
   "source": [
    "def find_by_years(albums: list[dict], begin_year: int = None, end_year: int = None) -> list[dict]:\n",
    "    \"\"\"Return all albums that are >= being_year OR <= end_rank\"\"\"\n",
    "    if begin_year and end_year:\n",
    "        raise ValueError('Can only give a begin OR end year')\n",
    "\n",
    "    if begin_year:\n",
    "        return [a for a in albums if a['year'] >= begin_year]\n",
    "    elif end_year:\n",
    "        return [a for a in albums if a['year'] <= end_year]\n",
    "    else:\n",
    "        return albums\n",
    "    \n",
    "# these should all return the full albums list\n",
    "assert (len(find_by_years(albums)) == len(albums))\n",
    "assert (len(find_by_years(albums, begin_year=1900)) == len(albums))\n",
    "assert (len(find_by_years(albums, end_year=2023)) == len(albums))\n",
    "\n",
    "sinatra = {\n",
    "    'number': 101,\n",
    "    'year': 1955,\n",
    "    'album': 'In the Wee Small Hours',\n",
    "    'artist': 'Frank Sinatra',\n",
    "    'genre': 'Jazz, Pop',\n",
    "    'subgenre': 'Big Band, Ballad'\n",
    "}\n",
    "\n",
    "# subsets\n",
    "assert (len(find_by_years(albums, begin_year=2011)) == 1)\n",
    "assert (find_by_years(albums, end_year=1955) == [sinatra])"
   ]
  },
  {
   "cell_type": "markdown",
   "metadata": {
    "id": "sc9zWAwx9f7V"
   },
   "source": [
    "### Working with Songs"
   ]
  },
  {
   "cell_type": "markdown",
   "metadata": {
    "id": "GvVQ3TVk9f7W"
   },
   "source": [
    "Next, let's load up data related to songs, and data that connects albums and songs."
   ]
  },
  {
   "cell_type": "code",
   "execution_count": 11,
   "metadata": {
    "id": "bzklFVx99f7W"
   },
   "outputs": [],
   "source": [
    "import pandas as pd\n",
    "\n",
    "def get_songs():\n",
    "    songs_url = \"https://raw.githubusercontent.com/eng-6-22/mod-1-a-data-structures/master/6-top-songs/top-500-songs.txt\"\n",
    "    songs_df = pd.read_csv(songs_url, sep='\\t', header = None, names = ['rank', 'song', 'artist', 'year'])\n",
    "    songs = songs_df.to_dict('records')\n",
    "    return songs\n",
    "\n",
    "def get_albums():\n",
    "    track_url = \"https://raw.githubusercontent.com/eng-6-22/mod-1-a-data-structures/master/6-top-songs/track_data.json\"\n",
    "    albums_and_tracks = pd.read_json(track_url)\n",
    "    albums_tracks = albums_and_tracks.to_dict('records')\n",
    "    return albums_tracks"
   ]
  },
  {
   "cell_type": "code",
   "execution_count": 12,
   "metadata": {},
   "outputs": [],
   "source": [
    "SONGS = get_songs()\n",
    "ALBUMS = get_albums()\n",
    "\n",
    "# set for faster lookups\n",
    "TOP_500 = set([song['song'] for song in SONGS])"
   ]
  },
  {
   "cell_type": "markdown",
   "metadata": {
    "id": "Yhf9ZT0_9f7X"
   },
   "source": [
    "`album_most_top_songs` - Returns the name of the artist and album that has that most songs featured on the top 500 songs list"
   ]
  },
  {
   "cell_type": "code",
   "execution_count": 13,
   "metadata": {
    "id": "BuezLHocPMDl"
   },
   "outputs": [],
   "source": [
    "def album_most_top_songs() -> dict:\n",
    "    top_album = {\n",
    "        'artist': None,\n",
    "        'album': None,\n",
    "        'count': 0\n",
    "    }\n",
    "\n",
    "    for album in ALBUMS:\n",
    "        count = sum([1 for track in album['tracks'] if track in TOP_500])\n",
    "\n",
    "        if count > top_album['count']:  # won't resolve a tie\n",
    "            top_album['artist'] = album['artist']\n",
    "            top_album['album'] = album['album']\n",
    "            top_album['count'] = count\n",
    "\n",
    "    return top_album"
   ]
  },
  {
   "cell_type": "code",
   "execution_count": 14,
   "metadata": {},
   "outputs": [
    {
     "data": {
      "text/plain": [
       "{'artist': 'Elvis Presley', 'album': 'Elvis Presley', 'count': 8}"
      ]
     },
     "execution_count": 14,
     "metadata": {},
     "output_type": "execute_result"
    }
   ],
   "source": [
    "album_most_top_songs()"
   ]
  },
  {
   "cell_type": "markdown",
   "metadata": {},
   "source": [
    "`top_ten_albums_by_songs` - returns a dictionary with the 10 albums that have the most songs that appear in the top songs list. The album names should be the keys and the corresponding values should be the number of songs that appear on the top 500 list."
   ]
  },
  {
   "cell_type": "code",
   "execution_count": 15,
   "metadata": {},
   "outputs": [],
   "source": [
    "def top_ten_albums_by_songs() -> list[dict]:\n",
    "    \"\"\"Return top 10 albums with the most songs in the top 500 songs\"\"\"\n",
    "    album_counts = []\n",
    "\n",
    "    for album in ALBUMS:\n",
    "        count = sum([1 for track in album['tracks'] if track in TOP_500])\n",
    "        album_counts.append((album['album'], count))  # tuple\n",
    "\n",
    "    # sort on count desc\n",
    "    album_counts_sorted = sorted(album_counts, key=lambda t: t[1], reverse=True)\n",
    "    return dict(album_counts_sorted[:10])"
   ]
  },
  {
   "cell_type": "code",
   "execution_count": 16,
   "metadata": {},
   "outputs": [
    {
     "data": {
      "text/plain": [
       "{'Elvis Presley': 8,\n",
       " 'The Sun Records Collection': 6,\n",
       " 'Are You Experienced': 4,\n",
       " 'Portrait of a Legend 1951-1964': 4,\n",
       " 'Highway 61 Revisited': 3,\n",
       " 'Bringing It All Back Home': 3,\n",
       " 'Star Time': 3,\n",
       " 'Led Zeppelin II': 3,\n",
       " 'I Never Loved a Man the Way I Love You': 3,\n",
       " 'All the Young Dudes': 3}"
      ]
     },
     "execution_count": 16,
     "metadata": {},
     "output_type": "execute_result"
    }
   ],
   "source": [
    "top_ten_albums_by_songs()"
   ]
  },
  {
   "cell_type": "code",
   "execution_count": 17,
   "metadata": {},
   "outputs": [],
   "source": [
    "def top_albums_by_songs(n: int = 10) -> list[dict]:\n",
    "    \"\"\"Return top n albums with the most songs in the top 500 songs\"\"\"\n",
    "    album_counts = []\n",
    "\n",
    "    for album in ALBUMS:\n",
    "        count = sum([1 for track in album['tracks'] if track in TOP_500])\n",
    "        album_counts.append((album['album'], count))  # tuple\n",
    "\n",
    "    # sort on count descending\n",
    "    album_counts_sorted = sorted(album_counts, key=lambda t: t[1], reverse=True)\n",
    "    return dict(album_counts_sorted[:n])"
   ]
  },
  {
   "cell_type": "code",
   "execution_count": 18,
   "metadata": {},
   "outputs": [
    {
     "data": {
      "text/plain": [
       "{'Elvis Presley': 8,\n",
       " 'The Sun Records Collection': 6,\n",
       " 'Are You Experienced': 4,\n",
       " 'Portrait of a Legend 1951-1964': 4,\n",
       " 'Highway 61 Revisited': 3}"
      ]
     },
     "execution_count": 18,
     "metadata": {},
     "output_type": "execute_result"
    }
   ],
   "source": [
    "top_albums_by_songs(5)"
   ]
  },
  {
   "cell_type": "code",
   "execution_count": 19,
   "metadata": {},
   "outputs": [
    {
     "data": {
      "text/plain": [
       "{'Elvis Presley': 8,\n",
       " 'The Sun Records Collection': 6,\n",
       " 'Are You Experienced': 4,\n",
       " 'Portrait of a Legend 1951-1964': 4,\n",
       " 'Highway 61 Revisited': 3,\n",
       " 'Bringing It All Back Home': 3,\n",
       " 'Star Time': 3,\n",
       " 'Led Zeppelin II': 3,\n",
       " 'I Never Loved a Man the Way I Love You': 3,\n",
       " 'All the Young Dudes': 3}"
      ]
     },
     "execution_count": 19,
     "metadata": {},
     "output_type": "execute_result"
    }
   ],
   "source": [
    "top_albums_by_songs()"
   ]
  }
 ],
 "metadata": {
  "colab": {
   "name": "albums-lab.ipynb",
   "provenance": []
  },
  "kernelspec": {
   "display_name": "Python 3 (ipykernel)",
   "language": "python",
   "name": "python3"
  },
  "language_info": {
   "codemirror_mode": {
    "name": "ipython",
    "version": 3
   },
   "file_extension": ".py",
   "mimetype": "text/x-python",
   "name": "python",
   "nbconvert_exporter": "python",
   "pygments_lexer": "ipython3",
   "version": "3.10.2"
  }
 },
 "nbformat": 4,
 "nbformat_minor": 4
}

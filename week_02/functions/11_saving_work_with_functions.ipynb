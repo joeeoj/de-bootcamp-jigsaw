{
 "cells": [
  {
   "cell_type": "markdown",
   "metadata": {
    "id": "EqxfxtcgyQHW"
   },
   "source": [
    "# Saving our Work With Functions"
   ]
  },
  {
   "cell_type": "markdown",
   "metadata": {
    "id": "MINrSg0QyQHc"
   },
   "source": [
    "### Introduction"
   ]
  },
  {
   "cell_type": "markdown",
   "metadata": {
    "id": "yaTgAsS5yQHd"
   },
   "source": [
    "Ok, now at this point, we have learned almost all of the work to really go forth and code.  And we did some really good work in the process.\n",
    "\n",
    "But if we're going to put this code to use, and build some nice projects, we'll need to store some of our procedures in functions."
   ]
  },
  {
   "cell_type": "markdown",
   "metadata": {
    "id": "cn4fxIHtyQHd"
   },
   "source": [
    "### Saving our Work"
   ]
  },
  {
   "cell_type": "markdown",
   "metadata": {
    "id": "tGt5ls1LyQHe"
   },
   "source": [
    "Now we've already seen how to save our work with variables."
   ]
  },
  {
   "cell_type": "code",
   "execution_count": 1,
   "metadata": {
    "id": "aAvVc7uzyQHe"
   },
   "outputs": [],
   "source": [
    "cities = ['nyc', 'los angeles', 'chicago']"
   ]
  },
  {
   "cell_type": "markdown",
   "metadata": {
    "id": "U3ZrUKiDyQHf"
   },
   "source": [
    "The code above **is something**.  It is a list, and we stored it as such."
   ]
  },
  {
   "cell_type": "markdown",
   "metadata": {
    "id": "o77IaGAZyQHg"
   },
   "source": [
    "But how do we save code that **does something**?  For example, our code below goes to Wikipedia and gathers the information then converts it to a list of dictionaries.  We may want to save that process to easily do it again and again."
   ]
  },
  {
   "cell_type": "code",
   "execution_count": 2,
   "metadata": {
    "id": "w5_FcxniyQHh",
    "outputId": "74df21dd-ce35-431c-f67d-8670528f1aac"
   },
   "outputs": [
    {
     "data": {
      "text/plain": [
       "[{'2021rank': 1,\n",
       "  'City': 'New York[d]',\n",
       "  'State[c]': 'New York',\n",
       "  '2021estimate': 8467513,\n",
       "  '2020census': 8804190,\n",
       "  'Change': '−3.82%',\n",
       "  '2020 land area': '300.5\\xa0sq\\xa0mi',\n",
       "  '2020 land area.1': '778.3\\xa0km2',\n",
       "  '2020 population density': '29,298/sq\\xa0mi',\n",
       "  '2020 population density.1': '11,312/km2',\n",
       "  'Location': '.mw-parser-output .geo-default,.mw-parser-output .geo-dms,.mw-parser-output .geo-dec{display:inline}.mw-parser-output .geo-nondefault,.mw-parser-output .geo-multi-punct{display:none}.mw-parser-output .longitude,.mw-parser-output .latitude{white-space:nowrap}40°40′N 73°56′W\\ufeff / \\ufeff40.66°N 73.93°W'},\n",
       " {'2021rank': 2,\n",
       "  'City': 'Los Angeles',\n",
       "  'State[c]': 'California',\n",
       "  '2021estimate': 3849297,\n",
       "  '2020census': 3898747,\n",
       "  'Change': '−1.27%',\n",
       "  '2020 land area': '469.5\\xa0sq\\xa0mi',\n",
       "  '2020 land area.1': '1,216.0\\xa0km2',\n",
       "  '2020 population density': '8,304/sq\\xa0mi',\n",
       "  '2020 population density.1': '3,206/km2',\n",
       "  'Location': '34°01′N 118°25′W\\ufeff / \\ufeff34.01°N 118.41°W'}]"
      ]
     },
     "execution_count": 2,
     "metadata": {},
     "output_type": "execute_result"
    }
   ],
   "source": [
    "import pandas as pd\n",
    "\n",
    "url = 'https://en.wikipedia.org/wiki/List_of_United_States_cities_by_population'\n",
    "tables = pd.read_html(url)\n",
    "cities_table = tables[4]\n",
    "cities = cities_table.to_dict('records')\n",
    "cities[:2]"
   ]
  },
  {
   "cell_type": "markdown",
   "metadata": {
    "id": "AeoZUv5uyQHi"
   },
   "source": [
    "If we want to save code that does something, we can wrap it in a function.\n",
    "\n",
    "> Let's just do it.  We'll explain this code later."
   ]
  },
  {
   "cell_type": "code",
   "execution_count": 3,
   "metadata": {
    "id": "ajnADcHSyQHj"
   },
   "outputs": [],
   "source": [
    "def gather_cities():\n",
    "    url = 'https://en.wikipedia.org/wiki/List_of_United_States_cities_by_population'\n",
    "    tables = pd.read_html(url)\n",
    "    cities_table = tables[4]\n",
    "    cities = cities_table.to_dict('records')\n",
    "    return cities"
   ]
  },
  {
   "cell_type": "markdown",
   "metadata": {
    "id": "-H5VyoV5yQHj"
   },
   "source": [
    "Now that it's in a function, we can execute this code whenever like.  We do so by typing the name of the function followed by parentheses `function_name()`.  \n",
    "\n",
    "> Want to go to Wikipedia and scrape the webpage?  Coming right up."
   ]
  },
  {
   "cell_type": "code",
   "execution_count": 4,
   "metadata": {
    "id": "9yQ5-q4fyQHk",
    "outputId": "c4ad8bf3-3771-4522-aea3-65fb36b08887"
   },
   "outputs": [
    {
     "data": {
      "text/plain": [
       "[{'2021rank': 1,\n",
       "  'City': 'New York[d]',\n",
       "  'State[c]': 'New York',\n",
       "  '2021estimate': 8467513,\n",
       "  '2020census': 8804190,\n",
       "  'Change': '−3.82%',\n",
       "  '2020 land area': '300.5\\xa0sq\\xa0mi',\n",
       "  '2020 land area.1': '778.3\\xa0km2',\n",
       "  '2020 population density': '29,298/sq\\xa0mi',\n",
       "  '2020 population density.1': '11,312/km2',\n",
       "  'Location': '.mw-parser-output .geo-default,.mw-parser-output .geo-dms,.mw-parser-output .geo-dec{display:inline}.mw-parser-output .geo-nondefault,.mw-parser-output .geo-multi-punct{display:none}.mw-parser-output .longitude,.mw-parser-output .latitude{white-space:nowrap}40°40′N 73°56′W\\ufeff / \\ufeff40.66°N 73.93°W'}]"
      ]
     },
     "execution_count": 4,
     "metadata": {},
     "output_type": "execute_result"
    }
   ],
   "source": [
    "collected_cities = gather_cities()\n",
    "collected_cities[:1]"
   ]
  },
  {
   "cell_type": "markdown",
   "metadata": {
    "id": "x5hIplj_yQHk"
   },
   "source": [
    "So you can see that we were able to store our procedure of collecting city information in our `gather_cities` function."
   ]
  },
  {
   "cell_type": "markdown",
   "metadata": {
    "id": "6Q3pufmkyQHk"
   },
   "source": [
    "This is very useful, because it allows us to think of our programs as tasks.  For example, first gather the list of cities, then select the names and populations, and then plot our data.  \n",
    "\n",
    "> Remember we said a lot of coding is breaking things into steps?  Functions are a great way to do that.\n",
    "\n",
    "Ok, let's learn how to write a function."
   ]
  },
  {
   "cell_type": "markdown",
   "metadata": {
    "id": "C8ZX_SYHyQHl"
   },
   "source": [
    "### Function mechanics"
   ]
  },
  {
   "cell_type": "markdown",
   "metadata": {
    "id": "LUWAct_KyQHl"
   },
   "source": [
    "Working with functions involves two steps:\n",
    "1. Defining our function\n",
    "2. Then executing our function."
   ]
  },
  {
   "cell_type": "markdown",
   "metadata": {
    "id": "efY_FLxfyQHl"
   },
   "source": [
    "* Defining our function"
   ]
  },
  {
   "cell_type": "markdown",
   "metadata": {
    "id": "8c3b3VJtyQHl"
   },
   "source": [
    "We define our function with the following pattern."
   ]
  },
  {
   "cell_type": "code",
   "execution_count": 5,
   "metadata": {
    "id": "BBUsMhE-yQHm"
   },
   "outputs": [],
   "source": [
    "def function_name():\n",
    "    return 'data'"
   ]
  },
  {
   "cell_type": "markdown",
   "metadata": {
    "id": "LmQGS-viyQHm"
   },
   "source": [
    "> Press shift + enter on the cell above.  And then the cell below."
   ]
  },
  {
   "cell_type": "markdown",
   "metadata": {
    "id": "SncQicJByQHm"
   },
   "source": [
    "Notice that when we define a function, we do not see an output.  This is similar to how we do not see an output when we assign a variable.  We need to execute the function to see an output.  \n",
    "\n",
    "> Press shift + enter on the cell below."
   ]
  },
  {
   "cell_type": "code",
   "execution_count": 6,
   "metadata": {
    "id": "2l_JssA0yQHm",
    "outputId": "0f215baf-ef5b-423f-f4c3-8f220b86428d"
   },
   "outputs": [
    {
     "data": {
      "text/plain": [
       "'data'"
      ]
     },
     "execution_count": 6,
     "metadata": {},
     "output_type": "execute_result"
    }
   ],
   "source": [
    "function_name()"
   ]
  },
  {
   "cell_type": "markdown",
   "metadata": {
    "id": "JVp5RrQ6yQHn"
   },
   "source": [
    "Let's focus in on the first line where we defined our function: `def function_name():`."
   ]
  },
  {
   "cell_type": "markdown",
   "metadata": {
    "id": "74KKtWLryQHn"
   },
   "source": [
    "* `def` is how we tell Python we are about to define a function.\n",
    "* The `function_name` is how we'll refer to the function.\n",
    "* And then we end our first line with parentheses and a colon `():`."
   ]
  },
  {
   "cell_type": "markdown",
   "metadata": {
    "id": "LOW7ds4HyQHn"
   },
   "source": [
    "Now it's your turn.  Define a function called `collect_data`.  We wrote the second line `return data` for you."
   ]
  },
  {
   "cell_type": "code",
   "execution_count": 7,
   "metadata": {
    "id": "t4VDVBHOyQHn"
   },
   "outputs": [],
   "source": [
    "# write code here\n",
    "def collect_data() -> str:\n",
    "    return 'data'"
   ]
  },
  {
   "cell_type": "markdown",
   "metadata": {
    "id": "v8fYXkHQyQHo"
   },
   "source": [
    "> **You can check** that you did it correctly by pressing `shift + return` on the cell above, **and then** on the cell below.  If you did it correctly, you will see the word data.  "
   ]
  },
  {
   "cell_type": "code",
   "execution_count": 8,
   "metadata": {
    "id": "lgv8dTyTyQHo"
   },
   "outputs": [
    {
     "data": {
      "text/plain": [
       "'data'"
      ]
     },
     "execution_count": 8,
     "metadata": {},
     "output_type": "execute_result"
    }
   ],
   "source": [
    "collect_data()\n",
    "# 'data'"
   ]
  },
  {
   "cell_type": "markdown",
   "metadata": {
    "id": "ROwuoE66yQHo"
   },
   "source": [
    "Ok, so we just saw how to write the first line of a function.  Now let's talk about that second line `return 'data'`."
   ]
  },
  {
   "cell_type": "code",
   "execution_count": 9,
   "metadata": {
    "id": "zvkZgSddyQHo"
   },
   "outputs": [],
   "source": [
    "def function_name():\n",
    "    return 'data'"
   ]
  },
  {
   "cell_type": "markdown",
   "metadata": {
    "id": "-Xa1VphFyQHp"
   },
   "source": [
    "There middle of the function is called the body of the function.  Below `greeting` and `name` are in the body of the function.  The body of the function can be as long as we like.  But it's best to keep our functions under five lines (excluding the function name)."
   ]
  },
  {
   "cell_type": "markdown",
   "metadata": {
    "id": "EzHVH15gyQHp"
   },
   "source": [
    "### Functions are a dungeon"
   ]
  },
  {
   "cell_type": "markdown",
   "metadata": {
    "id": "dN2_Idy4yQHp"
   },
   "source": [
    "There is something interesting about functions. Functions trap everything inside of them, like the walls of a dungeon."
   ]
  },
  {
   "cell_type": "code",
   "execution_count": 10,
   "metadata": {
    "id": "47UtH5jLyQHp"
   },
   "outputs": [],
   "source": [
    "def function_name():\n",
    "    greeting = 'hello'\n",
    "    name = 'susan'"
   ]
  },
  {
   "cell_type": "markdown",
   "metadata": {
    "id": "l9Hoi41CyQHq"
   },
   "source": [
    "> Press shift + enter on the cells above and below.  We'll see that the cell below results in an error."
   ]
  },
  {
   "cell_type": "code",
   "execution_count": 11,
   "metadata": {
    "id": "QL02zAYLyQHq",
    "outputId": "ead6a078-922a-4784-8f9c-c28685a38648"
   },
   "outputs": [
    {
     "ename": "NameError",
     "evalue": "name 'greeting' is not defined",
     "output_type": "error",
     "traceback": [
      "\u001b[0;31m---------------------------------------------------------------------------\u001b[0m",
      "\u001b[0;31mNameError\u001b[0m                                 Traceback (most recent call last)",
      "Input \u001b[0;32mIn [11]\u001b[0m, in \u001b[0;36m<module>\u001b[0;34m\u001b[0m\n\u001b[0;32m----> 1\u001b[0m \u001b[43mgreeting\u001b[49m\n",
      "\u001b[0;31mNameError\u001b[0m: name 'greeting' is not defined"
     ]
    }
   ],
   "source": [
    "greeting"
   ]
  },
  {
   "cell_type": "markdown",
   "metadata": {
    "id": "wzUoUL7AyQHq"
   },
   "source": [
    "So you'll see that even though we defined the variable greeting above, it is not available.  This is because it is only available inside the walls of the function."
   ]
  },
  {
   "cell_type": "markdown",
   "metadata": {
    "id": "3ED7zxiEyQHq"
   },
   "source": [
    "To get to be released from the function, we must catapult a value over the walls with the word `return` followed by what we want returned."
   ]
  },
  {
   "cell_type": "code",
   "execution_count": 12,
   "metadata": {
    "id": "KNAqDoNFyQHr"
   },
   "outputs": [],
   "source": [
    "def function_name():\n",
    "    greeting = 'hello'\n",
    "    name = 'susan'\n",
    "    return name"
   ]
  },
  {
   "cell_type": "code",
   "execution_count": 13,
   "metadata": {
    "id": "cWg9umhlyQHr",
    "outputId": "9fdc5f3f-b3d5-4a59-fded-15fe6e9dd6da"
   },
   "outputs": [
    {
     "data": {
      "text/plain": [
       "'susan'"
      ]
     },
     "execution_count": 13,
     "metadata": {},
     "output_type": "execute_result"
    }
   ],
   "source": [
    "function_name()"
   ]
  },
  {
   "cell_type": "markdown",
   "metadata": {
    "id": "54jDoo25yQHr"
   },
   "source": [
    "So now, `susan` was thrown over the walls of the function."
   ]
  },
  {
   "cell_type": "markdown",
   "metadata": {
    "id": "BxU6VnGByQHr"
   },
   "source": [
    "> Notice that the inside of the code must be tabbed.  Or there must be two spaces for each line.  The indentation is how we indicate that something is inside of the function."
   ]
  },
  {
   "cell_type": "code",
   "execution_count": 14,
   "metadata": {
    "id": "s6-8QictyQHr"
   },
   "outputs": [],
   "source": [
    "def function_name():\n",
    "    trapped_inside = 'hello'\n",
    "    catapulted_over = 'susan'\n",
    "    return catapulted_over"
   ]
  },
  {
   "cell_type": "markdown",
   "metadata": {
    "id": "zj6C6y2UyQHs"
   },
   "source": [
    "So that is our pattern for a function."
   ]
  },
  {
   "cell_type": "code",
   "execution_count": 15,
   "metadata": {
    "id": "syBoRcFUyQHs"
   },
   "outputs": [],
   "source": [
    "def function_name():\n",
    "    body_of_function = 'hello'\n",
    "    return body_of_function + ' world'"
   ]
  },
  {
   "cell_type": "code",
   "execution_count": 16,
   "metadata": {
    "id": "9GSdLgw_yQHs",
    "outputId": "a21f693c-e104-4389-ecf7-0d23b71c5da5"
   },
   "outputs": [
    {
     "data": {
      "text/plain": [
       "'hello world'"
      ]
     },
     "execution_count": 16,
     "metadata": {},
     "output_type": "execute_result"
    }
   ],
   "source": [
    "function_name()"
   ]
  },
  {
   "cell_type": "markdown",
   "metadata": {
    "id": "TrScEiZjyQHs"
   },
   "source": [
    "Now, in the cell below, write a function called `catapult` that returns the word `slime`."
   ]
  },
  {
   "cell_type": "code",
   "execution_count": 18,
   "metadata": {
    "id": "sdYl3fZyyQHt"
   },
   "outputs": [],
   "source": [
    "# write function here\n",
    "def catapult() -> str:\n",
    "    return 'slime'"
   ]
  },
  {
   "cell_type": "code",
   "execution_count": 19,
   "metadata": {
    "id": "5jlE1T0xyQHt",
    "outputId": "936c229b-34c8-40a3-bae4-048699be4c1c"
   },
   "outputs": [
    {
     "data": {
      "text/plain": [
       "'slime'"
      ]
     },
     "execution_count": 19,
     "metadata": {},
     "output_type": "execute_result"
    }
   ],
   "source": [
    "catapult()\n",
    "# slime"
   ]
  },
  {
   "cell_type": "markdown",
   "metadata": {
    "id": "WJgRFLjwyQHt"
   },
   "source": [
    "## Back to our project"
   ]
  },
  {
   "cell_type": "markdown",
   "metadata": {
    "id": "KDVcoHsIyQHt"
   },
   "source": [
    "Ok, so how can this help us?  Well functions allow us to store an entire procedure, and then name that procedure.  Once written, we can largely forget about how the function works.  \n",
    "\n",
    "All we care about is what the function does, which is execute a procedure and then throw something over the walls.\n",
    "\n",
    "So we can think of function like our cellphone: we only need to know how the wires underneath work when something breaks.  Otherwise, we can just call the function and get an output."
   ]
  },
  {
   "cell_type": "markdown",
   "metadata": {
    "id": "LdGX6a3FyQHu"
   },
   "source": [
    "Ok, so let's wrap some more code in functions, so that we can move more into the push button, get an output mode.\n",
    "\n",
    "To do so, we wrap our ordinary code with the beginning line `def name_of_function():`.  And we end our function with returning an output."
   ]
  },
  {
   "cell_type": "markdown",
   "metadata": {
    "id": "qRDH2s26yQHu"
   },
   "source": [
    "> Here is our original code."
   ]
  },
  {
   "cell_type": "code",
   "execution_count": 20,
   "metadata": {
    "id": "keqrY6fPyQHu"
   },
   "outputs": [],
   "source": [
    "url = 'https://en.wikipedia.org/wiki/List_of_United_States_cities_by_population'\n",
    "tables = pd.read_html(url)\n",
    "cities_table = tables[4]\n",
    "cities = cities_table.to_dict('records')"
   ]
  },
  {
   "cell_type": "markdown",
   "metadata": {
    "id": "yZPhw69JyQHv"
   },
   "source": [
    "> And here is that code wrapped in a function."
   ]
  },
  {
   "cell_type": "code",
   "execution_count": 21,
   "metadata": {
    "id": "PpXJ4aRVyQHv"
   },
   "outputs": [],
   "source": [
    "def gather_cities():\n",
    "    url = 'https://en.wikipedia.org/wiki/List_of_United_States_cities_by_population'\n",
    "    tables = pd.read_html(url)\n",
    "    cities_table = tables[4]\n",
    "    cities = cities_table.to_dict('records')\n",
    "    return cities"
   ]
  },
  {
   "cell_type": "code",
   "execution_count": 22,
   "metadata": {
    "id": "3ueAIqXZyQHv",
    "outputId": "fe87f6fc-64a3-4f56-dab6-d2242f5aaf7f"
   },
   "outputs": [
    {
     "data": {
      "text/plain": [
       "[{'2021rank': 1,\n",
       "  'City': 'New York[d]',\n",
       "  'State[c]': 'New York',\n",
       "  '2021estimate': 8467513,\n",
       "  '2020census': 8804190,\n",
       "  'Change': '−3.82%',\n",
       "  '2020 land area': '300.5\\xa0sq\\xa0mi',\n",
       "  '2020 land area.1': '778.3\\xa0km2',\n",
       "  '2020 population density': '29,298/sq\\xa0mi',\n",
       "  '2020 population density.1': '11,312/km2',\n",
       "  'Location': '.mw-parser-output .geo-default,.mw-parser-output .geo-dms,.mw-parser-output .geo-dec{display:inline}.mw-parser-output .geo-nondefault,.mw-parser-output .geo-multi-punct{display:none}.mw-parser-output .longitude,.mw-parser-output .latitude{white-space:nowrap}40°40′N 73°56′W\\ufeff / \\ufeff40.66°N 73.93°W'}]"
      ]
     },
     "execution_count": 22,
     "metadata": {},
     "output_type": "execute_result"
    }
   ],
   "source": [
    "cities = gather_cities()\n",
    "cities[:1]"
   ]
  },
  {
   "cell_type": "markdown",
   "metadata": {
    "id": "EG36keyiyQHv"
   },
   "source": [
    "Your turn."
   ]
  },
  {
   "cell_type": "markdown",
   "metadata": {
    "id": "-MGowXmRyQHw"
   },
   "source": [
    "This time we'll work with the `for loop` that turns our list of dictionaries into a list of populations.  Below we'll create a new function called `get_populations`, that returns the list of the `populations`."
   ]
  },
  {
   "cell_type": "markdown",
   "metadata": {
    "id": "euoz1VLsyQHw"
   },
   "source": [
    "Do so in the following steps:  "
   ]
  },
  {
   "cell_type": "markdown",
   "metadata": {
    "id": "ZPR7DNQByQHw"
   },
   "source": [
    "1. Start at the top of the cell, and hold down your cursor dragging until the bottom of the cell, so that the entire cell turns purple.  Then press `tab` to indent the code.\n",
    "\n",
    "2. Now we need another line at the top to define our function.  Place your cursor touching the `p` in `populations = []` and press enter.\n",
    "\n",
    "3. In the new line that we created above the statement `populations = []`, write the name of the function beginning with `def` and ending with `():` and named `get_populations`.  Remember that our first line **should not** be tabbed in.  In other words, the `d` of `def` should be touching the border of our gray cell. \n",
    "\n",
    "4. Then end your function with the return value."
   ]
  },
  {
   "cell_type": "code",
   "execution_count": 27,
   "metadata": {
    "id": "NB3tGQfdyQHw",
    "outputId": "8849095e-f482-43c6-d935-00538a66e20d"
   },
   "outputs": [],
   "source": [
    "def get_populations() -> list[dict]:\n",
    "    populations = []\n",
    "    for city in cities:\n",
    "        city_pop = city['2020census']\n",
    "        populations.append(city_pop)\n",
    "\n",
    "    return populations"
   ]
  },
  {
   "cell_type": "code",
   "execution_count": 28,
   "metadata": {
    "id": "eT-toSPvyQHx"
   },
   "outputs": [
    {
     "data": {
      "text/plain": [
       "[8804190, 3898747]"
      ]
     },
     "execution_count": 28,
     "metadata": {},
     "output_type": "execute_result"
    }
   ],
   "source": [
    "pops = get_populations()\n",
    "# pops\n",
    "\n",
    "pops[:2]"
   ]
  },
  {
   "cell_type": "markdown",
   "metadata": {
    "id": "cJvJAy8FyQHx"
   },
   "source": [
    "Now do the same thing with the next block of code.  Write a function called `get_names` that returns the list of `city_names`."
   ]
  },
  {
   "cell_type": "code",
   "execution_count": 29,
   "metadata": {
    "id": "m9wY0oXDyQHx",
    "outputId": "0c54b1ce-c0a8-4bed-bb31-0ff1927c6fda"
   },
   "outputs": [],
   "source": [
    "def get_names() -> list[dict]:\n",
    "    city_names = []\n",
    "    for city in cities:\n",
    "        city_name = city['City']\n",
    "        city_names.append(city_name)\n",
    "\n",
    "    return city_names"
   ]
  },
  {
   "cell_type": "code",
   "execution_count": 30,
   "metadata": {
    "id": "T7hJjuVpyQHx",
    "outputId": "9542816f-33e5-4971-f6c7-d54e5684ed53"
   },
   "outputs": [
    {
     "data": {
      "text/plain": [
       "['New York[d]', 'Los Angeles']"
      ]
     },
     "execution_count": 30,
     "metadata": {},
     "output_type": "execute_result"
    }
   ],
   "source": [
    "names = get_names()\n",
    "names[:2]"
   ]
  },
  {
   "cell_type": "markdown",
   "metadata": {
    "id": "ZRIbLuTZyQHx"
   },
   "source": [
    "## Wrapping Up"
   ]
  },
  {
   "cell_type": "markdown",
   "metadata": {
    "id": "ct-KG_B5yQHy"
   },
   "source": [
    "When were finished with our code, our function definitions will look like the following. "
   ]
  },
  {
   "cell_type": "code",
   "execution_count": 31,
   "metadata": {
    "id": "88byyk6yyQHy"
   },
   "outputs": [],
   "source": [
    "import pandas as pd\n",
    "\n",
    "def gather_cities():\n",
    "    url = 'https://en.wikipedia.org/wiki/List_of_United_States_cities_by_population'\n",
    "    tables = pd.read_html(url)\n",
    "    cities_table = tables[4]\n",
    "    cities = cities_table.to_dict('records')\n",
    "    return cities\n",
    "\n",
    "def get_populations():\n",
    "    populations = []\n",
    "\n",
    "    for city in cities:\n",
    "        city_pop = city['2020census']\n",
    "        populations.append(city_pop)\n",
    "    return populations\n",
    "\n",
    "def get_names():\n",
    "    city_names = []\n",
    "\n",
    "    for city in cities:\n",
    "        city_name = city['City']\n",
    "        city_names.append(city_name)\n",
    "    return city_names"
   ]
  },
  {
   "cell_type": "markdown",
   "metadata": {
    "id": "DVFHRFpqyQHy"
   },
   "source": [
    "And we can call all of our code in just a few lines."
   ]
  },
  {
   "cell_type": "code",
   "execution_count": 32,
   "metadata": {
    "id": "0aUDxThcyQHy"
   },
   "outputs": [],
   "source": [
    "cities = gather_cities()\n",
    "pops = get_populations()\n",
    "city_names = get_names()"
   ]
  },
  {
   "cell_type": "code",
   "execution_count": 33,
   "metadata": {
    "id": "SoJbODhNyQHy",
    "outputId": "ad6b57f9-8b7b-41a3-8d36-f2f4e3450ea7"
   },
   "outputs": [
    {
     "data": {
      "text/plain": [
       "[8804190, 3898747]"
      ]
     },
     "execution_count": 33,
     "metadata": {},
     "output_type": "execute_result"
    }
   ],
   "source": [
    "pops[:2]"
   ]
  },
  {
   "cell_type": "code",
   "execution_count": 34,
   "metadata": {
    "id": "7LZPg6xiyQHy",
    "outputId": "ee21257f-e8c7-4c33-f911-3a805f84575f"
   },
   "outputs": [
    {
     "data": {
      "text/plain": [
       "['New York[d]', 'Los Angeles']"
      ]
     },
     "execution_count": 34,
     "metadata": {},
     "output_type": "execute_result"
    }
   ],
   "source": [
    "city_names[:2]"
   ]
  },
  {
   "cell_type": "markdown",
   "metadata": {
    "id": "gsyoti8IyQHz"
   },
   "source": [
    "## Summary"
   ]
  },
  {
   "cell_type": "markdown",
   "metadata": {
    "id": "jF7zp3_-yQHz"
   },
   "source": [
    "In this lesson, we learned about functions.  We saw that functions allow us to save a procedure underneath the walls of a function.  We do so with the following pattern."
   ]
  },
  {
   "cell_type": "markdown",
   "metadata": {
    "id": "EYGrFHf2yQHz"
   },
   "source": [
    "```python\n",
    "def function_name():\n",
    "    body_of_function = 'hello'\n",
    "    return body_of_function + ' world'\n",
    "```"
   ]
  },
  {
   "cell_type": "markdown",
   "metadata": {
    "id": "3aTQEGC9yQHz"
   },
   "source": [
    "Once we define the function, then we can execute the function with the `function_name()` and we are given the return value of the function.\n",
    "\n",
    "Functions give names to our complicated code, and allow us to summarize complicated code in just a few steps."
   ]
  },
  {
   "cell_type": "markdown",
   "metadata": {
    "id": "IqIHvBlRyQHz"
   },
   "source": [
    "```python\n",
    "cities = gather_cities()\n",
    "pops = get_populations()\n",
    "city_names = get_city_names()\n",
    "```"
   ]
  },
  {
   "cell_type": "markdown",
   "metadata": {
    "id": "2WkOM86kyQHz"
   },
   "source": [
    "### References"
   ]
  },
  {
   "cell_type": "markdown",
   "metadata": {
    "id": "uX2k9lpKyQHz"
   },
   "source": [
    "Credit to [John Resig](https://johnresig.com/) for the catapult analogy, and for a bunch of other amazing things."
   ]
  },
  {
   "cell_type": "markdown",
   "metadata": {
    "id": "OlTF_rVlyQHz"
   },
   "source": [
    "<right> \n",
    "<a href=\"https://colab.research.google.com/github/jigsawlabs-student/code-intro/blob/master/12-function-arguments.ipynb\">\n",
    "<img src=\"https://github.com/jigsawlabs-student/code-intro/blob/master/next-yellow.jpg?raw=1\" align=\"right\" style=\"padding-right: 20px\" width=\"10%\">\n",
    "    </a>\n",
    "</right>"
   ]
  },
  {
   "cell_type": "markdown",
   "metadata": {
    "id": "oMeFzvytyQH0"
   },
   "source": [
    "<center>\n",
    "<a href=\"https://www.jigsawlabs.io\" style=\"position: center\"><img src=\"https://github.com/jigsawlabs-student/code-intro/blob/master/jigsaw-icon.png?raw=1\" width=\"15%\" style=\"text-align: center\"></a>\n",
    "</center>"
   ]
  },
  {
   "cell_type": "markdown",
   "metadata": {
    "id": "UoaHf1xbyQH0"
   },
   "source": [
    "### Answers"
   ]
  },
  {
   "cell_type": "code",
   "execution_count": null,
   "metadata": {
    "id": "SpM7pcUxyQH0"
   },
   "outputs": [],
   "source": [
    "def collect_data():\n",
    "    return 'data'"
   ]
  },
  {
   "cell_type": "code",
   "execution_count": null,
   "metadata": {
    "id": "mB_gGhEhyQH0"
   },
   "outputs": [],
   "source": [
    "def catapult():\n",
    "    return 'slime'"
   ]
  },
  {
   "cell_type": "code",
   "execution_count": null,
   "metadata": {
    "id": "RCH7eWEwyQH0"
   },
   "outputs": [],
   "source": [
    "def get_populations():\n",
    "    populations = []\n",
    "\n",
    "    for each_city in cities:\n",
    "        city_pop = each_city['2018estimate']\n",
    "        populations.append(city_pop)\n",
    "    return populations"
   ]
  },
  {
   "cell_type": "code",
   "execution_count": null,
   "metadata": {
    "id": "yyllIjeXyQH0",
    "outputId": "9ba70b8f-3cb9-4cd2-9e26-5dd77a8884da"
   },
   "outputs": [
    {
     "data": {
      "text/plain": [
       "[8398748, 3990456]"
      ]
     },
     "execution_count": 86,
     "metadata": {},
     "output_type": "execute_result"
    }
   ],
   "source": [
    "get_populations()[:2]"
   ]
  },
  {
   "cell_type": "code",
   "execution_count": null,
   "metadata": {
    "id": "IgglDizmyQH0"
   },
   "outputs": [],
   "source": [
    "def get_names():\n",
    "    city_names = []\n",
    "\n",
    "    for each_city in cities:\n",
    "        city_name = each_city['City']\n",
    "        city_names.append(city_name)\n",
    "    return city_names"
   ]
  },
  {
   "cell_type": "code",
   "execution_count": null,
   "metadata": {
    "id": "5ma5gtFZyQH1",
    "outputId": "954c3381-6bee-4be9-d014-3fe5f76ec006"
   },
   "outputs": [
    {
     "data": {
      "text/plain": [
       "['New York[d]', 'Los Angeles']"
      ]
     },
     "execution_count": 89,
     "metadata": {},
     "output_type": "execute_result"
    }
   ],
   "source": [
    "get_names()[:2]"
   ]
  },
  {
   "cell_type": "code",
   "execution_count": null,
   "metadata": {
    "id": "Y_BRAHKKyQH1"
   },
   "outputs": [],
   "source": []
  }
 ],
 "metadata": {
  "colab": {
   "name": "11-saving-work-with-functions.ipynb",
   "provenance": []
  },
  "kernelspec": {
   "display_name": "Python 3 (ipykernel)",
   "language": "python",
   "name": "python3"
  },
  "language_info": {
   "codemirror_mode": {
    "name": "ipython",
    "version": 3
   },
   "file_extension": ".py",
   "mimetype": "text/x-python",
   "name": "python",
   "nbconvert_exporter": "python",
   "pygments_lexer": "ipython3",
   "version": "3.10.2"
  }
 },
 "nbformat": 4,
 "nbformat_minor": 4
}

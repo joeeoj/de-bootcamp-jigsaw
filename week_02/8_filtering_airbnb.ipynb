{
 "cells": [
  {
   "cell_type": "markdown",
   "metadata": {
    "id": "iUkkKfljnri7"
   },
   "source": [
    "# Filtering Airbnb"
   ]
  },
  {
   "cell_type": "markdown",
   "metadata": {
    "id": "-7LMSMwznri_"
   },
   "source": [
    "### Introduction"
   ]
  },
  {
   "cell_type": "markdown",
   "metadata": {
    "id": "-sCEqSXAnri_"
   },
   "source": [
    "In this lesson, we'll use our knowledge of loops and filtering to work with Airbnb data in New York City. Let's get started."
   ]
  },
  {
   "cell_type": "markdown",
   "metadata": {
    "id": "42Hsr3YznrjA"
   },
   "source": [
    "### Loading and Exploring our Data"
   ]
  },
  {
   "cell_type": "markdown",
   "metadata": {
    "id": "T-IguuOrnrjB"
   },
   "source": [
    "Let's start by loading up our data."
   ]
  },
  {
   "cell_type": "code",
   "execution_count": 1,
   "metadata": {
    "id": "7zCpPaIjnrjB"
   },
   "outputs": [],
   "source": [
    "import pandas as pd\n",
    "listings_df = pd.read_csv('https://raw.githubusercontent.com/eng-6-22/mod-1-a-data-structures/master/3-coercing-filtering-data/AB_NYC_2019.csv')\n",
    "\n",
    "listings = listings_df.to_dict('records')"
   ]
  },
  {
   "cell_type": "markdown",
   "metadata": {
    "id": "c3rjo5WnnrjD"
   },
   "source": [
    "Let's start by seeing the number of listings we have gathered."
   ]
  },
  {
   "cell_type": "code",
   "execution_count": 2,
   "metadata": {
    "colab": {
     "base_uri": "https://localhost:8080/"
    },
    "id": "GXs42CapnrjE",
    "outputId": "b7b69d6c-60e7-4758-d7e5-d6f335634bb2"
   },
   "outputs": [
    {
     "data": {
      "text/plain": [
       "48895"
      ]
     },
     "execution_count": 2,
     "metadata": {},
     "output_type": "execute_result"
    }
   ],
   "source": [
    "len(listings)\n",
    "\n",
    "# 48895"
   ]
  },
  {
   "cell_type": "markdown",
   "metadata": {
    "id": "ZFYBoFQcnrjF"
   },
   "source": [
    "And now, let's see which attributes are available to us on each listing.  Look at the keys available on a single listing."
   ]
  },
  {
   "cell_type": "code",
   "execution_count": 3,
   "metadata": {
    "colab": {
     "base_uri": "https://localhost:8080/"
    },
    "id": "Ir2wqArMnrjF",
    "outputId": "33c820de-0584-4998-ce0a-a0ec2c2649e4"
   },
   "outputs": [
    {
     "data": {
      "text/plain": [
       "dict_keys(['id', 'name', 'host_id', 'host_name', 'neighbourhood_group', 'neighbourhood', 'latitude', 'longitude', 'room_type', 'price', 'minimum_nights', 'number_of_reviews', 'last_review', 'reviews_per_month', 'calculated_host_listings_count', 'availability_365'])"
      ]
     },
     "execution_count": 3,
     "metadata": {},
     "output_type": "execute_result"
    }
   ],
   "source": [
    "listings[0].keys()\n",
    "\n",
    "# dict_keys(['id', 'name', 'host_id', 'host_name', 'neighbourhood_group', \n",
    "# 'neighbourhood', 'latitude', 'longitude', 'room_type', 'price',\n",
    "# 'minimum_nights', 'number_of_reviews', 'last_review', 'reviews_per_month', \n",
    "# 'calculated_host_listings_count', 'availability_365'])"
   ]
  },
  {
   "cell_type": "markdown",
   "metadata": {
    "id": "z9xr9pPInrjG"
   },
   "source": [
    "Now we'll like to calculate some statistics with this data.  Before doing so, let's get a sense of how recent our data is.  "
   ]
  },
  {
   "cell_type": "markdown",
   "metadata": {
    "id": "2MvD9eYDnrjG"
   },
   "source": [
    "To start, let's select just the `last_review` value from each element.  \n",
    "> Use list comprehension to create a list of `last_reviews`, one for each listing."
   ]
  },
  {
   "cell_type": "code",
   "execution_count": 4,
   "metadata": {
    "id": "rOKu076VnrjH"
   },
   "outputs": [],
   "source": [
    "last_reviews = [listing['last_review'] for listing in listings]"
   ]
  },
  {
   "cell_type": "code",
   "execution_count": 5,
   "metadata": {
    "colab": {
     "base_uri": "https://localhost:8080/"
    },
    "id": "nm2JKh-wnrjH",
    "outputId": "6bf679c5-b0a7-46cc-d015-7b7b36f1717f"
   },
   "outputs": [
    {
     "data": {
      "text/plain": [
       "['2018-10-19', '2019-05-21', nan, '2019-07-05', '2018-11-19']"
      ]
     },
     "execution_count": 5,
     "metadata": {},
     "output_type": "execute_result"
    }
   ],
   "source": [
    "last_reviews[:5]\n",
    "\n",
    "# ['2018-10-19', '2019-05-21', nan, '2019-07-05', '2018-11-19']"
   ]
  },
  {
   "cell_type": "markdown",
   "metadata": {
    "id": "8ejCLrAbnrjI"
   },
   "source": [
    "We can see from the above that some of our listings have `nan` values.  \n",
    "> As we may know `nan` stands for not a number and is generally used to represent missing values.  \n",
    "\n",
    "Let's filter out the listings with last_review values of `nan`.  Removing only `nan` values can be tricky.  So here's a hint to get you started:"
   ]
  },
  {
   "cell_type": "markdown",
   "metadata": {
    "id": "86PzyOtunrjI"
   },
   "source": [
    "> nan is of type `float`.  So to check if the our value is `nan` we can use something like the following."
   ]
  },
  {
   "cell_type": "code",
   "execution_count": 6,
   "metadata": {
    "colab": {
     "base_uri": "https://localhost:8080/"
    },
    "id": "qE5bXdRCnrjI",
    "outputId": "5ee48ec8-0e57-4792-fc9e-e5e51d371af5"
   },
   "outputs": [
    {
     "data": {
      "text/plain": [
       "False"
      ]
     },
     "execution_count": 6,
     "metadata": {},
     "output_type": "execute_result"
    }
   ],
   "source": [
    "type(last_reviews[0]) == float"
   ]
  },
  {
   "cell_type": "code",
   "execution_count": 7,
   "metadata": {
    "colab": {
     "base_uri": "https://localhost:8080/"
    },
    "id": "zLXgUqLXnrjI",
    "outputId": "91fae667-254c-4150-eecf-beb5d34e3f2a"
   },
   "outputs": [
    {
     "data": {
      "text/plain": [
       "True"
      ]
     },
     "execution_count": 7,
     "metadata": {},
     "output_type": "execute_result"
    }
   ],
   "source": [
    "type(last_reviews[2]) == float"
   ]
  },
  {
   "cell_type": "code",
   "execution_count": 8,
   "metadata": {
    "colab": {
     "base_uri": "https://localhost:8080/"
    },
    "id": "LxtHphj4nrjJ",
    "outputId": "36f29ae2-760c-4a99-ff5c-9fa3e9108673"
   },
   "outputs": [
    {
     "data": {
      "text/plain": [
       "('2018-10-19', nan)"
      ]
     },
     "execution_count": 8,
     "metadata": {},
     "output_type": "execute_result"
    }
   ],
   "source": [
    "last_reviews[0], last_reviews[2]\n",
    "# ('2018-10-19', nan)"
   ]
  },
  {
   "cell_type": "markdown",
   "metadata": {
    "id": "yQBbgSapnrjJ"
   },
   "source": [
    "Now, use what you learned from above to select *listings* that do not have a `last_review` value of nan."
   ]
  },
  {
   "cell_type": "code",
   "execution_count": 9,
   "metadata": {
    "id": "n_ctvxCdnrjK"
   },
   "outputs": [],
   "source": [
    "listings_not_nan = [listing for listing in listings if type(listing['last_review']) != float]"
   ]
  },
  {
   "cell_type": "code",
   "execution_count": 10,
   "metadata": {
    "colab": {
     "base_uri": "https://localhost:8080/"
    },
    "id": "AxCla74rpxPR",
    "outputId": "b682276f-ea35-4d47-b52a-ff89667d94cd"
   },
   "outputs": [
    {
     "data": {
      "text/plain": [
       "[{'id': 2539,\n",
       "  'name': 'Clean & quiet apt home by the park',\n",
       "  'host_id': 2787,\n",
       "  'host_name': 'John',\n",
       "  'neighbourhood_group': 'Brooklyn',\n",
       "  'neighbourhood': 'Kensington',\n",
       "  'latitude': 40.64749,\n",
       "  'longitude': -73.97237,\n",
       "  'room_type': 'Private room',\n",
       "  'price': 149,\n",
       "  'minimum_nights': 1,\n",
       "  'number_of_reviews': 9,\n",
       "  'last_review': '2018-10-19',\n",
       "  'reviews_per_month': 0.21,\n",
       "  'calculated_host_listings_count': 6,\n",
       "  'availability_365': 365},\n",
       " {'id': 2595,\n",
       "  'name': 'Skylit Midtown Castle',\n",
       "  'host_id': 2845,\n",
       "  'host_name': 'Jennifer',\n",
       "  'neighbourhood_group': 'Manhattan',\n",
       "  'neighbourhood': 'Midtown',\n",
       "  'latitude': 40.75362,\n",
       "  'longitude': -73.98377,\n",
       "  'room_type': 'Entire home/apt',\n",
       "  'price': 225,\n",
       "  'minimum_nights': 1,\n",
       "  'number_of_reviews': 45,\n",
       "  'last_review': '2019-05-21',\n",
       "  'reviews_per_month': 0.38,\n",
       "  'calculated_host_listings_count': 2,\n",
       "  'availability_365': 355},\n",
       " {'id': 3831,\n",
       "  'name': 'Cozy Entire Floor of Brownstone',\n",
       "  'host_id': 4869,\n",
       "  'host_name': 'LisaRoxanne',\n",
       "  'neighbourhood_group': 'Brooklyn',\n",
       "  'neighbourhood': 'Clinton Hill',\n",
       "  'latitude': 40.68514,\n",
       "  'longitude': -73.95976,\n",
       "  'room_type': 'Entire home/apt',\n",
       "  'price': 89,\n",
       "  'minimum_nights': 1,\n",
       "  'number_of_reviews': 270,\n",
       "  'last_review': '2019-07-05',\n",
       "  'reviews_per_month': 4.64,\n",
       "  'calculated_host_listings_count': 1,\n",
       "  'availability_365': 194},\n",
       " {'id': 5022,\n",
       "  'name': 'Entire Apt: Spacious Studio/Loft by central park',\n",
       "  'host_id': 7192,\n",
       "  'host_name': 'Laura',\n",
       "  'neighbourhood_group': 'Manhattan',\n",
       "  'neighbourhood': 'East Harlem',\n",
       "  'latitude': 40.79851,\n",
       "  'longitude': -73.94399,\n",
       "  'room_type': 'Entire home/apt',\n",
       "  'price': 80,\n",
       "  'minimum_nights': 10,\n",
       "  'number_of_reviews': 9,\n",
       "  'last_review': '2018-11-19',\n",
       "  'reviews_per_month': 0.1,\n",
       "  'calculated_host_listings_count': 1,\n",
       "  'availability_365': 0},\n",
       " {'id': 5099,\n",
       "  'name': 'Large Cozy 1 BR Apartment In Midtown East',\n",
       "  'host_id': 7322,\n",
       "  'host_name': 'Chris',\n",
       "  'neighbourhood_group': 'Manhattan',\n",
       "  'neighbourhood': 'Murray Hill',\n",
       "  'latitude': 40.74767,\n",
       "  'longitude': -73.975,\n",
       "  'room_type': 'Entire home/apt',\n",
       "  'price': 200,\n",
       "  'minimum_nights': 3,\n",
       "  'number_of_reviews': 74,\n",
       "  'last_review': '2019-06-22',\n",
       "  'reviews_per_month': 0.59,\n",
       "  'calculated_host_listings_count': 1,\n",
       "  'availability_365': 129}]"
      ]
     },
     "execution_count": 10,
     "metadata": {},
     "output_type": "execute_result"
    }
   ],
   "source": [
    "listings_not_nan[:5]"
   ]
  },
  {
   "cell_type": "code",
   "execution_count": 11,
   "metadata": {
    "colab": {
     "base_uri": "https://localhost:8080/"
    },
    "id": "2nzq4sexnrjK",
    "outputId": "2028df60-0b2e-437f-83da-5e103482c34e"
   },
   "outputs": [
    {
     "data": {
      "text/plain": [
       "38843"
      ]
     },
     "execution_count": 11,
     "metadata": {},
     "output_type": "execute_result"
    }
   ],
   "source": [
    "len(listings_not_nan)\n",
    "\n",
    "# 38843"
   ]
  },
  {
   "cell_type": "markdown",
   "metadata": {
    "id": "CXaBZczrnrjK"
   },
   "source": [
    "Calculate the percentage of listings we have left."
   ]
  },
  {
   "cell_type": "code",
   "execution_count": 12,
   "metadata": {
    "colab": {
     "base_uri": "https://localhost:8080/"
    },
    "id": "xIf4pKJrnrjL",
    "outputId": "b9f16438-8f6b-420e-d654-a67ecfd942e9"
   },
   "outputs": [
    {
     "data": {
      "text/plain": [
       "0.7944166070150323"
      ]
     },
     "execution_count": 12,
     "metadata": {},
     "output_type": "execute_result"
    }
   ],
   "source": [
    "len(listings_not_nan) / len(listings)\n",
    "\n",
    "# 0.7944166070150323"
   ]
  },
  {
   "cell_type": "markdown",
   "metadata": {
    "id": "ulKK7xgNnrjL"
   },
   "source": [
    "Ok, not amazing, but not bad."
   ]
  },
  {
   "cell_type": "markdown",
   "metadata": {
    "id": "quPO7XrXnrjL"
   },
   "source": [
    "### Back on Track"
   ]
  },
  {
   "cell_type": "markdown",
   "metadata": {
    "id": "j7-0rF_dnrjL"
   },
   "source": [
    "Now that we've removed our listings with a last_review of nan, let's make sure that we are working with relatively recent reviews."
   ]
  },
  {
   "cell_type": "markdown",
   "metadata": {
    "id": "GX_Qg3aanrjL"
   },
   "source": [
    "Our first step is to change the first `last_review` value from to a Python string to a datetime object.\n",
    "\n",
    "> Let's practice this on a single element first."
   ]
  },
  {
   "cell_type": "markdown",
   "metadata": {
    "id": "RPt8IYk1nrjL"
   },
   "source": [
    "> See [this post](https://chrisalbon.com/code/python/basics/date_and_time_basics/) for coercing data to a datetime to do so."
   ]
  },
  {
   "cell_type": "code",
   "execution_count": 13,
   "metadata": {
    "id": "xumNXta1nrjM"
   },
   "outputs": [],
   "source": [
    "first_listing = listings[0]"
   ]
  },
  {
   "cell_type": "code",
   "execution_count": 14,
   "metadata": {
    "id": "qwXB_W33nrjM"
   },
   "outputs": [],
   "source": [
    "last_review = first_listing['last_review']"
   ]
  },
  {
   "cell_type": "code",
   "execution_count": 15,
   "metadata": {
    "colab": {
     "base_uri": "https://localhost:8080/",
     "height": 35
    },
    "id": "jKJ-6lh1o5-v",
    "outputId": "e5851506-d9e3-4d8d-debf-22a08f66645b"
   },
   "outputs": [
    {
     "data": {
      "text/plain": [
       "'2018-10-19'"
      ]
     },
     "execution_count": 15,
     "metadata": {},
     "output_type": "execute_result"
    }
   ],
   "source": [
    "last_review"
   ]
  },
  {
   "cell_type": "code",
   "execution_count": 16,
   "metadata": {
    "id": "XNgcXGPCpIMC"
   },
   "outputs": [],
   "source": [
    "last_review_split = last_review.split('-')\n",
    "year = int(last_review_split[0])\n",
    "month = int(last_review_split[1])\n",
    "day = int(last_review_split[2])"
   ]
  },
  {
   "cell_type": "code",
   "execution_count": 17,
   "metadata": {
    "colab": {
     "base_uri": "https://localhost:8080/"
    },
    "id": "a4yARbIKnrjM",
    "outputId": "5361002d-ab17-4cc4-f529-a7e7eab6d691"
   },
   "outputs": [
    {
     "data": {
      "text/plain": [
       "datetime.datetime(2018, 10, 19, 0, 0)"
      ]
     },
     "execution_count": 17,
     "metadata": {},
     "output_type": "execute_result"
    }
   ],
   "source": [
    "from datetime import datetime\n",
    "\n",
    "last_review_datetime = datetime(year, month, day)\n",
    "last_review_datetime"
   ]
  },
  {
   "cell_type": "code",
   "execution_count": 18,
   "metadata": {
    "colab": {
     "base_uri": "https://localhost:8080/"
    },
    "id": "GVB69j0rnrjM",
    "outputId": "3cae4c18-20bc-437c-9023-77997e88421e"
   },
   "outputs": [
    {
     "data": {
      "text/plain": [
       "(2018, 10)"
      ]
     },
     "execution_count": 18,
     "metadata": {},
     "output_type": "execute_result"
    }
   ],
   "source": [
    "last_review_datetime.year, last_review_datetime.month "
   ]
  },
  {
   "cell_type": "code",
   "execution_count": 19,
   "metadata": {
    "id": "s6eR1S3InrjM"
   },
   "outputs": [],
   "source": [
    "listings_not_nan_copied = listings_not_nan.copy()"
   ]
  },
  {
   "cell_type": "markdown",
   "metadata": {
    "id": "3Mk5AXT2nrjN"
   },
   "source": [
    "> Now iterate through the copy of `listings_not_nan_copied` and change each `last_review` to a datetime."
   ]
  },
  {
   "cell_type": "code",
   "execution_count": 20,
   "metadata": {
    "id": "BUJFLRMynrjN"
   },
   "outputs": [],
   "source": [
    "# write code here to change the dictionaries in listings_not_nan_copied\n",
    "for listing in listings_not_nan_copied:\n",
    "  last_review_split = listing['last_review'].split('-')\n",
    "  year = int(last_review_split[0])\n",
    "  month = int(last_review_split[1])\n",
    "  day = int(last_review_split[2])\n",
    "\n",
    "  last_review_datetime = datetime(year, month, day)\n",
    "\n",
    "  listing['last_review'] = last_review_datetime"
   ]
  },
  {
   "cell_type": "markdown",
   "metadata": {
    "id": "UElb7Rd1nrjN"
   },
   "source": [
    "> We can check that each `last_review` is now a datetime object."
   ]
  },
  {
   "cell_type": "code",
   "execution_count": 21,
   "metadata": {
    "colab": {
     "base_uri": "https://localhost:8080/"
    },
    "id": "icFIIGgRnrjN",
    "outputId": "46bae134-c66f-4654-d9d7-5271c4affd1e"
   },
   "outputs": [
    {
     "data": {
      "text/plain": [
       "[datetime.datetime(2018, 10, 19, 0, 0), datetime.datetime(2019, 5, 21, 0, 0)]"
      ]
     },
     "execution_count": 21,
     "metadata": {},
     "output_type": "execute_result"
    }
   ],
   "source": [
    "updated_last_reviews = [listing['last_review'] \n",
    "                        for listing in listings_not_nan_copied]\n",
    "\n",
    "updated_last_reviews[:2]\n",
    "\n",
    "# [datetime.datetime(2018, 10, 19, 0, 0), datetime.datetime(2019, 5, 21, 0, 0)]"
   ]
  },
  {
   "cell_type": "markdown",
   "metadata": {
    "id": "G4oEE8WsnrjO"
   },
   "source": [
    "Ok, now find the listing with the oldest last_review, and then we'll find the listing with the most recent last review."
   ]
  },
  {
   "cell_type": "code",
   "execution_count": 22,
   "metadata": {
    "id": "04OZ7xQ7nrjO"
   },
   "outputs": [],
   "source": [
    "earliest_listing = sorted(listings_not_nan_copied, key=lambda listing: listing['last_review'])[0]"
   ]
  },
  {
   "cell_type": "code",
   "execution_count": 23,
   "metadata": {
    "colab": {
     "base_uri": "https://localhost:8080/"
    },
    "id": "tBglSc5JnrjO",
    "outputId": "f798f9ec-a12b-4f7a-892e-04dddb942f81"
   },
   "outputs": [
    {
     "data": {
      "text/plain": [
       "datetime.datetime(2011, 3, 28, 0, 0)"
      ]
     },
     "execution_count": 23,
     "metadata": {},
     "output_type": "execute_result"
    }
   ],
   "source": [
    "earliest_listing['last_review']\n",
    "\n",
    "# datetime.datetime(2011, 3, 28, 0, 0)"
   ]
  },
  {
   "cell_type": "code",
   "execution_count": 24,
   "metadata": {
    "id": "S8Xm4AgAnrjO"
   },
   "outputs": [],
   "source": [
    "latest_listing = sorted(listings_not_nan_copied, key=lambda listing: listing['last_review'])[-1]"
   ]
  },
  {
   "cell_type": "code",
   "execution_count": 25,
   "metadata": {
    "colab": {
     "base_uri": "https://localhost:8080/"
    },
    "id": "7pE8z454nrjO",
    "outputId": "0b56e960-15e4-478d-efd4-b7b975547224"
   },
   "outputs": [
    {
     "data": {
      "text/plain": [
       "datetime.datetime(2019, 7, 8, 0, 0)"
      ]
     },
     "execution_count": 25,
     "metadata": {},
     "output_type": "execute_result"
    }
   ],
   "source": [
    "latest_listing['last_review']\n",
    "# datetime.datetime(2019, 7, 8, 0, 0)"
   ]
  },
  {
   "cell_type": "markdown",
   "metadata": {
    "id": "KkeeSH9BnrjO"
   },
   "source": [
    "So we can see that our data ranges from 2011 to July 2019.  Let's limit our data so that we only are working with data from July 2017 to July 2019."
   ]
  },
  {
   "cell_type": "code",
   "execution_count": 26,
   "metadata": {
    "id": "dbwu2ZbRnrjP"
   },
   "outputs": [],
   "source": [
    "start = datetime(2017, 7, 1)\n",
    "end = datetime(2019, 7, 31)\n",
    "\n",
    "recent_listings = [listing for listing in listings_not_nan_copied if listing['last_review'] >= start and listing['last_review'] <= end]"
   ]
  },
  {
   "cell_type": "code",
   "execution_count": 27,
   "metadata": {
    "colab": {
     "base_uri": "https://localhost:8080/"
    },
    "id": "urCsF8LKnrjP",
    "outputId": "800ffbcb-0ee3-4a13-8ecc-cb67911962d6"
   },
   "outputs": [
    {
     "data": {
      "text/plain": [
       "33259"
      ]
     },
     "execution_count": 27,
     "metadata": {},
     "output_type": "execute_result"
    }
   ],
   "source": [
    "len(recent_listings)\n",
    "\n",
    "# 33259"
   ]
  },
  {
   "cell_type": "markdown",
   "metadata": {
    "id": "THPfCohFnrjP"
   },
   "source": [
    "So now we have about 11000 recent listings."
   ]
  },
  {
   "cell_type": "markdown",
   "metadata": {
    "id": "6T08J-A9nrjP"
   },
   "source": [
    "### Listings by Neighborhood"
   ]
  },
  {
   "cell_type": "markdown",
   "metadata": {
    "id": "ZVAn_vRcnrjP"
   },
   "source": [
    "Let's getter a better sense of some of these recent listings.  Begin by creating a list of each `neighbourhood_group` of our recent listings."
   ]
  },
  {
   "cell_type": "code",
   "execution_count": 28,
   "metadata": {
    "colab": {
     "base_uri": "https://localhost:8080/"
    },
    "id": "4M9C0kyWnrjP",
    "outputId": "024393e8-c03d-4268-fa53-de1d693f736d"
   },
   "outputs": [
    {
     "data": {
      "text/plain": [
       "['Bronx', 'Queens', 'Brooklyn', 'Manhattan', 'Staten Island']"
      ]
     },
     "execution_count": 28,
     "metadata": {},
     "output_type": "execute_result"
    }
   ],
   "source": [
    "# write code here\n",
    "neighbourhood_groups = list(set([listing['neighbourhood_group'] for listing in recent_listings]))\n",
    "neighbourhood_groups\n",
    "# ['Queens', 'Brooklyn', 'Bronx', 'Manhattan', 'Staten Island']"
   ]
  },
  {
   "cell_type": "markdown",
   "metadata": {
    "id": "Db1NLkCUnrjQ"
   },
   "source": [
    "Ok, so it looks like the five boroughs.  Now let's find the number `recent_listings` in Manhattan that were less than or equal to 50 dollars."
   ]
  },
  {
   "cell_type": "code",
   "execution_count": 29,
   "metadata": {
    "colab": {
     "base_uri": "https://localhost:8080/"
    },
    "id": "8O9TNeausi08",
    "outputId": "7be4034d-f782-448a-abde-d0129d22e4ff"
   },
   "outputs": [
    {
     "data": {
      "text/plain": [
       "{'id': 2539,\n",
       " 'name': 'Clean & quiet apt home by the park',\n",
       " 'host_id': 2787,\n",
       " 'host_name': 'John',\n",
       " 'neighbourhood_group': 'Brooklyn',\n",
       " 'neighbourhood': 'Kensington',\n",
       " 'latitude': 40.64749,\n",
       " 'longitude': -73.97237,\n",
       " 'room_type': 'Private room',\n",
       " 'price': 149,\n",
       " 'minimum_nights': 1,\n",
       " 'number_of_reviews': 9,\n",
       " 'last_review': datetime.datetime(2018, 10, 19, 0, 0),\n",
       " 'reviews_per_month': 0.21,\n",
       " 'calculated_host_listings_count': 6,\n",
       " 'availability_365': 365}"
      ]
     },
     "execution_count": 29,
     "metadata": {},
     "output_type": "execute_result"
    }
   ],
   "source": [
    "recent_listings[0]"
   ]
  },
  {
   "cell_type": "code",
   "execution_count": 30,
   "metadata": {
    "id": "6VO2u1UAnrjQ"
   },
   "outputs": [],
   "source": [
    "cheaper_manhattan_listings = [listing for listing in recent_listings if listing['neighbourhood_group'] == 'Manhattan' and listing['price'] <= 50]"
   ]
  },
  {
   "cell_type": "code",
   "execution_count": 31,
   "metadata": {
    "colab": {
     "base_uri": "https://localhost:8080/"
    },
    "id": "c1ud45jYtXLF",
    "outputId": "48f184a7-da34-47f7-8142-8a43cd500241"
   },
   "outputs": [
    {
     "data": {
      "text/plain": [
       "4482"
      ]
     },
     "execution_count": 31,
     "metadata": {},
     "output_type": "execute_result"
    }
   ],
   "source": [
    "len([listing for listing in recent_listings if listing['price'] <= 50])"
   ]
  },
  {
   "cell_type": "code",
   "execution_count": 32,
   "metadata": {
    "colab": {
     "base_uri": "https://localhost:8080/"
    },
    "id": "Clq1aAxbteAC",
    "outputId": "1856590a-37e7-45e6-b53a-f47ee298eb8d"
   },
   "outputs": [
    {
     "data": {
      "text/plain": [
       "13838"
      ]
     },
     "execution_count": 32,
     "metadata": {},
     "output_type": "execute_result"
    }
   ],
   "source": [
    "len([listing for listing in recent_listings if listing['neighbourhood_group'] == 'Manhattan'])"
   ]
  },
  {
   "cell_type": "code",
   "execution_count": 33,
   "metadata": {
    "colab": {
     "base_uri": "https://localhost:8080/"
    },
    "id": "Iu53wYMBnrjQ",
    "outputId": "09425e3a-4349-4dff-f5a6-f41716dfbe7f"
   },
   "outputs": [
    {
     "data": {
      "text/plain": [
       "640"
      ]
     },
     "execution_count": 33,
     "metadata": {},
     "output_type": "execute_result"
    }
   ],
   "source": [
    "len(cheaper_manhattan_listings)\n",
    "\n",
    "# 215"
   ]
  },
  {
   "cell_type": "markdown",
   "metadata": {
    "id": "7ZBrxecWnrjQ"
   },
   "source": [
    "### Summary"
   ]
  },
  {
   "cell_type": "markdown",
   "metadata": {
    "id": "OGzWBUj_nrjQ"
   },
   "source": [
    "In this lesson, we saw how to use filtering to reduce our dataset down to higher quality data and to then query our data.  We also worked to remove `nan` values by looking to see if the datatype of our data was a float.  As an alternative, we could have also used the function from the math library."
   ]
  },
  {
   "cell_type": "code",
   "execution_count": 34,
   "metadata": {
    "colab": {
     "base_uri": "https://localhost:8080/"
    },
    "id": "geIWui6anrjQ",
    "outputId": "b97f659f-e58f-4758-8f8e-f25739e38404"
   },
   "outputs": [
    {
     "data": {
      "text/plain": [
       "True"
      ]
     },
     "execution_count": 34,
     "metadata": {},
     "output_type": "execute_result"
    }
   ],
   "source": [
    "import math\n",
    "import numpy as np\n",
    "\n",
    "math.isnan(np.nan)"
   ]
  },
  {
   "cell_type": "code",
   "execution_count": 35,
   "metadata": {
    "id": "hBXM6mJLt2bo"
   },
   "outputs": [],
   "source": [
    "listings_not_nan = [listing for listing in listings if type(listing['last_review']) != float or not math.isnan(listing['last_review'])]"
   ]
  },
  {
   "cell_type": "code",
   "execution_count": 36,
   "metadata": {
    "colab": {
     "base_uri": "https://localhost:8080/"
    },
    "id": "iS_oNpwpw6FB",
    "outputId": "3e3d99f8-c7f7-4948-a019-557e3fd454b0"
   },
   "outputs": [
    {
     "name": "stdout",
     "output_type": "stream",
     "text": [
      "type error!!\n"
     ]
    }
   ],
   "source": [
    "try:\n",
    "  np.isnan('test')\n",
    "except TypeError:\n",
    "  print('type error!!')"
   ]
  },
  {
   "cell_type": "code",
   "execution_count": 37,
   "metadata": {},
   "outputs": [
    {
     "name": "stdout",
     "output_type": "stream",
     "text": [
      "type error!!\n"
     ]
    }
   ],
   "source": [
    "try:\n",
    "  listings_not_nan_revised = [listing for listing in listings if not math.isnan(listing['last_review'])]\n",
    "except TypeError:\n",
    "  print('type error!!')"
   ]
  },
  {
   "cell_type": "markdown",
   "metadata": {},
   "source": [
    "[pd.isnull](https://pandas.pydata.org/pandas-docs/stable/reference/api/pandas.isnull.html) works with other data types, besides numbers"
   ]
  },
  {
   "cell_type": "code",
   "execution_count": 38,
   "metadata": {
    "id": "SvW-RmgGt31Q"
   },
   "outputs": [],
   "source": [
    "listings_not_nan_revised = [listing for listing in listings if not pd.isnull(listing['last_review'])]"
   ]
  },
  {
   "cell_type": "code",
   "execution_count": 39,
   "metadata": {
    "colab": {
     "base_uri": "https://localhost:8080/"
    },
    "id": "GazLoMVLt-r5",
    "outputId": "586fa733-6489-4117-e153-9ca91239064d"
   },
   "outputs": [
    {
     "data": {
      "text/plain": [
       "True"
      ]
     },
     "execution_count": 39,
     "metadata": {},
     "output_type": "execute_result"
    }
   ],
   "source": [
    "len(listings_not_nan) == len(listings_not_nan_revised)"
   ]
  }
 ],
 "metadata": {
  "colab": {
   "name": "8-filtering-airbnb.ipynb",
   "provenance": []
  },
  "kernelspec": {
   "display_name": "Python 3 (ipykernel)",
   "language": "python",
   "name": "python3"
  },
  "language_info": {
   "codemirror_mode": {
    "name": "ipython",
    "version": 3
   },
   "file_extension": ".py",
   "mimetype": "text/x-python",
   "name": "python",
   "nbconvert_exporter": "python",
   "pygments_lexer": "ipython3",
   "version": "3.10.2"
  }
 },
 "nbformat": 4,
 "nbformat_minor": 4
}
